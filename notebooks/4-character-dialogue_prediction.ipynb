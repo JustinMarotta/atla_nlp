{
 "cells": [
  {
   "cell_type": "code",
   "execution_count": 1,
   "metadata": {},
   "outputs": [],
   "source": [
    "#Character Dialogue Prediction notebookd\n",
    "# \n",
    "# 4-character-dialogue_prediction\n"
   ]
  },
  {
   "cell_type": "code",
   "execution_count": 2,
   "metadata": {},
   "outputs": [],
   "source": [
    "#predict what character said what diagloue on a per episode basis\n",
    "#import packages\n",
    "\n",
    "import pandas as pd\n",
    "import numpy as np\n",
    "import re\n",
    "\n",
    "#for web scraping\n",
    "from bs4 import BeautifulSoup\n",
    "import requests\n",
    "\n",
    "#for tokenization\n",
    "from nltk import sent_tokenize, word_tokenize\n",
    "import spacy\n",
    "from spacy.pipeline import Sentencizer\n",
    "from spacy.lang.en import English\n",
    "\n",
    "#for sentiment analysis\n",
    "from vaderSentiment.vaderSentiment import SentimentIntensityAnalyzer\n",
    "\n",
    "# For visualization.\n",
    "import plotly.express as px\n",
    "import matplotlib.pyplot as plt\n",
    "import seaborn as sns\n",
    "\n",
    "#for bag of words model vectorization\n",
    "from sklearn.feature_extraction.text import CountVectorizer, TfidfVectorizer\n",
    "\n",
    "#to evaluate which document most aligns with a given vector/token\n",
    "from sklearn.metrics.pairwise import cosine_similarity\n",
    "\n",
    "\n",
    "\n",
    "from gensim import models, corpora\n",
    "from gensim import similarities\n",
    "from gensim.models.coherencemodel import CoherenceModel\n",
    "from wordcloud import WordCloud\n",
    "\n",
    "import tensorflow as tf\n",
    "from tensorflow import keras\n",
    "from tensorflow.keras import layers\n",
    "\n",
    "from sklearn.model_selection import StratifiedShuffleSplit"
   ]
  },
  {
   "cell_type": "code",
   "execution_count": 3,
   "metadata": {},
   "outputs": [],
   "source": [
    "#import data\n",
    "atla_df = pd.read_csv('/Users/justin/Documents/Personal/projects/atla_nlp/data/processed/atla_df.csv', keep_default_na=False, index_col=0)\n",
    "#keep_default_na=False prevent empty strings from being read as NaN"
   ]
  },
  {
   "cell_type": "code",
   "execution_count": 4,
   "metadata": {},
   "outputs": [
    {
     "data": {
      "text/html": [
       "<div>\n",
       "<style scoped>\n",
       "    .dataframe tbody tr th:only-of-type {\n",
       "        vertical-align: middle;\n",
       "    }\n",
       "\n",
       "    .dataframe tbody tr th {\n",
       "        vertical-align: top;\n",
       "    }\n",
       "\n",
       "    .dataframe thead th {\n",
       "        text-align: right;\n",
       "    }\n",
       "</style>\n",
       "<table border=\"1\" class=\"dataframe\">\n",
       "  <thead>\n",
       "    <tr style=\"text-align: right;\">\n",
       "      <th></th>\n",
       "      <th>book_num</th>\n",
       "      <th>book_name</th>\n",
       "      <th>episode_num</th>\n",
       "      <th>episode_name</th>\n",
       "      <th>link</th>\n",
       "      <th>Aang</th>\n",
       "      <th>Iroh</th>\n",
       "      <th>Katara</th>\n",
       "      <th>Sokka</th>\n",
       "      <th>Toph</th>\n",
       "      <th>Zuko</th>\n",
       "    </tr>\n",
       "  </thead>\n",
       "  <tbody>\n",
       "    <tr>\n",
       "      <th>0</th>\n",
       "      <td>1.0</td>\n",
       "      <td>Book One: Water</td>\n",
       "      <td>1</td>\n",
       "      <td>The Boy in the Iceberg</td>\n",
       "      <td>https://avatar.fandom.com/wiki/Transcript:The_...</td>\n",
       "      <td>[In a weak voice.] I need to ask you something...</td>\n",
       "      <td>[He is playing some sort of card game. He answ...</td>\n",
       "      <td>[Narrating.] Water. Earth. Fire. Air. My grand...</td>\n",
       "      <td>It's not getting away from me this time. [Clos...</td>\n",
       "      <td></td>\n",
       "      <td>Finally! [He turns around to face another pers...</td>\n",
       "    </tr>\n",
       "    <tr>\n",
       "      <th>1</th>\n",
       "      <td>1.0</td>\n",
       "      <td>Book One: Water</td>\n",
       "      <td>2</td>\n",
       "      <td>The Avatar Returns</td>\n",
       "      <td>https://avatar.fandom.com/wiki/Transcript:The_...</td>\n",
       "      <td>[Sheepishly, as Katara glares at Sokka.] Yeah....</td>\n",
       "      <td>[Turns to one of Zuko's men and gives him the ...</td>\n",
       "      <td>Water. Earth. Fire. Air. Long ago, the four na...</td>\n",
       "      <td>[Angrily.] I knew it! [Accusingly points a fin...</td>\n",
       "      <td></td>\n",
       "      <td>[Angrily.] Where are you hiding him?[Shaking K...</td>\n",
       "    </tr>\n",
       "    <tr>\n",
       "      <th>2</th>\n",
       "      <td>1.0</td>\n",
       "      <td>Book One: Water</td>\n",
       "      <td>3</td>\n",
       "      <td>The Southern Air Temple</td>\n",
       "      <td>https://avatar.fandom.com/wiki/Transcript:The_...</td>\n",
       "      <td>[Excitedly.] Wait 'til you see it, Katara! The...</td>\n",
       "      <td>[Disinterested.] You mean the Avatar?[Bows bac...</td>\n",
       "      <td>[Cautiously.] Aang, I know you're excited, [Sh...</td>\n",
       "      <td>[Grunting sleepily.] Uggh! Sleep now. Temple l...</td>\n",
       "      <td></td>\n",
       "      <td>Uncle, I want the repairs made as quickly as p...</td>\n",
       "    </tr>\n",
       "    <tr>\n",
       "      <th>3</th>\n",
       "      <td>1.0</td>\n",
       "      <td>Book One: Water</td>\n",
       "      <td>4</td>\n",
       "      <td>The Warriors of Kyoshi</td>\n",
       "      <td>https://avatar.fandom.com/wiki/Transcript:The_...</td>\n",
       "      <td>Well ... [Happily.] I know it's near water.Mom...</td>\n",
       "      <td>[Pushes open the door completely and enters th...</td>\n",
       "      <td>[Nonchalantly, still focusing on her task at h...</td>\n",
       "      <td>[To Aang.] You have no idea where you're going...</td>\n",
       "      <td></td>\n",
       "      <td>[Calmly.] The only reason you should be interr...</td>\n",
       "    </tr>\n",
       "    <tr>\n",
       "      <th>4</th>\n",
       "      <td>1.0</td>\n",
       "      <td>Book One: Water</td>\n",
       "      <td>5</td>\n",
       "      <td>The King of Omashu</td>\n",
       "      <td>https://avatar.fandom.com/wiki/Transcript:The_...</td>\n",
       "      <td>The Earth Kingdom city of Omashu! [Camera pans...</td>\n",
       "      <td></td>\n",
       "      <td>[Close-up; impressed.] Wow. We don't have buil...</td>\n",
       "      <td>[Close-up; overwhelmed.] They have buildings h...</td>\n",
       "      <td></td>\n",
       "      <td></td>\n",
       "    </tr>\n",
       "    <tr>\n",
       "      <th>...</th>\n",
       "      <td>...</td>\n",
       "      <td>...</td>\n",
       "      <td>...</td>\n",
       "      <td>...</td>\n",
       "      <td>...</td>\n",
       "      <td>...</td>\n",
       "      <td>...</td>\n",
       "      <td>...</td>\n",
       "      <td>...</td>\n",
       "      <td>...</td>\n",
       "      <td>...</td>\n",
       "    </tr>\n",
       "    <tr>\n",
       "      <th>56</th>\n",
       "      <td>3.0</td>\n",
       "      <td>Book Three: Fire</td>\n",
       "      <td>57</td>\n",
       "      <td>The Southern Raiders</td>\n",
       "      <td>https://avatar.fandom.com/wiki/Transcript:The_...</td>\n",
       "      <td>[To Zuko.] What are you doing?[In the backgrou...</td>\n",
       "      <td></td>\n",
       "      <td>[Angrily.] What are you doing?Okay, I'm not cr...</td>\n",
       "      <td>Come on! We've gotta get out of here!We need t...</td>\n",
       "      <td>[Pointing to the exit.] Come on! We can get ou...</td>\n",
       "      <td>[As he runs and pushes her out of harm's way.]...</td>\n",
       "    </tr>\n",
       "    <tr>\n",
       "      <th>57</th>\n",
       "      <td>3.0</td>\n",
       "      <td>Book Three: Fire</td>\n",
       "      <td>58</td>\n",
       "      <td>The Ember Island Players</td>\n",
       "      <td>https://avatar.fandom.com/wiki/Transcript:The_...</td>\n",
       "      <td>[To Zuko; points to his seat and tries to act ...</td>\n",
       "      <td>[Looking toward Actor Zuko, at ease.] Prince Z...</td>\n",
       "      <td>Doesn't it seem kind of weird that we're hidin...</td>\n",
       "      <td>You guys are not gonna believe this! There's a...</td>\n",
       "      <td>Why are we sitting in the nosebleed section? M...</td>\n",
       "      <td>I told you, [Cut to Zuko sitting on a dry foun...</td>\n",
       "    </tr>\n",
       "    <tr>\n",
       "      <th>58</th>\n",
       "      <td>3.0</td>\n",
       "      <td>Book Three: Fire</td>\n",
       "      <td>59</td>\n",
       "      <td>Sozin's Comet, Part 1</td>\n",
       "      <td>https://avatar.fandom.com/wiki/Transcript:Sozi...</td>\n",
       "      <td>[Stops firebending and turns to Zuko while gro...</td>\n",
       "      <td></td>\n",
       "      <td>[Holding up two watermelons.] Who wants a nice...</td>\n",
       "      <td>Maybe Zuko's right. Sitting around the house h...</td>\n",
       "      <td>Not bad, baldy, [Aang jumps off the sculpture....</td>\n",
       "      <td>More ferocious! Imagine striking through your ...</td>\n",
       "    </tr>\n",
       "    <tr>\n",
       "      <th>59</th>\n",
       "      <td>3.0</td>\n",
       "      <td>Book Three: Fire</td>\n",
       "      <td>60</td>\n",
       "      <td>Sozin's Comet, Part 2</td>\n",
       "      <td>https://avatar.fandom.com/wiki/Transcript:Sozi...</td>\n",
       "      <td>Where are we, Momo? [Cut to view of the sky th...</td>\n",
       "      <td>[Close-up.] I was never angry with you. I was ...</td>\n",
       "      <td>[Angrily.] I'm not his girlfriend![Pulls out A...</td>\n",
       "      <td>[To Zuko.] Hey, I remember her! [Cut to fronta...</td>\n",
       "      <td>[Frontal view.] We know he's gone. That's why ...</td>\n",
       "      <td>Yup. [Walks forward.] Back in the good old day...</td>\n",
       "    </tr>\n",
       "    <tr>\n",
       "      <th>60</th>\n",
       "      <td>3.0</td>\n",
       "      <td>Book Three: Fire</td>\n",
       "      <td>61</td>\n",
       "      <td>Sozin's Comet, Part 3</td>\n",
       "      <td>https://avatar.fandom.com/wiki/Transcript:Sozi...</td>\n",
       "      <td>Momo, time for you to go.Please listen to me. ...</td>\n",
       "      <td>[Cut to a shot of Iroh.] Only once every hundr...</td>\n",
       "      <td>Zuko, don't worry. We can take Azula.[Somewhat...</td>\n",
       "      <td>We're too late! The fleet's already taking off...</td>\n",
       "      <td>Too bad the Fire Lord's about to use it to des...</td>\n",
       "      <td>It's not her I'm worried about. I'm worried ab...</td>\n",
       "    </tr>\n",
       "  </tbody>\n",
       "</table>\n",
       "<p>61 rows × 11 columns</p>\n",
       "</div>"
      ],
      "text/plain": [
       "    book_num         book_name  episode_num              episode_name  \\\n",
       "0        1.0   Book One: Water            1    The Boy in the Iceberg   \n",
       "1        1.0   Book One: Water            2        The Avatar Returns   \n",
       "2        1.0   Book One: Water            3   The Southern Air Temple   \n",
       "3        1.0   Book One: Water            4    The Warriors of Kyoshi   \n",
       "4        1.0   Book One: Water            5        The King of Omashu   \n",
       "..       ...               ...          ...                       ...   \n",
       "56       3.0  Book Three: Fire           57      The Southern Raiders   \n",
       "57       3.0  Book Three: Fire           58  The Ember Island Players   \n",
       "58       3.0  Book Three: Fire           59     Sozin's Comet, Part 1   \n",
       "59       3.0  Book Three: Fire           60     Sozin's Comet, Part 2   \n",
       "60       3.0  Book Three: Fire           61     Sozin's Comet, Part 3   \n",
       "\n",
       "                                                 link  \\\n",
       "0   https://avatar.fandom.com/wiki/Transcript:The_...   \n",
       "1   https://avatar.fandom.com/wiki/Transcript:The_...   \n",
       "2   https://avatar.fandom.com/wiki/Transcript:The_...   \n",
       "3   https://avatar.fandom.com/wiki/Transcript:The_...   \n",
       "4   https://avatar.fandom.com/wiki/Transcript:The_...   \n",
       "..                                                ...   \n",
       "56  https://avatar.fandom.com/wiki/Transcript:The_...   \n",
       "57  https://avatar.fandom.com/wiki/Transcript:The_...   \n",
       "58  https://avatar.fandom.com/wiki/Transcript:Sozi...   \n",
       "59  https://avatar.fandom.com/wiki/Transcript:Sozi...   \n",
       "60  https://avatar.fandom.com/wiki/Transcript:Sozi...   \n",
       "\n",
       "                                                 Aang  \\\n",
       "0   [In a weak voice.] I need to ask you something...   \n",
       "1   [Sheepishly, as Katara glares at Sokka.] Yeah....   \n",
       "2   [Excitedly.] Wait 'til you see it, Katara! The...   \n",
       "3   Well ... [Happily.] I know it's near water.Mom...   \n",
       "4   The Earth Kingdom city of Omashu! [Camera pans...   \n",
       "..                                                ...   \n",
       "56  [To Zuko.] What are you doing?[In the backgrou...   \n",
       "57  [To Zuko; points to his seat and tries to act ...   \n",
       "58  [Stops firebending and turns to Zuko while gro...   \n",
       "59  Where are we, Momo? [Cut to view of the sky th...   \n",
       "60  Momo, time for you to go.Please listen to me. ...   \n",
       "\n",
       "                                                 Iroh  \\\n",
       "0   [He is playing some sort of card game. He answ...   \n",
       "1   [Turns to one of Zuko's men and gives him the ...   \n",
       "2   [Disinterested.] You mean the Avatar?[Bows bac...   \n",
       "3   [Pushes open the door completely and enters th...   \n",
       "4                                                       \n",
       "..                                                ...   \n",
       "56                                                      \n",
       "57  [Looking toward Actor Zuko, at ease.] Prince Z...   \n",
       "58                                                      \n",
       "59  [Close-up.] I was never angry with you. I was ...   \n",
       "60  [Cut to a shot of Iroh.] Only once every hundr...   \n",
       "\n",
       "                                               Katara  \\\n",
       "0   [Narrating.] Water. Earth. Fire. Air. My grand...   \n",
       "1   Water. Earth. Fire. Air. Long ago, the four na...   \n",
       "2   [Cautiously.] Aang, I know you're excited, [Sh...   \n",
       "3   [Nonchalantly, still focusing on her task at h...   \n",
       "4   [Close-up; impressed.] Wow. We don't have buil...   \n",
       "..                                                ...   \n",
       "56  [Angrily.] What are you doing?Okay, I'm not cr...   \n",
       "57  Doesn't it seem kind of weird that we're hidin...   \n",
       "58  [Holding up two watermelons.] Who wants a nice...   \n",
       "59  [Angrily.] I'm not his girlfriend![Pulls out A...   \n",
       "60  Zuko, don't worry. We can take Azula.[Somewhat...   \n",
       "\n",
       "                                                Sokka  \\\n",
       "0   It's not getting away from me this time. [Clos...   \n",
       "1   [Angrily.] I knew it! [Accusingly points a fin...   \n",
       "2   [Grunting sleepily.] Uggh! Sleep now. Temple l...   \n",
       "3   [To Aang.] You have no idea where you're going...   \n",
       "4   [Close-up; overwhelmed.] They have buildings h...   \n",
       "..                                                ...   \n",
       "56  Come on! We've gotta get out of here!We need t...   \n",
       "57  You guys are not gonna believe this! There's a...   \n",
       "58  Maybe Zuko's right. Sitting around the house h...   \n",
       "59  [To Zuko.] Hey, I remember her! [Cut to fronta...   \n",
       "60  We're too late! The fleet's already taking off...   \n",
       "\n",
       "                                                 Toph  \\\n",
       "0                                                       \n",
       "1                                                       \n",
       "2                                                       \n",
       "3                                                       \n",
       "4                                                       \n",
       "..                                                ...   \n",
       "56  [Pointing to the exit.] Come on! We can get ou...   \n",
       "57  Why are we sitting in the nosebleed section? M...   \n",
       "58  Not bad, baldy, [Aang jumps off the sculpture....   \n",
       "59  [Frontal view.] We know he's gone. That's why ...   \n",
       "60  Too bad the Fire Lord's about to use it to des...   \n",
       "\n",
       "                                                 Zuko  \n",
       "0   Finally! [He turns around to face another pers...  \n",
       "1   [Angrily.] Where are you hiding him?[Shaking K...  \n",
       "2   Uncle, I want the repairs made as quickly as p...  \n",
       "3   [Calmly.] The only reason you should be interr...  \n",
       "4                                                      \n",
       "..                                                ...  \n",
       "56  [As he runs and pushes her out of harm's way.]...  \n",
       "57  I told you, [Cut to Zuko sitting on a dry foun...  \n",
       "58  More ferocious! Imagine striking through your ...  \n",
       "59  Yup. [Walks forward.] Back in the good old day...  \n",
       "60  It's not her I'm worried about. I'm worried ab...  \n",
       "\n",
       "[61 rows x 11 columns]"
      ]
     },
     "execution_count": 4,
     "metadata": {},
     "output_type": "execute_result"
    }
   ],
   "source": [
    "atla_df"
   ]
  },
  {
   "cell_type": "code",
   "execution_count": 5,
   "metadata": {},
   "outputs": [
    {
     "data": {
      "text/html": [
       "<div>\n",
       "<style scoped>\n",
       "    .dataframe tbody tr th:only-of-type {\n",
       "        vertical-align: middle;\n",
       "    }\n",
       "\n",
       "    .dataframe tbody tr th {\n",
       "        vertical-align: top;\n",
       "    }\n",
       "\n",
       "    .dataframe thead th {\n",
       "        text-align: right;\n",
       "    }\n",
       "</style>\n",
       "<table border=\"1\" class=\"dataframe\">\n",
       "  <thead>\n",
       "    <tr style=\"text-align: right;\">\n",
       "      <th></th>\n",
       "      <th>episode_num</th>\n",
       "      <th>character_name</th>\n",
       "      <th>character_lines</th>\n",
       "    </tr>\n",
       "  </thead>\n",
       "  <tbody>\n",
       "    <tr>\n",
       "      <th>0</th>\n",
       "      <td>1</td>\n",
       "      <td>Katara</td>\n",
       "      <td>[Narrating.] Water. Earth. Fire. Air. My grand...</td>\n",
       "    </tr>\n",
       "    <tr>\n",
       "      <th>1</th>\n",
       "      <td>1</td>\n",
       "      <td>Sokka</td>\n",
       "      <td>It's not getting away from me this time. [Clos...</td>\n",
       "    </tr>\n",
       "    <tr>\n",
       "      <th>2</th>\n",
       "      <td>1</td>\n",
       "      <td>Aang</td>\n",
       "      <td>[In a weak voice.] I need to ask you something...</td>\n",
       "    </tr>\n",
       "    <tr>\n",
       "      <th>3</th>\n",
       "      <td>1</td>\n",
       "      <td>Toph</td>\n",
       "      <td></td>\n",
       "    </tr>\n",
       "    <tr>\n",
       "      <th>4</th>\n",
       "      <td>1</td>\n",
       "      <td>Zuko</td>\n",
       "      <td>Finally! [He turns around to face another pers...</td>\n",
       "    </tr>\n",
       "    <tr>\n",
       "      <th>...</th>\n",
       "      <td>...</td>\n",
       "      <td>...</td>\n",
       "      <td>...</td>\n",
       "    </tr>\n",
       "    <tr>\n",
       "      <th>361</th>\n",
       "      <td>61</td>\n",
       "      <td>Sokka</td>\n",
       "      <td>We're too late! The fleet's already taking off...</td>\n",
       "    </tr>\n",
       "    <tr>\n",
       "      <th>362</th>\n",
       "      <td>61</td>\n",
       "      <td>Aang</td>\n",
       "      <td>Momo, time for you to go.Please listen to me. ...</td>\n",
       "    </tr>\n",
       "    <tr>\n",
       "      <th>363</th>\n",
       "      <td>61</td>\n",
       "      <td>Toph</td>\n",
       "      <td>Too bad the Fire Lord's about to use it to des...</td>\n",
       "    </tr>\n",
       "    <tr>\n",
       "      <th>364</th>\n",
       "      <td>61</td>\n",
       "      <td>Zuko</td>\n",
       "      <td>It's not her I'm worried about. I'm worried ab...</td>\n",
       "    </tr>\n",
       "    <tr>\n",
       "      <th>365</th>\n",
       "      <td>61</td>\n",
       "      <td>Iroh</td>\n",
       "      <td>[Cut to a shot of Iroh.] Only once every hundr...</td>\n",
       "    </tr>\n",
       "  </tbody>\n",
       "</table>\n",
       "<p>366 rows × 3 columns</p>\n",
       "</div>"
      ],
      "text/plain": [
       "     episode_num character_name  \\\n",
       "0              1         Katara   \n",
       "1              1          Sokka   \n",
       "2              1           Aang   \n",
       "3              1           Toph   \n",
       "4              1           Zuko   \n",
       "..           ...            ...   \n",
       "361           61          Sokka   \n",
       "362           61           Aang   \n",
       "363           61           Toph   \n",
       "364           61           Zuko   \n",
       "365           61           Iroh   \n",
       "\n",
       "                                       character_lines  \n",
       "0    [Narrating.] Water. Earth. Fire. Air. My grand...  \n",
       "1    It's not getting away from me this time. [Clos...  \n",
       "2    [In a weak voice.] I need to ask you something...  \n",
       "3                                                       \n",
       "4    Finally! [He turns around to face another pers...  \n",
       "..                                                 ...  \n",
       "361  We're too late! The fleet's already taking off...  \n",
       "362  Momo, time for you to go.Please listen to me. ...  \n",
       "363  Too bad the Fire Lord's about to use it to des...  \n",
       "364  It's not her I'm worried about. I'm worried ab...  \n",
       "365  [Cut to a shot of Iroh.] Only once every hundr...  \n",
       "\n",
       "[366 rows x 3 columns]"
      ]
     },
     "execution_count": 5,
     "metadata": {},
     "output_type": "execute_result"
    }
   ],
   "source": [
    "atla_lines_df = pd.read_csv('/Users/justin/Documents/Personal/projects/atla_nlp/data/raw/atla_lines.csv', keep_default_na=False, index_col=0)\n",
    "atla_lines_df"
   ]
  },
  {
   "cell_type": "code",
   "execution_count": 26,
   "metadata": {},
   "outputs": [],
   "source": [
    "#drop rows where character_lines is empty\n",
    "atla_lines_df = atla_lines_df[atla_lines_df['character_lines'] != '']"
   ]
  },
  {
   "cell_type": "code",
   "execution_count": 55,
   "metadata": {},
   "outputs": [
    {
     "data": {
      "text/html": [
       "<div>\n",
       "<style scoped>\n",
       "    .dataframe tbody tr th:only-of-type {\n",
       "        vertical-align: middle;\n",
       "    }\n",
       "\n",
       "    .dataframe tbody tr th {\n",
       "        vertical-align: top;\n",
       "    }\n",
       "\n",
       "    .dataframe thead th {\n",
       "        text-align: right;\n",
       "    }\n",
       "</style>\n",
       "<table border=\"1\" class=\"dataframe\">\n",
       "  <thead>\n",
       "    <tr style=\"text-align: right;\">\n",
       "      <th></th>\n",
       "      <th>episode_num</th>\n",
       "      <th>character_name</th>\n",
       "      <th>character_lines</th>\n",
       "    </tr>\n",
       "  </thead>\n",
       "  <tbody>\n",
       "    <tr>\n",
       "      <th>0</th>\n",
       "      <td>1</td>\n",
       "      <td>Katara</td>\n",
       "      <td>[Narrating.] Water. Earth. Fire. Air. My grand...</td>\n",
       "    </tr>\n",
       "    <tr>\n",
       "      <th>1</th>\n",
       "      <td>1</td>\n",
       "      <td>Sokka</td>\n",
       "      <td>It's not getting away from me this time. [Clos...</td>\n",
       "    </tr>\n",
       "    <tr>\n",
       "      <th>2</th>\n",
       "      <td>1</td>\n",
       "      <td>Aang</td>\n",
       "      <td>[In a weak voice.] I need to ask you something...</td>\n",
       "    </tr>\n",
       "    <tr>\n",
       "      <th>4</th>\n",
       "      <td>1</td>\n",
       "      <td>Zuko</td>\n",
       "      <td>Finally! [He turns around to face another pers...</td>\n",
       "    </tr>\n",
       "    <tr>\n",
       "      <th>5</th>\n",
       "      <td>1</td>\n",
       "      <td>Iroh</td>\n",
       "      <td>[He is playing some sort of card game. He answ...</td>\n",
       "    </tr>\n",
       "    <tr>\n",
       "      <th>...</th>\n",
       "      <td>...</td>\n",
       "      <td>...</td>\n",
       "      <td>...</td>\n",
       "    </tr>\n",
       "    <tr>\n",
       "      <th>361</th>\n",
       "      <td>61</td>\n",
       "      <td>Sokka</td>\n",
       "      <td>We're too late! The fleet's already taking off...</td>\n",
       "    </tr>\n",
       "    <tr>\n",
       "      <th>362</th>\n",
       "      <td>61</td>\n",
       "      <td>Aang</td>\n",
       "      <td>Momo, time for you to go.Please listen to me. ...</td>\n",
       "    </tr>\n",
       "    <tr>\n",
       "      <th>363</th>\n",
       "      <td>61</td>\n",
       "      <td>Toph</td>\n",
       "      <td>Too bad the Fire Lord's about to use it to des...</td>\n",
       "    </tr>\n",
       "    <tr>\n",
       "      <th>364</th>\n",
       "      <td>61</td>\n",
       "      <td>Zuko</td>\n",
       "      <td>It's not her I'm worried about. I'm worried ab...</td>\n",
       "    </tr>\n",
       "    <tr>\n",
       "      <th>365</th>\n",
       "      <td>61</td>\n",
       "      <td>Iroh</td>\n",
       "      <td>[Cut to a shot of Iroh.] Only once every hundr...</td>\n",
       "    </tr>\n",
       "  </tbody>\n",
       "</table>\n",
       "<p>292 rows × 3 columns</p>\n",
       "</div>"
      ],
      "text/plain": [
       "     episode_num character_name  \\\n",
       "0              1         Katara   \n",
       "1              1          Sokka   \n",
       "2              1           Aang   \n",
       "4              1           Zuko   \n",
       "5              1           Iroh   \n",
       "..           ...            ...   \n",
       "361           61          Sokka   \n",
       "362           61           Aang   \n",
       "363           61           Toph   \n",
       "364           61           Zuko   \n",
       "365           61           Iroh   \n",
       "\n",
       "                                       character_lines  \n",
       "0    [Narrating.] Water. Earth. Fire. Air. My grand...  \n",
       "1    It's not getting away from me this time. [Clos...  \n",
       "2    [In a weak voice.] I need to ask you something...  \n",
       "4    Finally! [He turns around to face another pers...  \n",
       "5    [He is playing some sort of card game. He answ...  \n",
       "..                                                 ...  \n",
       "361  We're too late! The fleet's already taking off...  \n",
       "362  Momo, time for you to go.Please listen to me. ...  \n",
       "363  Too bad the Fire Lord's about to use it to des...  \n",
       "364  It's not her I'm worried about. I'm worried ab...  \n",
       "365  [Cut to a shot of Iroh.] Only once every hundr...  \n",
       "\n",
       "[292 rows x 3 columns]"
      ]
     },
     "execution_count": 55,
     "metadata": {},
     "output_type": "execute_result"
    }
   ],
   "source": [
    "atla_lines_df"
   ]
  },
  {
   "cell_type": "code",
   "execution_count": 27,
   "metadata": {},
   "outputs": [],
   "source": [
    "#split into train and test sets\n",
    "X = atla_lines_df.iloc[:,2]\n",
    "y = atla_lines_df.iloc[:,1]\n",
    "\n",
    "sss = StratifiedShuffleSplit(n_splits=1, test_size=0.2, random_state=0)\n",
    "sss.get_n_splits(X, y)\n",
    "\n",
    "for i, (train_index, test_index) in enumerate(sss.split(X, y)):\n",
    "\n",
    "    #train and validate data splits with their labels\n",
    "    train_data = X.iloc[train_index]\n",
    "    train_data_labels = y.iloc[train_index]\n",
    "\n",
    "    test_data = X.iloc[test_index]\n",
    "    test_data_labels = y.iloc[test_index]"
   ]
  },
  {
   "cell_type": "code",
   "execution_count": 28,
   "metadata": {},
   "outputs": [
    {
     "data": {
      "text/plain": [
       "(array([46.,  0., 37.,  0., 46.,  0., 48.,  0., 27., 29.]),\n",
       " array([0. , 0.5, 1. , 1.5, 2. , 2.5, 3. , 3.5, 4. , 4.5, 5. ]),\n",
       " <BarContainer object of 10 artists>)"
      ]
     },
     "execution_count": 28,
     "metadata": {},
     "output_type": "execute_result"
    },
    {
     "data": {
      "image/png": "[encoded data removed]",
      "text/plain": [
       "<Figure size 640x480 with 1 Axes>"
      ]
     },
     "metadata": {},
     "output_type": "display_data"
    }
   ],
   "source": [
    "#plot distribution of labels in train and test sets\n",
    "plt.hist(train_data_labels)\n"
   ]
  },
  {
   "cell_type": "code",
   "execution_count": 29,
   "metadata": {},
   "outputs": [
    {
     "data": {
      "text/plain": [
       "(array([ 9.,  0., 12.,  0., 12.,  0., 12.,  0.,  7.,  7.]),\n",
       " array([0. , 0.5, 1. , 1.5, 2. , 2.5, 3. , 3.5, 4. , 4.5, 5. ]),\n",
       " <BarContainer object of 10 artists>)"
      ]
     },
     "execution_count": 29,
     "metadata": {},
     "output_type": "execute_result"
    },
    {
     "data": {
      "image/png": "[encoded data removed]",
      "text/plain": [
       "<Figure size 640x480 with 1 Axes>"
      ]
     },
     "metadata": {},
     "output_type": "display_data"
    }
   ],
   "source": [
    "plt.hist(test_data_labels)"
   ]
  },
  {
   "cell_type": "code",
   "execution_count": 30,
   "metadata": {},
   "outputs": [
    {
     "name": "stdout",
     "output_type": "stream",
     "text": [
      "train data:  Counter({'Aang': 48, 'Katara': 46, 'Sokka': 46, 'Zuko': 37, 'Iroh': 29, 'Toph': 27})\n",
      "test data:  Counter({'Sokka': 12, 'Aang': 12, 'Katara': 12, 'Zuko': 9, 'Iroh': 7, 'Toph': 7})\n"
     ]
    }
   ],
   "source": [
    "import collections\n",
    "print(\"train data: \", collections.Counter(train_data_labels))\n",
    "print(\"test data: \", collections.Counter(test_data_labels))"
   ]
  },
  {
   "cell_type": "code",
   "execution_count": 101,
   "metadata": {},
   "outputs": [
    {
     "data": {
      "text/plain": [
       "24     Katara\n",
       "108    Katara\n",
       "10       Zuko\n",
       "133     Sokka\n",
       "232      Zuko\n",
       "        ...  \n",
       "98       Aang\n",
       "18     Katara\n",
       "80       Aang\n",
       "12     Katara\n",
       "167      Iroh\n",
       "Name: character_name, Length: 233, dtype: object"
      ]
     },
     "execution_count": 101,
     "metadata": {},
     "output_type": "execute_result"
    }
   ],
   "source": [
    "train_data_labels"
   ]
  },
  {
   "cell_type": "code",
   "execution_count": 110,
   "metadata": {},
   "outputs": [],
   "source": [
    "#one hot encode labels\n",
    "y_train = pd.get_dummies(train_data_labels).to_numpy()\n",
    "y_test = pd.get_dummies(test_data_labels).to_numpy()"
   ]
  },
  {
   "cell_type": "code",
   "execution_count": 62,
   "metadata": {},
   "outputs": [],
   "source": [
    "#use regular Keras tokenizer, just filter out numbers and certain symbols\n",
    "#limit to moct frequent 5,000 words (focuses on most common words, ignores rare words)\n",
    "\n",
    "tokenizer = keras.preprocessing.text.Tokenizer(num_words=5000,\n",
    "                                               filters='0123456789!\"#$%&()*+,-./:;<=>?@[\\]^_`{|}~',\n",
    "                                               lower=True)"
   ]
  },
  {
   "cell_type": "code",
   "execution_count": 67,
   "metadata": {},
   "outputs": [
    {
     "data": {
      "text/plain": [
       "5000"
      ]
     },
     "execution_count": 67,
     "metadata": {},
     "output_type": "execute_result"
    }
   ],
   "source": [
    "tokenizer.num_words"
   ]
  },
  {
   "cell_type": "code",
   "execution_count": 68,
   "metadata": {},
   "outputs": [
    {
     "name": "stdout",
     "output_type": "stream",
     "text": [
      "CPU times: user 35 ms, sys: 1.81 ms, total: 36.8 ms\n",
      "Wall time: 36 ms\n"
     ]
    }
   ],
   "source": [
    "%%time\n",
    "tokenizer.fit_on_texts(train_data)\n",
    "#fit on train data only"
   ]
  },
  {
   "cell_type": "code",
   "execution_count": 69,
   "metadata": {},
   "outputs": [
    {
     "data": {
      "text/plain": [
       "466"
      ]
     },
     "execution_count": 69,
     "metadata": {},
     "output_type": "execute_result"
    }
   ],
   "source": [
    "#number of training examples\n",
    "tokenizer.document_count"
   ]
  },
  {
   "cell_type": "code",
   "execution_count": 70,
   "metadata": {},
   "outputs": [
    {
     "name": "stdout",
     "output_type": "stream",
     "text": [
      "CPU times: user 22.5 ms, sys: 548 µs, total: 23 ms\n",
      "Wall time: 22.7 ms\n"
     ]
    }
   ],
   "source": [
    "X_train = tokenizer.texts_to_sequences(train_data)\n",
    "#vecotrize train data"
   ]
  },
  {
   "cell_type": "code",
   "execution_count": 71,
   "metadata": {},
   "outputs": [
    {
     "name": "stdout",
     "output_type": "stream",
     "text": [
      "[89, 15, 1292, 440, 16, 33, 36, 1690, 53, 18, 9, 1, 1293, 497, 2539, 25, 248, 29, 2, 28, 2540, 12, 24, 25, 1130, 160, 12, 8, 108, 38, 778, 57, 152, 116, 29, 49, 1, 83, 1691, 19, 27, 2541, 12, 11, 249, 264, 944, 640, 2542, 2543, 254, 2, 498, 4, 3433, 16, 131, 2544, 8, 2545, 53, 356, 19, 303, 88, 1692, 2, 5, 3434, 587, 81, 2546, 945, 1, 3435, 7, 1, 3436, 23, 67, 14, 20, 51, 20, 1033, 2, 36, 641, 12, 697, 423, 3437, 1, 946, 7, 1, 2005, 2006, 8, 56, 1, 2547, 19, 5, 3438, 2007, 357, 34, 2008, 29, 25, 304, 1034, 3439, 888, 888, 3440, 698, 12, 35, 104, 499, 39, 467, 1035, 2, 12, 11, 8, 31, 22, 186, 105, 3441, 24, 25, 3442, 500, 642, 25, 338, 3443, 1, 255, 11, 330, 11, 18, 2009, 2010, 5, 139, 3444, 947, 4, 75, 256, 72, 51, 198, 72, 257, 18, 11, 5, 779, 699, 23, 30, 42, 254, 563, 85, 43, 1294, 93, 2, 116, 29, 132, 94, 2, 38, 82, 101, 29, 7, 51, 1693, 106, 25, 780, 86, 46, 468, 2548, 60, 8, 67, 54, 82, 347, 12, 12, 144, 155, 10, 780, 78, 53, 408, 71, 8, 32, 1131, 145, 274, 1, 3445, 833, 3446, 26, 611, 588, 170, 150, 62, 60, 1, 1694, 124, 30, 82, 232, 7, 3447, 85, 74, 2, 256, 199, 23, 14, 11, 5, 95, 45, 15, 6, 21, 97, 4, 311, 1, 3448, 1295, 37, 64, 1457, 24, 3449, 6, 204, 77, 51, 42, 18, 330, 255, 11, 39, 264, 348, 458]\n"
     ]
    }
   ],
   "source": [
    "# The first cahracter dialogue in the training set, vectorized.\n",
    "print(X_train[0])"
   ]
  },
  {
   "cell_type": "code",
   "execution_count": 72,
   "metadata": {},
   "outputs": [
    {
     "data": {
      "text/plain": [
       "\"close up impressed wow we don't have buildings like this in the south pole stretching her arm out to him halting aang with her cry wait aang it could be dangerous if people find out you're the avatar glancing at sokka technically aang is years old waving hi june pippinpaddleopsicopolis nice to meet \""
      ]
     },
     "execution_count": 72,
     "metadata": {},
     "output_type": "execute_result"
    }
   ],
   "source": [
    "# Review excerpt reconstructed from integer sequence.\n",
    "tokenizer.sequences_to_texts([X_train[0]])[0][:300]"
   ]
  },
  {
   "cell_type": "code",
   "execution_count": 73,
   "metadata": {},
   "outputs": [
    {
     "data": {
      "text/plain": [
       "\"[Close-up; impressed.] Wow. We don't have buildings like this in the South Pole![Stretching her arm out to him, halting Aang with her cry.] Wait, Aang! It could be dangerous if people find out you're the Avatar.[Glancing at Sokka.] Technically, Aang is 112 years old.[Waving.] Hi. June Pippinpaddleop\""
      ]
     },
     "execution_count": 73,
     "metadata": {},
     "output_type": "execute_result"
    }
   ],
   "source": [
    "# Original review text.\n",
    "train_data.iloc[0][:300]"
   ]
  },
  {
   "cell_type": "code",
   "execution_count": 80,
   "metadata": {},
   "outputs": [],
   "source": [
    "#identify length of longest sequence in train set to perform padding\n",
    "max_len = max([len(x) for x in X_train])"
   ]
  },
  {
   "cell_type": "code",
   "execution_count": 81,
   "metadata": {},
   "outputs": [
    {
     "data": {
      "text/plain": [
       "1595"
      ]
     },
     "execution_count": 81,
     "metadata": {},
     "output_type": "execute_result"
    }
   ],
   "source": [
    "max_len"
   ]
  },
  {
   "cell_type": "code",
   "execution_count": 82,
   "metadata": {},
   "outputs": [],
   "source": [
    "MAX_SEQ_LEN = max_len\n",
    "X_train = keras.preprocessing.sequence.pad_sequences(X_train, maxlen=MAX_SEQ_LEN)"
   ]
  },
  {
   "cell_type": "code",
   "execution_count": 83,
   "metadata": {},
   "outputs": [
    {
     "name": "stdout",
     "output_type": "stream",
     "text": [
      "[  0   0   0 ... 264 348 458]\n"
     ]
    }
   ],
   "source": [
    "print(X_train[0])"
   ]
  },
  {
   "cell_type": "code",
   "execution_count": 84,
   "metadata": {},
   "outputs": [],
   "source": [
    "#vectorize and pad test set\n",
    "X_test = tokenizer.texts_to_sequences(test_data)\n",
    "X_test = keras.preprocessing.sequence.pad_sequences(X_test, maxlen=MAX_SEQ_LEN)"
   ]
  },
  {
   "cell_type": "code",
   "execution_count": 108,
   "metadata": {},
   "outputs": [
    {
     "data": {
      "text/plain": [
       "array([[  0,   0,   0, ...,  87, 512, 120],\n",
       "       [  0,   0,   0, ..., 237, 128, 188],\n",
       "       [  0,   0,   0, ...,  17,  10, 203],\n",
       "       ...,\n",
       "       [  0,   0,   0, ..., 351, 147,   2],\n",
       "       [  0,   0,   0, ...,  74,   2,  35],\n",
       "       [  0,   0,   0, ...,   3, 472,   4]], dtype=int32)"
      ]
     },
     "execution_count": 108,
     "metadata": {},
     "output_type": "execute_result"
    }
   ],
   "source": [
    "X_test"
   ]
  },
  {
   "cell_type": "code",
   "execution_count": 86,
   "metadata": {},
   "outputs": [],
   "source": [
    "#import pre-trained word vectors (Google word2Vec on News corpora)\n",
    "embedding_file = '/Users/justin/Documents/Personal/projects/atla_nlp/data/external/GoogleNews-vectors-negative300.bin.gz'\n"
   ]
  },
  {
   "cell_type": "code",
   "execution_count": 87,
   "metadata": {},
   "outputs": [],
   "source": [
    "from gensim.models.keyedvectors import KeyedVectors\n",
    "word_vectors = KeyedVectors.load_word2vec_format(embedding_file, binary=True, limit=200000)"
   ]
  },
  {
   "cell_type": "code",
   "execution_count": 90,
   "metadata": {},
   "outputs": [
    {
     "name": "stdout",
     "output_type": "stream",
     "text": [
      "Vector dimension: (300,)\n",
      "[ 0.53515625 -0.06689453 -0.06445312  0.16210938 -0.3203125   0.20019531\n",
      " -0.05004883 -0.18652344  0.12011719 -0.12695312 -0.06347656  0.16699219\n",
      "  0.23828125 -0.20410156 -0.18847656  0.28320312  0.12304688  0.04174805\n",
      "  0.03088379 -0.33398438  0.05200195  0.01000977  0.09863281  0.21679688\n",
      " -0.33007812  0.20703125 -0.45703125  0.20117188  0.07714844 -0.24023438\n",
      " -0.04956055 -0.05297852 -0.26171875  0.10791016 -0.05126953 -0.42773438\n",
      "  0.34375     0.04443359 -0.09765625 -0.06591797  0.18066406 -0.05712891\n",
      " -0.24023438  0.48632812  0.2890625  -0.5078125   0.0246582  -0.05737305\n",
      "  0.25390625 -0.1015625  -0.0859375  -0.06298828  0.07470703 -0.00665283\n",
      " -0.0456543  -0.09814453  0.11914062 -0.12060547  0.19042969 -0.21289062\n",
      "  0.05566406 -0.00091171 -0.09277344 -0.09277344 -0.33203125  0.59765625\n",
      " -0.04541016 -0.02001953  0.05859375  0.24902344  0.03125     0.39257812\n",
      " -0.29882812 -0.19335938 -0.12255859 -0.3125      0.27734375 -0.01220703\n",
      " -0.15625     0.01660156  0.0291748  -0.09228516 -0.140625    0.04907227\n",
      "  0.10253906  0.21191406  0.11425781  0.33398438  0.09082031  0.06079102\n",
      " -0.04882812 -0.01397705 -0.515625   -0.12109375 -0.02111816 -0.02282715\n",
      "  0.19628906  0.12353516  0.21972656 -0.16601562  0.40820312 -0.01074219\n",
      " -0.09521484  0.04272461  0.05810547 -0.33789062 -0.04418945 -0.14550781\n",
      "  0.22949219  0.24609375 -0.09814453  0.11474609  0.16015625 -0.23730469\n",
      "  0.1796875  -0.19042969 -0.1484375  -0.296875   -0.00799561 -0.23925781\n",
      "  0.3203125  -0.44140625 -0.3203125   0.12060547 -0.06030273  0.12597656\n",
      "  0.109375    0.40820312 -0.05566406 -0.01635742 -0.3125      0.16308594\n",
      " -0.5546875   0.27148438  0.00994873 -0.03808594 -0.30078125 -0.01794434\n",
      " -0.44726562 -0.21582031  0.08984375 -0.12109375 -0.10595703  0.18847656\n",
      "  0.04858398  0.26171875  0.41601562 -0.12255859  0.12988281  0.01220703\n",
      "  0.08349609  0.02844238 -0.03149414  0.13183594  0.0111084  -0.5859375\n",
      " -0.20507812  0.1171875   0.22167969  0.04858398  0.3359375   0.02416992\n",
      "  0.17675781 -0.10644531 -0.40039062 -0.2890625   0.3515625  -0.16796875\n",
      " -0.25976562  0.25976562  0.09326172  0.3984375  -0.14746094  0.00479126\n",
      " -0.12597656 -0.01312256 -0.06933594 -0.1796875  -0.04516602  0.04711914\n",
      "  0.23339844 -0.21972656 -0.08447266 -0.06933594  0.30859375 -0.22265625\n",
      " -0.09863281  0.33007812 -0.07421875 -0.31445312 -0.05078125 -0.04638672\n",
      " -0.39257812 -0.00364685  0.39453125 -0.07080078  0.140625    0.328125\n",
      " -0.06201172 -0.13085938  0.03540039  0.00592041 -0.15527344 -0.23925781\n",
      "  0.22460938  0.07226562  0.10498047 -0.32226562 -0.41992188 -0.22558594\n",
      " -0.72265625  0.29296875 -0.21582031 -0.24707031 -0.04223633  0.14941406\n",
      " -0.32617188  0.33398438 -0.36132812 -0.3515625  -0.21972656  0.22949219\n",
      " -0.16113281 -0.28320312 -0.02941895  0.24609375 -0.18847656 -0.13769531\n",
      "  0.08447266  0.10302734  0.0559082   0.10400391 -0.14453125 -0.00601196\n",
      "  0.48632812 -0.22558594  0.13085938 -0.01208496  0.25976562  0.2890625\n",
      "  0.08886719 -0.09521484  0.15820312 -0.29296875 -0.08935547  0.03051758\n",
      " -0.16699219  0.234375    0.04907227 -0.43554688 -0.140625   -0.11621094\n",
      " -0.11962891  0.33398438  0.12451172 -0.37695312 -0.01818848  0.07910156\n",
      " -0.02783203 -0.63671875 -0.06298828 -0.04418945  0.09326172 -0.2109375\n",
      "  0.07226562  0.10742188 -0.07373047  0.234375   -0.22558594  0.1328125\n",
      "  0.03295898  0.0189209   0.17285156 -0.03295898 -0.10058594 -0.24316406\n",
      " -0.38671875  0.05029297  0.00282288  0.546875    0.00482178  0.05419922\n",
      " -0.20898438  0.01635742 -0.08984375  0.46484375 -0.22363281 -0.3515625\n",
      "  0.1015625   0.19140625 -0.31054688  0.25195312 -0.00579834 -0.6328125\n",
      " -0.01318359 -0.359375    0.22167969 -0.09082031 -0.24121094  0.15917969]\n"
     ]
    }
   ],
   "source": [
    "#example word vector retreival\n",
    "avatar = word_vectors['avatar']\n",
    "print(f'Vector dimension: {avatar.shape}')\n",
    "\n",
    "# The embedding for the word 'avatar'.\n",
    "print(avatar)"
   ]
  },
  {
   "cell_type": "code",
   "execution_count": 91,
   "metadata": {},
   "outputs": [],
   "source": [
    "#incorporate pre-trained word vectors into embedding layer\n",
    "# + 1 to account for padding token.\n",
    "num_tokens = len(tokenizer.word_index) + 1\n",
    "\n",
    "embedding_dim = 300\n",
    "embedding_matrix = np.zeros((num_tokens, embedding_dim))\n",
    "\n",
    "for word, i in tokenizer.word_index.items():\n",
    "  if word_vectors.has_index_for(word):\n",
    "    embedding_matrix[i] = word_vectors[word].copy()"
   ]
  },
  {
   "cell_type": "code",
   "execution_count": 94,
   "metadata": {},
   "outputs": [
    {
     "name": "stdout",
     "output_type": "stream",
     "text": [
      "[ 0.53515625 -0.06689453 -0.06445312  0.16210938 -0.3203125   0.20019531\n",
      " -0.05004883 -0.18652344  0.12011719 -0.12695312 -0.06347656  0.16699219\n",
      "  0.23828125 -0.20410156 -0.18847656  0.28320312  0.12304688  0.04174805\n",
      "  0.03088379 -0.33398438  0.05200195  0.01000977  0.09863281  0.21679688\n",
      " -0.33007812  0.20703125 -0.45703125  0.20117188  0.07714844 -0.24023438\n",
      " -0.04956055 -0.05297852 -0.26171875  0.10791016 -0.05126953 -0.42773438\n",
      "  0.34375     0.04443359 -0.09765625 -0.06591797  0.18066406 -0.05712891\n",
      " -0.24023438  0.48632812  0.2890625  -0.5078125   0.0246582  -0.05737305\n",
      "  0.25390625 -0.1015625 ]\n"
     ]
    }
   ],
   "source": [
    "# Quick check\n",
    "print(embedding_matrix[tokenizer.word_index['avatar']][:50])"
   ]
  },
  {
   "cell_type": "code",
   "execution_count": 96,
   "metadata": {},
   "outputs": [],
   "source": [
    "#build NN model architecture\n",
    "#use Keras embedding layer with matrix of pre-trained word vectors\n",
    "#set trainable to 'True' so that the embedding layer is updated during training\n",
    "\n",
    "embedding_layer = layers.Embedding(\n",
    "    num_tokens,\n",
    "    embedding_dim,\n",
    "    embeddings_initializer=keras.initializers.Constant(embedding_matrix),\n",
    "    input_length=MAX_SEQ_LEN,\n",
    "    trainable=True\n",
    ")"
   ]
  },
  {
   "cell_type": "code",
   "execution_count": 119,
   "metadata": {},
   "outputs": [
    {
     "data": {
      "text/plain": [
       "6"
      ]
     },
     "execution_count": 119,
     "metadata": {},
     "output_type": "execute_result"
    }
   ],
   "source": [
    "train_data_labels.nunique()"
   ]
  },
  {
   "cell_type": "code",
   "execution_count": 123,
   "metadata": {},
   "outputs": [],
   "source": [
    "# For the output layer. The number of classes corresponds to the\n",
    "# number of possible labels.\n",
    "num_classes = train_data_labels.nunique()"
   ]
  },
  {
   "cell_type": "code",
   "execution_count": 124,
   "metadata": {},
   "outputs": [],
   "source": [
    "tf.random.set_seed(0)\n",
    "\n",
    "model = keras.Sequential()\n",
    "\n",
    "# This layer will output a sequence of 300-dimension *vectors*, one for each element in the input sequence.\n",
    "model.add(embedding_layer)\n",
    "\n",
    "# This layer will calculate an average of those vectors.\n",
    "model.add(layers.GlobalAveragePooling1D()) #each training example is sequence of vectors, but subsequent layers expect one vector per training example, this averages all word vectors in sequence\n",
    "\n",
    "model.add(layers.Dense(128, activation='relu', kernel_initializer=tf.keras.initializers.random_normal(seed=1)))\n",
    "model.add(layers.Dense(64, activation='relu', kernel_initializer=tf.keras.initializers.random_normal(seed=1)))\n",
    "model.add(layers.Dense(num_classes, activation='softmax',kernel_initializer=tf.keras.initializers.random_normal(seed=1)))\n",
    "\n",
    "model.compile(optimizer='adam',\n",
    "              loss='categorical_crossentropy',\n",
    "              metrics=['accuracy'])"
   ]
  },
  {
   "cell_type": "code",
   "execution_count": 125,
   "metadata": {},
   "outputs": [
    {
     "name": "stdout",
     "output_type": "stream",
     "text": [
      "Model: \"sequential_4\"\n",
      "_________________________________________________________________\n",
      " Layer (type)                Output Shape              Param #   \n",
      "=================================================================\n",
      " embedding (Embedding)       (None, 1595, 300)         1830300   \n",
      "                                                                 \n",
      " global_average_pooling1d_2  (None, 300)               0         \n",
      "  (GlobalAveragePooling1D)                                       \n",
      "                                                                 \n",
      " dense_6 (Dense)             (None, 128)               38528     \n",
      "                                                                 \n",
      " dense_7 (Dense)             (None, 64)                8256      \n",
      "                                                                 \n",
      " dense_8 (Dense)             (None, 6)                 390       \n",
      "                                                                 \n",
      "=================================================================\n",
      "Total params: 1877474 (7.16 MB)\n",
      "Trainable params: 1877474 (7.16 MB)\n",
      "Non-trainable params: 0 (0.00 Byte)\n",
      "_________________________________________________________________\n"
     ]
    }
   ],
   "source": [
    "model.summary()"
   ]
  },
  {
   "cell_type": "code",
   "execution_count": 136,
   "metadata": {},
   "outputs": [
    {
     "name": "stdout",
     "output_type": "stream",
     "text": [
      "Epoch 1/20\n",
      "8/8 [==============================] - 0s 16ms/step - loss: 1.2605 - accuracy: 0.4378\n",
      "Epoch 2/20\n",
      "8/8 [==============================] - 0s 15ms/step - loss: 1.2242 - accuracy: 0.4378\n",
      "Epoch 3/20\n",
      "8/8 [==============================] - 0s 14ms/step - loss: 1.1798 - accuracy: 0.3605\n",
      "Epoch 4/20\n",
      "8/8 [==============================] - 0s 15ms/step - loss: 1.1894 - accuracy: 0.4077\n",
      "Epoch 5/20\n",
      "8/8 [==============================] - 0s 16ms/step - loss: 1.1686 - accuracy: 0.4506\n",
      "Epoch 6/20\n",
      "8/8 [==============================] - 0s 15ms/step - loss: 1.1443 - accuracy: 0.4721\n",
      "Epoch 7/20\n",
      "8/8 [==============================] - 0s 16ms/step - loss: 1.0696 - accuracy: 0.5150\n",
      "Epoch 8/20\n",
      "8/8 [==============================] - 0s 15ms/step - loss: 1.0398 - accuracy: 0.5322\n",
      "Epoch 9/20\n",
      "8/8 [==============================] - 0s 15ms/step - loss: 1.0268 - accuracy: 0.5236\n",
      "Epoch 10/20\n",
      "8/8 [==============================] - 0s 15ms/step - loss: 1.0037 - accuracy: 0.5064\n",
      "Epoch 11/20\n",
      "8/8 [==============================] - 0s 15ms/step - loss: 0.9738 - accuracy: 0.5837\n",
      "Epoch 12/20\n",
      "8/8 [==============================] - 0s 15ms/step - loss: 0.9441 - accuracy: 0.5966\n",
      "Epoch 13/20\n",
      "8/8 [==============================] - 0s 15ms/step - loss: 0.9453 - accuracy: 0.5837\n",
      "Epoch 14/20\n",
      "8/8 [==============================] - 0s 15ms/step - loss: 0.9080 - accuracy: 0.6180\n",
      "Epoch 15/20\n",
      "8/8 [==============================] - 0s 15ms/step - loss: 0.8971 - accuracy: 0.6438\n",
      "Epoch 16/20\n",
      "8/8 [==============================] - 0s 15ms/step - loss: 0.8894 - accuracy: 0.6094\n",
      "Epoch 17/20\n",
      "8/8 [==============================] - 0s 17ms/step - loss: 0.8718 - accuracy: 0.6094\n",
      "Epoch 18/20\n",
      "8/8 [==============================] - 0s 17ms/step - loss: 0.8373 - accuracy: 0.6652\n",
      "Epoch 19/20\n",
      "8/8 [==============================] - 0s 15ms/step - loss: 0.8045 - accuracy: 0.6867\n",
      "Epoch 20/20\n",
      "8/8 [==============================] - 0s 18ms/step - loss: 0.7860 - accuracy: 0.7124\n"
     ]
    }
   ],
   "source": [
    "history = model.fit(X_train, y_train, epochs=20, batch_size=32)"
   ]
  },
  {
   "cell_type": "code",
   "execution_count": 137,
   "metadata": {},
   "outputs": [
    {
     "name": "stdout",
     "output_type": "stream",
     "text": [
      "2/2 [==============================] - 0s 9ms/step - loss: 1.7369 - accuracy: 0.3220\n"
     ]
    },
    {
     "data": {
      "text/plain": [
       "[1.7368565797805786, 0.32203391194343567]"
      ]
     },
     "execution_count": 137,
     "metadata": {},
     "output_type": "execute_result"
    }
   ],
   "source": [
    "#poor performance on text set\n",
    "model.evaluate(X_test, y_test)"
   ]
  },
  {
   "cell_type": "code",
   "execution_count": null,
   "metadata": {},
   "outputs": [],
   "source": []
  },
  {
   "cell_type": "code",
   "execution_count": null,
   "metadata": {},
   "outputs": [],
   "source": []
  },
  {
   "cell_type": "code",
   "execution_count": null,
   "metadata": {},
   "outputs": [],
   "source": []
  },
  {
   "cell_type": "code",
   "execution_count": 75,
   "metadata": {},
   "outputs": [],
   "source": [
    "#train word embeddings and model simultaneously to predict character dialogue ownership"
   ]
  },
  {
   "cell_type": "code",
   "execution_count": 76,
   "metadata": {},
   "outputs": [
    {
     "ename": "NameError",
     "evalue": "name 'embedding_dim' is not defined",
     "output_type": "error",
     "traceback": [
      "\u001b[0;31m---------------------------------------------------------------------------\u001b[0m",
      "\u001b[0;31mNameError\u001b[0m                                 Traceback (most recent call last)",
      "Cell \u001b[0;32mIn [76], line 7\u001b[0m\n\u001b[1;32m      3\u001b[0m model \u001b[38;5;241m=\u001b[39m keras\u001b[38;5;241m.\u001b[39mSequential()\n\u001b[1;32m      5\u001b[0m \u001b[38;5;66;03m# The 'trainable' property is True by default.\u001b[39;00m\n\u001b[1;32m      6\u001b[0m model\u001b[38;5;241m.\u001b[39madd(layers\u001b[38;5;241m.\u001b[39mEmbedding(input_dim\u001b[38;5;241m=\u001b[39mnum_tokens,\n\u001b[0;32m----> 7\u001b[0m                            output_dim\u001b[38;5;241m=\u001b[39m\u001b[43membedding_dim\u001b[49m,\n\u001b[1;32m      8\u001b[0m                            input_length\u001b[38;5;241m=\u001b[39mMAX_REVIEW_LEN))\n\u001b[1;32m     11\u001b[0m model\u001b[38;5;241m.\u001b[39madd(layers\u001b[38;5;241m.\u001b[39mGlobalAveragePooling1D())\n\u001b[1;32m     12\u001b[0m model\u001b[38;5;241m.\u001b[39madd(layers\u001b[38;5;241m.\u001b[39mDense(\u001b[38;5;241m128\u001b[39m, activation\u001b[38;5;241m=\u001b[39m\u001b[38;5;124m'\u001b[39m\u001b[38;5;124mrelu\u001b[39m\u001b[38;5;124m'\u001b[39m, kernel_initializer\u001b[38;5;241m=\u001b[39mtf\u001b[38;5;241m.\u001b[39mkeras\u001b[38;5;241m.\u001b[39minitializers\u001b[38;5;241m.\u001b[39mrandom_normal(seed\u001b[38;5;241m=\u001b[39m\u001b[38;5;241m1\u001b[39m)))\n",
      "\u001b[0;31mNameError\u001b[0m: name 'embedding_dim' is not defined"
     ]
    }
   ],
   "source": [
    "tf.random.set_seed(0)\n",
    "\n",
    "model = keras.Sequential()\n",
    "\n",
    "# The 'trainable' property is True by default.\n",
    "model.add(layers.Embedding(input_dim=num_tokens,\n",
    "                           output_dim=embedding_dim,\n",
    "                           input_length=MAX_REVIEW_LEN))\n",
    "\n",
    "\n",
    "model.add(layers.GlobalAveragePooling1D())\n",
    "model.add(layers.Dense(128, activation='relu', kernel_initializer=tf.keras.initializers.random_normal(seed=1)))\n",
    "model.add(layers.Dense(64, activation='relu', kernel_initializer=tf.keras.initializers.random_normal(seed=1)))\n",
    "model.add(layers.Dense(1, activation='sigmoid', kernel_initializer=tf.keras.initializers.random_normal(seed=1)))\n",
    "\n",
    "model.compile(optimizer='adam',\n",
    "              loss='binary_crossentropy',\n",
    "              metrics=['accuracy'])\n",
    "\n",
    "es_callback = keras.callbacks.EarlyStopping(monitor='val_loss', patience=3)\n",
    "history = model.fit(X_train, y_train, epochs=20, batch_size=512, Test_data=(X_val, y_val), callbacks=[es_callback])"
   ]
  }
 ],
 "metadata": {
  "kernelspec": {
   "display_name": "nlp_env",
   "language": "python",
   "name": "python3"
  },
  "language_info": {
   "codemirror_mode": {
    "name": "ipython",
    "version": 3
   },
   "file_extension": ".py",
   "mimetype": "text/x-python",
   "name": "python",
   "nbconvert_exporter": "python",
   "pygments_lexer": "ipython3",
   "version": "3.10.8"
  }
 },
 "nbformat": 4,
 "nbformat_minor": 2
}
