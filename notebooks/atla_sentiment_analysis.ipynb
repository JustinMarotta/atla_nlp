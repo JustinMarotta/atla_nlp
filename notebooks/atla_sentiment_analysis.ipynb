{
 "cells": [
  {
   "cell_type": "code",
   "execution_count": 1,
   "metadata": {},
   "outputs": [],
   "source": [
    "#ATLA sentiment analysis project\n",
    "#Author: Justin Marotta\n",
    "\n",
    "#Objectives:\n",
    "#properly implement sentiment analysis using a transformer architecture\n",
    "#perform tokenization and preprocessing from scratch\n",
    "#finetune existing transformer architecture on processed transcripts from Avatar: The Last Airbender\n",
    "#showcase how each character's sentiment/emotion changes over the course of the show (Aang, Katara, Sokka, Toph, Zuko, Iroh)\n",
    "#showcase how to use the model to predict sentiment on unseen data\n",
    "#gain insights into the show's storytelling from a psychological perspective\n",
    "\n",
    "#Steps:\n",
    "#Data collection\n",
    "    #-gather transcripts of the show\n",
    "#Preprocessing\n",
    "    #-tokenization\n",
    "    #-data cleaning (lower case, remove special characters, remove stop words, lemmatization)\n",
    "#Modeling\n",
    "    #-finetune existing transformer architecture\n",
    "    #-train model, evaluate model, save model\n",
    "\n",
    "#Analysis\n",
    "    #-show how each character's sentiment changes over the course of the show\n",
    "    #-Classify dialogues into emotions like joy, anger, sadness, surprise, etc. Maybe NRC Emotion Lexicon for this purpose\n",
    "    #-show how to use the model to predict sentiment on unseen data\n",
    "    \n",
    "#Separate task:\n",
    "#-predict which character spoke on unseen data"
   ]
  },
  {
   "cell_type": "code",
   "execution_count": 2,
   "metadata": {},
   "outputs": [],
   "source": [
    "#sentiment analysis notebook"
   ]
  },
  {
   "cell_type": "code",
   "execution_count": 34,
   "metadata": {},
   "outputs": [],
   "source": [
    "#impost packages\n",
    "\n",
    "import pandas as pd\n",
    "import numpy as np\n",
    "import re\n",
    "\n",
    "#for web scraping\n",
    "from bs4 import BeautifulSoup\n",
    "import requests\n",
    "\n",
    "#for tokenization\n",
    "from nltk import sent_tokenize, word_tokenize\n",
    "import spacy\n",
    "from spacy.pipeline import Sentencizer\n",
    "from spacy.lang.en import English\n",
    "\n",
    "#for sentiment analysis\n",
    "from vaderSentiment.vaderSentiment import SentimentIntensityAnalyzer\n",
    "\n",
    "# For visualization.\n",
    "import plotly.express as px\n",
    "\n",
    "#for bag of words model vectorization\n",
    "from sklearn.feature_extraction.text import CountVectorizer, TfidfVectorizer\n",
    "\n",
    "#to evaluate which document most aligns with a given vector/token\n",
    "from sklearn.metrics.pairwise import cosine_similarity"
   ]
  },
  {
   "cell_type": "code",
   "execution_count": 4,
   "metadata": {},
   "outputs": [],
   "source": [
    "atla_df = pd.read_csv('/Users/justin/Documents/Personal/projects/atla_nlp/data/processed/atla_df.csv', keep_default_na=False, index_col=0)\n",
    "#keep_default_na=False prevent empty strings from being read as NaN"
   ]
  },
  {
   "cell_type": "code",
   "execution_count": 5,
   "metadata": {},
   "outputs": [
    {
     "data": {
      "text/html": [
       "<div>\n",
       "<style scoped>\n",
       "    .dataframe tbody tr th:only-of-type {\n",
       "        vertical-align: middle;\n",
       "    }\n",
       "\n",
       "    .dataframe tbody tr th {\n",
       "        vertical-align: top;\n",
       "    }\n",
       "\n",
       "    .dataframe thead th {\n",
       "        text-align: right;\n",
       "    }\n",
       "</style>\n",
       "<table border=\"1\" class=\"dataframe\">\n",
       "  <thead>\n",
       "    <tr style=\"text-align: right;\">\n",
       "      <th></th>\n",
       "      <th>book_num</th>\n",
       "      <th>book_name</th>\n",
       "      <th>episode_num</th>\n",
       "      <th>episode_name</th>\n",
       "      <th>link</th>\n",
       "      <th>Aang</th>\n",
       "      <th>Iroh</th>\n",
       "      <th>Katara</th>\n",
       "      <th>Sokka</th>\n",
       "      <th>Toph</th>\n",
       "      <th>Zuko</th>\n",
       "    </tr>\n",
       "  </thead>\n",
       "  <tbody>\n",
       "    <tr>\n",
       "      <th>0</th>\n",
       "      <td>1.0</td>\n",
       "      <td>Book One: Water</td>\n",
       "      <td>1</td>\n",
       "      <td>The Boy in the Iceberg</td>\n",
       "      <td>https://avatar.fandom.com/wiki/Transcript:The_...</td>\n",
       "      <td>[In a weak voice.] I need to ask you something...</td>\n",
       "      <td>[He is playing some sort of card game. He answ...</td>\n",
       "      <td>[Narrating.] Water. Earth. Fire. Air. My grand...</td>\n",
       "      <td>It's not getting away from me this time. [Clos...</td>\n",
       "      <td></td>\n",
       "      <td>Finally! [He turns around to face another pers...</td>\n",
       "    </tr>\n",
       "    <tr>\n",
       "      <th>1</th>\n",
       "      <td>1.0</td>\n",
       "      <td>Book One: Water</td>\n",
       "      <td>2</td>\n",
       "      <td>The Avatar Returns</td>\n",
       "      <td>https://avatar.fandom.com/wiki/Transcript:The_...</td>\n",
       "      <td>[Sheepishly, as Katara glares at Sokka.] Yeah....</td>\n",
       "      <td>[Turns to one of Zuko's men and gives him the ...</td>\n",
       "      <td>Water. Earth. Fire. Air. Long ago, the four na...</td>\n",
       "      <td>[Angrily.] I knew it! [Accusingly points a fin...</td>\n",
       "      <td></td>\n",
       "      <td>[Angrily.] Where are you hiding him?[Shaking K...</td>\n",
       "    </tr>\n",
       "    <tr>\n",
       "      <th>2</th>\n",
       "      <td>1.0</td>\n",
       "      <td>Book One: Water</td>\n",
       "      <td>3</td>\n",
       "      <td>The Southern Air Temple</td>\n",
       "      <td>https://avatar.fandom.com/wiki/Transcript:The_...</td>\n",
       "      <td>[Excitedly.] Wait 'til you see it, Katara! The...</td>\n",
       "      <td>[Disinterested.] You mean the Avatar?[Bows bac...</td>\n",
       "      <td>[Cautiously.] Aang, I know you're excited, [Sh...</td>\n",
       "      <td>[Grunting sleepily.] Uggh! Sleep now. Temple l...</td>\n",
       "      <td></td>\n",
       "      <td>Uncle, I want the repairs made as quickly as p...</td>\n",
       "    </tr>\n",
       "    <tr>\n",
       "      <th>3</th>\n",
       "      <td>1.0</td>\n",
       "      <td>Book One: Water</td>\n",
       "      <td>4</td>\n",
       "      <td>The Warriors of Kyoshi</td>\n",
       "      <td>https://avatar.fandom.com/wiki/Transcript:The_...</td>\n",
       "      <td>Well ... [Happily.] I know it's near water.Mom...</td>\n",
       "      <td>[Pushes open the door completely and enters th...</td>\n",
       "      <td>[Nonchalantly, still focusing on her task at h...</td>\n",
       "      <td>[To Aang.] You have no idea where you're going...</td>\n",
       "      <td></td>\n",
       "      <td>[Calmly.] The only reason you should be interr...</td>\n",
       "    </tr>\n",
       "    <tr>\n",
       "      <th>4</th>\n",
       "      <td>1.0</td>\n",
       "      <td>Book One: Water</td>\n",
       "      <td>5</td>\n",
       "      <td>The King of Omashu</td>\n",
       "      <td>https://avatar.fandom.com/wiki/Transcript:The_...</td>\n",
       "      <td>The Earth Kingdom city of Omashu! [Camera pans...</td>\n",
       "      <td></td>\n",
       "      <td>[Close-up; impressed.] Wow. We don't have buil...</td>\n",
       "      <td>[Close-up; overwhelmed.] They have buildings h...</td>\n",
       "      <td></td>\n",
       "      <td></td>\n",
       "    </tr>\n",
       "    <tr>\n",
       "      <th>...</th>\n",
       "      <td>...</td>\n",
       "      <td>...</td>\n",
       "      <td>...</td>\n",
       "      <td>...</td>\n",
       "      <td>...</td>\n",
       "      <td>...</td>\n",
       "      <td>...</td>\n",
       "      <td>...</td>\n",
       "      <td>...</td>\n",
       "      <td>...</td>\n",
       "      <td>...</td>\n",
       "    </tr>\n",
       "    <tr>\n",
       "      <th>56</th>\n",
       "      <td>3.0</td>\n",
       "      <td>Book Three: Fire</td>\n",
       "      <td>57</td>\n",
       "      <td>The Southern Raiders</td>\n",
       "      <td>https://avatar.fandom.com/wiki/Transcript:The_...</td>\n",
       "      <td>[To Zuko.] What are you doing?[In the backgrou...</td>\n",
       "      <td></td>\n",
       "      <td>[Angrily.] What are you doing?Okay, I'm not cr...</td>\n",
       "      <td>Come on! We've gotta get out of here!We need t...</td>\n",
       "      <td>[Pointing to the exit.] Come on! We can get ou...</td>\n",
       "      <td>[As he runs and pushes her out of harm's way.]...</td>\n",
       "    </tr>\n",
       "    <tr>\n",
       "      <th>57</th>\n",
       "      <td>3.0</td>\n",
       "      <td>Book Three: Fire</td>\n",
       "      <td>58</td>\n",
       "      <td>The Ember Island Players</td>\n",
       "      <td>https://avatar.fandom.com/wiki/Transcript:The_...</td>\n",
       "      <td>[To Zuko; points to his seat and tries to act ...</td>\n",
       "      <td>[Looking toward Actor Zuko, at ease.] Prince Z...</td>\n",
       "      <td>Doesn't it seem kind of weird that we're hidin...</td>\n",
       "      <td>You guys are not gonna believe this! There's a...</td>\n",
       "      <td>Why are we sitting in the nosebleed section? M...</td>\n",
       "      <td>I told you, [Cut to Zuko sitting on a dry foun...</td>\n",
       "    </tr>\n",
       "    <tr>\n",
       "      <th>58</th>\n",
       "      <td>3.0</td>\n",
       "      <td>Book Three: Fire</td>\n",
       "      <td>59</td>\n",
       "      <td>Sozin's Comet, Part 1</td>\n",
       "      <td>https://avatar.fandom.com/wiki/Transcript:Sozi...</td>\n",
       "      <td>[Stops firebending and turns to Zuko while gro...</td>\n",
       "      <td></td>\n",
       "      <td>[Holding up two watermelons.] Who wants a nice...</td>\n",
       "      <td>Maybe Zuko's right. Sitting around the house h...</td>\n",
       "      <td>Not bad, baldy, [Aang jumps off the sculpture....</td>\n",
       "      <td>More ferocious! Imagine striking through your ...</td>\n",
       "    </tr>\n",
       "    <tr>\n",
       "      <th>59</th>\n",
       "      <td>3.0</td>\n",
       "      <td>Book Three: Fire</td>\n",
       "      <td>60</td>\n",
       "      <td>Sozin's Comet, Part 2</td>\n",
       "      <td>https://avatar.fandom.com/wiki/Transcript:Sozi...</td>\n",
       "      <td>Where are we, Momo? [Cut to view of the sky th...</td>\n",
       "      <td>[Close-up.] I was never angry with you. I was ...</td>\n",
       "      <td>[Angrily.] I'm not his girlfriend![Pulls out A...</td>\n",
       "      <td>[To Zuko.] Hey, I remember her! [Cut to fronta...</td>\n",
       "      <td>[Frontal view.] We know he's gone. That's why ...</td>\n",
       "      <td>Yup. [Walks forward.] Back in the good old day...</td>\n",
       "    </tr>\n",
       "    <tr>\n",
       "      <th>60</th>\n",
       "      <td>3.0</td>\n",
       "      <td>Book Three: Fire</td>\n",
       "      <td>61</td>\n",
       "      <td>Sozin's Comet, Part 3</td>\n",
       "      <td>https://avatar.fandom.com/wiki/Transcript:Sozi...</td>\n",
       "      <td>Momo, time for you to go.Please listen to me. ...</td>\n",
       "      <td>[Cut to a shot of Iroh.] Only once every hundr...</td>\n",
       "      <td>Zuko, don't worry. We can take Azula.[Somewhat...</td>\n",
       "      <td>We're too late! The fleet's already taking off...</td>\n",
       "      <td>Too bad the Fire Lord's about to use it to des...</td>\n",
       "      <td>It's not her I'm worried about. I'm worried ab...</td>\n",
       "    </tr>\n",
       "  </tbody>\n",
       "</table>\n",
       "<p>61 rows × 11 columns</p>\n",
       "</div>"
      ],
      "text/plain": [
       "    book_num         book_name  episode_num              episode_name  \\\n",
       "0        1.0   Book One: Water            1    The Boy in the Iceberg   \n",
       "1        1.0   Book One: Water            2        The Avatar Returns   \n",
       "2        1.0   Book One: Water            3   The Southern Air Temple   \n",
       "3        1.0   Book One: Water            4    The Warriors of Kyoshi   \n",
       "4        1.0   Book One: Water            5        The King of Omashu   \n",
       "..       ...               ...          ...                       ...   \n",
       "56       3.0  Book Three: Fire           57      The Southern Raiders   \n",
       "57       3.0  Book Three: Fire           58  The Ember Island Players   \n",
       "58       3.0  Book Three: Fire           59     Sozin's Comet, Part 1   \n",
       "59       3.0  Book Three: Fire           60     Sozin's Comet, Part 2   \n",
       "60       3.0  Book Three: Fire           61     Sozin's Comet, Part 3   \n",
       "\n",
       "                                                 link  \\\n",
       "0   https://avatar.fandom.com/wiki/Transcript:The_...   \n",
       "1   https://avatar.fandom.com/wiki/Transcript:The_...   \n",
       "2   https://avatar.fandom.com/wiki/Transcript:The_...   \n",
       "3   https://avatar.fandom.com/wiki/Transcript:The_...   \n",
       "4   https://avatar.fandom.com/wiki/Transcript:The_...   \n",
       "..                                                ...   \n",
       "56  https://avatar.fandom.com/wiki/Transcript:The_...   \n",
       "57  https://avatar.fandom.com/wiki/Transcript:The_...   \n",
       "58  https://avatar.fandom.com/wiki/Transcript:Sozi...   \n",
       "59  https://avatar.fandom.com/wiki/Transcript:Sozi...   \n",
       "60  https://avatar.fandom.com/wiki/Transcript:Sozi...   \n",
       "\n",
       "                                                 Aang  \\\n",
       "0   [In a weak voice.] I need to ask you something...   \n",
       "1   [Sheepishly, as Katara glares at Sokka.] Yeah....   \n",
       "2   [Excitedly.] Wait 'til you see it, Katara! The...   \n",
       "3   Well ... [Happily.] I know it's near water.Mom...   \n",
       "4   The Earth Kingdom city of Omashu! [Camera pans...   \n",
       "..                                                ...   \n",
       "56  [To Zuko.] What are you doing?[In the backgrou...   \n",
       "57  [To Zuko; points to his seat and tries to act ...   \n",
       "58  [Stops firebending and turns to Zuko while gro...   \n",
       "59  Where are we, Momo? [Cut to view of the sky th...   \n",
       "60  Momo, time for you to go.Please listen to me. ...   \n",
       "\n",
       "                                                 Iroh  \\\n",
       "0   [He is playing some sort of card game. He answ...   \n",
       "1   [Turns to one of Zuko's men and gives him the ...   \n",
       "2   [Disinterested.] You mean the Avatar?[Bows bac...   \n",
       "3   [Pushes open the door completely and enters th...   \n",
       "4                                                       \n",
       "..                                                ...   \n",
       "56                                                      \n",
       "57  [Looking toward Actor Zuko, at ease.] Prince Z...   \n",
       "58                                                      \n",
       "59  [Close-up.] I was never angry with you. I was ...   \n",
       "60  [Cut to a shot of Iroh.] Only once every hundr...   \n",
       "\n",
       "                                               Katara  \\\n",
       "0   [Narrating.] Water. Earth. Fire. Air. My grand...   \n",
       "1   Water. Earth. Fire. Air. Long ago, the four na...   \n",
       "2   [Cautiously.] Aang, I know you're excited, [Sh...   \n",
       "3   [Nonchalantly, still focusing on her task at h...   \n",
       "4   [Close-up; impressed.] Wow. We don't have buil...   \n",
       "..                                                ...   \n",
       "56  [Angrily.] What are you doing?Okay, I'm not cr...   \n",
       "57  Doesn't it seem kind of weird that we're hidin...   \n",
       "58  [Holding up two watermelons.] Who wants a nice...   \n",
       "59  [Angrily.] I'm not his girlfriend![Pulls out A...   \n",
       "60  Zuko, don't worry. We can take Azula.[Somewhat...   \n",
       "\n",
       "                                                Sokka  \\\n",
       "0   It's not getting away from me this time. [Clos...   \n",
       "1   [Angrily.] I knew it! [Accusingly points a fin...   \n",
       "2   [Grunting sleepily.] Uggh! Sleep now. Temple l...   \n",
       "3   [To Aang.] You have no idea where you're going...   \n",
       "4   [Close-up; overwhelmed.] They have buildings h...   \n",
       "..                                                ...   \n",
       "56  Come on! We've gotta get out of here!We need t...   \n",
       "57  You guys are not gonna believe this! There's a...   \n",
       "58  Maybe Zuko's right. Sitting around the house h...   \n",
       "59  [To Zuko.] Hey, I remember her! [Cut to fronta...   \n",
       "60  We're too late! The fleet's already taking off...   \n",
       "\n",
       "                                                 Toph  \\\n",
       "0                                                       \n",
       "1                                                       \n",
       "2                                                       \n",
       "3                                                       \n",
       "4                                                       \n",
       "..                                                ...   \n",
       "56  [Pointing to the exit.] Come on! We can get ou...   \n",
       "57  Why are we sitting in the nosebleed section? M...   \n",
       "58  Not bad, baldy, [Aang jumps off the sculpture....   \n",
       "59  [Frontal view.] We know he's gone. That's why ...   \n",
       "60  Too bad the Fire Lord's about to use it to des...   \n",
       "\n",
       "                                                 Zuko  \n",
       "0   Finally! [He turns around to face another pers...  \n",
       "1   [Angrily.] Where are you hiding him?[Shaking K...  \n",
       "2   Uncle, I want the repairs made as quickly as p...  \n",
       "3   [Calmly.] The only reason you should be interr...  \n",
       "4                                                      \n",
       "..                                                ...  \n",
       "56  [As he runs and pushes her out of harm's way.]...  \n",
       "57  I told you, [Cut to Zuko sitting on a dry foun...  \n",
       "58  More ferocious! Imagine striking through your ...  \n",
       "59  Yup. [Walks forward.] Back in the good old day...  \n",
       "60  It's not her I'm worried about. I'm worried ab...  \n",
       "\n",
       "[61 rows x 11 columns]"
      ]
     },
     "execution_count": 5,
     "metadata": {},
     "output_type": "execute_result"
    }
   ],
   "source": [
    "atla_df"
   ]
  },
  {
   "cell_type": "code",
   "execution_count": 6,
   "metadata": {},
   "outputs": [],
   "source": [
    "def get_sentiment(sentences, tokenizer):\n",
    "    \n",
    "    # 1) Calculate the sentiment of each sentence.\n",
    "    # 2) Take the average of these sentiment scores.\n",
    "    # 3) Use threshold values to determine if the text is negative (-1), positive (1), or neutral (0).\n",
    "    \n",
    "    sentiment_per_sentence = []\n",
    "    \n",
    "    if tokenizer == spacy:\n",
    "        doc = tokenizer(sentences) # set tokenizer of choice\n",
    "        tokenize_sentences = [sent.text.strip() for sent in doc.sents]\n",
    "    \n",
    "    else:\n",
    "        tokenize_sentences = tokenizer(sentences) # set tokenizer of choice\n",
    "    \n",
    "    analyzer = SentimentIntensityAnalyzer()\n",
    "    for sentence in tokenize_sentences:\n",
    "        sentiment = analyzer.polarity_scores(sentence)\n",
    "        sentiment_per_sentence.append(sentiment['compound'])\n",
    "        \n",
    "    avg_sentiment = np.mean(sentiment_per_sentence)\n",
    "      \n",
    "    # Typical threshold values suggested in VADER's README.\n",
    "    if avg_sentiment >= 0.05:\n",
    "        return 1\n",
    "    elif avg_sentiment <= -0.05:\n",
    "        return -1\n",
    "    elif np.isnan(avg_sentiment): #if character has no lines in episode return np.nan\n",
    "        return np.nan\n",
    "    else:\n",
    "        return 0   "
   ]
  },
  {
   "cell_type": "code",
   "execution_count": 7,
   "metadata": {},
   "outputs": [
    {
     "name": "stderr",
     "output_type": "stream",
     "text": [
      "/Users/justin/mambaforge/envs/nlp_env/lib/python3.10/site-packages/numpy/core/fromnumeric.py:3504: RuntimeWarning: Mean of empty slice.\n",
      "  return _methods._mean(a, axis=axis, dtype=dtype,\n",
      "/Users/justin/mambaforge/envs/nlp_env/lib/python3.10/site-packages/numpy/core/_methods.py:129: RuntimeWarning: invalid value encountered in scalar divide\n",
      "  ret = ret.dtype.type(ret / rcount)\n"
     ]
    }
   ],
   "source": [
    "##sentiment analysis with vader\n",
    "atla_sentiment_df = atla_df.copy()\n",
    "atla_sentiment_df.drop(['link'], axis = 1, inplace = True)\n",
    "\n",
    "# For each character, replace lines spoken in each episode with sentiment score.\n",
    "characters = ['Katara', 'Sokka', 'Aang', 'Toph', 'Zuko', 'Iroh']\n",
    "\n",
    "for character in characters:  \n",
    "    character_sentiment_per_episode = []\n",
    "       \n",
    "    for episode_lines in atla_df[character]:\n",
    "        character_sentiment_per_episode.append(get_sentiment(episode_lines, sent_tokenize)) #uses nltk PunktSentenceTokenizer (currently recommended)\n",
    "  \n",
    "        \n",
    "    atla_sentiment_df[character] = character_sentiment_per_episode"
   ]
  },
  {
   "cell_type": "code",
   "execution_count": 8,
   "metadata": {},
   "outputs": [
    {
     "name": "stderr",
     "output_type": "stream",
     "text": [
      "/Users/justin/mambaforge/envs/nlp_env/lib/python3.10/site-packages/numpy/core/fromnumeric.py:3504: RuntimeWarning: Mean of empty slice.\n",
      "  return _methods._mean(a, axis=axis, dtype=dtype,\n",
      "/Users/justin/mambaforge/envs/nlp_env/lib/python3.10/site-packages/numpy/core/_methods.py:129: RuntimeWarning: invalid value encountered in scalar divide\n",
      "  ret = ret.dtype.type(ret / rcount)\n"
     ]
    }
   ],
   "source": [
    "#alternatively, use spacy tokenizer\n",
    "spacy = English()\n",
    "spacy.add_pipe(\"sentencizer\")\n",
    "\n",
    "atla_sentiment_df_spacy_tokenizer = atla_df.copy()\n",
    "atla_sentiment_df_spacy_tokenizer.drop(['link'], axis = 1, inplace = True)\n",
    "\n",
    "# For each character, replace lines spoken in each episode with sentiment score.\n",
    "characters = ['Katara', 'Sokka', 'Aang', 'Toph', 'Zuko', 'Iroh']\n",
    "\n",
    "for character in characters:  \n",
    "    character_sentiment_per_episode = []\n",
    "       \n",
    "    for episode_lines in atla_df[character]:\n",
    "            character_sentiment_per_episode.append(get_sentiment(episode_lines, spacy)) #uses custom spaCy tokenizer\n",
    " \n",
    "        \n",
    "    atla_sentiment_df_spacy_tokenizer[character] = character_sentiment_per_episode"
   ]
  },
  {
   "cell_type": "code",
   "execution_count": 9,
   "metadata": {},
   "outputs": [
    {
     "data": {
      "text/html": [
       "<div>\n",
       "<style scoped>\n",
       "    .dataframe tbody tr th:only-of-type {\n",
       "        vertical-align: middle;\n",
       "    }\n",
       "\n",
       "    .dataframe tbody tr th {\n",
       "        vertical-align: top;\n",
       "    }\n",
       "\n",
       "    .dataframe thead th {\n",
       "        text-align: right;\n",
       "    }\n",
       "</style>\n",
       "<table border=\"1\" class=\"dataframe\">\n",
       "  <thead>\n",
       "    <tr style=\"text-align: right;\">\n",
       "      <th></th>\n",
       "      <th>book_num</th>\n",
       "      <th>book_name</th>\n",
       "      <th>episode_num</th>\n",
       "      <th>episode_name</th>\n",
       "      <th>Aang</th>\n",
       "      <th>Iroh</th>\n",
       "      <th>Katara</th>\n",
       "      <th>Sokka</th>\n",
       "      <th>Toph</th>\n",
       "      <th>Zuko</th>\n",
       "    </tr>\n",
       "  </thead>\n",
       "  <tbody>\n",
       "    <tr>\n",
       "      <th>0</th>\n",
       "      <td>1.0</td>\n",
       "      <td>Book One: Water</td>\n",
       "      <td>1</td>\n",
       "      <td>The Boy in the Iceberg</td>\n",
       "      <td>0.0</td>\n",
       "      <td>0.0</td>\n",
       "      <td>0.0</td>\n",
       "      <td>0.0</td>\n",
       "      <td>NaN</td>\n",
       "      <td>-1.0</td>\n",
       "    </tr>\n",
       "    <tr>\n",
       "      <th>1</th>\n",
       "      <td>1.0</td>\n",
       "      <td>Book One: Water</td>\n",
       "      <td>2</td>\n",
       "      <td>The Avatar Returns</td>\n",
       "      <td>1.0</td>\n",
       "      <td>1.0</td>\n",
       "      <td>1.0</td>\n",
       "      <td>0.0</td>\n",
       "      <td>NaN</td>\n",
       "      <td>-1.0</td>\n",
       "    </tr>\n",
       "    <tr>\n",
       "      <th>2</th>\n",
       "      <td>1.0</td>\n",
       "      <td>Book One: Water</td>\n",
       "      <td>3</td>\n",
       "      <td>The Southern Air Temple</td>\n",
       "      <td>1.0</td>\n",
       "      <td>1.0</td>\n",
       "      <td>0.0</td>\n",
       "      <td>0.0</td>\n",
       "      <td>NaN</td>\n",
       "      <td>0.0</td>\n",
       "    </tr>\n",
       "    <tr>\n",
       "      <th>3</th>\n",
       "      <td>1.0</td>\n",
       "      <td>Book One: Water</td>\n",
       "      <td>4</td>\n",
       "      <td>The Warriors of Kyoshi</td>\n",
       "      <td>1.0</td>\n",
       "      <td>0.0</td>\n",
       "      <td>0.0</td>\n",
       "      <td>0.0</td>\n",
       "      <td>NaN</td>\n",
       "      <td>1.0</td>\n",
       "    </tr>\n",
       "    <tr>\n",
       "      <th>4</th>\n",
       "      <td>1.0</td>\n",
       "      <td>Book One: Water</td>\n",
       "      <td>5</td>\n",
       "      <td>The King of Omashu</td>\n",
       "      <td>1.0</td>\n",
       "      <td>NaN</td>\n",
       "      <td>0.0</td>\n",
       "      <td>1.0</td>\n",
       "      <td>NaN</td>\n",
       "      <td>NaN</td>\n",
       "    </tr>\n",
       "    <tr>\n",
       "      <th>...</th>\n",
       "      <td>...</td>\n",
       "      <td>...</td>\n",
       "      <td>...</td>\n",
       "      <td>...</td>\n",
       "      <td>...</td>\n",
       "      <td>...</td>\n",
       "      <td>...</td>\n",
       "      <td>...</td>\n",
       "      <td>...</td>\n",
       "      <td>...</td>\n",
       "    </tr>\n",
       "    <tr>\n",
       "      <th>56</th>\n",
       "      <td>3.0</td>\n",
       "      <td>Book Three: Fire</td>\n",
       "      <td>57</td>\n",
       "      <td>The Southern Raiders</td>\n",
       "      <td>0.0</td>\n",
       "      <td>NaN</td>\n",
       "      <td>-1.0</td>\n",
       "      <td>0.0</td>\n",
       "      <td>1.0</td>\n",
       "      <td>0.0</td>\n",
       "    </tr>\n",
       "    <tr>\n",
       "      <th>57</th>\n",
       "      <td>3.0</td>\n",
       "      <td>Book Three: Fire</td>\n",
       "      <td>58</td>\n",
       "      <td>The Ember Island Players</td>\n",
       "      <td>1.0</td>\n",
       "      <td>0.0</td>\n",
       "      <td>0.0</td>\n",
       "      <td>0.0</td>\n",
       "      <td>1.0</td>\n",
       "      <td>0.0</td>\n",
       "    </tr>\n",
       "    <tr>\n",
       "      <th>58</th>\n",
       "      <td>3.0</td>\n",
       "      <td>Book Three: Fire</td>\n",
       "      <td>59</td>\n",
       "      <td>Sozin's Comet, Part 1</td>\n",
       "      <td>0.0</td>\n",
       "      <td>NaN</td>\n",
       "      <td>0.0</td>\n",
       "      <td>0.0</td>\n",
       "      <td>0.0</td>\n",
       "      <td>0.0</td>\n",
       "    </tr>\n",
       "    <tr>\n",
       "      <th>59</th>\n",
       "      <td>3.0</td>\n",
       "      <td>Book Three: Fire</td>\n",
       "      <td>60</td>\n",
       "      <td>Sozin's Comet, Part 2</td>\n",
       "      <td>0.0</td>\n",
       "      <td>0.0</td>\n",
       "      <td>1.0</td>\n",
       "      <td>0.0</td>\n",
       "      <td>0.0</td>\n",
       "      <td>0.0</td>\n",
       "    </tr>\n",
       "    <tr>\n",
       "      <th>60</th>\n",
       "      <td>3.0</td>\n",
       "      <td>Book Three: Fire</td>\n",
       "      <td>61</td>\n",
       "      <td>Sozin's Comet, Part 3</td>\n",
       "      <td>0.0</td>\n",
       "      <td>-1.0</td>\n",
       "      <td>1.0</td>\n",
       "      <td>1.0</td>\n",
       "      <td>-1.0</td>\n",
       "      <td>-1.0</td>\n",
       "    </tr>\n",
       "  </tbody>\n",
       "</table>\n",
       "<p>61 rows × 10 columns</p>\n",
       "</div>"
      ],
      "text/plain": [
       "    book_num         book_name  episode_num              episode_name  Aang  \\\n",
       "0        1.0   Book One: Water            1    The Boy in the Iceberg   0.0   \n",
       "1        1.0   Book One: Water            2        The Avatar Returns   1.0   \n",
       "2        1.0   Book One: Water            3   The Southern Air Temple   1.0   \n",
       "3        1.0   Book One: Water            4    The Warriors of Kyoshi   1.0   \n",
       "4        1.0   Book One: Water            5        The King of Omashu   1.0   \n",
       "..       ...               ...          ...                       ...   ...   \n",
       "56       3.0  Book Three: Fire           57      The Southern Raiders   0.0   \n",
       "57       3.0  Book Three: Fire           58  The Ember Island Players   1.0   \n",
       "58       3.0  Book Three: Fire           59     Sozin's Comet, Part 1   0.0   \n",
       "59       3.0  Book Three: Fire           60     Sozin's Comet, Part 2   0.0   \n",
       "60       3.0  Book Three: Fire           61     Sozin's Comet, Part 3   0.0   \n",
       "\n",
       "    Iroh  Katara  Sokka  Toph  Zuko  \n",
       "0    0.0     0.0    0.0   NaN  -1.0  \n",
       "1    1.0     1.0    0.0   NaN  -1.0  \n",
       "2    1.0     0.0    0.0   NaN   0.0  \n",
       "3    0.0     0.0    0.0   NaN   1.0  \n",
       "4    NaN     0.0    1.0   NaN   NaN  \n",
       "..   ...     ...    ...   ...   ...  \n",
       "56   NaN    -1.0    0.0   1.0   0.0  \n",
       "57   0.0     0.0    0.0   1.0   0.0  \n",
       "58   NaN     0.0    0.0   0.0   0.0  \n",
       "59   0.0     1.0    0.0   0.0   0.0  \n",
       "60  -1.0     1.0    1.0  -1.0  -1.0  \n",
       "\n",
       "[61 rows x 10 columns]"
      ]
     },
     "execution_count": 9,
     "metadata": {},
     "output_type": "execute_result"
    }
   ],
   "source": [
    "atla_sentiment_df"
   ]
  },
  {
   "cell_type": "code",
   "execution_count": 10,
   "metadata": {},
   "outputs": [
    {
     "data": {
      "text/html": [
       "<div>\n",
       "<style scoped>\n",
       "    .dataframe tbody tr th:only-of-type {\n",
       "        vertical-align: middle;\n",
       "    }\n",
       "\n",
       "    .dataframe tbody tr th {\n",
       "        vertical-align: top;\n",
       "    }\n",
       "\n",
       "    .dataframe thead th {\n",
       "        text-align: right;\n",
       "    }\n",
       "</style>\n",
       "<table border=\"1\" class=\"dataframe\">\n",
       "  <thead>\n",
       "    <tr style=\"text-align: right;\">\n",
       "      <th></th>\n",
       "      <th>book_num</th>\n",
       "      <th>book_name</th>\n",
       "      <th>episode_num</th>\n",
       "      <th>episode_name</th>\n",
       "      <th>Aang</th>\n",
       "      <th>Iroh</th>\n",
       "      <th>Katara</th>\n",
       "      <th>Sokka</th>\n",
       "      <th>Toph</th>\n",
       "      <th>Zuko</th>\n",
       "    </tr>\n",
       "  </thead>\n",
       "  <tbody>\n",
       "    <tr>\n",
       "      <th>0</th>\n",
       "      <td>1.0</td>\n",
       "      <td>Book One: Water</td>\n",
       "      <td>1</td>\n",
       "      <td>The Boy in the Iceberg</td>\n",
       "      <td>0.0</td>\n",
       "      <td>0.0</td>\n",
       "      <td>0.0</td>\n",
       "      <td>0.0</td>\n",
       "      <td>NaN</td>\n",
       "      <td>-1.0</td>\n",
       "    </tr>\n",
       "    <tr>\n",
       "      <th>1</th>\n",
       "      <td>1.0</td>\n",
       "      <td>Book One: Water</td>\n",
       "      <td>2</td>\n",
       "      <td>The Avatar Returns</td>\n",
       "      <td>1.0</td>\n",
       "      <td>1.0</td>\n",
       "      <td>1.0</td>\n",
       "      <td>0.0</td>\n",
       "      <td>NaN</td>\n",
       "      <td>-1.0</td>\n",
       "    </tr>\n",
       "    <tr>\n",
       "      <th>2</th>\n",
       "      <td>1.0</td>\n",
       "      <td>Book One: Water</td>\n",
       "      <td>3</td>\n",
       "      <td>The Southern Air Temple</td>\n",
       "      <td>1.0</td>\n",
       "      <td>1.0</td>\n",
       "      <td>0.0</td>\n",
       "      <td>0.0</td>\n",
       "      <td>NaN</td>\n",
       "      <td>0.0</td>\n",
       "    </tr>\n",
       "    <tr>\n",
       "      <th>3</th>\n",
       "      <td>1.0</td>\n",
       "      <td>Book One: Water</td>\n",
       "      <td>4</td>\n",
       "      <td>The Warriors of Kyoshi</td>\n",
       "      <td>1.0</td>\n",
       "      <td>-1.0</td>\n",
       "      <td>0.0</td>\n",
       "      <td>0.0</td>\n",
       "      <td>NaN</td>\n",
       "      <td>1.0</td>\n",
       "    </tr>\n",
       "    <tr>\n",
       "      <th>4</th>\n",
       "      <td>1.0</td>\n",
       "      <td>Book One: Water</td>\n",
       "      <td>5</td>\n",
       "      <td>The King of Omashu</td>\n",
       "      <td>1.0</td>\n",
       "      <td>NaN</td>\n",
       "      <td>0.0</td>\n",
       "      <td>1.0</td>\n",
       "      <td>NaN</td>\n",
       "      <td>NaN</td>\n",
       "    </tr>\n",
       "    <tr>\n",
       "      <th>...</th>\n",
       "      <td>...</td>\n",
       "      <td>...</td>\n",
       "      <td>...</td>\n",
       "      <td>...</td>\n",
       "      <td>...</td>\n",
       "      <td>...</td>\n",
       "      <td>...</td>\n",
       "      <td>...</td>\n",
       "      <td>...</td>\n",
       "      <td>...</td>\n",
       "    </tr>\n",
       "    <tr>\n",
       "      <th>56</th>\n",
       "      <td>3.0</td>\n",
       "      <td>Book Three: Fire</td>\n",
       "      <td>57</td>\n",
       "      <td>The Southern Raiders</td>\n",
       "      <td>0.0</td>\n",
       "      <td>NaN</td>\n",
       "      <td>0.0</td>\n",
       "      <td>0.0</td>\n",
       "      <td>1.0</td>\n",
       "      <td>0.0</td>\n",
       "    </tr>\n",
       "    <tr>\n",
       "      <th>57</th>\n",
       "      <td>3.0</td>\n",
       "      <td>Book Three: Fire</td>\n",
       "      <td>58</td>\n",
       "      <td>The Ember Island Players</td>\n",
       "      <td>1.0</td>\n",
       "      <td>1.0</td>\n",
       "      <td>0.0</td>\n",
       "      <td>0.0</td>\n",
       "      <td>1.0</td>\n",
       "      <td>0.0</td>\n",
       "    </tr>\n",
       "    <tr>\n",
       "      <th>58</th>\n",
       "      <td>3.0</td>\n",
       "      <td>Book Three: Fire</td>\n",
       "      <td>59</td>\n",
       "      <td>Sozin's Comet, Part 1</td>\n",
       "      <td>0.0</td>\n",
       "      <td>NaN</td>\n",
       "      <td>0.0</td>\n",
       "      <td>0.0</td>\n",
       "      <td>1.0</td>\n",
       "      <td>0.0</td>\n",
       "    </tr>\n",
       "    <tr>\n",
       "      <th>59</th>\n",
       "      <td>3.0</td>\n",
       "      <td>Book Three: Fire</td>\n",
       "      <td>60</td>\n",
       "      <td>Sozin's Comet, Part 2</td>\n",
       "      <td>0.0</td>\n",
       "      <td>0.0</td>\n",
       "      <td>1.0</td>\n",
       "      <td>0.0</td>\n",
       "      <td>0.0</td>\n",
       "      <td>0.0</td>\n",
       "    </tr>\n",
       "    <tr>\n",
       "      <th>60</th>\n",
       "      <td>3.0</td>\n",
       "      <td>Book Three: Fire</td>\n",
       "      <td>61</td>\n",
       "      <td>Sozin's Comet, Part 3</td>\n",
       "      <td>1.0</td>\n",
       "      <td>-1.0</td>\n",
       "      <td>1.0</td>\n",
       "      <td>1.0</td>\n",
       "      <td>-1.0</td>\n",
       "      <td>0.0</td>\n",
       "    </tr>\n",
       "  </tbody>\n",
       "</table>\n",
       "<p>61 rows × 10 columns</p>\n",
       "</div>"
      ],
      "text/plain": [
       "    book_num         book_name  episode_num              episode_name  Aang  \\\n",
       "0        1.0   Book One: Water            1    The Boy in the Iceberg   0.0   \n",
       "1        1.0   Book One: Water            2        The Avatar Returns   1.0   \n",
       "2        1.0   Book One: Water            3   The Southern Air Temple   1.0   \n",
       "3        1.0   Book One: Water            4    The Warriors of Kyoshi   1.0   \n",
       "4        1.0   Book One: Water            5        The King of Omashu   1.0   \n",
       "..       ...               ...          ...                       ...   ...   \n",
       "56       3.0  Book Three: Fire           57      The Southern Raiders   0.0   \n",
       "57       3.0  Book Three: Fire           58  The Ember Island Players   1.0   \n",
       "58       3.0  Book Three: Fire           59     Sozin's Comet, Part 1   0.0   \n",
       "59       3.0  Book Three: Fire           60     Sozin's Comet, Part 2   0.0   \n",
       "60       3.0  Book Three: Fire           61     Sozin's Comet, Part 3   1.0   \n",
       "\n",
       "    Iroh  Katara  Sokka  Toph  Zuko  \n",
       "0    0.0     0.0    0.0   NaN  -1.0  \n",
       "1    1.0     1.0    0.0   NaN  -1.0  \n",
       "2    1.0     0.0    0.0   NaN   0.0  \n",
       "3   -1.0     0.0    0.0   NaN   1.0  \n",
       "4    NaN     0.0    1.0   NaN   NaN  \n",
       "..   ...     ...    ...   ...   ...  \n",
       "56   NaN     0.0    0.0   1.0   0.0  \n",
       "57   1.0     0.0    0.0   1.0   0.0  \n",
       "58   NaN     0.0    0.0   1.0   0.0  \n",
       "59   0.0     1.0    0.0   0.0   0.0  \n",
       "60  -1.0     1.0    1.0  -1.0   0.0  \n",
       "\n",
       "[61 rows x 10 columns]"
      ]
     },
     "execution_count": 10,
     "metadata": {},
     "output_type": "execute_result"
    }
   ],
   "source": [
    "atla_sentiment_df_spacy_tokenizer"
   ]
  },
  {
   "cell_type": "code",
   "execution_count": 11,
   "metadata": {},
   "outputs": [],
   "source": [
    "# Change the data frame format from wide to long.\n",
    "# Treat character names as variables and sentiment scores as values.\n",
    "atla_sentiment_df_long = atla_sentiment_df.melt(id_vars = ['book_num', 'book_name', 'episode_num', 'episode_name'], \n",
    "                                           var_name = 'character', value_name = 'sentiment')"
   ]
  },
  {
   "cell_type": "code",
   "execution_count": 13,
   "metadata": {},
   "outputs": [],
   "source": [
    "atla_sentiment_df_long.to_csv('/Users/justin/Documents/Personal/projects/atla_nlp/data/interim/atla_sentiment_df_long.csv')"
   ]
  },
  {
   "cell_type": "code",
   "execution_count": 14,
   "metadata": {},
   "outputs": [
    {
     "data": {
      "text/html": [
       "<div>\n",
       "<style scoped>\n",
       "    .dataframe tbody tr th:only-of-type {\n",
       "        vertical-align: middle;\n",
       "    }\n",
       "\n",
       "    .dataframe tbody tr th {\n",
       "        vertical-align: top;\n",
       "    }\n",
       "\n",
       "    .dataframe thead th {\n",
       "        text-align: right;\n",
       "    }\n",
       "</style>\n",
       "<table border=\"1\" class=\"dataframe\">\n",
       "  <thead>\n",
       "    <tr style=\"text-align: right;\">\n",
       "      <th></th>\n",
       "      <th>book_num</th>\n",
       "      <th>book_name</th>\n",
       "      <th>episode_num</th>\n",
       "      <th>episode_name</th>\n",
       "      <th>character</th>\n",
       "      <th>sentiment</th>\n",
       "    </tr>\n",
       "  </thead>\n",
       "  <tbody>\n",
       "    <tr>\n",
       "      <th>0</th>\n",
       "      <td>1.0</td>\n",
       "      <td>Book One: Water</td>\n",
       "      <td>1</td>\n",
       "      <td>The Boy in the Iceberg</td>\n",
       "      <td>Aang</td>\n",
       "      <td>0.0</td>\n",
       "    </tr>\n",
       "    <tr>\n",
       "      <th>1</th>\n",
       "      <td>1.0</td>\n",
       "      <td>Book One: Water</td>\n",
       "      <td>2</td>\n",
       "      <td>The Avatar Returns</td>\n",
       "      <td>Aang</td>\n",
       "      <td>1.0</td>\n",
       "    </tr>\n",
       "    <tr>\n",
       "      <th>2</th>\n",
       "      <td>1.0</td>\n",
       "      <td>Book One: Water</td>\n",
       "      <td>3</td>\n",
       "      <td>The Southern Air Temple</td>\n",
       "      <td>Aang</td>\n",
       "      <td>1.0</td>\n",
       "    </tr>\n",
       "    <tr>\n",
       "      <th>3</th>\n",
       "      <td>1.0</td>\n",
       "      <td>Book One: Water</td>\n",
       "      <td>4</td>\n",
       "      <td>The Warriors of Kyoshi</td>\n",
       "      <td>Aang</td>\n",
       "      <td>1.0</td>\n",
       "    </tr>\n",
       "    <tr>\n",
       "      <th>4</th>\n",
       "      <td>1.0</td>\n",
       "      <td>Book One: Water</td>\n",
       "      <td>5</td>\n",
       "      <td>The King of Omashu</td>\n",
       "      <td>Aang</td>\n",
       "      <td>1.0</td>\n",
       "    </tr>\n",
       "    <tr>\n",
       "      <th>...</th>\n",
       "      <td>...</td>\n",
       "      <td>...</td>\n",
       "      <td>...</td>\n",
       "      <td>...</td>\n",
       "      <td>...</td>\n",
       "      <td>...</td>\n",
       "    </tr>\n",
       "    <tr>\n",
       "      <th>361</th>\n",
       "      <td>3.0</td>\n",
       "      <td>Book Three: Fire</td>\n",
       "      <td>57</td>\n",
       "      <td>The Southern Raiders</td>\n",
       "      <td>Zuko</td>\n",
       "      <td>0.0</td>\n",
       "    </tr>\n",
       "    <tr>\n",
       "      <th>362</th>\n",
       "      <td>3.0</td>\n",
       "      <td>Book Three: Fire</td>\n",
       "      <td>58</td>\n",
       "      <td>The Ember Island Players</td>\n",
       "      <td>Zuko</td>\n",
       "      <td>0.0</td>\n",
       "    </tr>\n",
       "    <tr>\n",
       "      <th>363</th>\n",
       "      <td>3.0</td>\n",
       "      <td>Book Three: Fire</td>\n",
       "      <td>59</td>\n",
       "      <td>Sozin's Comet, Part 1</td>\n",
       "      <td>Zuko</td>\n",
       "      <td>0.0</td>\n",
       "    </tr>\n",
       "    <tr>\n",
       "      <th>364</th>\n",
       "      <td>3.0</td>\n",
       "      <td>Book Three: Fire</td>\n",
       "      <td>60</td>\n",
       "      <td>Sozin's Comet, Part 2</td>\n",
       "      <td>Zuko</td>\n",
       "      <td>0.0</td>\n",
       "    </tr>\n",
       "    <tr>\n",
       "      <th>365</th>\n",
       "      <td>3.0</td>\n",
       "      <td>Book Three: Fire</td>\n",
       "      <td>61</td>\n",
       "      <td>Sozin's Comet, Part 3</td>\n",
       "      <td>Zuko</td>\n",
       "      <td>-1.0</td>\n",
       "    </tr>\n",
       "  </tbody>\n",
       "</table>\n",
       "<p>366 rows × 6 columns</p>\n",
       "</div>"
      ],
      "text/plain": [
       "     book_num         book_name  episode_num              episode_name  \\\n",
       "0         1.0   Book One: Water            1    The Boy in the Iceberg   \n",
       "1         1.0   Book One: Water            2        The Avatar Returns   \n",
       "2         1.0   Book One: Water            3   The Southern Air Temple   \n",
       "3         1.0   Book One: Water            4    The Warriors of Kyoshi   \n",
       "4         1.0   Book One: Water            5        The King of Omashu   \n",
       "..        ...               ...          ...                       ...   \n",
       "361       3.0  Book Three: Fire           57      The Southern Raiders   \n",
       "362       3.0  Book Three: Fire           58  The Ember Island Players   \n",
       "363       3.0  Book Three: Fire           59     Sozin's Comet, Part 1   \n",
       "364       3.0  Book Three: Fire           60     Sozin's Comet, Part 2   \n",
       "365       3.0  Book Three: Fire           61     Sozin's Comet, Part 3   \n",
       "\n",
       "    character  sentiment  \n",
       "0        Aang        0.0  \n",
       "1        Aang        1.0  \n",
       "2        Aang        1.0  \n",
       "3        Aang        1.0  \n",
       "4        Aang        1.0  \n",
       "..        ...        ...  \n",
       "361      Zuko        0.0  \n",
       "362      Zuko        0.0  \n",
       "363      Zuko        0.0  \n",
       "364      Zuko        0.0  \n",
       "365      Zuko       -1.0  \n",
       "\n",
       "[366 rows x 6 columns]"
      ]
     },
     "execution_count": 14,
     "metadata": {},
     "output_type": "execute_result"
    }
   ],
   "source": [
    "atla_sentiment_df_long"
   ]
  },
  {
   "cell_type": "code",
   "execution_count": 15,
   "metadata": {},
   "outputs": [
    {
     "data": {
      "text/html": [
       "<div>\n",
       "<style scoped>\n",
       "    .dataframe tbody tr th:only-of-type {\n",
       "        vertical-align: middle;\n",
       "    }\n",
       "\n",
       "    .dataframe tbody tr th {\n",
       "        vertical-align: top;\n",
       "    }\n",
       "\n",
       "    .dataframe thead th {\n",
       "        text-align: right;\n",
       "    }\n",
       "</style>\n",
       "<table border=\"1\" class=\"dataframe\">\n",
       "  <thead>\n",
       "    <tr style=\"text-align: right;\">\n",
       "      <th></th>\n",
       "      <th></th>\n",
       "      <th>book_num</th>\n",
       "      <th>book_name</th>\n",
       "      <th>episode_num</th>\n",
       "      <th>episode_name</th>\n",
       "    </tr>\n",
       "    <tr>\n",
       "      <th>character</th>\n",
       "      <th>sentiment</th>\n",
       "      <th></th>\n",
       "      <th></th>\n",
       "      <th></th>\n",
       "      <th></th>\n",
       "    </tr>\n",
       "  </thead>\n",
       "  <tbody>\n",
       "    <tr>\n",
       "      <th rowspan=\"3\" valign=\"top\">Aang</th>\n",
       "      <th>-1.0</th>\n",
       "      <td>3</td>\n",
       "      <td>3</td>\n",
       "      <td>3</td>\n",
       "      <td>3</td>\n",
       "    </tr>\n",
       "    <tr>\n",
       "      <th>0.0</th>\n",
       "      <td>35</td>\n",
       "      <td>35</td>\n",
       "      <td>35</td>\n",
       "      <td>35</td>\n",
       "    </tr>\n",
       "    <tr>\n",
       "      <th>1.0</th>\n",
       "      <td>22</td>\n",
       "      <td>22</td>\n",
       "      <td>22</td>\n",
       "      <td>22</td>\n",
       "    </tr>\n",
       "    <tr>\n",
       "      <th rowspan=\"3\" valign=\"top\">Iroh</th>\n",
       "      <th>-1.0</th>\n",
       "      <td>5</td>\n",
       "      <td>5</td>\n",
       "      <td>5</td>\n",
       "      <td>5</td>\n",
       "    </tr>\n",
       "    <tr>\n",
       "      <th>0.0</th>\n",
       "      <td>13</td>\n",
       "      <td>13</td>\n",
       "      <td>13</td>\n",
       "      <td>13</td>\n",
       "    </tr>\n",
       "    <tr>\n",
       "      <th>1.0</th>\n",
       "      <td>18</td>\n",
       "      <td>18</td>\n",
       "      <td>18</td>\n",
       "      <td>18</td>\n",
       "    </tr>\n",
       "    <tr>\n",
       "      <th rowspan=\"3\" valign=\"top\">Katara</th>\n",
       "      <th>-1.0</th>\n",
       "      <td>3</td>\n",
       "      <td>3</td>\n",
       "      <td>3</td>\n",
       "      <td>3</td>\n",
       "    </tr>\n",
       "    <tr>\n",
       "      <th>0.0</th>\n",
       "      <td>38</td>\n",
       "      <td>38</td>\n",
       "      <td>38</td>\n",
       "      <td>38</td>\n",
       "    </tr>\n",
       "    <tr>\n",
       "      <th>1.0</th>\n",
       "      <td>17</td>\n",
       "      <td>17</td>\n",
       "      <td>17</td>\n",
       "      <td>17</td>\n",
       "    </tr>\n",
       "    <tr>\n",
       "      <th rowspan=\"3\" valign=\"top\">Sokka</th>\n",
       "      <th>-1.0</th>\n",
       "      <td>8</td>\n",
       "      <td>8</td>\n",
       "      <td>8</td>\n",
       "      <td>8</td>\n",
       "    </tr>\n",
       "    <tr>\n",
       "      <th>0.0</th>\n",
       "      <td>41</td>\n",
       "      <td>41</td>\n",
       "      <td>41</td>\n",
       "      <td>41</td>\n",
       "    </tr>\n",
       "    <tr>\n",
       "      <th>1.0</th>\n",
       "      <td>9</td>\n",
       "      <td>9</td>\n",
       "      <td>9</td>\n",
       "      <td>9</td>\n",
       "    </tr>\n",
       "    <tr>\n",
       "      <th rowspan=\"3\" valign=\"top\">Toph</th>\n",
       "      <th>-1.0</th>\n",
       "      <td>4</td>\n",
       "      <td>4</td>\n",
       "      <td>4</td>\n",
       "      <td>4</td>\n",
       "    </tr>\n",
       "    <tr>\n",
       "      <th>0.0</th>\n",
       "      <td>16</td>\n",
       "      <td>16</td>\n",
       "      <td>16</td>\n",
       "      <td>16</td>\n",
       "    </tr>\n",
       "    <tr>\n",
       "      <th>1.0</th>\n",
       "      <td>14</td>\n",
       "      <td>14</td>\n",
       "      <td>14</td>\n",
       "      <td>14</td>\n",
       "    </tr>\n",
       "    <tr>\n",
       "      <th rowspan=\"3\" valign=\"top\">Zuko</th>\n",
       "      <th>-1.0</th>\n",
       "      <td>15</td>\n",
       "      <td>15</td>\n",
       "      <td>15</td>\n",
       "      <td>15</td>\n",
       "    </tr>\n",
       "    <tr>\n",
       "      <th>0.0</th>\n",
       "      <td>25</td>\n",
       "      <td>25</td>\n",
       "      <td>25</td>\n",
       "      <td>25</td>\n",
       "    </tr>\n",
       "    <tr>\n",
       "      <th>1.0</th>\n",
       "      <td>6</td>\n",
       "      <td>6</td>\n",
       "      <td>6</td>\n",
       "      <td>6</td>\n",
       "    </tr>\n",
       "  </tbody>\n",
       "</table>\n",
       "</div>"
      ],
      "text/plain": [
       "                     book_num  book_name  episode_num  episode_name\n",
       "character sentiment                                                \n",
       "Aang      -1.0              3          3            3             3\n",
       "           0.0             35         35           35            35\n",
       "           1.0             22         22           22            22\n",
       "Iroh      -1.0              5          5            5             5\n",
       "           0.0             13         13           13            13\n",
       "           1.0             18         18           18            18\n",
       "Katara    -1.0              3          3            3             3\n",
       "           0.0             38         38           38            38\n",
       "           1.0             17         17           17            17\n",
       "Sokka     -1.0              8          8            8             8\n",
       "           0.0             41         41           41            41\n",
       "           1.0              9          9            9             9\n",
       "Toph      -1.0              4          4            4             4\n",
       "           0.0             16         16           16            16\n",
       "           1.0             14         14           14            14\n",
       "Zuko      -1.0             15         15           15            15\n",
       "           0.0             25         25           25            25\n",
       "           1.0              6          6            6             6"
      ]
     },
     "execution_count": 15,
     "metadata": {},
     "output_type": "execute_result"
    }
   ],
   "source": [
    "#count number of each sentiments per character\n",
    "atla_sentiment_df_long.groupby(['character', 'sentiment']).count()"
   ]
  },
  {
   "cell_type": "code",
   "execution_count": 16,
   "metadata": {},
   "outputs": [],
   "source": [
    "# Sort values by character (in the specified order below) and episode number.\n",
    "atla_sentiment_df_long['character'] = pd.Categorical(atla_sentiment_df_long['character'],\n",
    "                                                categories = ['Aang', 'Katara', 'Sokka', 'Toph', 'Iroh', 'Zuko'],\n",
    "                                                ordered = True)\n",
    "\n",
    "atla_sentiment_df_long = atla_sentiment_df_long.sort_values(['character', 'episode_num'])"
   ]
  },
  {
   "cell_type": "code",
   "execution_count": 17,
   "metadata": {},
   "outputs": [
    {
     "name": "stderr",
     "output_type": "stream",
     "text": [
      "/var/folders/lp/3w1h7dh93sj9snv205fctd600000gn/T/ipykernel_3274/2510075230.py:5: FutureWarning: Not prepending group keys to the result index of transform-like apply. In the future, the group keys will be included in the index, regardless of whether the applied function returns a like-indexed object.\n",
      "To preserve the previous behavior, use\n",
      "\n",
      "\t>>> .groupby(..., group_keys=False)\n",
      "\n",
      "To adopt the future behavior and silence this warning, use \n",
      "\n",
      "\t>>> .groupby(..., group_keys=True)\n",
      "  .apply(lambda x: x.cumsum()))\n"
     ]
    }
   ],
   "source": [
    "atla_total_sentiment_df = atla_sentiment_df_long.copy()\n",
    "\n",
    "# For each character, calculate running total of sentiment.\n",
    "atla_total_sentiment_df['sentiment'] = (atla_total_sentiment_df.groupby(['character'])['sentiment']\n",
    "                                          .apply(lambda x: x.cumsum()))\n",
    "\n",
    "# Rename column.\n",
    "atla_total_sentiment_df.rename(columns = {'sentiment': 'total_sentiment'}, inplace = True)"
   ]
  },
  {
   "cell_type": "code",
   "execution_count": 18,
   "metadata": {},
   "outputs": [
    {
     "data": {
      "text/html": [
       "<div>\n",
       "<style scoped>\n",
       "    .dataframe tbody tr th:only-of-type {\n",
       "        vertical-align: middle;\n",
       "    }\n",
       "\n",
       "    .dataframe tbody tr th {\n",
       "        vertical-align: top;\n",
       "    }\n",
       "\n",
       "    .dataframe thead th {\n",
       "        text-align: right;\n",
       "    }\n",
       "</style>\n",
       "<table border=\"1\" class=\"dataframe\">\n",
       "  <thead>\n",
       "    <tr style=\"text-align: right;\">\n",
       "      <th></th>\n",
       "      <th>book_num</th>\n",
       "      <th>book_name</th>\n",
       "      <th>episode_num</th>\n",
       "      <th>episode_name</th>\n",
       "      <th>character</th>\n",
       "      <th>total_sentiment</th>\n",
       "    </tr>\n",
       "  </thead>\n",
       "  <tbody>\n",
       "    <tr>\n",
       "      <th>0</th>\n",
       "      <td>1.0</td>\n",
       "      <td>Book One: Water</td>\n",
       "      <td>1</td>\n",
       "      <td>The Boy in the Iceberg</td>\n",
       "      <td>Aang</td>\n",
       "      <td>0.0</td>\n",
       "    </tr>\n",
       "    <tr>\n",
       "      <th>1</th>\n",
       "      <td>1.0</td>\n",
       "      <td>Book One: Water</td>\n",
       "      <td>2</td>\n",
       "      <td>The Avatar Returns</td>\n",
       "      <td>Aang</td>\n",
       "      <td>1.0</td>\n",
       "    </tr>\n",
       "    <tr>\n",
       "      <th>2</th>\n",
       "      <td>1.0</td>\n",
       "      <td>Book One: Water</td>\n",
       "      <td>3</td>\n",
       "      <td>The Southern Air Temple</td>\n",
       "      <td>Aang</td>\n",
       "      <td>2.0</td>\n",
       "    </tr>\n",
       "    <tr>\n",
       "      <th>3</th>\n",
       "      <td>1.0</td>\n",
       "      <td>Book One: Water</td>\n",
       "      <td>4</td>\n",
       "      <td>The Warriors of Kyoshi</td>\n",
       "      <td>Aang</td>\n",
       "      <td>3.0</td>\n",
       "    </tr>\n",
       "    <tr>\n",
       "      <th>4</th>\n",
       "      <td>1.0</td>\n",
       "      <td>Book One: Water</td>\n",
       "      <td>5</td>\n",
       "      <td>The King of Omashu</td>\n",
       "      <td>Aang</td>\n",
       "      <td>4.0</td>\n",
       "    </tr>\n",
       "    <tr>\n",
       "      <th>...</th>\n",
       "      <td>...</td>\n",
       "      <td>...</td>\n",
       "      <td>...</td>\n",
       "      <td>...</td>\n",
       "      <td>...</td>\n",
       "      <td>...</td>\n",
       "    </tr>\n",
       "    <tr>\n",
       "      <th>361</th>\n",
       "      <td>3.0</td>\n",
       "      <td>Book Three: Fire</td>\n",
       "      <td>57</td>\n",
       "      <td>The Southern Raiders</td>\n",
       "      <td>Zuko</td>\n",
       "      <td>-8.0</td>\n",
       "    </tr>\n",
       "    <tr>\n",
       "      <th>362</th>\n",
       "      <td>3.0</td>\n",
       "      <td>Book Three: Fire</td>\n",
       "      <td>58</td>\n",
       "      <td>The Ember Island Players</td>\n",
       "      <td>Zuko</td>\n",
       "      <td>-8.0</td>\n",
       "    </tr>\n",
       "    <tr>\n",
       "      <th>363</th>\n",
       "      <td>3.0</td>\n",
       "      <td>Book Three: Fire</td>\n",
       "      <td>59</td>\n",
       "      <td>Sozin's Comet, Part 1</td>\n",
       "      <td>Zuko</td>\n",
       "      <td>-8.0</td>\n",
       "    </tr>\n",
       "    <tr>\n",
       "      <th>364</th>\n",
       "      <td>3.0</td>\n",
       "      <td>Book Three: Fire</td>\n",
       "      <td>60</td>\n",
       "      <td>Sozin's Comet, Part 2</td>\n",
       "      <td>Zuko</td>\n",
       "      <td>-8.0</td>\n",
       "    </tr>\n",
       "    <tr>\n",
       "      <th>365</th>\n",
       "      <td>3.0</td>\n",
       "      <td>Book Three: Fire</td>\n",
       "      <td>61</td>\n",
       "      <td>Sozin's Comet, Part 3</td>\n",
       "      <td>Zuko</td>\n",
       "      <td>-9.0</td>\n",
       "    </tr>\n",
       "  </tbody>\n",
       "</table>\n",
       "<p>366 rows × 6 columns</p>\n",
       "</div>"
      ],
      "text/plain": [
       "     book_num         book_name  episode_num              episode_name  \\\n",
       "0         1.0   Book One: Water            1    The Boy in the Iceberg   \n",
       "1         1.0   Book One: Water            2        The Avatar Returns   \n",
       "2         1.0   Book One: Water            3   The Southern Air Temple   \n",
       "3         1.0   Book One: Water            4    The Warriors of Kyoshi   \n",
       "4         1.0   Book One: Water            5        The King of Omashu   \n",
       "..        ...               ...          ...                       ...   \n",
       "361       3.0  Book Three: Fire           57      The Southern Raiders   \n",
       "362       3.0  Book Three: Fire           58  The Ember Island Players   \n",
       "363       3.0  Book Three: Fire           59     Sozin's Comet, Part 1   \n",
       "364       3.0  Book Three: Fire           60     Sozin's Comet, Part 2   \n",
       "365       3.0  Book Three: Fire           61     Sozin's Comet, Part 3   \n",
       "\n",
       "    character  total_sentiment  \n",
       "0        Aang              0.0  \n",
       "1        Aang              1.0  \n",
       "2        Aang              2.0  \n",
       "3        Aang              3.0  \n",
       "4        Aang              4.0  \n",
       "..        ...              ...  \n",
       "361      Zuko             -8.0  \n",
       "362      Zuko             -8.0  \n",
       "363      Zuko             -8.0  \n",
       "364      Zuko             -8.0  \n",
       "365      Zuko             -9.0  \n",
       "\n",
       "[366 rows x 6 columns]"
      ]
     },
     "execution_count": 18,
     "metadata": {},
     "output_type": "execute_result"
    }
   ],
   "source": [
    "atla_total_sentiment_df"
   ]
  },
  {
   "cell_type": "code",
   "execution_count": 19,
   "metadata": {},
   "outputs": [
    {
     "data": {
      "text/plain": [
       " 0.0    35\n",
       " 1.0    22\n",
       "-1.0     3\n",
       "Name: sentiment, dtype: int64"
      ]
     },
     "execution_count": 19,
     "metadata": {},
     "output_type": "execute_result"
    }
   ],
   "source": [
    "atla_sentiment_df_long[atla_sentiment_df_long.character == 'Aang'].sentiment.value_counts()"
   ]
  },
  {
   "cell_type": "code",
   "execution_count": 20,
   "metadata": {},
   "outputs": [
    {
     "data": {
      "text/plain": [
       "244    NaN\n",
       "245    NaN\n",
       "246    NaN\n",
       "247    NaN\n",
       "248    NaN\n",
       "      ... \n",
       "300    1.0\n",
       "301    1.0\n",
       "302    0.0\n",
       "303    0.0\n",
       "304   -1.0\n",
       "Name: sentiment, Length: 61, dtype: float64"
      ]
     },
     "execution_count": 20,
     "metadata": {},
     "output_type": "execute_result"
    }
   ],
   "source": [
    "atla_sentiment_df_long[atla_sentiment_df_long.character == 'Toph'].sentiment"
   ]
  },
  {
   "cell_type": "code",
   "execution_count": 21,
   "metadata": {},
   "outputs": [
    {
     "data": {
      "text/plain": [
       "183    0.0\n",
       "184    0.0\n",
       "185    0.0\n",
       "186    0.0\n",
       "187    1.0\n",
       "      ... \n",
       "239    0.0\n",
       "240    0.0\n",
       "241    0.0\n",
       "242    0.0\n",
       "243    1.0\n",
       "Name: sentiment, Length: 61, dtype: float64"
      ]
     },
     "execution_count": 21,
     "metadata": {},
     "output_type": "execute_result"
    }
   ],
   "source": [
    "atla_sentiment_df_long[atla_sentiment_df_long.character == 'Sokka'].sentiment"
   ]
  },
  {
   "cell_type": "code",
   "execution_count": 22,
   "metadata": {},
   "outputs": [
    {
     "data": {
      "application/vnd.plotly.v1+json": {
       "config": {
        "plotlyServerURL": "https://plot.ly"
       },
       "data": [
        {
         "customdata": [
          [
           "The Boy in the Iceberg"
          ],
          [
           "The Avatar Returns"
          ],
          [
           "The Southern Air Temple"
          ],
          [
           "The Warriors of Kyoshi"
          ],
          [
           "The King of Omashu"
          ],
          [
           "Imprisoned"
          ],
          [
           "Winter Solstice, Part 1"
          ],
          [
           "Winter Solstice, Part 2"
          ],
          [
           "The Waterbending Scroll"
          ],
          [
           "Jet (episode)"
          ],
          [
           "The Great Divide"
          ],
          [
           "The Storm"
          ],
          [
           "The Blue Spirit"
          ],
          [
           "The Fortuneteller"
          ],
          [
           "Bato of the Water Tribe"
          ],
          [
           "The Deserter"
          ],
          [
           "The Northern Air Temple"
          ],
          [
           "The Waterbending Master"
          ],
          [
           "The Siege of the North, Part 1"
          ],
          [
           "The Siege of the North, Part 2"
          ],
          [
           "The Avatar State"
          ],
          [
           "The Cave of Two Lovers"
          ],
          [
           "Return to Omashu"
          ],
          [
           "The Swamp"
          ],
          [
           "Avatar Day"
          ],
          [
           "The Blind Bandit"
          ],
          [
           "Zuko Alone"
          ],
          [
           "The Chase"
          ],
          [
           "Bitter Work"
          ],
          [
           "The Library"
          ],
          [
           "The Desert"
          ],
          [
           "The Serpent's Pass"
          ],
          [
           "The Drill"
          ],
          [
           "City of Walls and Secrets"
          ],
          [
           "The Tales of Ba Sing Se"
          ],
          [
           "Appa's Lost Days"
          ],
          [
           "Lake Laogai (episode)"
          ],
          [
           "The Earth King"
          ],
          [
           "The Guru"
          ],
          [
           "The Crossroads of Destiny"
          ],
          [
           "Escape from the Spirit World"
          ],
          [
           "The Awakening"
          ],
          [
           "The Headband"
          ],
          [
           "The Painted Lady"
          ],
          [
           "Sokka's Master"
          ],
          [
           "The Beach"
          ],
          [
           "The Avatar and the Fire Lord"
          ],
          [
           "The Runaway"
          ],
          [
           "The Puppetmaster"
          ],
          [
           "Nightmares and Daydreams"
          ],
          [
           "The Day of Black Sun, Part 1"
          ],
          [
           "The Day of Black Sun, Part 2"
          ],
          [
           "The Western Air Temple"
          ],
          [
           "The Firebending Masters"
          ],
          [
           "The Boiling Rock, Part 1"
          ],
          [
           "The Boiling Rock, Part 2"
          ],
          [
           "The Southern Raiders"
          ],
          [
           "The Ember Island Players"
          ],
          [
           "Sozin's Comet, Part 1"
          ],
          [
           "Sozin's Comet, Part 2"
          ],
          [
           "Sozin's Comet, Part 3"
          ]
         ],
         "hovertemplate": "character=Aang<br>episode_num=%{x}<br>sentiment=%{y}<br>episode_name=%{customdata[0]}<extra></extra>",
         "legendgroup": "Aang",
         "marker": {
          "color": "#FF8F00",
          "symbol": "circle"
         },
         "mode": "markers",
         "name": "Aang",
         "orientation": "v",
         "showlegend": true,
         "type": "scatter",
         "x": [
          1,
          2,
          3,
          4,
          5,
          6,
          7,
          8,
          9,
          10,
          11,
          12,
          13,
          14,
          15,
          16,
          17,
          18,
          19,
          20,
          21,
          22,
          23,
          24,
          25,
          26,
          27,
          28,
          29,
          30,
          31,
          32,
          33,
          34,
          35,
          36,
          37,
          38,
          39,
          40,
          41,
          42,
          43,
          44,
          45,
          46,
          47,
          48,
          49,
          50,
          51,
          52,
          53,
          54,
          55,
          56,
          57,
          58,
          59,
          60,
          61
         ],
         "xaxis": "x",
         "y": [
          0,
          1,
          1,
          1,
          1,
          1,
          1,
          0,
          1,
          0,
          0,
          0,
          0,
          1,
          0,
          0,
          0,
          0,
          1,
          -1,
          0,
          1,
          0,
          0,
          1,
          0,
          null,
          0,
          0,
          1,
          0,
          0,
          0,
          0,
          1,
          0,
          0,
          1,
          1,
          1,
          0,
          -1,
          0,
          0,
          0,
          -1,
          1,
          0,
          1,
          0,
          0,
          1,
          1,
          0,
          1,
          0,
          0,
          1,
          0,
          0,
          0
         ],
         "yaxis": "y"
        },
        {
         "hovertemplate": "<b>LOWESS trendline</b><br><br>character=Aang<br>episode_num=%{x}<br>sentiment=%{y} <b>(trend)</b><extra></extra>",
         "legendgroup": "Aang",
         "marker": {
          "color": "#FF8F00",
          "symbol": "circle"
         },
         "mode": "lines",
         "name": "Aang",
         "showlegend": false,
         "type": "scatter",
         "x": [
          1,
          2,
          3,
          4,
          5,
          6,
          7,
          8,
          9,
          10,
          11,
          12,
          13,
          14,
          15,
          16,
          17,
          18,
          19,
          20,
          21,
          22,
          23,
          24,
          25,
          26,
          28,
          29,
          30,
          31,
          32,
          33,
          34,
          35,
          36,
          37,
          38,
          39,
          40,
          41,
          42,
          43,
          44,
          45,
          46,
          47,
          48,
          49,
          50,
          51,
          52,
          53,
          54,
          55,
          56,
          57,
          58,
          59,
          60,
          61
         ],
         "xaxis": "x",
         "y": [
          0.7456198969655394,
          0.7148963411740574,
          0.684729938762666,
          0.655200451144251,
          0.6263634227120701,
          0.5982461208754236,
          0.5708430669608004,
          0.5441108147349606,
          0.5179723639738065,
          0.4923450480699894,
          0.4671135177545267,
          0.4421547243382774,
          0.417347114118459,
          0.3925709870087061,
          0.36769651131436815,
          0.34253165377624045,
          0.31684755854137475,
          0.29042755434237333,
          0.2632873595874944,
          0.23652688399663602,
          0.2234294954952079,
          0.21515146079682412,
          0.2117191367625868,
          0.21226370460056893,
          0.21562639029798392,
          0.22050982308585365,
          0.22963675460124183,
          0.23258238771125833,
          0.23420141719844684,
          0.23500530408847847,
          0.23532444311855807,
          0.23531473258002397,
          0.23535359206620618,
          0.23583702563326195,
          0.2372803354760952,
          0.2402316057734238,
          0.244775139972727,
          0.2506427256875971,
          0.2575615368587757,
          0.26522842513886535,
          0.2728414850513704,
          0.2781681315673168,
          0.2804054836326975,
          0.28089313805030136,
          0.28042950361838304,
          0.2794684819734472,
          0.27829644619853683,
          0.2770722162747871,
          0.2758991899891915,
          0.27482519745197154,
          0.2738878844038793,
          0.27311582046714805,
          0.27249453039830696,
          0.2719765139677633,
          0.271514253370627,
          0.271041640958888,
          0.2705064174171924,
          0.2698684385645662,
          0.26906766912522373,
          0.2680593644249633
         ],
         "yaxis": "y"
        },
        {
         "customdata": [
          [
           "The Boy in the Iceberg"
          ],
          [
           "The Avatar Returns"
          ],
          [
           "The Southern Air Temple"
          ],
          [
           "The Warriors of Kyoshi"
          ],
          [
           "The King of Omashu"
          ],
          [
           "Imprisoned"
          ],
          [
           "Winter Solstice, Part 1"
          ],
          [
           "Winter Solstice, Part 2"
          ],
          [
           "The Waterbending Scroll"
          ],
          [
           "Jet (episode)"
          ],
          [
           "The Great Divide"
          ],
          [
           "The Storm"
          ],
          [
           "The Blue Spirit"
          ],
          [
           "The Fortuneteller"
          ],
          [
           "Bato of the Water Tribe"
          ],
          [
           "The Deserter"
          ],
          [
           "The Northern Air Temple"
          ],
          [
           "The Waterbending Master"
          ],
          [
           "The Siege of the North, Part 1"
          ],
          [
           "The Siege of the North, Part 2"
          ],
          [
           "The Avatar State"
          ],
          [
           "The Cave of Two Lovers"
          ],
          [
           "Return to Omashu"
          ],
          [
           "The Swamp"
          ],
          [
           "Avatar Day"
          ],
          [
           "The Blind Bandit"
          ],
          [
           "Zuko Alone"
          ],
          [
           "The Chase"
          ],
          [
           "Bitter Work"
          ],
          [
           "The Library"
          ],
          [
           "The Desert"
          ],
          [
           "The Serpent's Pass"
          ],
          [
           "The Drill"
          ],
          [
           "City of Walls and Secrets"
          ],
          [
           "The Tales of Ba Sing Se"
          ],
          [
           "Appa's Lost Days"
          ],
          [
           "Lake Laogai (episode)"
          ],
          [
           "The Earth King"
          ],
          [
           "The Guru"
          ],
          [
           "The Crossroads of Destiny"
          ],
          [
           "Escape from the Spirit World"
          ],
          [
           "The Awakening"
          ],
          [
           "The Headband"
          ],
          [
           "The Painted Lady"
          ],
          [
           "Sokka's Master"
          ],
          [
           "The Beach"
          ],
          [
           "The Avatar and the Fire Lord"
          ],
          [
           "The Runaway"
          ],
          [
           "The Puppetmaster"
          ],
          [
           "Nightmares and Daydreams"
          ],
          [
           "The Day of Black Sun, Part 1"
          ],
          [
           "The Day of Black Sun, Part 2"
          ],
          [
           "The Western Air Temple"
          ],
          [
           "The Firebending Masters"
          ],
          [
           "The Boiling Rock, Part 1"
          ],
          [
           "The Boiling Rock, Part 2"
          ],
          [
           "The Southern Raiders"
          ],
          [
           "The Ember Island Players"
          ],
          [
           "Sozin's Comet, Part 1"
          ],
          [
           "Sozin's Comet, Part 2"
          ],
          [
           "Sozin's Comet, Part 3"
          ]
         ],
         "hovertemplate": "character=Katara<br>episode_num=%{x}<br>sentiment=%{y}<br>episode_name=%{customdata[0]}<extra></extra>",
         "legendgroup": "Katara",
         "marker": {
          "color": "#40C4FF",
          "symbol": "circle"
         },
         "mode": "markers",
         "name": "Katara",
         "orientation": "v",
         "showlegend": true,
         "type": "scatter",
         "x": [
          1,
          2,
          3,
          4,
          5,
          6,
          7,
          8,
          9,
          10,
          11,
          12,
          13,
          14,
          15,
          16,
          17,
          18,
          19,
          20,
          21,
          22,
          23,
          24,
          25,
          26,
          27,
          28,
          29,
          30,
          31,
          32,
          33,
          34,
          35,
          36,
          37,
          38,
          39,
          40,
          41,
          42,
          43,
          44,
          45,
          46,
          47,
          48,
          49,
          50,
          51,
          52,
          53,
          54,
          55,
          56,
          57,
          58,
          59,
          60,
          61
         ],
         "xaxis": "x",
         "y": [
          0,
          1,
          0,
          0,
          0,
          0,
          1,
          0,
          0,
          0,
          -1,
          0,
          0,
          1,
          0,
          1,
          1,
          0,
          0,
          0,
          0,
          1,
          0,
          1,
          0,
          1,
          null,
          0,
          1,
          0,
          0,
          1,
          -1,
          0,
          1,
          null,
          0,
          0,
          0,
          0,
          null,
          0,
          0,
          1,
          0,
          1,
          0,
          0,
          0,
          1,
          1,
          0,
          0,
          0,
          0,
          0,
          -1,
          0,
          0,
          1,
          1
         ],
         "yaxis": "y"
        },
        {
         "hovertemplate": "<b>LOWESS trendline</b><br><br>character=Katara<br>episode_num=%{x}<br>sentiment=%{y} <b>(trend)</b><extra></extra>",
         "legendgroup": "Katara",
         "marker": {
          "color": "#40C4FF",
          "symbol": "circle"
         },
         "mode": "lines",
         "name": "Katara",
         "showlegend": false,
         "type": "scatter",
         "x": [
          1,
          2,
          3,
          4,
          5,
          6,
          7,
          8,
          9,
          10,
          11,
          12,
          13,
          14,
          15,
          16,
          17,
          18,
          19,
          20,
          21,
          22,
          23,
          24,
          25,
          26,
          28,
          29,
          30,
          31,
          32,
          33,
          34,
          35,
          37,
          38,
          39,
          40,
          42,
          43,
          44,
          45,
          46,
          47,
          48,
          49,
          50,
          51,
          52,
          53,
          54,
          55,
          56,
          57,
          58,
          59,
          60,
          61
         ],
         "xaxis": "x",
         "y": [
          0.025293451777842167,
          0.03399749039407027,
          0.04272738315923119,
          0.051466532258222696,
          0.060197119513360126,
          0.06890499105904233,
          0.07758070830696549,
          0.08621620369155959,
          0.09479128433263963,
          0.10328688606161106,
          0.11169129308027817,
          0.12000173354331119,
          0.12822429962051346,
          0.13638276358033893,
          0.1445216773473261,
          0.1526899024690875,
          0.16096252286492285,
          0.16941712452879062,
          0.17812493711674043,
          0.18718112405389362,
          0.19273391291184616,
          0.19643232480573902,
          0.19825540845633818,
          0.1982424273895431,
          0.196609221194417,
          0.193826252138323,
          0.18600248871957323,
          0.18144039259374015,
          0.17673943089212246,
          0.17203416830285417,
          0.16763172475602256,
          0.163990685425373,
          0.161139201639424,
          0.1586368266284271,
          0.15255306301230648,
          0.14770599756164315,
          0.1416841283692404,
          0.1349851170405032,
          0.1237932429945521,
          0.12094523662919666,
          0.11961037760806058,
          0.11949242485441702,
          0.12031813260876228,
          0.12187663322053745,
          0.12398938363152809,
          0.12652279248949494,
          0.12938273876543038,
          0.1324999216422836,
          0.13580449479296808,
          0.13922775938904525,
          0.14272300409286182,
          0.1462666760928128,
          0.14985492303906353,
          0.15350119255893896,
          0.15723246366442206,
          0.16108200263137823,
          0.16509574309648456,
          0.16932599480358468
         ],
         "yaxis": "y"
        },
        {
         "customdata": [
          [
           "The Boy in the Iceberg"
          ],
          [
           "The Avatar Returns"
          ],
          [
           "The Southern Air Temple"
          ],
          [
           "The Warriors of Kyoshi"
          ],
          [
           "The King of Omashu"
          ],
          [
           "Imprisoned"
          ],
          [
           "Winter Solstice, Part 1"
          ],
          [
           "Winter Solstice, Part 2"
          ],
          [
           "The Waterbending Scroll"
          ],
          [
           "Jet (episode)"
          ],
          [
           "The Great Divide"
          ],
          [
           "The Storm"
          ],
          [
           "The Blue Spirit"
          ],
          [
           "The Fortuneteller"
          ],
          [
           "Bato of the Water Tribe"
          ],
          [
           "The Deserter"
          ],
          [
           "The Northern Air Temple"
          ],
          [
           "The Waterbending Master"
          ],
          [
           "The Siege of the North, Part 1"
          ],
          [
           "The Siege of the North, Part 2"
          ],
          [
           "The Avatar State"
          ],
          [
           "The Cave of Two Lovers"
          ],
          [
           "Return to Omashu"
          ],
          [
           "The Swamp"
          ],
          [
           "Avatar Day"
          ],
          [
           "The Blind Bandit"
          ],
          [
           "Zuko Alone"
          ],
          [
           "The Chase"
          ],
          [
           "Bitter Work"
          ],
          [
           "The Library"
          ],
          [
           "The Desert"
          ],
          [
           "The Serpent's Pass"
          ],
          [
           "The Drill"
          ],
          [
           "City of Walls and Secrets"
          ],
          [
           "The Tales of Ba Sing Se"
          ],
          [
           "Appa's Lost Days"
          ],
          [
           "Lake Laogai (episode)"
          ],
          [
           "The Earth King"
          ],
          [
           "The Guru"
          ],
          [
           "The Crossroads of Destiny"
          ],
          [
           "Escape from the Spirit World"
          ],
          [
           "The Awakening"
          ],
          [
           "The Headband"
          ],
          [
           "The Painted Lady"
          ],
          [
           "Sokka's Master"
          ],
          [
           "The Beach"
          ],
          [
           "The Avatar and the Fire Lord"
          ],
          [
           "The Runaway"
          ],
          [
           "The Puppetmaster"
          ],
          [
           "Nightmares and Daydreams"
          ],
          [
           "The Day of Black Sun, Part 1"
          ],
          [
           "The Day of Black Sun, Part 2"
          ],
          [
           "The Western Air Temple"
          ],
          [
           "The Firebending Masters"
          ],
          [
           "The Boiling Rock, Part 1"
          ],
          [
           "The Boiling Rock, Part 2"
          ],
          [
           "The Southern Raiders"
          ],
          [
           "The Ember Island Players"
          ],
          [
           "Sozin's Comet, Part 1"
          ],
          [
           "Sozin's Comet, Part 2"
          ],
          [
           "Sozin's Comet, Part 3"
          ]
         ],
         "hovertemplate": "character=Sokka<br>episode_num=%{x}<br>sentiment=%{y}<br>episode_name=%{customdata[0]}<extra></extra>",
         "legendgroup": "Sokka",
         "marker": {
          "color": "#1E88E5",
          "symbol": "circle"
         },
         "mode": "markers",
         "name": "Sokka",
         "orientation": "v",
         "showlegend": true,
         "type": "scatter",
         "x": [
          1,
          2,
          3,
          4,
          5,
          6,
          7,
          8,
          9,
          10,
          11,
          12,
          13,
          14,
          15,
          16,
          17,
          18,
          19,
          20,
          21,
          22,
          23,
          24,
          25,
          26,
          27,
          28,
          29,
          30,
          31,
          32,
          33,
          34,
          35,
          36,
          37,
          38,
          39,
          40,
          41,
          42,
          43,
          44,
          45,
          46,
          47,
          48,
          49,
          50,
          51,
          52,
          53,
          54,
          55,
          56,
          57,
          58,
          59,
          60,
          61
         ],
         "xaxis": "x",
         "y": [
          0,
          0,
          0,
          0,
          1,
          0,
          0,
          0,
          0,
          0,
          1,
          0,
          0,
          0,
          0,
          0,
          -1,
          1,
          0,
          0,
          -1,
          0,
          -1,
          0,
          0,
          1,
          null,
          0,
          1,
          0,
          0,
          1,
          0,
          -1,
          1,
          null,
          0,
          1,
          -1,
          0,
          null,
          0,
          -1,
          0,
          0,
          -1,
          -1,
          0,
          0,
          0,
          0,
          0,
          0,
          0,
          0,
          0,
          0,
          0,
          0,
          0,
          1
         ],
         "yaxis": "y"
        },
        {
         "hovertemplate": "<b>LOWESS trendline</b><br><br>character=Sokka<br>episode_num=%{x}<br>sentiment=%{y} <b>(trend)</b><extra></extra>",
         "legendgroup": "Sokka",
         "marker": {
          "color": "#1E88E5",
          "symbol": "circle"
         },
         "mode": "lines",
         "name": "Sokka",
         "showlegend": false,
         "type": "scatter",
         "x": [
          1,
          2,
          3,
          4,
          5,
          6,
          7,
          8,
          9,
          10,
          11,
          12,
          13,
          14,
          15,
          16,
          17,
          18,
          19,
          20,
          21,
          22,
          23,
          24,
          25,
          26,
          28,
          29,
          30,
          31,
          32,
          33,
          34,
          35,
          37,
          38,
          39,
          40,
          42,
          43,
          44,
          45,
          46,
          47,
          48,
          49,
          50,
          51,
          52,
          53,
          54,
          55,
          56,
          57,
          58,
          59,
          60,
          61
         ],
         "xaxis": "x",
         "y": [
          0,
          0,
          0,
          0,
          0,
          0,
          0,
          0,
          0,
          0,
          0,
          0,
          0,
          0,
          0,
          0,
          0,
          0,
          0,
          0,
          0,
          0,
          0,
          0,
          0,
          0,
          0,
          0,
          0,
          0,
          0,
          0,
          0,
          0,
          0,
          0,
          0,
          0,
          0,
          0,
          0,
          0,
          0,
          0,
          0,
          0,
          0,
          0,
          0,
          0,
          0,
          0,
          0,
          0,
          0,
          0,
          0,
          0
         ],
         "yaxis": "y"
        },
        {
         "customdata": [
          [
           "The Boy in the Iceberg"
          ],
          [
           "The Avatar Returns"
          ],
          [
           "The Southern Air Temple"
          ],
          [
           "The Warriors of Kyoshi"
          ],
          [
           "The King of Omashu"
          ],
          [
           "Imprisoned"
          ],
          [
           "Winter Solstice, Part 1"
          ],
          [
           "Winter Solstice, Part 2"
          ],
          [
           "The Waterbending Scroll"
          ],
          [
           "Jet (episode)"
          ],
          [
           "The Great Divide"
          ],
          [
           "The Storm"
          ],
          [
           "The Blue Spirit"
          ],
          [
           "The Fortuneteller"
          ],
          [
           "Bato of the Water Tribe"
          ],
          [
           "The Deserter"
          ],
          [
           "The Northern Air Temple"
          ],
          [
           "The Waterbending Master"
          ],
          [
           "The Siege of the North, Part 1"
          ],
          [
           "The Siege of the North, Part 2"
          ],
          [
           "The Avatar State"
          ],
          [
           "The Cave of Two Lovers"
          ],
          [
           "Return to Omashu"
          ],
          [
           "The Swamp"
          ],
          [
           "Avatar Day"
          ],
          [
           "The Blind Bandit"
          ],
          [
           "Zuko Alone"
          ],
          [
           "The Chase"
          ],
          [
           "Bitter Work"
          ],
          [
           "The Library"
          ],
          [
           "The Desert"
          ],
          [
           "The Serpent's Pass"
          ],
          [
           "The Drill"
          ],
          [
           "City of Walls and Secrets"
          ],
          [
           "The Tales of Ba Sing Se"
          ],
          [
           "Appa's Lost Days"
          ],
          [
           "Lake Laogai (episode)"
          ],
          [
           "The Earth King"
          ],
          [
           "The Guru"
          ],
          [
           "The Crossroads of Destiny"
          ],
          [
           "Escape from the Spirit World"
          ],
          [
           "The Awakening"
          ],
          [
           "The Headband"
          ],
          [
           "The Painted Lady"
          ],
          [
           "Sokka's Master"
          ],
          [
           "The Beach"
          ],
          [
           "The Avatar and the Fire Lord"
          ],
          [
           "The Runaway"
          ],
          [
           "The Puppetmaster"
          ],
          [
           "Nightmares and Daydreams"
          ],
          [
           "The Day of Black Sun, Part 1"
          ],
          [
           "The Day of Black Sun, Part 2"
          ],
          [
           "The Western Air Temple"
          ],
          [
           "The Firebending Masters"
          ],
          [
           "The Boiling Rock, Part 1"
          ],
          [
           "The Boiling Rock, Part 2"
          ],
          [
           "The Southern Raiders"
          ],
          [
           "The Ember Island Players"
          ],
          [
           "Sozin's Comet, Part 1"
          ],
          [
           "Sozin's Comet, Part 2"
          ],
          [
           "Sozin's Comet, Part 3"
          ]
         ],
         "hovertemplate": "character=Toph<br>episode_num=%{x}<br>sentiment=%{y}<br>episode_name=%{customdata[0]}<extra></extra>",
         "legendgroup": "Toph",
         "marker": {
          "color": "#4CAF50",
          "symbol": "circle"
         },
         "mode": "markers",
         "name": "Toph",
         "orientation": "v",
         "showlegend": true,
         "type": "scatter",
         "x": [
          1,
          2,
          3,
          4,
          5,
          6,
          7,
          8,
          9,
          10,
          11,
          12,
          13,
          14,
          15,
          16,
          17,
          18,
          19,
          20,
          21,
          22,
          23,
          24,
          25,
          26,
          27,
          28,
          29,
          30,
          31,
          32,
          33,
          34,
          35,
          36,
          37,
          38,
          39,
          40,
          41,
          42,
          43,
          44,
          45,
          46,
          47,
          48,
          49,
          50,
          51,
          52,
          53,
          54,
          55,
          56,
          57,
          58,
          59,
          60,
          61
         ],
         "xaxis": "x",
         "y": [
          null,
          null,
          null,
          null,
          null,
          null,
          null,
          null,
          null,
          null,
          null,
          null,
          null,
          null,
          null,
          null,
          null,
          null,
          null,
          null,
          null,
          null,
          null,
          null,
          null,
          0,
          null,
          0,
          1,
          0,
          0,
          1,
          0,
          0,
          1,
          -1,
          -1,
          0,
          0,
          1,
          null,
          -1,
          0,
          0,
          0,
          1,
          1,
          0,
          0,
          1,
          1,
          1,
          0,
          1,
          1,
          1,
          1,
          1,
          0,
          0,
          -1
         ],
         "yaxis": "y"
        },
        {
         "hovertemplate": "<b>LOWESS trendline</b><br><br>character=Toph<br>episode_num=%{x}<br>sentiment=%{y} <b>(trend)</b><extra></extra>",
         "legendgroup": "Toph",
         "marker": {
          "color": "#4CAF50",
          "symbol": "circle"
         },
         "mode": "lines",
         "name": "Toph",
         "showlegend": false,
         "type": "scatter",
         "x": [
          26,
          28,
          29,
          30,
          31,
          32,
          33,
          34,
          35,
          36,
          37,
          38,
          39,
          40,
          42,
          43,
          44,
          45,
          46,
          47,
          48,
          49,
          50,
          51,
          52,
          53,
          54,
          55,
          56,
          57,
          58,
          59,
          60,
          61
         ],
         "xaxis": "x",
         "y": [
          0.2802111739017432,
          0.23453642780589376,
          0.21174235551491227,
          0.1895897919555973,
          0.1683312965596407,
          0.1482295152760938,
          0.1295428970973395,
          0.11210930149981421,
          0.09538201908918269,
          0.07803744259132266,
          0.0566795810743421,
          0.056278301427987065,
          0.03292863921718901,
          0.04493609168198427,
          0.10081773650946742,
          0.1494947299126441,
          0.20632273867263917,
          0.26813903074216316,
          0.33144084829459514,
          0.3922339632713573,
          0.4545416945474993,
          0.5210574796548078,
          0.5842175903478886,
          0.6035871949867746,
          0.5990919673583053,
          0.5860544422897317,
          0.5691597913038984,
          0.550247924482442,
          0.5299210932336571,
          0.5080654516810249,
          0.484132167375,
          0.45727566851139706,
          0.4265355763104752,
          0.39130150025765176
         ],
         "yaxis": "y"
        },
        {
         "customdata": [
          [
           "The Boy in the Iceberg"
          ],
          [
           "The Avatar Returns"
          ],
          [
           "The Southern Air Temple"
          ],
          [
           "The Warriors of Kyoshi"
          ],
          [
           "The King of Omashu"
          ],
          [
           "Imprisoned"
          ],
          [
           "Winter Solstice, Part 1"
          ],
          [
           "Winter Solstice, Part 2"
          ],
          [
           "The Waterbending Scroll"
          ],
          [
           "Jet (episode)"
          ],
          [
           "The Great Divide"
          ],
          [
           "The Storm"
          ],
          [
           "The Blue Spirit"
          ],
          [
           "The Fortuneteller"
          ],
          [
           "Bato of the Water Tribe"
          ],
          [
           "The Deserter"
          ],
          [
           "The Northern Air Temple"
          ],
          [
           "The Waterbending Master"
          ],
          [
           "The Siege of the North, Part 1"
          ],
          [
           "The Siege of the North, Part 2"
          ],
          [
           "The Avatar State"
          ],
          [
           "The Cave of Two Lovers"
          ],
          [
           "Return to Omashu"
          ],
          [
           "The Swamp"
          ],
          [
           "Avatar Day"
          ],
          [
           "The Blind Bandit"
          ],
          [
           "Zuko Alone"
          ],
          [
           "The Chase"
          ],
          [
           "Bitter Work"
          ],
          [
           "The Library"
          ],
          [
           "The Desert"
          ],
          [
           "The Serpent's Pass"
          ],
          [
           "The Drill"
          ],
          [
           "City of Walls and Secrets"
          ],
          [
           "The Tales of Ba Sing Se"
          ],
          [
           "Appa's Lost Days"
          ],
          [
           "Lake Laogai (episode)"
          ],
          [
           "The Earth King"
          ],
          [
           "The Guru"
          ],
          [
           "The Crossroads of Destiny"
          ],
          [
           "Escape from the Spirit World"
          ],
          [
           "The Awakening"
          ],
          [
           "The Headband"
          ],
          [
           "The Painted Lady"
          ],
          [
           "Sokka's Master"
          ],
          [
           "The Beach"
          ],
          [
           "The Avatar and the Fire Lord"
          ],
          [
           "The Runaway"
          ],
          [
           "The Puppetmaster"
          ],
          [
           "Nightmares and Daydreams"
          ],
          [
           "The Day of Black Sun, Part 1"
          ],
          [
           "The Day of Black Sun, Part 2"
          ],
          [
           "The Western Air Temple"
          ],
          [
           "The Firebending Masters"
          ],
          [
           "The Boiling Rock, Part 1"
          ],
          [
           "The Boiling Rock, Part 2"
          ],
          [
           "The Southern Raiders"
          ],
          [
           "The Ember Island Players"
          ],
          [
           "Sozin's Comet, Part 1"
          ],
          [
           "Sozin's Comet, Part 2"
          ],
          [
           "Sozin's Comet, Part 3"
          ]
         ],
         "hovertemplate": "character=Iroh<br>episode_num=%{x}<br>sentiment=%{y}<br>episode_name=%{customdata[0]}<extra></extra>",
         "legendgroup": "Iroh",
         "marker": {
          "color": "#B71C1C",
          "symbol": "circle"
         },
         "mode": "markers",
         "name": "Iroh",
         "orientation": "v",
         "showlegend": true,
         "type": "scatter",
         "x": [
          1,
          2,
          3,
          4,
          5,
          6,
          7,
          8,
          9,
          10,
          11,
          12,
          13,
          14,
          15,
          16,
          17,
          18,
          19,
          20,
          21,
          22,
          23,
          24,
          25,
          26,
          27,
          28,
          29,
          30,
          31,
          32,
          33,
          34,
          35,
          36,
          37,
          38,
          39,
          40,
          41,
          42,
          43,
          44,
          45,
          46,
          47,
          48,
          49,
          50,
          51,
          52,
          53,
          54,
          55,
          56,
          57,
          58,
          59,
          60,
          61
         ],
         "xaxis": "x",
         "y": [
          0,
          1,
          1,
          0,
          null,
          null,
          0,
          -1,
          1,
          null,
          null,
          -1,
          1,
          null,
          1,
          null,
          null,
          0,
          0,
          0,
          0,
          0,
          null,
          1,
          1,
          null,
          1,
          0,
          1,
          null,
          1,
          1,
          1,
          0,
          0,
          -1,
          1,
          1,
          1,
          1,
          null,
          null,
          null,
          null,
          null,
          null,
          -1,
          null,
          null,
          null,
          1,
          null,
          1,
          null,
          null,
          null,
          null,
          0,
          null,
          0,
          -1
         ],
         "yaxis": "y"
        },
        {
         "hovertemplate": "<b>LOWESS trendline</b><br><br>character=Iroh<br>episode_num=%{x}<br>sentiment=%{y} <b>(trend)</b><extra></extra>",
         "legendgroup": "Iroh",
         "marker": {
          "color": "#B71C1C",
          "symbol": "circle"
         },
         "mode": "lines",
         "name": "Iroh",
         "showlegend": false,
         "type": "scatter",
         "x": [
          1,
          2,
          3,
          4,
          7,
          8,
          9,
          12,
          13,
          15,
          18,
          19,
          20,
          21,
          22,
          24,
          25,
          27,
          28,
          29,
          31,
          32,
          33,
          34,
          35,
          36,
          37,
          38,
          39,
          40,
          47,
          51,
          53,
          58,
          60,
          61
         ],
         "xaxis": "x",
         "y": [
          0.3487773496474397,
          0.3431735799602289,
          0.33818390314780655,
          0.33381107884506384,
          0.3232590352623509,
          0.3202063805633375,
          0.31722679005336213,
          0.3086389692442559,
          0.30547670864771975,
          0.2974289764121553,
          0.32433336436959137,
          0.35594060732508104,
          0.3866305676311232,
          0.41354822085046555,
          0.43194695409401895,
          0.47166178396569924,
          0.48841705218749226,
          0.527165611389054,
          0.5487094400106441,
          0.5738017952006436,
          0.6270343741327813,
          0.6406032739580539,
          0.6647788175477379,
          0.6580336793738824,
          0.6597438559468983,
          0.6412519903786065,
          0.6256099223868645,
          0.6233268931497936,
          0.6183606880587275,
          0.6155367996379651,
          0.3873899736992787,
          0.2410128162211547,
          0.17290217085020498,
          0.006841277331520262,
          -0.06121868892245577,
          -0.09604964393449153
         ],
         "yaxis": "y"
        },
        {
         "customdata": [
          [
           "The Boy in the Iceberg"
          ],
          [
           "The Avatar Returns"
          ],
          [
           "The Southern Air Temple"
          ],
          [
           "The Warriors of Kyoshi"
          ],
          [
           "The King of Omashu"
          ],
          [
           "Imprisoned"
          ],
          [
           "Winter Solstice, Part 1"
          ],
          [
           "Winter Solstice, Part 2"
          ],
          [
           "The Waterbending Scroll"
          ],
          [
           "Jet (episode)"
          ],
          [
           "The Great Divide"
          ],
          [
           "The Storm"
          ],
          [
           "The Blue Spirit"
          ],
          [
           "The Fortuneteller"
          ],
          [
           "Bato of the Water Tribe"
          ],
          [
           "The Deserter"
          ],
          [
           "The Northern Air Temple"
          ],
          [
           "The Waterbending Master"
          ],
          [
           "The Siege of the North, Part 1"
          ],
          [
           "The Siege of the North, Part 2"
          ],
          [
           "The Avatar State"
          ],
          [
           "The Cave of Two Lovers"
          ],
          [
           "Return to Omashu"
          ],
          [
           "The Swamp"
          ],
          [
           "Avatar Day"
          ],
          [
           "The Blind Bandit"
          ],
          [
           "Zuko Alone"
          ],
          [
           "The Chase"
          ],
          [
           "Bitter Work"
          ],
          [
           "The Library"
          ],
          [
           "The Desert"
          ],
          [
           "The Serpent's Pass"
          ],
          [
           "The Drill"
          ],
          [
           "City of Walls and Secrets"
          ],
          [
           "The Tales of Ba Sing Se"
          ],
          [
           "Appa's Lost Days"
          ],
          [
           "Lake Laogai (episode)"
          ],
          [
           "The Earth King"
          ],
          [
           "The Guru"
          ],
          [
           "The Crossroads of Destiny"
          ],
          [
           "Escape from the Spirit World"
          ],
          [
           "The Awakening"
          ],
          [
           "The Headband"
          ],
          [
           "The Painted Lady"
          ],
          [
           "Sokka's Master"
          ],
          [
           "The Beach"
          ],
          [
           "The Avatar and the Fire Lord"
          ],
          [
           "The Runaway"
          ],
          [
           "The Puppetmaster"
          ],
          [
           "Nightmares and Daydreams"
          ],
          [
           "The Day of Black Sun, Part 1"
          ],
          [
           "The Day of Black Sun, Part 2"
          ],
          [
           "The Western Air Temple"
          ],
          [
           "The Firebending Masters"
          ],
          [
           "The Boiling Rock, Part 1"
          ],
          [
           "The Boiling Rock, Part 2"
          ],
          [
           "The Southern Raiders"
          ],
          [
           "The Ember Island Players"
          ],
          [
           "Sozin's Comet, Part 1"
          ],
          [
           "Sozin's Comet, Part 2"
          ],
          [
           "Sozin's Comet, Part 3"
          ]
         ],
         "hovertemplate": "character=Zuko<br>episode_num=%{x}<br>sentiment=%{y}<br>episode_name=%{customdata[0]}<extra></extra>",
         "legendgroup": "Zuko",
         "marker": {
          "color": "#F44336",
          "symbol": "circle"
         },
         "mode": "markers",
         "name": "Zuko",
         "orientation": "v",
         "showlegend": true,
         "type": "scatter",
         "x": [
          1,
          2,
          3,
          4,
          5,
          6,
          7,
          8,
          9,
          10,
          11,
          12,
          13,
          14,
          15,
          16,
          17,
          18,
          19,
          20,
          21,
          22,
          23,
          24,
          25,
          26,
          27,
          28,
          29,
          30,
          31,
          32,
          33,
          34,
          35,
          36,
          37,
          38,
          39,
          40,
          41,
          42,
          43,
          44,
          45,
          46,
          47,
          48,
          49,
          50,
          51,
          52,
          53,
          54,
          55,
          56,
          57,
          58,
          59,
          60,
          61
         ],
         "xaxis": "x",
         "y": [
          -1,
          -1,
          0,
          1,
          null,
          null,
          0,
          0,
          0,
          null,
          null,
          1,
          -1,
          null,
          -1,
          null,
          null,
          0,
          0,
          0,
          -1,
          0,
          null,
          -1,
          0,
          null,
          0,
          -1,
          1,
          null,
          1,
          -1,
          0,
          -1,
          0,
          0,
          1,
          -1,
          1,
          -1,
          null,
          0,
          0,
          null,
          null,
          0,
          0,
          null,
          null,
          0,
          -1,
          0,
          0,
          -1,
          -1,
          0,
          0,
          0,
          0,
          0,
          -1
         ],
         "yaxis": "y"
        },
        {
         "hovertemplate": "<b>LOWESS trendline</b><br><br>character=Zuko<br>episode_num=%{x}<br>sentiment=%{y} <b>(trend)</b><extra></extra>",
         "legendgroup": "Zuko",
         "marker": {
          "color": "#F44336",
          "symbol": "circle"
         },
         "mode": "lines",
         "name": "Zuko",
         "showlegend": false,
         "type": "scatter",
         "x": [
          1,
          2,
          3,
          4,
          7,
          8,
          9,
          12,
          13,
          15,
          18,
          19,
          20,
          21,
          22,
          24,
          25,
          27,
          28,
          29,
          31,
          32,
          33,
          34,
          35,
          36,
          37,
          38,
          39,
          40,
          42,
          43,
          46,
          47,
          50,
          51,
          52,
          53,
          54,
          55,
          56,
          57,
          58,
          59,
          60,
          61
         ],
         "xaxis": "x",
         "y": [
          -0.3322212555016314,
          -0.3264810356601779,
          -0.32105067110301805,
          -0.3158071186201458,
          -0.3001873817124025,
          -0.2947203768442395,
          -0.2890072104931318,
          -0.27047030502170993,
          -0.2640408331886944,
          -0.25166184211835935,
          -0.23883711532466362,
          -0.2393256827023991,
          -0.24556789534219373,
          -0.2505419571372632,
          -0.2546522901276172,
          -0.25425863652238984,
          -0.25373269588901154,
          -0.2467592457372001,
          -0.24046806055395478,
          -0.23312289612100567,
          -0.21749882079193808,
          -0.21236449757658135,
          -0.20625546176187587,
          -0.20085037009763998,
          -0.1959962546741739,
          -0.1911810216657624,
          -0.1852291513826743,
          -0.1809019129928552,
          -0.17881659450980983,
          -0.17863175068416773,
          -0.176499174666256,
          -0.17781296987681494,
          -0.18331242609019427,
          -0.18491770787958525,
          -0.19158803224183574,
          -0.19456432672741436,
          -0.1979251575171891,
          -0.2016286756672499,
          -0.20564477046338625,
          -0.20995183471895715,
          -0.21448951174340614,
          -0.21916757033803477,
          -0.2239191308780712,
          -0.2287105925054067,
          -0.2335397438024897,
          -0.2384349452391672
         ],
         "yaxis": "y"
        }
       ],
       "layout": {
        "height": 750,
        "legend": {
         "title": {
          "text": "Characters"
         },
         "tracegroupgap": 0
        },
        "margin": {
         "t": 60
        },
        "template": {
         "data": {
          "bar": [
           {
            "error_x": {
             "color": "#2a3f5f"
            },
            "error_y": {
             "color": "#2a3f5f"
            },
            "marker": {
             "line": {
              "color": "#E5ECF6",
              "width": 0.5
             },
             "pattern": {
              "fillmode": "overlay",
              "size": 10,
              "solidity": 0.2
             }
            },
            "type": "bar"
           }
          ],
          "barpolar": [
           {
            "marker": {
             "line": {
              "color": "#E5ECF6",
              "width": 0.5
             },
             "pattern": {
              "fillmode": "overlay",
              "size": 10,
              "solidity": 0.2
             }
            },
            "type": "barpolar"
           }
          ],
          "carpet": [
           {
            "aaxis": {
             "endlinecolor": "#2a3f5f",
             "gridcolor": "white",
             "linecolor": "white",
             "minorgridcolor": "white",
             "startlinecolor": "#2a3f5f"
            },
            "baxis": {
             "endlinecolor": "#2a3f5f",
             "gridcolor": "white",
             "linecolor": "white",
             "minorgridcolor": "white",
             "startlinecolor": "#2a3f5f"
            },
            "type": "carpet"
           }
          ],
          "choropleth": [
           {
            "colorbar": {
             "outlinewidth": 0,
             "ticks": ""
            },
            "type": "choropleth"
           }
          ],
          "contour": [
           {
            "colorbar": {
             "outlinewidth": 0,
             "ticks": ""
            },
            "colorscale": [
             [
              0,
              "#0d0887"
             ],
             [
              0.1111111111111111,
              "#46039f"
             ],
             [
              0.2222222222222222,
              "#7201a8"
             ],
             [
              0.3333333333333333,
              "#9c179e"
             ],
             [
              0.4444444444444444,
              "#bd3786"
             ],
             [
              0.5555555555555556,
              "#d8576b"
             ],
             [
              0.6666666666666666,
              "#ed7953"
             ],
             [
              0.7777777777777778,
              "#fb9f3a"
             ],
             [
              0.8888888888888888,
              "#fdca26"
             ],
             [
              1,
              "#f0f921"
             ]
            ],
            "type": "contour"
           }
          ],
          "contourcarpet": [
           {
            "colorbar": {
             "outlinewidth": 0,
             "ticks": ""
            },
            "type": "contourcarpet"
           }
          ],
          "heatmap": [
           {
            "colorbar": {
             "outlinewidth": 0,
             "ticks": ""
            },
            "colorscale": [
             [
              0,
              "#0d0887"
             ],
             [
              0.1111111111111111,
              "#46039f"
             ],
             [
              0.2222222222222222,
              "#7201a8"
             ],
             [
              0.3333333333333333,
              "#9c179e"
             ],
             [
              0.4444444444444444,
              "#bd3786"
             ],
             [
              0.5555555555555556,
              "#d8576b"
             ],
             [
              0.6666666666666666,
              "#ed7953"
             ],
             [
              0.7777777777777778,
              "#fb9f3a"
             ],
             [
              0.8888888888888888,
              "#fdca26"
             ],
             [
              1,
              "#f0f921"
             ]
            ],
            "type": "heatmap"
           }
          ],
          "heatmapgl": [
           {
            "colorbar": {
             "outlinewidth": 0,
             "ticks": ""
            },
            "colorscale": [
             [
              0,
              "#0d0887"
             ],
             [
              0.1111111111111111,
              "#46039f"
             ],
             [
              0.2222222222222222,
              "#7201a8"
             ],
             [
              0.3333333333333333,
              "#9c179e"
             ],
             [
              0.4444444444444444,
              "#bd3786"
             ],
             [
              0.5555555555555556,
              "#d8576b"
             ],
             [
              0.6666666666666666,
              "#ed7953"
             ],
             [
              0.7777777777777778,
              "#fb9f3a"
             ],
             [
              0.8888888888888888,
              "#fdca26"
             ],
             [
              1,
              "#f0f921"
             ]
            ],
            "type": "heatmapgl"
           }
          ],
          "histogram": [
           {
            "marker": {
             "pattern": {
              "fillmode": "overlay",
              "size": 10,
              "solidity": 0.2
             }
            },
            "type": "histogram"
           }
          ],
          "histogram2d": [
           {
            "colorbar": {
             "outlinewidth": 0,
             "ticks": ""
            },
            "colorscale": [
             [
              0,
              "#0d0887"
             ],
             [
              0.1111111111111111,
              "#46039f"
             ],
             [
              0.2222222222222222,
              "#7201a8"
             ],
             [
              0.3333333333333333,
              "#9c179e"
             ],
             [
              0.4444444444444444,
              "#bd3786"
             ],
             [
              0.5555555555555556,
              "#d8576b"
             ],
             [
              0.6666666666666666,
              "#ed7953"
             ],
             [
              0.7777777777777778,
              "#fb9f3a"
             ],
             [
              0.8888888888888888,
              "#fdca26"
             ],
             [
              1,
              "#f0f921"
             ]
            ],
            "type": "histogram2d"
           }
          ],
          "histogram2dcontour": [
           {
            "colorbar": {
             "outlinewidth": 0,
             "ticks": ""
            },
            "colorscale": [
             [
              0,
              "#0d0887"
             ],
             [
              0.1111111111111111,
              "#46039f"
             ],
             [
              0.2222222222222222,
              "#7201a8"
             ],
             [
              0.3333333333333333,
              "#9c179e"
             ],
             [
              0.4444444444444444,
              "#bd3786"
             ],
             [
              0.5555555555555556,
              "#d8576b"
             ],
             [
              0.6666666666666666,
              "#ed7953"
             ],
             [
              0.7777777777777778,
              "#fb9f3a"
             ],
             [
              0.8888888888888888,
              "#fdca26"
             ],
             [
              1,
              "#f0f921"
             ]
            ],
            "type": "histogram2dcontour"
           }
          ],
          "mesh3d": [
           {
            "colorbar": {
             "outlinewidth": 0,
             "ticks": ""
            },
            "type": "mesh3d"
           }
          ],
          "parcoords": [
           {
            "line": {
             "colorbar": {
              "outlinewidth": 0,
              "ticks": ""
             }
            },
            "type": "parcoords"
           }
          ],
          "pie": [
           {
            "automargin": true,
            "type": "pie"
           }
          ],
          "scatter": [
           {
            "fillpattern": {
             "fillmode": "overlay",
             "size": 10,
             "solidity": 0.2
            },
            "type": "scatter"
           }
          ],
          "scatter3d": [
           {
            "line": {
             "colorbar": {
              "outlinewidth": 0,
              "ticks": ""
             }
            },
            "marker": {
             "colorbar": {
              "outlinewidth": 0,
              "ticks": ""
             }
            },
            "type": "scatter3d"
           }
          ],
          "scattercarpet": [
           {
            "marker": {
             "colorbar": {
              "outlinewidth": 0,
              "ticks": ""
             }
            },
            "type": "scattercarpet"
           }
          ],
          "scattergeo": [
           {
            "marker": {
             "colorbar": {
              "outlinewidth": 0,
              "ticks": ""
             }
            },
            "type": "scattergeo"
           }
          ],
          "scattergl": [
           {
            "marker": {
             "colorbar": {
              "outlinewidth": 0,
              "ticks": ""
             }
            },
            "type": "scattergl"
           }
          ],
          "scattermapbox": [
           {
            "marker": {
             "colorbar": {
              "outlinewidth": 0,
              "ticks": ""
             }
            },
            "type": "scattermapbox"
           }
          ],
          "scatterpolar": [
           {
            "marker": {
             "colorbar": {
              "outlinewidth": 0,
              "ticks": ""
             }
            },
            "type": "scatterpolar"
           }
          ],
          "scatterpolargl": [
           {
            "marker": {
             "colorbar": {
              "outlinewidth": 0,
              "ticks": ""
             }
            },
            "type": "scatterpolargl"
           }
          ],
          "scatterternary": [
           {
            "marker": {
             "colorbar": {
              "outlinewidth": 0,
              "ticks": ""
             }
            },
            "type": "scatterternary"
           }
          ],
          "surface": [
           {
            "colorbar": {
             "outlinewidth": 0,
             "ticks": ""
            },
            "colorscale": [
             [
              0,
              "#0d0887"
             ],
             [
              0.1111111111111111,
              "#46039f"
             ],
             [
              0.2222222222222222,
              "#7201a8"
             ],
             [
              0.3333333333333333,
              "#9c179e"
             ],
             [
              0.4444444444444444,
              "#bd3786"
             ],
             [
              0.5555555555555556,
              "#d8576b"
             ],
             [
              0.6666666666666666,
              "#ed7953"
             ],
             [
              0.7777777777777778,
              "#fb9f3a"
             ],
             [
              0.8888888888888888,
              "#fdca26"
             ],
             [
              1,
              "#f0f921"
             ]
            ],
            "type": "surface"
           }
          ],
          "table": [
           {
            "cells": {
             "fill": {
              "color": "#EBF0F8"
             },
             "line": {
              "color": "white"
             }
            },
            "header": {
             "fill": {
              "color": "#C8D4E3"
             },
             "line": {
              "color": "white"
             }
            },
            "type": "table"
           }
          ]
         },
         "layout": {
          "annotationdefaults": {
           "arrowcolor": "#2a3f5f",
           "arrowhead": 0,
           "arrowwidth": 1
          },
          "autotypenumbers": "strict",
          "coloraxis": {
           "colorbar": {
            "outlinewidth": 0,
            "ticks": ""
           }
          },
          "colorscale": {
           "diverging": [
            [
             0,
             "#8e0152"
            ],
            [
             0.1,
             "#c51b7d"
            ],
            [
             0.2,
             "#de77ae"
            ],
            [
             0.3,
             "#f1b6da"
            ],
            [
             0.4,
             "#fde0ef"
            ],
            [
             0.5,
             "#f7f7f7"
            ],
            [
             0.6,
             "#e6f5d0"
            ],
            [
             0.7,
             "#b8e186"
            ],
            [
             0.8,
             "#7fbc41"
            ],
            [
             0.9,
             "#4d9221"
            ],
            [
             1,
             "#276419"
            ]
           ],
           "sequential": [
            [
             0,
             "#0d0887"
            ],
            [
             0.1111111111111111,
             "#46039f"
            ],
            [
             0.2222222222222222,
             "#7201a8"
            ],
            [
             0.3333333333333333,
             "#9c179e"
            ],
            [
             0.4444444444444444,
             "#bd3786"
            ],
            [
             0.5555555555555556,
             "#d8576b"
            ],
            [
             0.6666666666666666,
             "#ed7953"
            ],
            [
             0.7777777777777778,
             "#fb9f3a"
            ],
            [
             0.8888888888888888,
             "#fdca26"
            ],
            [
             1,
             "#f0f921"
            ]
           ],
           "sequentialminus": [
            [
             0,
             "#0d0887"
            ],
            [
             0.1111111111111111,
             "#46039f"
            ],
            [
             0.2222222222222222,
             "#7201a8"
            ],
            [
             0.3333333333333333,
             "#9c179e"
            ],
            [
             0.4444444444444444,
             "#bd3786"
            ],
            [
             0.5555555555555556,
             "#d8576b"
            ],
            [
             0.6666666666666666,
             "#ed7953"
            ],
            [
             0.7777777777777778,
             "#fb9f3a"
            ],
            [
             0.8888888888888888,
             "#fdca26"
            ],
            [
             1,
             "#f0f921"
            ]
           ]
          },
          "colorway": [
           "#636efa",
           "#EF553B",
           "#00cc96",
           "#ab63fa",
           "#FFA15A",
           "#19d3f3",
           "#FF6692",
           "#B6E880",
           "#FF97FF",
           "#FECB52"
          ],
          "font": {
           "color": "#2a3f5f"
          },
          "geo": {
           "bgcolor": "white",
           "lakecolor": "white",
           "landcolor": "#E5ECF6",
           "showlakes": true,
           "showland": true,
           "subunitcolor": "white"
          },
          "hoverlabel": {
           "align": "left"
          },
          "hovermode": "closest",
          "mapbox": {
           "style": "light"
          },
          "paper_bgcolor": "white",
          "plot_bgcolor": "#E5ECF6",
          "polar": {
           "angularaxis": {
            "gridcolor": "white",
            "linecolor": "white",
            "ticks": ""
           },
           "bgcolor": "#E5ECF6",
           "radialaxis": {
            "gridcolor": "white",
            "linecolor": "white",
            "ticks": ""
           }
          },
          "scene": {
           "xaxis": {
            "backgroundcolor": "#E5ECF6",
            "gridcolor": "white",
            "gridwidth": 2,
            "linecolor": "white",
            "showbackground": true,
            "ticks": "",
            "zerolinecolor": "white"
           },
           "yaxis": {
            "backgroundcolor": "#E5ECF6",
            "gridcolor": "white",
            "gridwidth": 2,
            "linecolor": "white",
            "showbackground": true,
            "ticks": "",
            "zerolinecolor": "white"
           },
           "zaxis": {
            "backgroundcolor": "#E5ECF6",
            "gridcolor": "white",
            "gridwidth": 2,
            "linecolor": "white",
            "showbackground": true,
            "ticks": "",
            "zerolinecolor": "white"
           }
          },
          "shapedefaults": {
           "line": {
            "color": "#2a3f5f"
           }
          },
          "ternary": {
           "aaxis": {
            "gridcolor": "white",
            "linecolor": "white",
            "ticks": ""
           },
           "baxis": {
            "gridcolor": "white",
            "linecolor": "white",
            "ticks": ""
           },
           "bgcolor": "#E5ECF6",
           "caxis": {
            "gridcolor": "white",
            "linecolor": "white",
            "ticks": ""
           }
          },
          "title": {
           "x": 0.05
          },
          "xaxis": {
           "automargin": true,
           "gridcolor": "white",
           "linecolor": "white",
           "ticks": "",
           "title": {
            "standoff": 15
           },
           "zerolinecolor": "white",
           "zerolinewidth": 2
          },
          "yaxis": {
           "automargin": true,
           "gridcolor": "white",
           "linecolor": "white",
           "ticks": "",
           "title": {
            "standoff": 15
           },
           "zerolinecolor": "white",
           "zerolinewidth": 2
          }
         }
        },
        "title": {
         "text": "Sentiments per episode",
         "x": 0.5,
         "xanchor": "center"
        },
        "width": 950,
        "xaxis": {
         "anchor": "y",
         "domain": [
          0,
          1
         ],
         "title": {
          "text": "Episode number"
         }
        },
        "yaxis": {
         "anchor": "x",
         "domain": [
          0,
          1
         ],
         "title": {
          "text": "Sentiment"
         }
        }
       }
      }
     },
     "metadata": {},
     "output_type": "display_data"
    }
   ],
   "source": [
    "# Plot sentiment per episode, per character.\n",
    "legend_colors = ['#FF8F00', '#40C4FF', '#1E88E5', '#4CAF50', '#B71C1C', '#F44336']\n",
    "                 \n",
    "sentiment_fig = px.scatter(atla_sentiment_df_long, x = 'episode_num', y = 'sentiment',\n",
    "                           color = 'character',\n",
    "                           color_discrete_sequence = legend_colors,\n",
    "                           hover_data = ['episode_name'],\n",
    "                           trendline = 'lowess',\n",
    "                           width = 950, height = 750)\n",
    "\n",
    "# Customize titles.\n",
    "sentiment_fig.update_layout(title = {'text': \"Sentiments per episode\",\n",
    "                                     'x': 0.5,\n",
    "                                     'xanchor': 'center'},\n",
    "                            xaxis_title = \"Episode number\",\n",
    "                            yaxis_title = \"Sentiment\",\n",
    "                            legend_title = \"Characters\")\n",
    "\n",
    "# Correct position of x points.\n",
    "for scatter, trendline in zip(sentiment_fig.data[::2], sentiment_fig.data[1::2]):\n",
    "    trendline['x'] = scatter['x'][np.logical_not(np.isnan(scatter['y']))]\n",
    "    \n",
    "sentiment_fig.show()"
   ]
  },
  {
   "cell_type": "code",
   "execution_count": 23,
   "metadata": {},
   "outputs": [
    {
     "data": {
      "application/vnd.plotly.v1+json": {
       "config": {
        "plotlyServerURL": "https://plot.ly"
       },
       "data": [
        {
         "customdata": [
          [
           "The Boy in the Iceberg"
          ],
          [
           "The Avatar Returns"
          ],
          [
           "The Southern Air Temple"
          ],
          [
           "The Warriors of Kyoshi"
          ],
          [
           "The King of Omashu"
          ],
          [
           "Imprisoned"
          ],
          [
           "Winter Solstice, Part 1"
          ],
          [
           "Winter Solstice, Part 2"
          ],
          [
           "The Waterbending Scroll"
          ],
          [
           "Jet (episode)"
          ],
          [
           "The Great Divide"
          ],
          [
           "The Storm"
          ],
          [
           "The Blue Spirit"
          ],
          [
           "The Fortuneteller"
          ],
          [
           "Bato of the Water Tribe"
          ],
          [
           "The Deserter"
          ],
          [
           "The Northern Air Temple"
          ],
          [
           "The Waterbending Master"
          ],
          [
           "The Siege of the North, Part 1"
          ],
          [
           "The Siege of the North, Part 2"
          ],
          [
           "The Avatar State"
          ],
          [
           "The Cave of Two Lovers"
          ],
          [
           "Return to Omashu"
          ],
          [
           "The Swamp"
          ],
          [
           "Avatar Day"
          ],
          [
           "The Blind Bandit"
          ],
          [
           "Zuko Alone"
          ],
          [
           "The Chase"
          ],
          [
           "Bitter Work"
          ],
          [
           "The Library"
          ],
          [
           "The Desert"
          ],
          [
           "The Serpent's Pass"
          ],
          [
           "The Drill"
          ],
          [
           "City of Walls and Secrets"
          ],
          [
           "The Tales of Ba Sing Se"
          ],
          [
           "Appa's Lost Days"
          ],
          [
           "Lake Laogai (episode)"
          ],
          [
           "The Earth King"
          ],
          [
           "The Guru"
          ],
          [
           "The Crossroads of Destiny"
          ],
          [
           "Escape from the Spirit World"
          ],
          [
           "The Awakening"
          ],
          [
           "The Headband"
          ],
          [
           "The Painted Lady"
          ],
          [
           "Sokka's Master"
          ],
          [
           "The Beach"
          ],
          [
           "The Avatar and the Fire Lord"
          ],
          [
           "The Runaway"
          ],
          [
           "The Puppetmaster"
          ],
          [
           "Nightmares and Daydreams"
          ],
          [
           "The Day of Black Sun, Part 1"
          ],
          [
           "The Day of Black Sun, Part 2"
          ],
          [
           "The Western Air Temple"
          ],
          [
           "The Firebending Masters"
          ],
          [
           "The Boiling Rock, Part 1"
          ],
          [
           "The Boiling Rock, Part 2"
          ],
          [
           "The Southern Raiders"
          ],
          [
           "The Ember Island Players"
          ],
          [
           "Sozin's Comet, Part 1"
          ],
          [
           "Sozin's Comet, Part 2"
          ],
          [
           "Sozin's Comet, Part 3"
          ]
         ],
         "hovertemplate": "character=Aang<br>episode_num=%{x}<br>total_sentiment=%{y}<br>episode_name=%{customdata[0]}<extra></extra>",
         "legendgroup": "Aang",
         "marker": {
          "color": "#FF8F00",
          "symbol": "circle"
         },
         "mode": "markers",
         "name": "Aang",
         "orientation": "v",
         "showlegend": true,
         "type": "scatter",
         "x": [
          1,
          2,
          3,
          4,
          5,
          6,
          7,
          8,
          9,
          10,
          11,
          12,
          13,
          14,
          15,
          16,
          17,
          18,
          19,
          20,
          21,
          22,
          23,
          24,
          25,
          26,
          27,
          28,
          29,
          30,
          31,
          32,
          33,
          34,
          35,
          36,
          37,
          38,
          39,
          40,
          41,
          42,
          43,
          44,
          45,
          46,
          47,
          48,
          49,
          50,
          51,
          52,
          53,
          54,
          55,
          56,
          57,
          58,
          59,
          60,
          61
         ],
         "xaxis": "x",
         "y": [
          0,
          1,
          2,
          3,
          4,
          5,
          6,
          6,
          7,
          7,
          7,
          7,
          7,
          8,
          8,
          8,
          8,
          8,
          9,
          8,
          8,
          9,
          9,
          9,
          10,
          10,
          null,
          10,
          10,
          11,
          11,
          11,
          11,
          11,
          12,
          12,
          12,
          13,
          14,
          15,
          15,
          14,
          14,
          14,
          14,
          13,
          14,
          14,
          15,
          15,
          15,
          16,
          17,
          17,
          18,
          18,
          18,
          19,
          19,
          19,
          19
         ],
         "yaxis": "y"
        },
        {
         "hovertemplate": "<b>LOWESS trendline</b><br><br>character=Aang<br>episode_num=%{x}<br>total_sentiment=%{y} <b>(trend)</b><extra></extra>",
         "legendgroup": "Aang",
         "marker": {
          "color": "#FF8F00",
          "symbol": "circle"
         },
         "mode": "lines",
         "name": "Aang",
         "showlegend": false,
         "type": "scatter",
         "x": [
          1,
          2,
          3,
          4,
          5,
          6,
          7,
          8,
          9,
          10,
          11,
          12,
          13,
          14,
          15,
          16,
          17,
          18,
          19,
          20,
          21,
          22,
          23,
          24,
          25,
          26,
          28,
          29,
          30,
          31,
          32,
          33,
          34,
          35,
          36,
          37,
          38,
          39,
          40,
          41,
          42,
          43,
          44,
          45,
          46,
          47,
          48,
          49,
          50,
          51,
          52,
          53,
          54,
          55,
          56,
          57,
          58,
          59,
          60,
          61
         ],
         "xaxis": "x",
         "y": [
          4.2828756688966285,
          4.517337950350952,
          4.750413372351879,
          4.982032365977327,
          5.212157930167334,
          5.440856059472637,
          5.668317151948403,
          5.894802513472139,
          6.120577146076452,
          6.34589932191685,
          6.570982233617775,
          6.795983881607064,
          7.021009964379498,
          7.246119146113284,
          7.471315076661968,
          7.696478499627771,
          7.921311761519863,
          8.145263663552782,
          8.367372124745382,
          8.585864379363041,
          8.79590081408317,
          9.00500480888583,
          9.213944833447869,
          9.424048486993577,
          9.637147897469525,
          9.854762028850969,
          10.303522349102128,
          10.532416107576484,
          10.76245166154059,
          10.992638460602112,
          11.222251815201238,
          11.450813268784161,
          11.67839736814504,
          11.905773266031868,
          12.134284164067047,
          12.365757007591798,
          12.601973688526328,
          12.844268205200038,
          13.09356424894605,
          13.350617431370692,
          13.615477850488737,
          13.903856558570201,
          14.193677438972454,
          14.481973991865175,
          14.768357956821756,
          15.053114933014264,
          15.336640275969376,
          15.619323687993363,
          15.90152971506227,
          16.18359252098332,
          16.465829959376087,
          16.748548445031332,
          17.03202354660458,
          17.31647664097587,
          17.602082622711894,
          17.88895386099213,
          18.177154440669003,
          18.4667138651924,
          18.75760755213528,
          19.049767508416643
         ],
         "yaxis": "y"
        },
        {
         "customdata": [
          [
           "The Boy in the Iceberg"
          ],
          [
           "The Avatar Returns"
          ],
          [
           "The Southern Air Temple"
          ],
          [
           "The Warriors of Kyoshi"
          ],
          [
           "The King of Omashu"
          ],
          [
           "Imprisoned"
          ],
          [
           "Winter Solstice, Part 1"
          ],
          [
           "Winter Solstice, Part 2"
          ],
          [
           "The Waterbending Scroll"
          ],
          [
           "Jet (episode)"
          ],
          [
           "The Great Divide"
          ],
          [
           "The Storm"
          ],
          [
           "The Blue Spirit"
          ],
          [
           "The Fortuneteller"
          ],
          [
           "Bato of the Water Tribe"
          ],
          [
           "The Deserter"
          ],
          [
           "The Northern Air Temple"
          ],
          [
           "The Waterbending Master"
          ],
          [
           "The Siege of the North, Part 1"
          ],
          [
           "The Siege of the North, Part 2"
          ],
          [
           "The Avatar State"
          ],
          [
           "The Cave of Two Lovers"
          ],
          [
           "Return to Omashu"
          ],
          [
           "The Swamp"
          ],
          [
           "Avatar Day"
          ],
          [
           "The Blind Bandit"
          ],
          [
           "Zuko Alone"
          ],
          [
           "The Chase"
          ],
          [
           "Bitter Work"
          ],
          [
           "The Library"
          ],
          [
           "The Desert"
          ],
          [
           "The Serpent's Pass"
          ],
          [
           "The Drill"
          ],
          [
           "City of Walls and Secrets"
          ],
          [
           "The Tales of Ba Sing Se"
          ],
          [
           "Appa's Lost Days"
          ],
          [
           "Lake Laogai (episode)"
          ],
          [
           "The Earth King"
          ],
          [
           "The Guru"
          ],
          [
           "The Crossroads of Destiny"
          ],
          [
           "Escape from the Spirit World"
          ],
          [
           "The Awakening"
          ],
          [
           "The Headband"
          ],
          [
           "The Painted Lady"
          ],
          [
           "Sokka's Master"
          ],
          [
           "The Beach"
          ],
          [
           "The Avatar and the Fire Lord"
          ],
          [
           "The Runaway"
          ],
          [
           "The Puppetmaster"
          ],
          [
           "Nightmares and Daydreams"
          ],
          [
           "The Day of Black Sun, Part 1"
          ],
          [
           "The Day of Black Sun, Part 2"
          ],
          [
           "The Western Air Temple"
          ],
          [
           "The Firebending Masters"
          ],
          [
           "The Boiling Rock, Part 1"
          ],
          [
           "The Boiling Rock, Part 2"
          ],
          [
           "The Southern Raiders"
          ],
          [
           "The Ember Island Players"
          ],
          [
           "Sozin's Comet, Part 1"
          ],
          [
           "Sozin's Comet, Part 2"
          ],
          [
           "Sozin's Comet, Part 3"
          ]
         ],
         "hovertemplate": "character=Katara<br>episode_num=%{x}<br>total_sentiment=%{y}<br>episode_name=%{customdata[0]}<extra></extra>",
         "legendgroup": "Katara",
         "marker": {
          "color": "#40C4FF",
          "symbol": "circle"
         },
         "mode": "markers",
         "name": "Katara",
         "orientation": "v",
         "showlegend": true,
         "type": "scatter",
         "x": [
          1,
          2,
          3,
          4,
          5,
          6,
          7,
          8,
          9,
          10,
          11,
          12,
          13,
          14,
          15,
          16,
          17,
          18,
          19,
          20,
          21,
          22,
          23,
          24,
          25,
          26,
          27,
          28,
          29,
          30,
          31,
          32,
          33,
          34,
          35,
          36,
          37,
          38,
          39,
          40,
          41,
          42,
          43,
          44,
          45,
          46,
          47,
          48,
          49,
          50,
          51,
          52,
          53,
          54,
          55,
          56,
          57,
          58,
          59,
          60,
          61
         ],
         "xaxis": "x",
         "y": [
          0,
          1,
          1,
          1,
          1,
          1,
          2,
          2,
          2,
          2,
          1,
          1,
          1,
          2,
          2,
          3,
          4,
          4,
          4,
          4,
          4,
          5,
          5,
          6,
          6,
          7,
          null,
          7,
          8,
          8,
          8,
          9,
          8,
          8,
          9,
          null,
          9,
          9,
          9,
          9,
          null,
          9,
          9,
          10,
          10,
          11,
          11,
          11,
          11,
          12,
          13,
          13,
          13,
          13,
          13,
          13,
          12,
          12,
          12,
          13,
          14
         ],
         "yaxis": "y"
        },
        {
         "hovertemplate": "<b>LOWESS trendline</b><br><br>character=Katara<br>episode_num=%{x}<br>total_sentiment=%{y} <b>(trend)</b><extra></extra>",
         "legendgroup": "Katara",
         "marker": {
          "color": "#40C4FF",
          "symbol": "circle"
         },
         "mode": "lines",
         "name": "Katara",
         "showlegend": false,
         "type": "scatter",
         "x": [
          1,
          2,
          3,
          4,
          5,
          6,
          7,
          8,
          9,
          10,
          11,
          12,
          13,
          14,
          15,
          16,
          17,
          18,
          19,
          20,
          21,
          22,
          23,
          24,
          25,
          26,
          28,
          29,
          30,
          31,
          32,
          33,
          34,
          35,
          37,
          38,
          39,
          40,
          42,
          43,
          44,
          45,
          46,
          47,
          48,
          49,
          50,
          51,
          52,
          53,
          54,
          55,
          56,
          57,
          58,
          59,
          60,
          61
         ],
         "xaxis": "x",
         "y": [
          -0.062478782850303186,
          0.16484975655285253,
          0.3938979956630488,
          0.6247469041232062,
          0.8574303829901007,
          1.0919470646333582,
          1.3282739241162036,
          1.5663693720062493,
          1.8061385989994867,
          2.047427701638437,
          2.2900281921512566,
          2.5336874488303174,
          2.7781405455542822,
          3.0231126269863102,
          3.268308377346873,
          3.5134137554510763,
          3.7581280146479785,
          4.002296233267294,
          4.246532961597523,
          4.494346967467944,
          4.7682666351712415,
          5.044498550077633,
          5.322567574965576,
          5.601347876918046,
          5.879007364838945,
          6.15328314590031,
          6.683212535418537,
          6.936885016871115,
          7.183561696278004,
          7.424552615477865,
          7.661810091227778,
          7.897159749407291,
          8.131623918407213,
          8.365550411837082,
          8.829869553266446,
          9.05778002230723,
          9.280723354521239,
          9.497500564176915,
          9.915896177877217,
          10.11579569899611,
          10.311378799150365,
          10.505113822456174,
          10.698318885062816,
          10.891724148836284,
          11.085724743453348,
          11.280531889595231,
          11.476257848953162,
          11.67295165140828,
          11.870585757417349,
          12.069056956491984,
          12.268203857076129,
          12.467823488330477,
          12.667685483149612,
          12.867545487208407,
          13.067169106333186,
          13.266384965271252,
          13.4650995522571,
          13.663292509920016
         ],
         "yaxis": "y"
        },
        {
         "customdata": [
          [
           "The Boy in the Iceberg"
          ],
          [
           "The Avatar Returns"
          ],
          [
           "The Southern Air Temple"
          ],
          [
           "The Warriors of Kyoshi"
          ],
          [
           "The King of Omashu"
          ],
          [
           "Imprisoned"
          ],
          [
           "Winter Solstice, Part 1"
          ],
          [
           "Winter Solstice, Part 2"
          ],
          [
           "The Waterbending Scroll"
          ],
          [
           "Jet (episode)"
          ],
          [
           "The Great Divide"
          ],
          [
           "The Storm"
          ],
          [
           "The Blue Spirit"
          ],
          [
           "The Fortuneteller"
          ],
          [
           "Bato of the Water Tribe"
          ],
          [
           "The Deserter"
          ],
          [
           "The Northern Air Temple"
          ],
          [
           "The Waterbending Master"
          ],
          [
           "The Siege of the North, Part 1"
          ],
          [
           "The Siege of the North, Part 2"
          ],
          [
           "The Avatar State"
          ],
          [
           "The Cave of Two Lovers"
          ],
          [
           "Return to Omashu"
          ],
          [
           "The Swamp"
          ],
          [
           "Avatar Day"
          ],
          [
           "The Blind Bandit"
          ],
          [
           "Zuko Alone"
          ],
          [
           "The Chase"
          ],
          [
           "Bitter Work"
          ],
          [
           "The Library"
          ],
          [
           "The Desert"
          ],
          [
           "The Serpent's Pass"
          ],
          [
           "The Drill"
          ],
          [
           "City of Walls and Secrets"
          ],
          [
           "The Tales of Ba Sing Se"
          ],
          [
           "Appa's Lost Days"
          ],
          [
           "Lake Laogai (episode)"
          ],
          [
           "The Earth King"
          ],
          [
           "The Guru"
          ],
          [
           "The Crossroads of Destiny"
          ],
          [
           "Escape from the Spirit World"
          ],
          [
           "The Awakening"
          ],
          [
           "The Headband"
          ],
          [
           "The Painted Lady"
          ],
          [
           "Sokka's Master"
          ],
          [
           "The Beach"
          ],
          [
           "The Avatar and the Fire Lord"
          ],
          [
           "The Runaway"
          ],
          [
           "The Puppetmaster"
          ],
          [
           "Nightmares and Daydreams"
          ],
          [
           "The Day of Black Sun, Part 1"
          ],
          [
           "The Day of Black Sun, Part 2"
          ],
          [
           "The Western Air Temple"
          ],
          [
           "The Firebending Masters"
          ],
          [
           "The Boiling Rock, Part 1"
          ],
          [
           "The Boiling Rock, Part 2"
          ],
          [
           "The Southern Raiders"
          ],
          [
           "The Ember Island Players"
          ],
          [
           "Sozin's Comet, Part 1"
          ],
          [
           "Sozin's Comet, Part 2"
          ],
          [
           "Sozin's Comet, Part 3"
          ]
         ],
         "hovertemplate": "character=Sokka<br>episode_num=%{x}<br>total_sentiment=%{y}<br>episode_name=%{customdata[0]}<extra></extra>",
         "legendgroup": "Sokka",
         "marker": {
          "color": "#1E88E5",
          "symbol": "circle"
         },
         "mode": "markers",
         "name": "Sokka",
         "orientation": "v",
         "showlegend": true,
         "type": "scatter",
         "x": [
          1,
          2,
          3,
          4,
          5,
          6,
          7,
          8,
          9,
          10,
          11,
          12,
          13,
          14,
          15,
          16,
          17,
          18,
          19,
          20,
          21,
          22,
          23,
          24,
          25,
          26,
          27,
          28,
          29,
          30,
          31,
          32,
          33,
          34,
          35,
          36,
          37,
          38,
          39,
          40,
          41,
          42,
          43,
          44,
          45,
          46,
          47,
          48,
          49,
          50,
          51,
          52,
          53,
          54,
          55,
          56,
          57,
          58,
          59,
          60,
          61
         ],
         "xaxis": "x",
         "y": [
          0,
          0,
          0,
          0,
          1,
          1,
          1,
          1,
          1,
          1,
          2,
          2,
          2,
          2,
          2,
          2,
          1,
          2,
          2,
          2,
          1,
          1,
          0,
          0,
          0,
          1,
          null,
          1,
          2,
          2,
          2,
          3,
          3,
          2,
          3,
          null,
          3,
          4,
          3,
          3,
          null,
          3,
          2,
          2,
          2,
          1,
          0,
          0,
          0,
          0,
          0,
          0,
          0,
          0,
          0,
          0,
          0,
          0,
          0,
          0,
          1
         ],
         "yaxis": "y"
        },
        {
         "hovertemplate": "<b>LOWESS trendline</b><br><br>character=Sokka<br>episode_num=%{x}<br>total_sentiment=%{y} <b>(trend)</b><extra></extra>",
         "legendgroup": "Sokka",
         "marker": {
          "color": "#1E88E5",
          "symbol": "circle"
         },
         "mode": "lines",
         "name": "Sokka",
         "showlegend": false,
         "type": "scatter",
         "x": [
          1,
          2,
          3,
          4,
          5,
          6,
          7,
          8,
          9,
          10,
          11,
          12,
          13,
          14,
          15,
          16,
          17,
          18,
          19,
          20,
          21,
          22,
          23,
          24,
          25,
          26,
          28,
          29,
          30,
          31,
          32,
          33,
          34,
          35,
          37,
          38,
          39,
          40,
          42,
          43,
          44,
          45,
          46,
          47,
          48,
          49,
          50,
          51,
          52,
          53,
          54,
          55,
          56,
          57,
          58,
          59,
          60,
          61
         ],
         "xaxis": "x",
         "y": [
          0.5905876921905404,
          0.6462147240586398,
          0.7002407089336438,
          0.7526855922591564,
          0.8036344122377708,
          0.8532325110099048,
          0.9016444031887393,
          0.9490470860439659,
          0.9956348672648849,
          1.041624239639517,
          1.0872597232459498,
          1.1328110622610614,
          1.1785334538285095,
          1.2246463658680773,
          1.2713120005071497,
          1.3185926968473667,
          1.3663551727793257,
          1.41405318509633,
          1.4602220404476107,
          1.5013483476941836,
          1.5484038629701322,
          1.5960320689359189,
          1.643968012790096,
          1.6922979077844134,
          1.74073003516713,
          1.7883162268493993,
          1.8747988134004412,
          1.9090620560419236,
          1.9346814685181701,
          1.950920710086181,
          1.9579757764431704,
          1.9568316433927597,
          1.9486532263510068,
          1.9342532657528217,
          1.8871285331430543,
          1.8533119206464348,
          1.8109066363112258,
          1.7584516954204568,
          1.5819956119510548,
          1.4759235260345402,
          1.37368595681322,
          1.2726033030326005,
          1.1711346990592386,
          1.0684192619678992,
          0.9640239310533408,
          0.8578058669070786,
          0.7498016781179183,
          0.6401570087218234,
          0.5290842746204736,
          0.41683562919941775,
          0.30368456832543733,
          0.18991254873994967,
          0.07579852529531084,
          -0.038389820896577054,
          -0.15240387233613206,
          -0.26602127789205804,
          -0.3790527817048469,
          -0.49134880051486557
         ],
         "yaxis": "y"
        },
        {
         "customdata": [
          [
           "The Boy in the Iceberg"
          ],
          [
           "The Avatar Returns"
          ],
          [
           "The Southern Air Temple"
          ],
          [
           "The Warriors of Kyoshi"
          ],
          [
           "The King of Omashu"
          ],
          [
           "Imprisoned"
          ],
          [
           "Winter Solstice, Part 1"
          ],
          [
           "Winter Solstice, Part 2"
          ],
          [
           "The Waterbending Scroll"
          ],
          [
           "Jet (episode)"
          ],
          [
           "The Great Divide"
          ],
          [
           "The Storm"
          ],
          [
           "The Blue Spirit"
          ],
          [
           "The Fortuneteller"
          ],
          [
           "Bato of the Water Tribe"
          ],
          [
           "The Deserter"
          ],
          [
           "The Northern Air Temple"
          ],
          [
           "The Waterbending Master"
          ],
          [
           "The Siege of the North, Part 1"
          ],
          [
           "The Siege of the North, Part 2"
          ],
          [
           "The Avatar State"
          ],
          [
           "The Cave of Two Lovers"
          ],
          [
           "Return to Omashu"
          ],
          [
           "The Swamp"
          ],
          [
           "Avatar Day"
          ],
          [
           "The Blind Bandit"
          ],
          [
           "Zuko Alone"
          ],
          [
           "The Chase"
          ],
          [
           "Bitter Work"
          ],
          [
           "The Library"
          ],
          [
           "The Desert"
          ],
          [
           "The Serpent's Pass"
          ],
          [
           "The Drill"
          ],
          [
           "City of Walls and Secrets"
          ],
          [
           "The Tales of Ba Sing Se"
          ],
          [
           "Appa's Lost Days"
          ],
          [
           "Lake Laogai (episode)"
          ],
          [
           "The Earth King"
          ],
          [
           "The Guru"
          ],
          [
           "The Crossroads of Destiny"
          ],
          [
           "Escape from the Spirit World"
          ],
          [
           "The Awakening"
          ],
          [
           "The Headband"
          ],
          [
           "The Painted Lady"
          ],
          [
           "Sokka's Master"
          ],
          [
           "The Beach"
          ],
          [
           "The Avatar and the Fire Lord"
          ],
          [
           "The Runaway"
          ],
          [
           "The Puppetmaster"
          ],
          [
           "Nightmares and Daydreams"
          ],
          [
           "The Day of Black Sun, Part 1"
          ],
          [
           "The Day of Black Sun, Part 2"
          ],
          [
           "The Western Air Temple"
          ],
          [
           "The Firebending Masters"
          ],
          [
           "The Boiling Rock, Part 1"
          ],
          [
           "The Boiling Rock, Part 2"
          ],
          [
           "The Southern Raiders"
          ],
          [
           "The Ember Island Players"
          ],
          [
           "Sozin's Comet, Part 1"
          ],
          [
           "Sozin's Comet, Part 2"
          ],
          [
           "Sozin's Comet, Part 3"
          ]
         ],
         "hovertemplate": "character=Toph<br>episode_num=%{x}<br>total_sentiment=%{y}<br>episode_name=%{customdata[0]}<extra></extra>",
         "legendgroup": "Toph",
         "marker": {
          "color": "#4CAF50",
          "symbol": "circle"
         },
         "mode": "markers",
         "name": "Toph",
         "orientation": "v",
         "showlegend": true,
         "type": "scatter",
         "x": [
          1,
          2,
          3,
          4,
          5,
          6,
          7,
          8,
          9,
          10,
          11,
          12,
          13,
          14,
          15,
          16,
          17,
          18,
          19,
          20,
          21,
          22,
          23,
          24,
          25,
          26,
          27,
          28,
          29,
          30,
          31,
          32,
          33,
          34,
          35,
          36,
          37,
          38,
          39,
          40,
          41,
          42,
          43,
          44,
          45,
          46,
          47,
          48,
          49,
          50,
          51,
          52,
          53,
          54,
          55,
          56,
          57,
          58,
          59,
          60,
          61
         ],
         "xaxis": "x",
         "y": [
          null,
          null,
          null,
          null,
          null,
          null,
          null,
          null,
          null,
          null,
          null,
          null,
          null,
          null,
          null,
          null,
          null,
          null,
          null,
          null,
          null,
          null,
          null,
          null,
          null,
          0,
          null,
          0,
          1,
          1,
          1,
          2,
          2,
          2,
          3,
          2,
          1,
          1,
          1,
          2,
          null,
          1,
          1,
          1,
          1,
          2,
          3,
          3,
          3,
          4,
          5,
          6,
          6,
          7,
          8,
          9,
          10,
          11,
          11,
          11,
          10
         ],
         "yaxis": "y"
        },
        {
         "hovertemplate": "<b>LOWESS trendline</b><br><br>character=Toph<br>episode_num=%{x}<br>total_sentiment=%{y} <b>(trend)</b><extra></extra>",
         "legendgroup": "Toph",
         "marker": {
          "color": "#4CAF50",
          "symbol": "circle"
         },
         "mode": "lines",
         "name": "Toph",
         "showlegend": false,
         "type": "scatter",
         "x": [
          26,
          28,
          29,
          30,
          31,
          32,
          33,
          34,
          35,
          36,
          37,
          38,
          39,
          40,
          42,
          43,
          44,
          45,
          46,
          47,
          48,
          49,
          50,
          51,
          52,
          53,
          54,
          55,
          56,
          57,
          58,
          59,
          60,
          61
         ],
         "xaxis": "x",
         "y": [
          0.7177907948436958,
          0.8947507505058869,
          0.9744503090259495,
          1.0488038602964744,
          1.1185455540781868,
          1.1846151524466442,
          1.2481410577486578,
          1.3100260109037831,
          1.3705600504547608,
          1.428359021791043,
          1.4762004355765952,
          1.50945914608812,
          1.518811984688261,
          1.5526173585729193,
          1.7031812390512042,
          1.8477514009975131,
          2.0473089528524486,
          2.302853444322856,
          2.615240759268577,
          2.9903879626902747,
          3.437404638866344,
          3.9637684185865023,
          4.562779554578436,
          5.25197424271962,
          5.926090299472706,
          6.5928632700471335,
          7.2583283413606825,
          7.925676004159515,
          8.59652043239042,
          9.271437320401814,
          9.950223167603385,
          10.632013227617911,
          11.315408280371754,
          11.998903690788707
         ],
         "yaxis": "y"
        },
        {
         "customdata": [
          [
           "The Boy in the Iceberg"
          ],
          [
           "The Avatar Returns"
          ],
          [
           "The Southern Air Temple"
          ],
          [
           "The Warriors of Kyoshi"
          ],
          [
           "The King of Omashu"
          ],
          [
           "Imprisoned"
          ],
          [
           "Winter Solstice, Part 1"
          ],
          [
           "Winter Solstice, Part 2"
          ],
          [
           "The Waterbending Scroll"
          ],
          [
           "Jet (episode)"
          ],
          [
           "The Great Divide"
          ],
          [
           "The Storm"
          ],
          [
           "The Blue Spirit"
          ],
          [
           "The Fortuneteller"
          ],
          [
           "Bato of the Water Tribe"
          ],
          [
           "The Deserter"
          ],
          [
           "The Northern Air Temple"
          ],
          [
           "The Waterbending Master"
          ],
          [
           "The Siege of the North, Part 1"
          ],
          [
           "The Siege of the North, Part 2"
          ],
          [
           "The Avatar State"
          ],
          [
           "The Cave of Two Lovers"
          ],
          [
           "Return to Omashu"
          ],
          [
           "The Swamp"
          ],
          [
           "Avatar Day"
          ],
          [
           "The Blind Bandit"
          ],
          [
           "Zuko Alone"
          ],
          [
           "The Chase"
          ],
          [
           "Bitter Work"
          ],
          [
           "The Library"
          ],
          [
           "The Desert"
          ],
          [
           "The Serpent's Pass"
          ],
          [
           "The Drill"
          ],
          [
           "City of Walls and Secrets"
          ],
          [
           "The Tales of Ba Sing Se"
          ],
          [
           "Appa's Lost Days"
          ],
          [
           "Lake Laogai (episode)"
          ],
          [
           "The Earth King"
          ],
          [
           "The Guru"
          ],
          [
           "The Crossroads of Destiny"
          ],
          [
           "Escape from the Spirit World"
          ],
          [
           "The Awakening"
          ],
          [
           "The Headband"
          ],
          [
           "The Painted Lady"
          ],
          [
           "Sokka's Master"
          ],
          [
           "The Beach"
          ],
          [
           "The Avatar and the Fire Lord"
          ],
          [
           "The Runaway"
          ],
          [
           "The Puppetmaster"
          ],
          [
           "Nightmares and Daydreams"
          ],
          [
           "The Day of Black Sun, Part 1"
          ],
          [
           "The Day of Black Sun, Part 2"
          ],
          [
           "The Western Air Temple"
          ],
          [
           "The Firebending Masters"
          ],
          [
           "The Boiling Rock, Part 1"
          ],
          [
           "The Boiling Rock, Part 2"
          ],
          [
           "The Southern Raiders"
          ],
          [
           "The Ember Island Players"
          ],
          [
           "Sozin's Comet, Part 1"
          ],
          [
           "Sozin's Comet, Part 2"
          ],
          [
           "Sozin's Comet, Part 3"
          ]
         ],
         "hovertemplate": "character=Iroh<br>episode_num=%{x}<br>total_sentiment=%{y}<br>episode_name=%{customdata[0]}<extra></extra>",
         "legendgroup": "Iroh",
         "marker": {
          "color": "#B71C1C",
          "symbol": "circle"
         },
         "mode": "markers",
         "name": "Iroh",
         "orientation": "v",
         "showlegend": true,
         "type": "scatter",
         "x": [
          1,
          2,
          3,
          4,
          5,
          6,
          7,
          8,
          9,
          10,
          11,
          12,
          13,
          14,
          15,
          16,
          17,
          18,
          19,
          20,
          21,
          22,
          23,
          24,
          25,
          26,
          27,
          28,
          29,
          30,
          31,
          32,
          33,
          34,
          35,
          36,
          37,
          38,
          39,
          40,
          41,
          42,
          43,
          44,
          45,
          46,
          47,
          48,
          49,
          50,
          51,
          52,
          53,
          54,
          55,
          56,
          57,
          58,
          59,
          60,
          61
         ],
         "xaxis": "x",
         "y": [
          0,
          1,
          2,
          2,
          null,
          null,
          2,
          1,
          2,
          null,
          null,
          1,
          2,
          null,
          3,
          null,
          null,
          3,
          3,
          3,
          3,
          3,
          null,
          4,
          5,
          null,
          6,
          6,
          7,
          null,
          8,
          9,
          10,
          10,
          10,
          9,
          10,
          11,
          12,
          13,
          null,
          null,
          null,
          null,
          null,
          null,
          12,
          null,
          null,
          null,
          13,
          null,
          14,
          null,
          null,
          null,
          null,
          14,
          null,
          14,
          13
         ],
         "yaxis": "y"
        },
        {
         "hovertemplate": "<b>LOWESS trendline</b><br><br>character=Iroh<br>episode_num=%{x}<br>total_sentiment=%{y} <b>(trend)</b><extra></extra>",
         "legendgroup": "Iroh",
         "marker": {
          "color": "#B71C1C",
          "symbol": "circle"
         },
         "mode": "lines",
         "name": "Iroh",
         "showlegend": false,
         "type": "scatter",
         "x": [
          1,
          2,
          3,
          4,
          7,
          8,
          9,
          12,
          13,
          15,
          18,
          19,
          20,
          21,
          22,
          24,
          25,
          27,
          28,
          29,
          31,
          32,
          33,
          34,
          35,
          36,
          37,
          38,
          39,
          40,
          47,
          51,
          53,
          58,
          60,
          61
         ],
         "xaxis": "x",
         "y": [
          0.8087202839122913,
          0.9322017636670146,
          1.056927179914618,
          1.1832439251362528,
          1.573186186008767,
          1.7068560618980373,
          1.8422006569401217,
          2.255779174401695,
          2.394105303956769,
          2.662363248157342,
          3.120706090558848,
          3.3617924590077637,
          3.631258615290022,
          3.9250969795992017,
          4.177472797341511,
          4.9094304489688,
          5.296046747031957,
          6.108534135301725,
          6.559105607972856,
          7.013094582990248,
          7.915042464250434,
          8.343853728706042,
          8.79590048261008,
          9.171992663182884,
          9.602020851969716,
          9.944434049512903,
          10.172385387043553,
          10.391770984532222,
          10.657362499073047,
          10.907336070010144,
          12.065734870991598,
          12.746782007687063,
          13.0906725456159,
          13.93980179492467,
          14.271295070820356,
          14.434832377181838
         ],
         "yaxis": "y"
        },
        {
         "customdata": [
          [
           "The Boy in the Iceberg"
          ],
          [
           "The Avatar Returns"
          ],
          [
           "The Southern Air Temple"
          ],
          [
           "The Warriors of Kyoshi"
          ],
          [
           "The King of Omashu"
          ],
          [
           "Imprisoned"
          ],
          [
           "Winter Solstice, Part 1"
          ],
          [
           "Winter Solstice, Part 2"
          ],
          [
           "The Waterbending Scroll"
          ],
          [
           "Jet (episode)"
          ],
          [
           "The Great Divide"
          ],
          [
           "The Storm"
          ],
          [
           "The Blue Spirit"
          ],
          [
           "The Fortuneteller"
          ],
          [
           "Bato of the Water Tribe"
          ],
          [
           "The Deserter"
          ],
          [
           "The Northern Air Temple"
          ],
          [
           "The Waterbending Master"
          ],
          [
           "The Siege of the North, Part 1"
          ],
          [
           "The Siege of the North, Part 2"
          ],
          [
           "The Avatar State"
          ],
          [
           "The Cave of Two Lovers"
          ],
          [
           "Return to Omashu"
          ],
          [
           "The Swamp"
          ],
          [
           "Avatar Day"
          ],
          [
           "The Blind Bandit"
          ],
          [
           "Zuko Alone"
          ],
          [
           "The Chase"
          ],
          [
           "Bitter Work"
          ],
          [
           "The Library"
          ],
          [
           "The Desert"
          ],
          [
           "The Serpent's Pass"
          ],
          [
           "The Drill"
          ],
          [
           "City of Walls and Secrets"
          ],
          [
           "The Tales of Ba Sing Se"
          ],
          [
           "Appa's Lost Days"
          ],
          [
           "Lake Laogai (episode)"
          ],
          [
           "The Earth King"
          ],
          [
           "The Guru"
          ],
          [
           "The Crossroads of Destiny"
          ],
          [
           "Escape from the Spirit World"
          ],
          [
           "The Awakening"
          ],
          [
           "The Headband"
          ],
          [
           "The Painted Lady"
          ],
          [
           "Sokka's Master"
          ],
          [
           "The Beach"
          ],
          [
           "The Avatar and the Fire Lord"
          ],
          [
           "The Runaway"
          ],
          [
           "The Puppetmaster"
          ],
          [
           "Nightmares and Daydreams"
          ],
          [
           "The Day of Black Sun, Part 1"
          ],
          [
           "The Day of Black Sun, Part 2"
          ],
          [
           "The Western Air Temple"
          ],
          [
           "The Firebending Masters"
          ],
          [
           "The Boiling Rock, Part 1"
          ],
          [
           "The Boiling Rock, Part 2"
          ],
          [
           "The Southern Raiders"
          ],
          [
           "The Ember Island Players"
          ],
          [
           "Sozin's Comet, Part 1"
          ],
          [
           "Sozin's Comet, Part 2"
          ],
          [
           "Sozin's Comet, Part 3"
          ]
         ],
         "hovertemplate": "character=Zuko<br>episode_num=%{x}<br>total_sentiment=%{y}<br>episode_name=%{customdata[0]}<extra></extra>",
         "legendgroup": "Zuko",
         "marker": {
          "color": "#F44336",
          "symbol": "circle"
         },
         "mode": "markers",
         "name": "Zuko",
         "orientation": "v",
         "showlegend": true,
         "type": "scatter",
         "x": [
          1,
          2,
          3,
          4,
          5,
          6,
          7,
          8,
          9,
          10,
          11,
          12,
          13,
          14,
          15,
          16,
          17,
          18,
          19,
          20,
          21,
          22,
          23,
          24,
          25,
          26,
          27,
          28,
          29,
          30,
          31,
          32,
          33,
          34,
          35,
          36,
          37,
          38,
          39,
          40,
          41,
          42,
          43,
          44,
          45,
          46,
          47,
          48,
          49,
          50,
          51,
          52,
          53,
          54,
          55,
          56,
          57,
          58,
          59,
          60,
          61
         ],
         "xaxis": "x",
         "y": [
          -1,
          -2,
          -2,
          -1,
          null,
          null,
          -1,
          -1,
          -1,
          null,
          null,
          0,
          -1,
          null,
          -2,
          null,
          null,
          -2,
          -2,
          -2,
          -3,
          -3,
          null,
          -4,
          -4,
          null,
          -4,
          -5,
          -4,
          null,
          -3,
          -4,
          -4,
          -5,
          -5,
          -5,
          -4,
          -5,
          -4,
          -5,
          null,
          -5,
          -5,
          null,
          null,
          -5,
          -5,
          null,
          null,
          -5,
          -6,
          -6,
          -6,
          -7,
          -8,
          -8,
          -8,
          -8,
          -8,
          -8,
          -9
         ],
         "yaxis": "y"
        },
        {
         "hovertemplate": "<b>LOWESS trendline</b><br><br>character=Zuko<br>episode_num=%{x}<br>total_sentiment=%{y} <b>(trend)</b><extra></extra>",
         "legendgroup": "Zuko",
         "marker": {
          "color": "#F44336",
          "symbol": "circle"
         },
         "mode": "lines",
         "name": "Zuko",
         "showlegend": false,
         "type": "scatter",
         "x": [
          1,
          2,
          3,
          4,
          7,
          8,
          9,
          12,
          13,
          15,
          18,
          19,
          20,
          21,
          22,
          24,
          25,
          27,
          28,
          29,
          31,
          32,
          33,
          34,
          35,
          36,
          37,
          38,
          39,
          40,
          42,
          43,
          46,
          47,
          50,
          51,
          52,
          53,
          54,
          55,
          56,
          57,
          58,
          59,
          60,
          61
         ],
         "xaxis": "x",
         "y": [
          -0.6918629123593691,
          -0.7858341728254437,
          -0.8815181754175822,
          -0.9788835571345113,
          -1.2795506802891934,
          -1.3819512228212707,
          -1.485049480076517,
          -1.7960946408955623,
          -1.8994131280169058,
          -2.1034765471392087,
          -2.397681232554533,
          -2.4942568120053443,
          -2.6000409254707293,
          -2.729815614669143,
          -2.865094708530004,
          -3.132675680174582,
          -3.269098592348865,
          -3.553654347975367,
          -3.6667498092130946,
          -3.7906552669062217,
          -4.02058533073726,
          -4.14158627200494,
          -4.239010349042172,
          -4.330488096467007,
          -4.417101363423158,
          -4.505326314010051,
          -4.581425578171401,
          -4.661307587591053,
          -4.750149256217154,
          -4.8510182992652835,
          -5.054930065151947,
          -5.188709778202399,
          -5.712440519969536,
          -5.880020615601837,
          -6.37437786098765,
          -6.538956644719335,
          -6.704183220328445,
          -6.8703964207440045,
          -7.0379086668907105,
          -7.207013415081981,
          -7.377938227805661,
          -7.5508051823853455,
          -7.725647985742384,
          -7.902438972043214,
          -8.08111420044115,
          -8.261598248667577
         ],
         "yaxis": "y"
        }
       ],
       "layout": {
        "height": 750,
        "legend": {
         "title": {
          "text": "Characters"
         },
         "tracegroupgap": 0
        },
        "margin": {
         "t": 60
        },
        "template": {
         "data": {
          "bar": [
           {
            "error_x": {
             "color": "#2a3f5f"
            },
            "error_y": {
             "color": "#2a3f5f"
            },
            "marker": {
             "line": {
              "color": "#E5ECF6",
              "width": 0.5
             },
             "pattern": {
              "fillmode": "overlay",
              "size": 10,
              "solidity": 0.2
             }
            },
            "type": "bar"
           }
          ],
          "barpolar": [
           {
            "marker": {
             "line": {
              "color": "#E5ECF6",
              "width": 0.5
             },
             "pattern": {
              "fillmode": "overlay",
              "size": 10,
              "solidity": 0.2
             }
            },
            "type": "barpolar"
           }
          ],
          "carpet": [
           {
            "aaxis": {
             "endlinecolor": "#2a3f5f",
             "gridcolor": "white",
             "linecolor": "white",
             "minorgridcolor": "white",
             "startlinecolor": "#2a3f5f"
            },
            "baxis": {
             "endlinecolor": "#2a3f5f",
             "gridcolor": "white",
             "linecolor": "white",
             "minorgridcolor": "white",
             "startlinecolor": "#2a3f5f"
            },
            "type": "carpet"
           }
          ],
          "choropleth": [
           {
            "colorbar": {
             "outlinewidth": 0,
             "ticks": ""
            },
            "type": "choropleth"
           }
          ],
          "contour": [
           {
            "colorbar": {
             "outlinewidth": 0,
             "ticks": ""
            },
            "colorscale": [
             [
              0,
              "#0d0887"
             ],
             [
              0.1111111111111111,
              "#46039f"
             ],
             [
              0.2222222222222222,
              "#7201a8"
             ],
             [
              0.3333333333333333,
              "#9c179e"
             ],
             [
              0.4444444444444444,
              "#bd3786"
             ],
             [
              0.5555555555555556,
              "#d8576b"
             ],
             [
              0.6666666666666666,
              "#ed7953"
             ],
             [
              0.7777777777777778,
              "#fb9f3a"
             ],
             [
              0.8888888888888888,
              "#fdca26"
             ],
             [
              1,
              "#f0f921"
             ]
            ],
            "type": "contour"
           }
          ],
          "contourcarpet": [
           {
            "colorbar": {
             "outlinewidth": 0,
             "ticks": ""
            },
            "type": "contourcarpet"
           }
          ],
          "heatmap": [
           {
            "colorbar": {
             "outlinewidth": 0,
             "ticks": ""
            },
            "colorscale": [
             [
              0,
              "#0d0887"
             ],
             [
              0.1111111111111111,
              "#46039f"
             ],
             [
              0.2222222222222222,
              "#7201a8"
             ],
             [
              0.3333333333333333,
              "#9c179e"
             ],
             [
              0.4444444444444444,
              "#bd3786"
             ],
             [
              0.5555555555555556,
              "#d8576b"
             ],
             [
              0.6666666666666666,
              "#ed7953"
             ],
             [
              0.7777777777777778,
              "#fb9f3a"
             ],
             [
              0.8888888888888888,
              "#fdca26"
             ],
             [
              1,
              "#f0f921"
             ]
            ],
            "type": "heatmap"
           }
          ],
          "heatmapgl": [
           {
            "colorbar": {
             "outlinewidth": 0,
             "ticks": ""
            },
            "colorscale": [
             [
              0,
              "#0d0887"
             ],
             [
              0.1111111111111111,
              "#46039f"
             ],
             [
              0.2222222222222222,
              "#7201a8"
             ],
             [
              0.3333333333333333,
              "#9c179e"
             ],
             [
              0.4444444444444444,
              "#bd3786"
             ],
             [
              0.5555555555555556,
              "#d8576b"
             ],
             [
              0.6666666666666666,
              "#ed7953"
             ],
             [
              0.7777777777777778,
              "#fb9f3a"
             ],
             [
              0.8888888888888888,
              "#fdca26"
             ],
             [
              1,
              "#f0f921"
             ]
            ],
            "type": "heatmapgl"
           }
          ],
          "histogram": [
           {
            "marker": {
             "pattern": {
              "fillmode": "overlay",
              "size": 10,
              "solidity": 0.2
             }
            },
            "type": "histogram"
           }
          ],
          "histogram2d": [
           {
            "colorbar": {
             "outlinewidth": 0,
             "ticks": ""
            },
            "colorscale": [
             [
              0,
              "#0d0887"
             ],
             [
              0.1111111111111111,
              "#46039f"
             ],
             [
              0.2222222222222222,
              "#7201a8"
             ],
             [
              0.3333333333333333,
              "#9c179e"
             ],
             [
              0.4444444444444444,
              "#bd3786"
             ],
             [
              0.5555555555555556,
              "#d8576b"
             ],
             [
              0.6666666666666666,
              "#ed7953"
             ],
             [
              0.7777777777777778,
              "#fb9f3a"
             ],
             [
              0.8888888888888888,
              "#fdca26"
             ],
             [
              1,
              "#f0f921"
             ]
            ],
            "type": "histogram2d"
           }
          ],
          "histogram2dcontour": [
           {
            "colorbar": {
             "outlinewidth": 0,
             "ticks": ""
            },
            "colorscale": [
             [
              0,
              "#0d0887"
             ],
             [
              0.1111111111111111,
              "#46039f"
             ],
             [
              0.2222222222222222,
              "#7201a8"
             ],
             [
              0.3333333333333333,
              "#9c179e"
             ],
             [
              0.4444444444444444,
              "#bd3786"
             ],
             [
              0.5555555555555556,
              "#d8576b"
             ],
             [
              0.6666666666666666,
              "#ed7953"
             ],
             [
              0.7777777777777778,
              "#fb9f3a"
             ],
             [
              0.8888888888888888,
              "#fdca26"
             ],
             [
              1,
              "#f0f921"
             ]
            ],
            "type": "histogram2dcontour"
           }
          ],
          "mesh3d": [
           {
            "colorbar": {
             "outlinewidth": 0,
             "ticks": ""
            },
            "type": "mesh3d"
           }
          ],
          "parcoords": [
           {
            "line": {
             "colorbar": {
              "outlinewidth": 0,
              "ticks": ""
             }
            },
            "type": "parcoords"
           }
          ],
          "pie": [
           {
            "automargin": true,
            "type": "pie"
           }
          ],
          "scatter": [
           {
            "fillpattern": {
             "fillmode": "overlay",
             "size": 10,
             "solidity": 0.2
            },
            "type": "scatter"
           }
          ],
          "scatter3d": [
           {
            "line": {
             "colorbar": {
              "outlinewidth": 0,
              "ticks": ""
             }
            },
            "marker": {
             "colorbar": {
              "outlinewidth": 0,
              "ticks": ""
             }
            },
            "type": "scatter3d"
           }
          ],
          "scattercarpet": [
           {
            "marker": {
             "colorbar": {
              "outlinewidth": 0,
              "ticks": ""
             }
            },
            "type": "scattercarpet"
           }
          ],
          "scattergeo": [
           {
            "marker": {
             "colorbar": {
              "outlinewidth": 0,
              "ticks": ""
             }
            },
            "type": "scattergeo"
           }
          ],
          "scattergl": [
           {
            "marker": {
             "colorbar": {
              "outlinewidth": 0,
              "ticks": ""
             }
            },
            "type": "scattergl"
           }
          ],
          "scattermapbox": [
           {
            "marker": {
             "colorbar": {
              "outlinewidth": 0,
              "ticks": ""
             }
            },
            "type": "scattermapbox"
           }
          ],
          "scatterpolar": [
           {
            "marker": {
             "colorbar": {
              "outlinewidth": 0,
              "ticks": ""
             }
            },
            "type": "scatterpolar"
           }
          ],
          "scatterpolargl": [
           {
            "marker": {
             "colorbar": {
              "outlinewidth": 0,
              "ticks": ""
             }
            },
            "type": "scatterpolargl"
           }
          ],
          "scatterternary": [
           {
            "marker": {
             "colorbar": {
              "outlinewidth": 0,
              "ticks": ""
             }
            },
            "type": "scatterternary"
           }
          ],
          "surface": [
           {
            "colorbar": {
             "outlinewidth": 0,
             "ticks": ""
            },
            "colorscale": [
             [
              0,
              "#0d0887"
             ],
             [
              0.1111111111111111,
              "#46039f"
             ],
             [
              0.2222222222222222,
              "#7201a8"
             ],
             [
              0.3333333333333333,
              "#9c179e"
             ],
             [
              0.4444444444444444,
              "#bd3786"
             ],
             [
              0.5555555555555556,
              "#d8576b"
             ],
             [
              0.6666666666666666,
              "#ed7953"
             ],
             [
              0.7777777777777778,
              "#fb9f3a"
             ],
             [
              0.8888888888888888,
              "#fdca26"
             ],
             [
              1,
              "#f0f921"
             ]
            ],
            "type": "surface"
           }
          ],
          "table": [
           {
            "cells": {
             "fill": {
              "color": "#EBF0F8"
             },
             "line": {
              "color": "white"
             }
            },
            "header": {
             "fill": {
              "color": "#C8D4E3"
             },
             "line": {
              "color": "white"
             }
            },
            "type": "table"
           }
          ]
         },
         "layout": {
          "annotationdefaults": {
           "arrowcolor": "#2a3f5f",
           "arrowhead": 0,
           "arrowwidth": 1
          },
          "autotypenumbers": "strict",
          "coloraxis": {
           "colorbar": {
            "outlinewidth": 0,
            "ticks": ""
           }
          },
          "colorscale": {
           "diverging": [
            [
             0,
             "#8e0152"
            ],
            [
             0.1,
             "#c51b7d"
            ],
            [
             0.2,
             "#de77ae"
            ],
            [
             0.3,
             "#f1b6da"
            ],
            [
             0.4,
             "#fde0ef"
            ],
            [
             0.5,
             "#f7f7f7"
            ],
            [
             0.6,
             "#e6f5d0"
            ],
            [
             0.7,
             "#b8e186"
            ],
            [
             0.8,
             "#7fbc41"
            ],
            [
             0.9,
             "#4d9221"
            ],
            [
             1,
             "#276419"
            ]
           ],
           "sequential": [
            [
             0,
             "#0d0887"
            ],
            [
             0.1111111111111111,
             "#46039f"
            ],
            [
             0.2222222222222222,
             "#7201a8"
            ],
            [
             0.3333333333333333,
             "#9c179e"
            ],
            [
             0.4444444444444444,
             "#bd3786"
            ],
            [
             0.5555555555555556,
             "#d8576b"
            ],
            [
             0.6666666666666666,
             "#ed7953"
            ],
            [
             0.7777777777777778,
             "#fb9f3a"
            ],
            [
             0.8888888888888888,
             "#fdca26"
            ],
            [
             1,
             "#f0f921"
            ]
           ],
           "sequentialminus": [
            [
             0,
             "#0d0887"
            ],
            [
             0.1111111111111111,
             "#46039f"
            ],
            [
             0.2222222222222222,
             "#7201a8"
            ],
            [
             0.3333333333333333,
             "#9c179e"
            ],
            [
             0.4444444444444444,
             "#bd3786"
            ],
            [
             0.5555555555555556,
             "#d8576b"
            ],
            [
             0.6666666666666666,
             "#ed7953"
            ],
            [
             0.7777777777777778,
             "#fb9f3a"
            ],
            [
             0.8888888888888888,
             "#fdca26"
            ],
            [
             1,
             "#f0f921"
            ]
           ]
          },
          "colorway": [
           "#636efa",
           "#EF553B",
           "#00cc96",
           "#ab63fa",
           "#FFA15A",
           "#19d3f3",
           "#FF6692",
           "#B6E880",
           "#FF97FF",
           "#FECB52"
          ],
          "font": {
           "color": "#2a3f5f"
          },
          "geo": {
           "bgcolor": "white",
           "lakecolor": "white",
           "landcolor": "#E5ECF6",
           "showlakes": true,
           "showland": true,
           "subunitcolor": "white"
          },
          "hoverlabel": {
           "align": "left"
          },
          "hovermode": "closest",
          "mapbox": {
           "style": "light"
          },
          "paper_bgcolor": "white",
          "plot_bgcolor": "#E5ECF6",
          "polar": {
           "angularaxis": {
            "gridcolor": "white",
            "linecolor": "white",
            "ticks": ""
           },
           "bgcolor": "#E5ECF6",
           "radialaxis": {
            "gridcolor": "white",
            "linecolor": "white",
            "ticks": ""
           }
          },
          "scene": {
           "xaxis": {
            "backgroundcolor": "#E5ECF6",
            "gridcolor": "white",
            "gridwidth": 2,
            "linecolor": "white",
            "showbackground": true,
            "ticks": "",
            "zerolinecolor": "white"
           },
           "yaxis": {
            "backgroundcolor": "#E5ECF6",
            "gridcolor": "white",
            "gridwidth": 2,
            "linecolor": "white",
            "showbackground": true,
            "ticks": "",
            "zerolinecolor": "white"
           },
           "zaxis": {
            "backgroundcolor": "#E5ECF6",
            "gridcolor": "white",
            "gridwidth": 2,
            "linecolor": "white",
            "showbackground": true,
            "ticks": "",
            "zerolinecolor": "white"
           }
          },
          "shapedefaults": {
           "line": {
            "color": "#2a3f5f"
           }
          },
          "ternary": {
           "aaxis": {
            "gridcolor": "white",
            "linecolor": "white",
            "ticks": ""
           },
           "baxis": {
            "gridcolor": "white",
            "linecolor": "white",
            "ticks": ""
           },
           "bgcolor": "#E5ECF6",
           "caxis": {
            "gridcolor": "white",
            "linecolor": "white",
            "ticks": ""
           }
          },
          "title": {
           "x": 0.05
          },
          "xaxis": {
           "automargin": true,
           "gridcolor": "white",
           "linecolor": "white",
           "ticks": "",
           "title": {
            "standoff": 15
           },
           "zerolinecolor": "white",
           "zerolinewidth": 2
          },
          "yaxis": {
           "automargin": true,
           "gridcolor": "white",
           "linecolor": "white",
           "ticks": "",
           "title": {
            "standoff": 15
           },
           "zerolinecolor": "white",
           "zerolinewidth": 2
          }
         }
        },
        "title": {
         "text": "Running total of sentiments",
         "x": 0.5,
         "xanchor": "center"
        },
        "width": 950,
        "xaxis": {
         "anchor": "y",
         "domain": [
          0,
          1
         ],
         "title": {
          "text": "Episode number"
         }
        },
        "yaxis": {
         "anchor": "x",
         "domain": [
          0,
          1
         ],
         "title": {
          "text": "Total sentiment"
         }
        }
       }
      }
     },
     "metadata": {},
     "output_type": "display_data"
    }
   ],
   "source": [
    "# Plot running total of sentiment per character.\n",
    "total_sentiment_fig = px.scatter(atla_total_sentiment_df, x = 'episode_num', y = 'total_sentiment', \n",
    "                                 color = 'character',\n",
    "                                 color_discrete_sequence = legend_colors, \n",
    "                                 hover_data = ['episode_name'],\n",
    "                                 trendline = 'lowess', \n",
    "                                 width = 950, height = 750)\n",
    "\n",
    "# Customize titles.\n",
    "total_sentiment_fig.update_layout(title = {'text': \"Running total of sentiments\",\n",
    "                                           'x': 0.5,\n",
    "                                           'xanchor': 'center'},\n",
    "                                  xaxis_title = \"Episode number\",\n",
    "                                  yaxis_title = \"Total sentiment\",\n",
    "                                  legend_title = \"Characters\")\n",
    "    \n",
    "# Correct position of x points.\n",
    "for scatter, trendline in zip(total_sentiment_fig.data[::2], total_sentiment_fig.data[1::2]):\n",
    "    trendline['x'] = scatter['x'][np.logical_not(np.isnan(scatter['y']))]\n",
    "\n",
    "total_sentiment_fig.show()"
   ]
  },
  {
   "cell_type": "code",
   "execution_count": 24,
   "metadata": {},
   "outputs": [
    {
     "name": "stderr",
     "output_type": "stream",
     "text": [
      "/var/folders/lp/3w1h7dh93sj9snv205fctd600000gn/T/ipykernel_3274/288760787.py:20: FutureWarning:\n",
      "\n",
      "Not prepending group keys to the result index of transform-like apply. In the future, the group keys will be included in the index, regardless of whether the applied function returns a like-indexed object.\n",
      "To preserve the previous behavior, use\n",
      "\n",
      "\t>>> .groupby(..., group_keys=False)\n",
      "\n",
      "To adopt the future behavior and silence this warning, use \n",
      "\n",
      "\t>>> .groupby(..., group_keys=True)\n",
      "\n"
     ]
    },
    {
     "data": {
      "text/html": [
       "<div>\n",
       "<style scoped>\n",
       "    .dataframe tbody tr th:only-of-type {\n",
       "        vertical-align: middle;\n",
       "    }\n",
       "\n",
       "    .dataframe tbody tr th {\n",
       "        vertical-align: top;\n",
       "    }\n",
       "\n",
       "    .dataframe thead th {\n",
       "        text-align: right;\n",
       "    }\n",
       "</style>\n",
       "<table border=\"1\" class=\"dataframe\">\n",
       "  <thead>\n",
       "    <tr style=\"text-align: right;\">\n",
       "      <th></th>\n",
       "      <th>book_num</th>\n",
       "      <th>book_name</th>\n",
       "      <th>episode_num</th>\n",
       "      <th>episode_name</th>\n",
       "      <th>character</th>\n",
       "      <th>total_sentiment</th>\n",
       "    </tr>\n",
       "  </thead>\n",
       "  <tbody>\n",
       "    <tr>\n",
       "      <th>0</th>\n",
       "      <td>1.0</td>\n",
       "      <td>Book One: Water</td>\n",
       "      <td>1</td>\n",
       "      <td>The Boy in the Iceberg</td>\n",
       "      <td>Aang</td>\n",
       "      <td>0.0</td>\n",
       "    </tr>\n",
       "    <tr>\n",
       "      <th>1</th>\n",
       "      <td>1.0</td>\n",
       "      <td>Book One: Water</td>\n",
       "      <td>2</td>\n",
       "      <td>The Avatar Returns</td>\n",
       "      <td>Aang</td>\n",
       "      <td>1.0</td>\n",
       "    </tr>\n",
       "    <tr>\n",
       "      <th>2</th>\n",
       "      <td>1.0</td>\n",
       "      <td>Book One: Water</td>\n",
       "      <td>3</td>\n",
       "      <td>The Southern Air Temple</td>\n",
       "      <td>Aang</td>\n",
       "      <td>2.0</td>\n",
       "    </tr>\n",
       "    <tr>\n",
       "      <th>3</th>\n",
       "      <td>1.0</td>\n",
       "      <td>Book One: Water</td>\n",
       "      <td>4</td>\n",
       "      <td>The Warriors of Kyoshi</td>\n",
       "      <td>Aang</td>\n",
       "      <td>3.0</td>\n",
       "    </tr>\n",
       "    <tr>\n",
       "      <th>4</th>\n",
       "      <td>1.0</td>\n",
       "      <td>Book One: Water</td>\n",
       "      <td>5</td>\n",
       "      <td>The King of Omashu</td>\n",
       "      <td>Aang</td>\n",
       "      <td>4.0</td>\n",
       "    </tr>\n",
       "    <tr>\n",
       "      <th>...</th>\n",
       "      <td>...</td>\n",
       "      <td>...</td>\n",
       "      <td>...</td>\n",
       "      <td>...</td>\n",
       "      <td>...</td>\n",
       "      <td>...</td>\n",
       "    </tr>\n",
       "    <tr>\n",
       "      <th>361</th>\n",
       "      <td>3.0</td>\n",
       "      <td>Book Three: Fire</td>\n",
       "      <td>57</td>\n",
       "      <td>The Southern Raiders</td>\n",
       "      <td>Zuko</td>\n",
       "      <td>-5.0</td>\n",
       "    </tr>\n",
       "    <tr>\n",
       "      <th>362</th>\n",
       "      <td>3.0</td>\n",
       "      <td>Book Three: Fire</td>\n",
       "      <td>58</td>\n",
       "      <td>The Ember Island Players</td>\n",
       "      <td>Zuko</td>\n",
       "      <td>-5.0</td>\n",
       "    </tr>\n",
       "    <tr>\n",
       "      <th>363</th>\n",
       "      <td>3.0</td>\n",
       "      <td>Book Three: Fire</td>\n",
       "      <td>59</td>\n",
       "      <td>Sozin's Comet, Part 1</td>\n",
       "      <td>Zuko</td>\n",
       "      <td>-5.0</td>\n",
       "    </tr>\n",
       "    <tr>\n",
       "      <th>364</th>\n",
       "      <td>3.0</td>\n",
       "      <td>Book Three: Fire</td>\n",
       "      <td>60</td>\n",
       "      <td>Sozin's Comet, Part 2</td>\n",
       "      <td>Zuko</td>\n",
       "      <td>-5.0</td>\n",
       "    </tr>\n",
       "    <tr>\n",
       "      <th>365</th>\n",
       "      <td>3.0</td>\n",
       "      <td>Book Three: Fire</td>\n",
       "      <td>61</td>\n",
       "      <td>Sozin's Comet, Part 3</td>\n",
       "      <td>Zuko</td>\n",
       "      <td>-5.0</td>\n",
       "    </tr>\n",
       "  </tbody>\n",
       "</table>\n",
       "<p>366 rows × 6 columns</p>\n",
       "</div>"
      ],
      "text/plain": [
       "     book_num         book_name  episode_num              episode_name  \\\n",
       "0         1.0   Book One: Water            1    The Boy in the Iceberg   \n",
       "1         1.0   Book One: Water            2        The Avatar Returns   \n",
       "2         1.0   Book One: Water            3   The Southern Air Temple   \n",
       "3         1.0   Book One: Water            4    The Warriors of Kyoshi   \n",
       "4         1.0   Book One: Water            5        The King of Omashu   \n",
       "..        ...               ...          ...                       ...   \n",
       "361       3.0  Book Three: Fire           57      The Southern Raiders   \n",
       "362       3.0  Book Three: Fire           58  The Ember Island Players   \n",
       "363       3.0  Book Three: Fire           59     Sozin's Comet, Part 1   \n",
       "364       3.0  Book Three: Fire           60     Sozin's Comet, Part 2   \n",
       "365       3.0  Book Three: Fire           61     Sozin's Comet, Part 3   \n",
       "\n",
       "    character  total_sentiment  \n",
       "0        Aang              0.0  \n",
       "1        Aang              1.0  \n",
       "2        Aang              2.0  \n",
       "3        Aang              3.0  \n",
       "4        Aang              4.0  \n",
       "..        ...              ...  \n",
       "361      Zuko             -5.0  \n",
       "362      Zuko             -5.0  \n",
       "363      Zuko             -5.0  \n",
       "364      Zuko             -5.0  \n",
       "365      Zuko             -5.0  \n",
       "\n",
       "[366 rows x 6 columns]"
      ]
     },
     "execution_count": 24,
     "metadata": {},
     "output_type": "execute_result"
    }
   ],
   "source": [
    "#spacy visualizations\n",
    "\n",
    "# Change the data frame format from wide to long.\n",
    "# Treat character names as variables and sentiment scores as values.\n",
    "atla_sentiment_df_spacy_tokenizer_long = atla_sentiment_df_spacy_tokenizer.melt(id_vars = ['book_num', 'book_name', 'episode_num', 'episode_name'], \n",
    "                                           var_name = 'character', value_name = 'sentiment')\n",
    "\n",
    "# Sort values by character (in the specified order below) and episode number.\n",
    "atla_sentiment_df_spacy_tokenizer_long['character'] = pd.Categorical(atla_sentiment_df_spacy_tokenizer_long['character'],\n",
    "                                                categories = ['Aang', 'Katara', 'Sokka', 'Toph', 'Iroh', 'Zuko'],\n",
    "                                                ordered = True)\n",
    "\n",
    "atla_sentiment_df_spacy_tokenizer_long = atla_sentiment_df_spacy_tokenizer_long.sort_values(['character', 'episode_num'])\n",
    "\n",
    "\n",
    "atla_total_sentiment_df_spacy_tokenizer = atla_sentiment_df_spacy_tokenizer_long.copy()\n",
    "\n",
    "# For each character, calculate running total of sentiment.\n",
    "atla_total_sentiment_df_spacy_tokenizer['sentiment'] = (atla_total_sentiment_df_spacy_tokenizer.groupby(['character'])['sentiment']\n",
    "                                          .apply(lambda x: x.cumsum()))\n",
    "\n",
    "# Rename column.\n",
    "atla_total_sentiment_df_spacy_tokenizer.rename(columns = {'sentiment': 'total_sentiment'}, inplace = True)\n",
    "\n",
    "atla_total_sentiment_df_spacy_tokenizer"
   ]
  },
  {
   "cell_type": "code",
   "execution_count": 25,
   "metadata": {},
   "outputs": [
    {
     "data": {
      "application/vnd.plotly.v1+json": {
       "config": {
        "plotlyServerURL": "https://plot.ly"
       },
       "data": [
        {
         "customdata": [
          [
           "The Boy in the Iceberg"
          ],
          [
           "The Avatar Returns"
          ],
          [
           "The Southern Air Temple"
          ],
          [
           "The Warriors of Kyoshi"
          ],
          [
           "The King of Omashu"
          ],
          [
           "Imprisoned"
          ],
          [
           "Winter Solstice, Part 1"
          ],
          [
           "Winter Solstice, Part 2"
          ],
          [
           "The Waterbending Scroll"
          ],
          [
           "Jet (episode)"
          ],
          [
           "The Great Divide"
          ],
          [
           "The Storm"
          ],
          [
           "The Blue Spirit"
          ],
          [
           "The Fortuneteller"
          ],
          [
           "Bato of the Water Tribe"
          ],
          [
           "The Deserter"
          ],
          [
           "The Northern Air Temple"
          ],
          [
           "The Waterbending Master"
          ],
          [
           "The Siege of the North, Part 1"
          ],
          [
           "The Siege of the North, Part 2"
          ],
          [
           "The Avatar State"
          ],
          [
           "The Cave of Two Lovers"
          ],
          [
           "Return to Omashu"
          ],
          [
           "The Swamp"
          ],
          [
           "Avatar Day"
          ],
          [
           "The Blind Bandit"
          ],
          [
           "Zuko Alone"
          ],
          [
           "The Chase"
          ],
          [
           "Bitter Work"
          ],
          [
           "The Library"
          ],
          [
           "The Desert"
          ],
          [
           "The Serpent's Pass"
          ],
          [
           "The Drill"
          ],
          [
           "City of Walls and Secrets"
          ],
          [
           "The Tales of Ba Sing Se"
          ],
          [
           "Appa's Lost Days"
          ],
          [
           "Lake Laogai (episode)"
          ],
          [
           "The Earth King"
          ],
          [
           "The Guru"
          ],
          [
           "The Crossroads of Destiny"
          ],
          [
           "Escape from the Spirit World"
          ],
          [
           "The Awakening"
          ],
          [
           "The Headband"
          ],
          [
           "The Painted Lady"
          ],
          [
           "Sokka's Master"
          ],
          [
           "The Beach"
          ],
          [
           "The Avatar and the Fire Lord"
          ],
          [
           "The Runaway"
          ],
          [
           "The Puppetmaster"
          ],
          [
           "Nightmares and Daydreams"
          ],
          [
           "The Day of Black Sun, Part 1"
          ],
          [
           "The Day of Black Sun, Part 2"
          ],
          [
           "The Western Air Temple"
          ],
          [
           "The Firebending Masters"
          ],
          [
           "The Boiling Rock, Part 1"
          ],
          [
           "The Boiling Rock, Part 2"
          ],
          [
           "The Southern Raiders"
          ],
          [
           "The Ember Island Players"
          ],
          [
           "Sozin's Comet, Part 1"
          ],
          [
           "Sozin's Comet, Part 2"
          ],
          [
           "Sozin's Comet, Part 3"
          ]
         ],
         "hovertemplate": "character=Aang<br>episode_num=%{x}<br>sentiment=%{y}<br>episode_name=%{customdata[0]}<extra></extra>",
         "legendgroup": "Aang",
         "marker": {
          "color": "#FF8F00",
          "symbol": "circle"
         },
         "mode": "markers",
         "name": "Aang",
         "orientation": "v",
         "showlegend": true,
         "type": "scatter",
         "x": [
          1,
          2,
          3,
          4,
          5,
          6,
          7,
          8,
          9,
          10,
          11,
          12,
          13,
          14,
          15,
          16,
          17,
          18,
          19,
          20,
          21,
          22,
          23,
          24,
          25,
          26,
          27,
          28,
          29,
          30,
          31,
          32,
          33,
          34,
          35,
          36,
          37,
          38,
          39,
          40,
          41,
          42,
          43,
          44,
          45,
          46,
          47,
          48,
          49,
          50,
          51,
          52,
          53,
          54,
          55,
          56,
          57,
          58,
          59,
          60,
          61
         ],
         "xaxis": "x",
         "y": [
          0,
          1,
          1,
          1,
          1,
          1,
          1,
          -1,
          1,
          0,
          0,
          0,
          0,
          1,
          1,
          0,
          0,
          1,
          1,
          0,
          0,
          1,
          0,
          1,
          1,
          1,
          null,
          1,
          0,
          1,
          0,
          0,
          0,
          1,
          1,
          0,
          0,
          0,
          1,
          1,
          1,
          0,
          0,
          0,
          0,
          -1,
          1,
          1,
          1,
          0,
          0,
          1,
          1,
          0,
          1,
          0,
          0,
          1,
          0,
          0,
          1
         ],
         "yaxis": "y"
        },
        {
         "hovertemplate": "<b>LOWESS trendline</b><br><br>character=Aang<br>episode_num=%{x}<br>sentiment=%{y} <b>(trend)</b><extra></extra>",
         "legendgroup": "Aang",
         "marker": {
          "color": "#FF8F00",
          "symbol": "circle"
         },
         "mode": "lines",
         "name": "Aang",
         "showlegend": false,
         "type": "scatter",
         "x": [
          1,
          2,
          3,
          4,
          5,
          6,
          7,
          8,
          9,
          10,
          11,
          12,
          13,
          14,
          15,
          16,
          17,
          18,
          19,
          20,
          21,
          22,
          23,
          24,
          25,
          26,
          28,
          29,
          30,
          31,
          32,
          33,
          34,
          35,
          36,
          37,
          38,
          39,
          40,
          41,
          42,
          43,
          44,
          45,
          46,
          47,
          48,
          49,
          50,
          51,
          52,
          53,
          54,
          55,
          56,
          57,
          58,
          59,
          60,
          61
         ],
         "xaxis": "x",
         "y": [
          0.6432336524748019,
          0.6338620353530809,
          0.62497170232274,
          0.6166185979295692,
          0.608826843491048,
          0.6015860541973014,
          0.5948481758219035,
          0.5885235119219168,
          0.5824900051615877,
          0.5766345571012809,
          0.5708191790541494,
          0.5649068510791931,
          0.5587756610749147,
          0.5523267776070553,
          0.545485122289985,
          0.5381517827436679,
          0.5302009774690354,
          0.5216045998102671,
          0.5127139084616869,
          0.5050066313849858,
          0.500255317009694,
          0.49751488752104056,
          0.4972518746669476,
          0.4990281979785386,
          0.5018932323916488,
          0.5046100521359141,
          0.5045811192085874,
          0.5007603839553277,
          0.49474319526361554,
          0.48742247656032917,
          0.47936851553990834,
          0.4708918242428946,
          0.4624094914095636,
          0.454110609826486,
          0.4460398499441509,
          0.43868134794678176,
          0.4321443297479858,
          0.4261494471713035,
          0.420967640105547,
          0.41703399219708287,
          0.41441698748469125,
          0.4157711453154182,
          0.4164381831040964,
          0.41690254147562916,
          0.4173783297720875,
          0.4180063847463201,
          0.4189036892685279,
          0.42010834342144093,
          0.42159759866330415,
          0.42332312204551126,
          0.42526006952339046,
          0.4273998619845178,
          0.4297078132115876,
          0.43212949912371446,
          0.4346234860716084,
          0.43713895958447463,
          0.43964969935822185,
          0.4421512355996676,
          0.4446250142364648,
          0.447076901104082
         ],
         "yaxis": "y"
        },
        {
         "customdata": [
          [
           "The Boy in the Iceberg"
          ],
          [
           "The Avatar Returns"
          ],
          [
           "The Southern Air Temple"
          ],
          [
           "The Warriors of Kyoshi"
          ],
          [
           "The King of Omashu"
          ],
          [
           "Imprisoned"
          ],
          [
           "Winter Solstice, Part 1"
          ],
          [
           "Winter Solstice, Part 2"
          ],
          [
           "The Waterbending Scroll"
          ],
          [
           "Jet (episode)"
          ],
          [
           "The Great Divide"
          ],
          [
           "The Storm"
          ],
          [
           "The Blue Spirit"
          ],
          [
           "The Fortuneteller"
          ],
          [
           "Bato of the Water Tribe"
          ],
          [
           "The Deserter"
          ],
          [
           "The Northern Air Temple"
          ],
          [
           "The Waterbending Master"
          ],
          [
           "The Siege of the North, Part 1"
          ],
          [
           "The Siege of the North, Part 2"
          ],
          [
           "The Avatar State"
          ],
          [
           "The Cave of Two Lovers"
          ],
          [
           "Return to Omashu"
          ],
          [
           "The Swamp"
          ],
          [
           "Avatar Day"
          ],
          [
           "The Blind Bandit"
          ],
          [
           "Zuko Alone"
          ],
          [
           "The Chase"
          ],
          [
           "Bitter Work"
          ],
          [
           "The Library"
          ],
          [
           "The Desert"
          ],
          [
           "The Serpent's Pass"
          ],
          [
           "The Drill"
          ],
          [
           "City of Walls and Secrets"
          ],
          [
           "The Tales of Ba Sing Se"
          ],
          [
           "Appa's Lost Days"
          ],
          [
           "Lake Laogai (episode)"
          ],
          [
           "The Earth King"
          ],
          [
           "The Guru"
          ],
          [
           "The Crossroads of Destiny"
          ],
          [
           "Escape from the Spirit World"
          ],
          [
           "The Awakening"
          ],
          [
           "The Headband"
          ],
          [
           "The Painted Lady"
          ],
          [
           "Sokka's Master"
          ],
          [
           "The Beach"
          ],
          [
           "The Avatar and the Fire Lord"
          ],
          [
           "The Runaway"
          ],
          [
           "The Puppetmaster"
          ],
          [
           "Nightmares and Daydreams"
          ],
          [
           "The Day of Black Sun, Part 1"
          ],
          [
           "The Day of Black Sun, Part 2"
          ],
          [
           "The Western Air Temple"
          ],
          [
           "The Firebending Masters"
          ],
          [
           "The Boiling Rock, Part 1"
          ],
          [
           "The Boiling Rock, Part 2"
          ],
          [
           "The Southern Raiders"
          ],
          [
           "The Ember Island Players"
          ],
          [
           "Sozin's Comet, Part 1"
          ],
          [
           "Sozin's Comet, Part 2"
          ],
          [
           "Sozin's Comet, Part 3"
          ]
         ],
         "hovertemplate": "character=Katara<br>episode_num=%{x}<br>sentiment=%{y}<br>episode_name=%{customdata[0]}<extra></extra>",
         "legendgroup": "Katara",
         "marker": {
          "color": "#40C4FF",
          "symbol": "circle"
         },
         "mode": "markers",
         "name": "Katara",
         "orientation": "v",
         "showlegend": true,
         "type": "scatter",
         "x": [
          1,
          2,
          3,
          4,
          5,
          6,
          7,
          8,
          9,
          10,
          11,
          12,
          13,
          14,
          15,
          16,
          17,
          18,
          19,
          20,
          21,
          22,
          23,
          24,
          25,
          26,
          27,
          28,
          29,
          30,
          31,
          32,
          33,
          34,
          35,
          36,
          37,
          38,
          39,
          40,
          41,
          42,
          43,
          44,
          45,
          46,
          47,
          48,
          49,
          50,
          51,
          52,
          53,
          54,
          55,
          56,
          57,
          58,
          59,
          60,
          61
         ],
         "xaxis": "x",
         "y": [
          0,
          1,
          0,
          0,
          0,
          1,
          1,
          0,
          0,
          0,
          0,
          0,
          0,
          1,
          0,
          1,
          0,
          0,
          1,
          -1,
          0,
          0,
          0,
          1,
          0,
          1,
          null,
          0,
          1,
          0,
          0,
          1,
          -1,
          0,
          1,
          null,
          0,
          0,
          1,
          -1,
          null,
          0,
          0,
          0,
          0,
          0,
          0,
          0,
          0,
          1,
          1,
          0,
          0,
          0,
          0,
          0,
          0,
          0,
          0,
          1,
          1
         ],
         "yaxis": "y"
        },
        {
         "hovertemplate": "<b>LOWESS trendline</b><br><br>character=Katara<br>episode_num=%{x}<br>sentiment=%{y} <b>(trend)</b><extra></extra>",
         "legendgroup": "Katara",
         "marker": {
          "color": "#40C4FF",
          "symbol": "circle"
         },
         "mode": "lines",
         "name": "Katara",
         "showlegend": false,
         "type": "scatter",
         "x": [
          1,
          2,
          3,
          4,
          5,
          6,
          7,
          8,
          9,
          10,
          11,
          12,
          13,
          14,
          15,
          16,
          17,
          18,
          19,
          20,
          21,
          22,
          23,
          24,
          25,
          26,
          28,
          29,
          30,
          31,
          32,
          33,
          34,
          35,
          37,
          38,
          39,
          40,
          42,
          43,
          44,
          45,
          46,
          47,
          48,
          49,
          50,
          51,
          52,
          53,
          54,
          55,
          56,
          57,
          58,
          59,
          60,
          61
         ],
         "xaxis": "x",
         "y": [
          0.02492216640282715,
          0.02667193907321857,
          0.02845467314622148,
          0.030267944712462025,
          0.03211012964379665,
          0.03398255375636754,
          0.03588773932862696,
          0.03782149950262603,
          0.03977212367600521,
          0.041727626627562464,
          0.04367803603772137,
          0.045616133097977726,
          0.047538703935237084,
          0.049448657992537295,
          0.05135531956004774,
          0.053267069105313904,
          0.05519864185774779,
          0.05716568333955025,
          0.05920742232912636,
          0.06141160982246244,
          0.06312471288044318,
          0.06463018800751329,
          0.06593915016597603,
          0.06697810303333195,
          0.06762112179346712,
          0.06772518521939928,
          0.06598844157927485,
          0.06422578448605044,
          0.062060860434349455,
          0.05965401690907976,
          0.057214460215265,
          0.05491727913068582,
          0.0527759673296272,
          0.05064406075242839,
          0.04603528771665594,
          0.04342497419542704,
          0.04059698619083824,
          0.03741179553682344,
          0.03152347581610008,
          0.029516484099428558,
          0.027876649940523753,
          0.026557075853852512,
          0.025516621310075496,
          0.02471833358985593,
          0.024129465627261436,
          0.02372229035284652,
          0.023474515710379056,
          0.023368175527508514,
          0.023385779550168802,
          0.023510842365968544,
          0.023731611580104634,
          0.024041181026639696,
          0.02443674119705825,
          0.024919031846544586,
          0.025491970903256875,
          0.026162440834731363,
          0.026940222855148677,
          0.027836013543003243
         ],
         "yaxis": "y"
        },
        {
         "customdata": [
          [
           "The Boy in the Iceberg"
          ],
          [
           "The Avatar Returns"
          ],
          [
           "The Southern Air Temple"
          ],
          [
           "The Warriors of Kyoshi"
          ],
          [
           "The King of Omashu"
          ],
          [
           "Imprisoned"
          ],
          [
           "Winter Solstice, Part 1"
          ],
          [
           "Winter Solstice, Part 2"
          ],
          [
           "The Waterbending Scroll"
          ],
          [
           "Jet (episode)"
          ],
          [
           "The Great Divide"
          ],
          [
           "The Storm"
          ],
          [
           "The Blue Spirit"
          ],
          [
           "The Fortuneteller"
          ],
          [
           "Bato of the Water Tribe"
          ],
          [
           "The Deserter"
          ],
          [
           "The Northern Air Temple"
          ],
          [
           "The Waterbending Master"
          ],
          [
           "The Siege of the North, Part 1"
          ],
          [
           "The Siege of the North, Part 2"
          ],
          [
           "The Avatar State"
          ],
          [
           "The Cave of Two Lovers"
          ],
          [
           "Return to Omashu"
          ],
          [
           "The Swamp"
          ],
          [
           "Avatar Day"
          ],
          [
           "The Blind Bandit"
          ],
          [
           "Zuko Alone"
          ],
          [
           "The Chase"
          ],
          [
           "Bitter Work"
          ],
          [
           "The Library"
          ],
          [
           "The Desert"
          ],
          [
           "The Serpent's Pass"
          ],
          [
           "The Drill"
          ],
          [
           "City of Walls and Secrets"
          ],
          [
           "The Tales of Ba Sing Se"
          ],
          [
           "Appa's Lost Days"
          ],
          [
           "Lake Laogai (episode)"
          ],
          [
           "The Earth King"
          ],
          [
           "The Guru"
          ],
          [
           "The Crossroads of Destiny"
          ],
          [
           "Escape from the Spirit World"
          ],
          [
           "The Awakening"
          ],
          [
           "The Headband"
          ],
          [
           "The Painted Lady"
          ],
          [
           "Sokka's Master"
          ],
          [
           "The Beach"
          ],
          [
           "The Avatar and the Fire Lord"
          ],
          [
           "The Runaway"
          ],
          [
           "The Puppetmaster"
          ],
          [
           "Nightmares and Daydreams"
          ],
          [
           "The Day of Black Sun, Part 1"
          ],
          [
           "The Day of Black Sun, Part 2"
          ],
          [
           "The Western Air Temple"
          ],
          [
           "The Firebending Masters"
          ],
          [
           "The Boiling Rock, Part 1"
          ],
          [
           "The Boiling Rock, Part 2"
          ],
          [
           "The Southern Raiders"
          ],
          [
           "The Ember Island Players"
          ],
          [
           "Sozin's Comet, Part 1"
          ],
          [
           "Sozin's Comet, Part 2"
          ],
          [
           "Sozin's Comet, Part 3"
          ]
         ],
         "hovertemplate": "character=Sokka<br>episode_num=%{x}<br>sentiment=%{y}<br>episode_name=%{customdata[0]}<extra></extra>",
         "legendgroup": "Sokka",
         "marker": {
          "color": "#1E88E5",
          "symbol": "circle"
         },
         "mode": "markers",
         "name": "Sokka",
         "orientation": "v",
         "showlegend": true,
         "type": "scatter",
         "x": [
          1,
          2,
          3,
          4,
          5,
          6,
          7,
          8,
          9,
          10,
          11,
          12,
          13,
          14,
          15,
          16,
          17,
          18,
          19,
          20,
          21,
          22,
          23,
          24,
          25,
          26,
          27,
          28,
          29,
          30,
          31,
          32,
          33,
          34,
          35,
          36,
          37,
          38,
          39,
          40,
          41,
          42,
          43,
          44,
          45,
          46,
          47,
          48,
          49,
          50,
          51,
          52,
          53,
          54,
          55,
          56,
          57,
          58,
          59,
          60,
          61
         ],
         "xaxis": "x",
         "y": [
          0,
          0,
          0,
          0,
          1,
          -1,
          0,
          0,
          0,
          0,
          1,
          0,
          0,
          0,
          0,
          0,
          -1,
          1,
          0,
          0,
          -1,
          0,
          -1,
          0,
          0,
          0,
          null,
          0,
          1,
          0,
          0,
          1,
          0,
          -1,
          1,
          null,
          0,
          0,
          -1,
          0,
          null,
          0,
          -1,
          0,
          0,
          -1,
          -1,
          0,
          0,
          0,
          1,
          0,
          0,
          0,
          0,
          0,
          0,
          0,
          0,
          0,
          1
         ],
         "yaxis": "y"
        },
        {
         "hovertemplate": "<b>LOWESS trendline</b><br><br>character=Sokka<br>episode_num=%{x}<br>sentiment=%{y} <b>(trend)</b><extra></extra>",
         "legendgroup": "Sokka",
         "marker": {
          "color": "#1E88E5",
          "symbol": "circle"
         },
         "mode": "lines",
         "name": "Sokka",
         "showlegend": false,
         "type": "scatter",
         "x": [
          1,
          2,
          3,
          4,
          5,
          6,
          7,
          8,
          9,
          10,
          11,
          12,
          13,
          14,
          15,
          16,
          17,
          18,
          19,
          20,
          21,
          22,
          23,
          24,
          25,
          26,
          28,
          29,
          30,
          31,
          32,
          33,
          34,
          35,
          37,
          38,
          39,
          40,
          42,
          43,
          44,
          45,
          46,
          47,
          48,
          49,
          50,
          51,
          52,
          53,
          54,
          55,
          56,
          57,
          58,
          59,
          60,
          61
         ],
         "xaxis": "x",
         "y": [
          0,
          0,
          0,
          0,
          0,
          0,
          0,
          0,
          0,
          0,
          0,
          0,
          0,
          0,
          0,
          0,
          0,
          0,
          0,
          0,
          0,
          0,
          0,
          0,
          0,
          0,
          0,
          0,
          0,
          0,
          0,
          0,
          0,
          0,
          0,
          0,
          0,
          0,
          0,
          0,
          0,
          0,
          0,
          0,
          0,
          0,
          0,
          0,
          0,
          0,
          0,
          0,
          0,
          0,
          0,
          0,
          0,
          0
         ],
         "yaxis": "y"
        },
        {
         "customdata": [
          [
           "The Boy in the Iceberg"
          ],
          [
           "The Avatar Returns"
          ],
          [
           "The Southern Air Temple"
          ],
          [
           "The Warriors of Kyoshi"
          ],
          [
           "The King of Omashu"
          ],
          [
           "Imprisoned"
          ],
          [
           "Winter Solstice, Part 1"
          ],
          [
           "Winter Solstice, Part 2"
          ],
          [
           "The Waterbending Scroll"
          ],
          [
           "Jet (episode)"
          ],
          [
           "The Great Divide"
          ],
          [
           "The Storm"
          ],
          [
           "The Blue Spirit"
          ],
          [
           "The Fortuneteller"
          ],
          [
           "Bato of the Water Tribe"
          ],
          [
           "The Deserter"
          ],
          [
           "The Northern Air Temple"
          ],
          [
           "The Waterbending Master"
          ],
          [
           "The Siege of the North, Part 1"
          ],
          [
           "The Siege of the North, Part 2"
          ],
          [
           "The Avatar State"
          ],
          [
           "The Cave of Two Lovers"
          ],
          [
           "Return to Omashu"
          ],
          [
           "The Swamp"
          ],
          [
           "Avatar Day"
          ],
          [
           "The Blind Bandit"
          ],
          [
           "Zuko Alone"
          ],
          [
           "The Chase"
          ],
          [
           "Bitter Work"
          ],
          [
           "The Library"
          ],
          [
           "The Desert"
          ],
          [
           "The Serpent's Pass"
          ],
          [
           "The Drill"
          ],
          [
           "City of Walls and Secrets"
          ],
          [
           "The Tales of Ba Sing Se"
          ],
          [
           "Appa's Lost Days"
          ],
          [
           "Lake Laogai (episode)"
          ],
          [
           "The Earth King"
          ],
          [
           "The Guru"
          ],
          [
           "The Crossroads of Destiny"
          ],
          [
           "Escape from the Spirit World"
          ],
          [
           "The Awakening"
          ],
          [
           "The Headband"
          ],
          [
           "The Painted Lady"
          ],
          [
           "Sokka's Master"
          ],
          [
           "The Beach"
          ],
          [
           "The Avatar and the Fire Lord"
          ],
          [
           "The Runaway"
          ],
          [
           "The Puppetmaster"
          ],
          [
           "Nightmares and Daydreams"
          ],
          [
           "The Day of Black Sun, Part 1"
          ],
          [
           "The Day of Black Sun, Part 2"
          ],
          [
           "The Western Air Temple"
          ],
          [
           "The Firebending Masters"
          ],
          [
           "The Boiling Rock, Part 1"
          ],
          [
           "The Boiling Rock, Part 2"
          ],
          [
           "The Southern Raiders"
          ],
          [
           "The Ember Island Players"
          ],
          [
           "Sozin's Comet, Part 1"
          ],
          [
           "Sozin's Comet, Part 2"
          ],
          [
           "Sozin's Comet, Part 3"
          ]
         ],
         "hovertemplate": "character=Toph<br>episode_num=%{x}<br>sentiment=%{y}<br>episode_name=%{customdata[0]}<extra></extra>",
         "legendgroup": "Toph",
         "marker": {
          "color": "#4CAF50",
          "symbol": "circle"
         },
         "mode": "markers",
         "name": "Toph",
         "orientation": "v",
         "showlegend": true,
         "type": "scatter",
         "x": [
          1,
          2,
          3,
          4,
          5,
          6,
          7,
          8,
          9,
          10,
          11,
          12,
          13,
          14,
          15,
          16,
          17,
          18,
          19,
          20,
          21,
          22,
          23,
          24,
          25,
          26,
          27,
          28,
          29,
          30,
          31,
          32,
          33,
          34,
          35,
          36,
          37,
          38,
          39,
          40,
          41,
          42,
          43,
          44,
          45,
          46,
          47,
          48,
          49,
          50,
          51,
          52,
          53,
          54,
          55,
          56,
          57,
          58,
          59,
          60,
          61
         ],
         "xaxis": "x",
         "y": [
          null,
          null,
          null,
          null,
          null,
          null,
          null,
          null,
          null,
          null,
          null,
          null,
          null,
          null,
          null,
          null,
          null,
          null,
          null,
          null,
          null,
          null,
          null,
          null,
          null,
          0,
          null,
          1,
          1,
          0,
          0,
          1,
          0,
          0,
          1,
          -1,
          0,
          0,
          0,
          1,
          null,
          -1,
          0,
          -1,
          0,
          1,
          1,
          0,
          0,
          0,
          1,
          1,
          0,
          1,
          1,
          1,
          1,
          1,
          1,
          0,
          -1
         ],
         "yaxis": "y"
        },
        {
         "hovertemplate": "<b>LOWESS trendline</b><br><br>character=Toph<br>episode_num=%{x}<br>sentiment=%{y} <b>(trend)</b><extra></extra>",
         "legendgroup": "Toph",
         "marker": {
          "color": "#4CAF50",
          "symbol": "circle"
         },
         "mode": "lines",
         "name": "Toph",
         "showlegend": false,
         "type": "scatter",
         "x": [
          26,
          28,
          29,
          30,
          31,
          32,
          33,
          34,
          35,
          36,
          37,
          38,
          39,
          40,
          42,
          43,
          44,
          45,
          46,
          47,
          48,
          49,
          50,
          51,
          52,
          53,
          54,
          55,
          56,
          57,
          58,
          59,
          60,
          61
         ],
         "xaxis": "x",
         "y": [
          0.5437454307134462,
          0.4632855896425468,
          0.4236551843520647,
          0.38475515183499864,
          0.34642443784611804,
          0.30853862744480387,
          0.27099340171733965,
          0.23328150556315871,
          0.19462874853795745,
          0.1538951343999457,
          0.10933786773228206,
          0.08989587216684387,
          0.05785905712822256,
          0.06026581497707062,
          0.07989791583324621,
          0.10240569512423124,
          0.13005144279155698,
          0.16326271730474515,
          0.20366772206670586,
          0.25133058111636797,
          0.3121551242244615,
          0.38666223056897553,
          0.4678496626363977,
          0.5271858546312447,
          0.5695919386678876,
          0.6043357773472802,
          0.6353799297431761,
          0.6647902842960116,
          0.6934336987420743,
          0.7214260644858482,
          0.7484425045695712,
          0.7738924416065566,
          0.7970208624606568,
          0.8170941856863334
         ],
         "yaxis": "y"
        },
        {
         "customdata": [
          [
           "The Boy in the Iceberg"
          ],
          [
           "The Avatar Returns"
          ],
          [
           "The Southern Air Temple"
          ],
          [
           "The Warriors of Kyoshi"
          ],
          [
           "The King of Omashu"
          ],
          [
           "Imprisoned"
          ],
          [
           "Winter Solstice, Part 1"
          ],
          [
           "Winter Solstice, Part 2"
          ],
          [
           "The Waterbending Scroll"
          ],
          [
           "Jet (episode)"
          ],
          [
           "The Great Divide"
          ],
          [
           "The Storm"
          ],
          [
           "The Blue Spirit"
          ],
          [
           "The Fortuneteller"
          ],
          [
           "Bato of the Water Tribe"
          ],
          [
           "The Deserter"
          ],
          [
           "The Northern Air Temple"
          ],
          [
           "The Waterbending Master"
          ],
          [
           "The Siege of the North, Part 1"
          ],
          [
           "The Siege of the North, Part 2"
          ],
          [
           "The Avatar State"
          ],
          [
           "The Cave of Two Lovers"
          ],
          [
           "Return to Omashu"
          ],
          [
           "The Swamp"
          ],
          [
           "Avatar Day"
          ],
          [
           "The Blind Bandit"
          ],
          [
           "Zuko Alone"
          ],
          [
           "The Chase"
          ],
          [
           "Bitter Work"
          ],
          [
           "The Library"
          ],
          [
           "The Desert"
          ],
          [
           "The Serpent's Pass"
          ],
          [
           "The Drill"
          ],
          [
           "City of Walls and Secrets"
          ],
          [
           "The Tales of Ba Sing Se"
          ],
          [
           "Appa's Lost Days"
          ],
          [
           "Lake Laogai (episode)"
          ],
          [
           "The Earth King"
          ],
          [
           "The Guru"
          ],
          [
           "The Crossroads of Destiny"
          ],
          [
           "Escape from the Spirit World"
          ],
          [
           "The Awakening"
          ],
          [
           "The Headband"
          ],
          [
           "The Painted Lady"
          ],
          [
           "Sokka's Master"
          ],
          [
           "The Beach"
          ],
          [
           "The Avatar and the Fire Lord"
          ],
          [
           "The Runaway"
          ],
          [
           "The Puppetmaster"
          ],
          [
           "Nightmares and Daydreams"
          ],
          [
           "The Day of Black Sun, Part 1"
          ],
          [
           "The Day of Black Sun, Part 2"
          ],
          [
           "The Western Air Temple"
          ],
          [
           "The Firebending Masters"
          ],
          [
           "The Boiling Rock, Part 1"
          ],
          [
           "The Boiling Rock, Part 2"
          ],
          [
           "The Southern Raiders"
          ],
          [
           "The Ember Island Players"
          ],
          [
           "Sozin's Comet, Part 1"
          ],
          [
           "Sozin's Comet, Part 2"
          ],
          [
           "Sozin's Comet, Part 3"
          ]
         ],
         "hovertemplate": "character=Iroh<br>episode_num=%{x}<br>sentiment=%{y}<br>episode_name=%{customdata[0]}<extra></extra>",
         "legendgroup": "Iroh",
         "marker": {
          "color": "#B71C1C",
          "symbol": "circle"
         },
         "mode": "markers",
         "name": "Iroh",
         "orientation": "v",
         "showlegend": true,
         "type": "scatter",
         "x": [
          1,
          2,
          3,
          4,
          5,
          6,
          7,
          8,
          9,
          10,
          11,
          12,
          13,
          14,
          15,
          16,
          17,
          18,
          19,
          20,
          21,
          22,
          23,
          24,
          25,
          26,
          27,
          28,
          29,
          30,
          31,
          32,
          33,
          34,
          35,
          36,
          37,
          38,
          39,
          40,
          41,
          42,
          43,
          44,
          45,
          46,
          47,
          48,
          49,
          50,
          51,
          52,
          53,
          54,
          55,
          56,
          57,
          58,
          59,
          60,
          61
         ],
         "xaxis": "x",
         "y": [
          0,
          1,
          1,
          -1,
          null,
          null,
          0,
          0,
          1,
          null,
          null,
          0,
          1,
          null,
          1,
          null,
          null,
          0,
          0,
          0,
          0,
          0,
          null,
          1,
          1,
          null,
          1,
          0,
          1,
          null,
          1,
          1,
          1,
          0,
          1,
          -1,
          1,
          1,
          1,
          1,
          null,
          null,
          null,
          null,
          null,
          null,
          0,
          null,
          null,
          null,
          1,
          null,
          1,
          null,
          null,
          null,
          null,
          1,
          null,
          0,
          -1
         ],
         "yaxis": "y"
        },
        {
         "hovertemplate": "<b>LOWESS trendline</b><br><br>character=Iroh<br>episode_num=%{x}<br>sentiment=%{y} <b>(trend)</b><extra></extra>",
         "legendgroup": "Iroh",
         "marker": {
          "color": "#B71C1C",
          "symbol": "circle"
         },
         "mode": "lines",
         "name": "Iroh",
         "showlegend": false,
         "type": "scatter",
         "x": [
          1,
          2,
          3,
          4,
          7,
          8,
          9,
          12,
          13,
          15,
          18,
          19,
          20,
          21,
          22,
          24,
          25,
          27,
          28,
          29,
          31,
          32,
          33,
          34,
          35,
          36,
          37,
          38,
          39,
          40,
          47,
          51,
          53,
          58,
          60,
          61
         ],
         "xaxis": "x",
         "y": [
          0.3571977567499343,
          0.35698986058898585,
          0.356911505237548,
          0.35692564069848326,
          0.3565682549916484,
          0.35626200705873595,
          0.35594797639239206,
          0.3564385181017967,
          0.3575280618148874,
          0.3626313403201565,
          0.40167962625823256,
          0.42441023522908544,
          0.4442192218311996,
          0.46112510718491945,
          0.463971327039136,
          0.49978575213215765,
          0.5212594022079698,
          0.5780138881019753,
          0.6093206346979397,
          0.6419614026220544,
          0.7086870248685441,
          0.7291868613525129,
          0.7615502763484323,
          0.7640642309002568,
          0.777253525868289,
          0.7711991946511528,
          0.7618969261722636,
          0.7602257734662449,
          0.759112917445439,
          0.7603470518042356,
          0.6169517874704599,
          0.5024056009407709,
          0.4495983446772952,
          0.3226924736552252,
          0.2710451218787109,
          0.24443427706094698
         ],
         "yaxis": "y"
        },
        {
         "customdata": [
          [
           "The Boy in the Iceberg"
          ],
          [
           "The Avatar Returns"
          ],
          [
           "The Southern Air Temple"
          ],
          [
           "The Warriors of Kyoshi"
          ],
          [
           "The King of Omashu"
          ],
          [
           "Imprisoned"
          ],
          [
           "Winter Solstice, Part 1"
          ],
          [
           "Winter Solstice, Part 2"
          ],
          [
           "The Waterbending Scroll"
          ],
          [
           "Jet (episode)"
          ],
          [
           "The Great Divide"
          ],
          [
           "The Storm"
          ],
          [
           "The Blue Spirit"
          ],
          [
           "The Fortuneteller"
          ],
          [
           "Bato of the Water Tribe"
          ],
          [
           "The Deserter"
          ],
          [
           "The Northern Air Temple"
          ],
          [
           "The Waterbending Master"
          ],
          [
           "The Siege of the North, Part 1"
          ],
          [
           "The Siege of the North, Part 2"
          ],
          [
           "The Avatar State"
          ],
          [
           "The Cave of Two Lovers"
          ],
          [
           "Return to Omashu"
          ],
          [
           "The Swamp"
          ],
          [
           "Avatar Day"
          ],
          [
           "The Blind Bandit"
          ],
          [
           "Zuko Alone"
          ],
          [
           "The Chase"
          ],
          [
           "Bitter Work"
          ],
          [
           "The Library"
          ],
          [
           "The Desert"
          ],
          [
           "The Serpent's Pass"
          ],
          [
           "The Drill"
          ],
          [
           "City of Walls and Secrets"
          ],
          [
           "The Tales of Ba Sing Se"
          ],
          [
           "Appa's Lost Days"
          ],
          [
           "Lake Laogai (episode)"
          ],
          [
           "The Earth King"
          ],
          [
           "The Guru"
          ],
          [
           "The Crossroads of Destiny"
          ],
          [
           "Escape from the Spirit World"
          ],
          [
           "The Awakening"
          ],
          [
           "The Headband"
          ],
          [
           "The Painted Lady"
          ],
          [
           "Sokka's Master"
          ],
          [
           "The Beach"
          ],
          [
           "The Avatar and the Fire Lord"
          ],
          [
           "The Runaway"
          ],
          [
           "The Puppetmaster"
          ],
          [
           "Nightmares and Daydreams"
          ],
          [
           "The Day of Black Sun, Part 1"
          ],
          [
           "The Day of Black Sun, Part 2"
          ],
          [
           "The Western Air Temple"
          ],
          [
           "The Firebending Masters"
          ],
          [
           "The Boiling Rock, Part 1"
          ],
          [
           "The Boiling Rock, Part 2"
          ],
          [
           "The Southern Raiders"
          ],
          [
           "The Ember Island Players"
          ],
          [
           "Sozin's Comet, Part 1"
          ],
          [
           "Sozin's Comet, Part 2"
          ],
          [
           "Sozin's Comet, Part 3"
          ]
         ],
         "hovertemplate": "character=Zuko<br>episode_num=%{x}<br>sentiment=%{y}<br>episode_name=%{customdata[0]}<extra></extra>",
         "legendgroup": "Zuko",
         "marker": {
          "color": "#F44336",
          "symbol": "circle"
         },
         "mode": "markers",
         "name": "Zuko",
         "orientation": "v",
         "showlegend": true,
         "type": "scatter",
         "x": [
          1,
          2,
          3,
          4,
          5,
          6,
          7,
          8,
          9,
          10,
          11,
          12,
          13,
          14,
          15,
          16,
          17,
          18,
          19,
          20,
          21,
          22,
          23,
          24,
          25,
          26,
          27,
          28,
          29,
          30,
          31,
          32,
          33,
          34,
          35,
          36,
          37,
          38,
          39,
          40,
          41,
          42,
          43,
          44,
          45,
          46,
          47,
          48,
          49,
          50,
          51,
          52,
          53,
          54,
          55,
          56,
          57,
          58,
          59,
          60,
          61
         ],
         "xaxis": "x",
         "y": [
          -1,
          -1,
          0,
          1,
          null,
          null,
          0,
          0,
          0,
          null,
          null,
          1,
          -1,
          null,
          -1,
          null,
          null,
          0,
          0,
          0,
          -1,
          1,
          null,
          -1,
          0,
          null,
          -1,
          -1,
          1,
          null,
          1,
          -1,
          -1,
          -1,
          0,
          0,
          1,
          0,
          1,
          0,
          null,
          -1,
          0,
          null,
          null,
          0,
          0,
          null,
          null,
          0,
          -1,
          0,
          0,
          0,
          0,
          1,
          0,
          0,
          0,
          0,
          0
         ],
         "yaxis": "y"
        },
        {
         "hovertemplate": "<b>LOWESS trendline</b><br><br>character=Zuko<br>episode_num=%{x}<br>sentiment=%{y} <b>(trend)</b><extra></extra>",
         "legendgroup": "Zuko",
         "marker": {
          "color": "#F44336",
          "symbol": "circle"
         },
         "mode": "lines",
         "name": "Zuko",
         "showlegend": false,
         "type": "scatter",
         "x": [
          1,
          2,
          3,
          4,
          7,
          8,
          9,
          12,
          13,
          15,
          18,
          19,
          20,
          21,
          22,
          24,
          25,
          27,
          28,
          29,
          31,
          32,
          33,
          34,
          35,
          36,
          37,
          38,
          39,
          40,
          42,
          43,
          46,
          47,
          50,
          51,
          52,
          53,
          54,
          55,
          56,
          57,
          58,
          59,
          60,
          61
         ],
         "xaxis": "x",
         "y": [
          -0.19666245887667905,
          -0.202008175523772,
          -0.20779568809824722,
          -0.21389323048708472,
          -0.23296650069116612,
          -0.2393216246473174,
          -0.2455720245779118,
          -0.2636767595060185,
          -0.2696466690250266,
          -0.28225701616099974,
          -0.3069529006816999,
          -0.3197849935972557,
          -0.3384893663903039,
          -0.35202554062439667,
          -0.36175003331818123,
          -0.35620012909941695,
          -0.3549325104809693,
          -0.35052491901377963,
          -0.33463201813224636,
          -0.32346306344193854,
          -0.29957792181884046,
          -0.2923085471723421,
          -0.2817179304330616,
          -0.27182779000616886,
          -0.26197816392471496,
          -0.2507088667391523,
          -0.23527929234087877,
          -0.2184630034012101,
          -0.2003492792354399,
          -0.18108216350872347,
          -0.1351982876295833,
          -0.11571669479778864,
          -0.07781185669244371,
          -0.06678471514513916,
          -0.03665707611053382,
          -0.027340421602747106,
          -0.018268616594443364,
          -0.009345298859200026,
          -0.0004877215984706376,
          0.008367732074381434,
          0.017270486056752493,
          0.026249964839037236,
          0.035292923888318055,
          0.044378203224259144,
          0.053487994730523625,
          0.06260912960286064
         ],
         "yaxis": "y"
        }
       ],
       "layout": {
        "height": 750,
        "legend": {
         "title": {
          "text": "Characters"
         },
         "tracegroupgap": 0
        },
        "margin": {
         "t": 60
        },
        "template": {
         "data": {
          "bar": [
           {
            "error_x": {
             "color": "#2a3f5f"
            },
            "error_y": {
             "color": "#2a3f5f"
            },
            "marker": {
             "line": {
              "color": "#E5ECF6",
              "width": 0.5
             },
             "pattern": {
              "fillmode": "overlay",
              "size": 10,
              "solidity": 0.2
             }
            },
            "type": "bar"
           }
          ],
          "barpolar": [
           {
            "marker": {
             "line": {
              "color": "#E5ECF6",
              "width": 0.5
             },
             "pattern": {
              "fillmode": "overlay",
              "size": 10,
              "solidity": 0.2
             }
            },
            "type": "barpolar"
           }
          ],
          "carpet": [
           {
            "aaxis": {
             "endlinecolor": "#2a3f5f",
             "gridcolor": "white",
             "linecolor": "white",
             "minorgridcolor": "white",
             "startlinecolor": "#2a3f5f"
            },
            "baxis": {
             "endlinecolor": "#2a3f5f",
             "gridcolor": "white",
             "linecolor": "white",
             "minorgridcolor": "white",
             "startlinecolor": "#2a3f5f"
            },
            "type": "carpet"
           }
          ],
          "choropleth": [
           {
            "colorbar": {
             "outlinewidth": 0,
             "ticks": ""
            },
            "type": "choropleth"
           }
          ],
          "contour": [
           {
            "colorbar": {
             "outlinewidth": 0,
             "ticks": ""
            },
            "colorscale": [
             [
              0,
              "#0d0887"
             ],
             [
              0.1111111111111111,
              "#46039f"
             ],
             [
              0.2222222222222222,
              "#7201a8"
             ],
             [
              0.3333333333333333,
              "#9c179e"
             ],
             [
              0.4444444444444444,
              "#bd3786"
             ],
             [
              0.5555555555555556,
              "#d8576b"
             ],
             [
              0.6666666666666666,
              "#ed7953"
             ],
             [
              0.7777777777777778,
              "#fb9f3a"
             ],
             [
              0.8888888888888888,
              "#fdca26"
             ],
             [
              1,
              "#f0f921"
             ]
            ],
            "type": "contour"
           }
          ],
          "contourcarpet": [
           {
            "colorbar": {
             "outlinewidth": 0,
             "ticks": ""
            },
            "type": "contourcarpet"
           }
          ],
          "heatmap": [
           {
            "colorbar": {
             "outlinewidth": 0,
             "ticks": ""
            },
            "colorscale": [
             [
              0,
              "#0d0887"
             ],
             [
              0.1111111111111111,
              "#46039f"
             ],
             [
              0.2222222222222222,
              "#7201a8"
             ],
             [
              0.3333333333333333,
              "#9c179e"
             ],
             [
              0.4444444444444444,
              "#bd3786"
             ],
             [
              0.5555555555555556,
              "#d8576b"
             ],
             [
              0.6666666666666666,
              "#ed7953"
             ],
             [
              0.7777777777777778,
              "#fb9f3a"
             ],
             [
              0.8888888888888888,
              "#fdca26"
             ],
             [
              1,
              "#f0f921"
             ]
            ],
            "type": "heatmap"
           }
          ],
          "heatmapgl": [
           {
            "colorbar": {
             "outlinewidth": 0,
             "ticks": ""
            },
            "colorscale": [
             [
              0,
              "#0d0887"
             ],
             [
              0.1111111111111111,
              "#46039f"
             ],
             [
              0.2222222222222222,
              "#7201a8"
             ],
             [
              0.3333333333333333,
              "#9c179e"
             ],
             [
              0.4444444444444444,
              "#bd3786"
             ],
             [
              0.5555555555555556,
              "#d8576b"
             ],
             [
              0.6666666666666666,
              "#ed7953"
             ],
             [
              0.7777777777777778,
              "#fb9f3a"
             ],
             [
              0.8888888888888888,
              "#fdca26"
             ],
             [
              1,
              "#f0f921"
             ]
            ],
            "type": "heatmapgl"
           }
          ],
          "histogram": [
           {
            "marker": {
             "pattern": {
              "fillmode": "overlay",
              "size": 10,
              "solidity": 0.2
             }
            },
            "type": "histogram"
           }
          ],
          "histogram2d": [
           {
            "colorbar": {
             "outlinewidth": 0,
             "ticks": ""
            },
            "colorscale": [
             [
              0,
              "#0d0887"
             ],
             [
              0.1111111111111111,
              "#46039f"
             ],
             [
              0.2222222222222222,
              "#7201a8"
             ],
             [
              0.3333333333333333,
              "#9c179e"
             ],
             [
              0.4444444444444444,
              "#bd3786"
             ],
             [
              0.5555555555555556,
              "#d8576b"
             ],
             [
              0.6666666666666666,
              "#ed7953"
             ],
             [
              0.7777777777777778,
              "#fb9f3a"
             ],
             [
              0.8888888888888888,
              "#fdca26"
             ],
             [
              1,
              "#f0f921"
             ]
            ],
            "type": "histogram2d"
           }
          ],
          "histogram2dcontour": [
           {
            "colorbar": {
             "outlinewidth": 0,
             "ticks": ""
            },
            "colorscale": [
             [
              0,
              "#0d0887"
             ],
             [
              0.1111111111111111,
              "#46039f"
             ],
             [
              0.2222222222222222,
              "#7201a8"
             ],
             [
              0.3333333333333333,
              "#9c179e"
             ],
             [
              0.4444444444444444,
              "#bd3786"
             ],
             [
              0.5555555555555556,
              "#d8576b"
             ],
             [
              0.6666666666666666,
              "#ed7953"
             ],
             [
              0.7777777777777778,
              "#fb9f3a"
             ],
             [
              0.8888888888888888,
              "#fdca26"
             ],
             [
              1,
              "#f0f921"
             ]
            ],
            "type": "histogram2dcontour"
           }
          ],
          "mesh3d": [
           {
            "colorbar": {
             "outlinewidth": 0,
             "ticks": ""
            },
            "type": "mesh3d"
           }
          ],
          "parcoords": [
           {
            "line": {
             "colorbar": {
              "outlinewidth": 0,
              "ticks": ""
             }
            },
            "type": "parcoords"
           }
          ],
          "pie": [
           {
            "automargin": true,
            "type": "pie"
           }
          ],
          "scatter": [
           {
            "fillpattern": {
             "fillmode": "overlay",
             "size": 10,
             "solidity": 0.2
            },
            "type": "scatter"
           }
          ],
          "scatter3d": [
           {
            "line": {
             "colorbar": {
              "outlinewidth": 0,
              "ticks": ""
             }
            },
            "marker": {
             "colorbar": {
              "outlinewidth": 0,
              "ticks": ""
             }
            },
            "type": "scatter3d"
           }
          ],
          "scattercarpet": [
           {
            "marker": {
             "colorbar": {
              "outlinewidth": 0,
              "ticks": ""
             }
            },
            "type": "scattercarpet"
           }
          ],
          "scattergeo": [
           {
            "marker": {
             "colorbar": {
              "outlinewidth": 0,
              "ticks": ""
             }
            },
            "type": "scattergeo"
           }
          ],
          "scattergl": [
           {
            "marker": {
             "colorbar": {
              "outlinewidth": 0,
              "ticks": ""
             }
            },
            "type": "scattergl"
           }
          ],
          "scattermapbox": [
           {
            "marker": {
             "colorbar": {
              "outlinewidth": 0,
              "ticks": ""
             }
            },
            "type": "scattermapbox"
           }
          ],
          "scatterpolar": [
           {
            "marker": {
             "colorbar": {
              "outlinewidth": 0,
              "ticks": ""
             }
            },
            "type": "scatterpolar"
           }
          ],
          "scatterpolargl": [
           {
            "marker": {
             "colorbar": {
              "outlinewidth": 0,
              "ticks": ""
             }
            },
            "type": "scatterpolargl"
           }
          ],
          "scatterternary": [
           {
            "marker": {
             "colorbar": {
              "outlinewidth": 0,
              "ticks": ""
             }
            },
            "type": "scatterternary"
           }
          ],
          "surface": [
           {
            "colorbar": {
             "outlinewidth": 0,
             "ticks": ""
            },
            "colorscale": [
             [
              0,
              "#0d0887"
             ],
             [
              0.1111111111111111,
              "#46039f"
             ],
             [
              0.2222222222222222,
              "#7201a8"
             ],
             [
              0.3333333333333333,
              "#9c179e"
             ],
             [
              0.4444444444444444,
              "#bd3786"
             ],
             [
              0.5555555555555556,
              "#d8576b"
             ],
             [
              0.6666666666666666,
              "#ed7953"
             ],
             [
              0.7777777777777778,
              "#fb9f3a"
             ],
             [
              0.8888888888888888,
              "#fdca26"
             ],
             [
              1,
              "#f0f921"
             ]
            ],
            "type": "surface"
           }
          ],
          "table": [
           {
            "cells": {
             "fill": {
              "color": "#EBF0F8"
             },
             "line": {
              "color": "white"
             }
            },
            "header": {
             "fill": {
              "color": "#C8D4E3"
             },
             "line": {
              "color": "white"
             }
            },
            "type": "table"
           }
          ]
         },
         "layout": {
          "annotationdefaults": {
           "arrowcolor": "#2a3f5f",
           "arrowhead": 0,
           "arrowwidth": 1
          },
          "autotypenumbers": "strict",
          "coloraxis": {
           "colorbar": {
            "outlinewidth": 0,
            "ticks": ""
           }
          },
          "colorscale": {
           "diverging": [
            [
             0,
             "#8e0152"
            ],
            [
             0.1,
             "#c51b7d"
            ],
            [
             0.2,
             "#de77ae"
            ],
            [
             0.3,
             "#f1b6da"
            ],
            [
             0.4,
             "#fde0ef"
            ],
            [
             0.5,
             "#f7f7f7"
            ],
            [
             0.6,
             "#e6f5d0"
            ],
            [
             0.7,
             "#b8e186"
            ],
            [
             0.8,
             "#7fbc41"
            ],
            [
             0.9,
             "#4d9221"
            ],
            [
             1,
             "#276419"
            ]
           ],
           "sequential": [
            [
             0,
             "#0d0887"
            ],
            [
             0.1111111111111111,
             "#46039f"
            ],
            [
             0.2222222222222222,
             "#7201a8"
            ],
            [
             0.3333333333333333,
             "#9c179e"
            ],
            [
             0.4444444444444444,
             "#bd3786"
            ],
            [
             0.5555555555555556,
             "#d8576b"
            ],
            [
             0.6666666666666666,
             "#ed7953"
            ],
            [
             0.7777777777777778,
             "#fb9f3a"
            ],
            [
             0.8888888888888888,
             "#fdca26"
            ],
            [
             1,
             "#f0f921"
            ]
           ],
           "sequentialminus": [
            [
             0,
             "#0d0887"
            ],
            [
             0.1111111111111111,
             "#46039f"
            ],
            [
             0.2222222222222222,
             "#7201a8"
            ],
            [
             0.3333333333333333,
             "#9c179e"
            ],
            [
             0.4444444444444444,
             "#bd3786"
            ],
            [
             0.5555555555555556,
             "#d8576b"
            ],
            [
             0.6666666666666666,
             "#ed7953"
            ],
            [
             0.7777777777777778,
             "#fb9f3a"
            ],
            [
             0.8888888888888888,
             "#fdca26"
            ],
            [
             1,
             "#f0f921"
            ]
           ]
          },
          "colorway": [
           "#636efa",
           "#EF553B",
           "#00cc96",
           "#ab63fa",
           "#FFA15A",
           "#19d3f3",
           "#FF6692",
           "#B6E880",
           "#FF97FF",
           "#FECB52"
          ],
          "font": {
           "color": "#2a3f5f"
          },
          "geo": {
           "bgcolor": "white",
           "lakecolor": "white",
           "landcolor": "#E5ECF6",
           "showlakes": true,
           "showland": true,
           "subunitcolor": "white"
          },
          "hoverlabel": {
           "align": "left"
          },
          "hovermode": "closest",
          "mapbox": {
           "style": "light"
          },
          "paper_bgcolor": "white",
          "plot_bgcolor": "#E5ECF6",
          "polar": {
           "angularaxis": {
            "gridcolor": "white",
            "linecolor": "white",
            "ticks": ""
           },
           "bgcolor": "#E5ECF6",
           "radialaxis": {
            "gridcolor": "white",
            "linecolor": "white",
            "ticks": ""
           }
          },
          "scene": {
           "xaxis": {
            "backgroundcolor": "#E5ECF6",
            "gridcolor": "white",
            "gridwidth": 2,
            "linecolor": "white",
            "showbackground": true,
            "ticks": "",
            "zerolinecolor": "white"
           },
           "yaxis": {
            "backgroundcolor": "#E5ECF6",
            "gridcolor": "white",
            "gridwidth": 2,
            "linecolor": "white",
            "showbackground": true,
            "ticks": "",
            "zerolinecolor": "white"
           },
           "zaxis": {
            "backgroundcolor": "#E5ECF6",
            "gridcolor": "white",
            "gridwidth": 2,
            "linecolor": "white",
            "showbackground": true,
            "ticks": "",
            "zerolinecolor": "white"
           }
          },
          "shapedefaults": {
           "line": {
            "color": "#2a3f5f"
           }
          },
          "ternary": {
           "aaxis": {
            "gridcolor": "white",
            "linecolor": "white",
            "ticks": ""
           },
           "baxis": {
            "gridcolor": "white",
            "linecolor": "white",
            "ticks": ""
           },
           "bgcolor": "#E5ECF6",
           "caxis": {
            "gridcolor": "white",
            "linecolor": "white",
            "ticks": ""
           }
          },
          "title": {
           "x": 0.05
          },
          "xaxis": {
           "automargin": true,
           "gridcolor": "white",
           "linecolor": "white",
           "ticks": "",
           "title": {
            "standoff": 15
           },
           "zerolinecolor": "white",
           "zerolinewidth": 2
          },
          "yaxis": {
           "automargin": true,
           "gridcolor": "white",
           "linecolor": "white",
           "ticks": "",
           "title": {
            "standoff": 15
           },
           "zerolinecolor": "white",
           "zerolinewidth": 2
          }
         }
        },
        "title": {
         "text": "Sentiments per episode",
         "x": 0.5,
         "xanchor": "center"
        },
        "width": 950,
        "xaxis": {
         "anchor": "y",
         "domain": [
          0,
          1
         ],
         "title": {
          "text": "Episode number"
         }
        },
        "yaxis": {
         "anchor": "x",
         "domain": [
          0,
          1
         ],
         "title": {
          "text": "Sentiment"
         }
        }
       }
      }
     },
     "metadata": {},
     "output_type": "display_data"
    }
   ],
   "source": [
    "# Plot sentiment per episode, per character.\n",
    "legend_colors = ['#FF8F00', '#40C4FF', '#1E88E5', '#4CAF50', '#B71C1C', '#F44336']\n",
    "                 \n",
    "sentiment_fig = px.scatter(atla_sentiment_df_spacy_tokenizer_long, x = 'episode_num', y = 'sentiment',\n",
    "                           color = 'character',\n",
    "                           color_discrete_sequence = legend_colors,\n",
    "                           hover_data = ['episode_name'],\n",
    "                           trendline = 'lowess',\n",
    "                           width = 950, height = 750)\n",
    "\n",
    "# Customize titles.\n",
    "sentiment_fig.update_layout(title = {'text': \"Sentiments per episode\",\n",
    "                                     'x': 0.5,\n",
    "                                     'xanchor': 'center'},\n",
    "                            xaxis_title = \"Episode number\",\n",
    "                            yaxis_title = \"Sentiment\",\n",
    "                            legend_title = \"Characters\")\n",
    "\n",
    "# Correct position of x points.\n",
    "for scatter, trendline in zip(sentiment_fig.data[::2], sentiment_fig.data[1::2]):\n",
    "    trendline['x'] = scatter['x'][np.logical_not(np.isnan(scatter['y']))]\n",
    "    \n",
    "sentiment_fig.show()"
   ]
  },
  {
   "cell_type": "code",
   "execution_count": 26,
   "metadata": {},
   "outputs": [
    {
     "data": {
      "application/vnd.plotly.v1+json": {
       "config": {
        "plotlyServerURL": "https://plot.ly"
       },
       "data": [
        {
         "customdata": [
          [
           "The Boy in the Iceberg"
          ],
          [
           "The Avatar Returns"
          ],
          [
           "The Southern Air Temple"
          ],
          [
           "The Warriors of Kyoshi"
          ],
          [
           "The King of Omashu"
          ],
          [
           "Imprisoned"
          ],
          [
           "Winter Solstice, Part 1"
          ],
          [
           "Winter Solstice, Part 2"
          ],
          [
           "The Waterbending Scroll"
          ],
          [
           "Jet (episode)"
          ],
          [
           "The Great Divide"
          ],
          [
           "The Storm"
          ],
          [
           "The Blue Spirit"
          ],
          [
           "The Fortuneteller"
          ],
          [
           "Bato of the Water Tribe"
          ],
          [
           "The Deserter"
          ],
          [
           "The Northern Air Temple"
          ],
          [
           "The Waterbending Master"
          ],
          [
           "The Siege of the North, Part 1"
          ],
          [
           "The Siege of the North, Part 2"
          ],
          [
           "The Avatar State"
          ],
          [
           "The Cave of Two Lovers"
          ],
          [
           "Return to Omashu"
          ],
          [
           "The Swamp"
          ],
          [
           "Avatar Day"
          ],
          [
           "The Blind Bandit"
          ],
          [
           "Zuko Alone"
          ],
          [
           "The Chase"
          ],
          [
           "Bitter Work"
          ],
          [
           "The Library"
          ],
          [
           "The Desert"
          ],
          [
           "The Serpent's Pass"
          ],
          [
           "The Drill"
          ],
          [
           "City of Walls and Secrets"
          ],
          [
           "The Tales of Ba Sing Se"
          ],
          [
           "Appa's Lost Days"
          ],
          [
           "Lake Laogai (episode)"
          ],
          [
           "The Earth King"
          ],
          [
           "The Guru"
          ],
          [
           "The Crossroads of Destiny"
          ],
          [
           "Escape from the Spirit World"
          ],
          [
           "The Awakening"
          ],
          [
           "The Headband"
          ],
          [
           "The Painted Lady"
          ],
          [
           "Sokka's Master"
          ],
          [
           "The Beach"
          ],
          [
           "The Avatar and the Fire Lord"
          ],
          [
           "The Runaway"
          ],
          [
           "The Puppetmaster"
          ],
          [
           "Nightmares and Daydreams"
          ],
          [
           "The Day of Black Sun, Part 1"
          ],
          [
           "The Day of Black Sun, Part 2"
          ],
          [
           "The Western Air Temple"
          ],
          [
           "The Firebending Masters"
          ],
          [
           "The Boiling Rock, Part 1"
          ],
          [
           "The Boiling Rock, Part 2"
          ],
          [
           "The Southern Raiders"
          ],
          [
           "The Ember Island Players"
          ],
          [
           "Sozin's Comet, Part 1"
          ],
          [
           "Sozin's Comet, Part 2"
          ],
          [
           "Sozin's Comet, Part 3"
          ]
         ],
         "hovertemplate": "character=Aang<br>episode_num=%{x}<br>total_sentiment=%{y}<br>episode_name=%{customdata[0]}<extra></extra>",
         "legendgroup": "Aang",
         "marker": {
          "color": "#FF8F00",
          "symbol": "circle"
         },
         "mode": "markers",
         "name": "Aang",
         "orientation": "v",
         "showlegend": true,
         "type": "scatter",
         "x": [
          1,
          2,
          3,
          4,
          5,
          6,
          7,
          8,
          9,
          10,
          11,
          12,
          13,
          14,
          15,
          16,
          17,
          18,
          19,
          20,
          21,
          22,
          23,
          24,
          25,
          26,
          27,
          28,
          29,
          30,
          31,
          32,
          33,
          34,
          35,
          36,
          37,
          38,
          39,
          40,
          41,
          42,
          43,
          44,
          45,
          46,
          47,
          48,
          49,
          50,
          51,
          52,
          53,
          54,
          55,
          56,
          57,
          58,
          59,
          60,
          61
         ],
         "xaxis": "x",
         "y": [
          0,
          1,
          2,
          3,
          4,
          5,
          6,
          5,
          6,
          6,
          6,
          6,
          6,
          7,
          8,
          8,
          8,
          9,
          10,
          10,
          10,
          11,
          11,
          12,
          13,
          14,
          null,
          15,
          15,
          16,
          16,
          16,
          16,
          17,
          18,
          18,
          18,
          18,
          19,
          20,
          21,
          21,
          21,
          21,
          21,
          20,
          21,
          22,
          23,
          23,
          23,
          24,
          25,
          25,
          26,
          26,
          26,
          27,
          27,
          27,
          28
         ],
         "yaxis": "y"
        },
        {
         "hovertemplate": "<b>LOWESS trendline</b><br><br>character=Aang<br>episode_num=%{x}<br>total_sentiment=%{y} <b>(trend)</b><extra></extra>",
         "legendgroup": "Aang",
         "marker": {
          "color": "#FF8F00",
          "symbol": "circle"
         },
         "mode": "lines",
         "name": "Aang",
         "showlegend": false,
         "type": "scatter",
         "x": [
          1,
          2,
          3,
          4,
          5,
          6,
          7,
          8,
          9,
          10,
          11,
          12,
          13,
          14,
          15,
          16,
          17,
          18,
          19,
          20,
          21,
          22,
          23,
          24,
          25,
          26,
          28,
          29,
          30,
          31,
          32,
          33,
          34,
          35,
          36,
          37,
          38,
          39,
          40,
          41,
          42,
          43,
          44,
          45,
          46,
          47,
          48,
          49,
          50,
          51,
          52,
          53,
          54,
          55,
          56,
          57,
          58,
          59,
          60,
          61
         ],
         "xaxis": "x",
         "y": [
          1.2652616021462861,
          1.7338840993159355,
          2.2027052225515327,
          2.6719302915471306,
          3.141797788484318,
          3.6125308843997774,
          4.084301983242252,
          4.557224168539278,
          5.0313615670862095,
          5.506719296269772,
          5.983215066824168,
          6.460672840847922,
          6.9388305769349214,
          7.417348804413799,
          7.895801821888694,
          8.373614508371853,
          8.84995064556441,
          9.323636256636249,
          9.79322280636721,
          10.257916948428992,
          10.731789100835291,
          11.205267890416456,
          11.679946222319083,
          12.156929497258043,
          12.636478181016464,
          13.11802389181962,
          14.082688874789941,
          14.562722132948345,
          15.038296355164738,
          15.507507534559481,
          15.969011986261066,
          16.42197071493593,
          16.86607450281083,
          17.301541445560282,
          17.728836084685692,
          18.14890443269762,
          18.562652432658087,
          18.970776365682518,
          19.374285439147084,
          19.77455944906091,
          20.172945225993832,
          20.574124280408775,
          20.975596551342974,
          21.37638842354967,
          21.776297870872604,
          22.175379749781698,
          22.57377509620989,
          22.971662997543206,
          23.369222370954006,
          23.76660625804513,
          24.163962989778383,
          24.561447045538287,
          24.959193887926393,
          25.35729912697789,
          25.75582932229027,
          26.154810443012185,
          26.554245993866612,
          26.95413427537928,
          27.354450369424832,
          27.755165578402693
         ],
         "yaxis": "y"
        },
        {
         "customdata": [
          [
           "The Boy in the Iceberg"
          ],
          [
           "The Avatar Returns"
          ],
          [
           "The Southern Air Temple"
          ],
          [
           "The Warriors of Kyoshi"
          ],
          [
           "The King of Omashu"
          ],
          [
           "Imprisoned"
          ],
          [
           "Winter Solstice, Part 1"
          ],
          [
           "Winter Solstice, Part 2"
          ],
          [
           "The Waterbending Scroll"
          ],
          [
           "Jet (episode)"
          ],
          [
           "The Great Divide"
          ],
          [
           "The Storm"
          ],
          [
           "The Blue Spirit"
          ],
          [
           "The Fortuneteller"
          ],
          [
           "Bato of the Water Tribe"
          ],
          [
           "The Deserter"
          ],
          [
           "The Northern Air Temple"
          ],
          [
           "The Waterbending Master"
          ],
          [
           "The Siege of the North, Part 1"
          ],
          [
           "The Siege of the North, Part 2"
          ],
          [
           "The Avatar State"
          ],
          [
           "The Cave of Two Lovers"
          ],
          [
           "Return to Omashu"
          ],
          [
           "The Swamp"
          ],
          [
           "Avatar Day"
          ],
          [
           "The Blind Bandit"
          ],
          [
           "Zuko Alone"
          ],
          [
           "The Chase"
          ],
          [
           "Bitter Work"
          ],
          [
           "The Library"
          ],
          [
           "The Desert"
          ],
          [
           "The Serpent's Pass"
          ],
          [
           "The Drill"
          ],
          [
           "City of Walls and Secrets"
          ],
          [
           "The Tales of Ba Sing Se"
          ],
          [
           "Appa's Lost Days"
          ],
          [
           "Lake Laogai (episode)"
          ],
          [
           "The Earth King"
          ],
          [
           "The Guru"
          ],
          [
           "The Crossroads of Destiny"
          ],
          [
           "Escape from the Spirit World"
          ],
          [
           "The Awakening"
          ],
          [
           "The Headband"
          ],
          [
           "The Painted Lady"
          ],
          [
           "Sokka's Master"
          ],
          [
           "The Beach"
          ],
          [
           "The Avatar and the Fire Lord"
          ],
          [
           "The Runaway"
          ],
          [
           "The Puppetmaster"
          ],
          [
           "Nightmares and Daydreams"
          ],
          [
           "The Day of Black Sun, Part 1"
          ],
          [
           "The Day of Black Sun, Part 2"
          ],
          [
           "The Western Air Temple"
          ],
          [
           "The Firebending Masters"
          ],
          [
           "The Boiling Rock, Part 1"
          ],
          [
           "The Boiling Rock, Part 2"
          ],
          [
           "The Southern Raiders"
          ],
          [
           "The Ember Island Players"
          ],
          [
           "Sozin's Comet, Part 1"
          ],
          [
           "Sozin's Comet, Part 2"
          ],
          [
           "Sozin's Comet, Part 3"
          ]
         ],
         "hovertemplate": "character=Katara<br>episode_num=%{x}<br>total_sentiment=%{y}<br>episode_name=%{customdata[0]}<extra></extra>",
         "legendgroup": "Katara",
         "marker": {
          "color": "#40C4FF",
          "symbol": "circle"
         },
         "mode": "markers",
         "name": "Katara",
         "orientation": "v",
         "showlegend": true,
         "type": "scatter",
         "x": [
          1,
          2,
          3,
          4,
          5,
          6,
          7,
          8,
          9,
          10,
          11,
          12,
          13,
          14,
          15,
          16,
          17,
          18,
          19,
          20,
          21,
          22,
          23,
          24,
          25,
          26,
          27,
          28,
          29,
          30,
          31,
          32,
          33,
          34,
          35,
          36,
          37,
          38,
          39,
          40,
          41,
          42,
          43,
          44,
          45,
          46,
          47,
          48,
          49,
          50,
          51,
          52,
          53,
          54,
          55,
          56,
          57,
          58,
          59,
          60,
          61
         ],
         "xaxis": "x",
         "y": [
          0,
          1,
          1,
          1,
          1,
          2,
          3,
          3,
          3,
          3,
          3,
          3,
          3,
          4,
          4,
          5,
          5,
          5,
          6,
          5,
          5,
          5,
          5,
          6,
          6,
          7,
          null,
          7,
          8,
          8,
          8,
          9,
          8,
          8,
          9,
          null,
          9,
          9,
          10,
          9,
          null,
          9,
          9,
          9,
          9,
          9,
          9,
          9,
          9,
          10,
          11,
          11,
          11,
          11,
          11,
          11,
          11,
          11,
          11,
          12,
          13
         ],
         "yaxis": "y"
        },
        {
         "hovertemplate": "<b>LOWESS trendline</b><br><br>character=Katara<br>episode_num=%{x}<br>total_sentiment=%{y} <b>(trend)</b><extra></extra>",
         "legendgroup": "Katara",
         "marker": {
          "color": "#40C4FF",
          "symbol": "circle"
         },
         "mode": "lines",
         "name": "Katara",
         "showlegend": false,
         "type": "scatter",
         "x": [
          1,
          2,
          3,
          4,
          5,
          6,
          7,
          8,
          9,
          10,
          11,
          12,
          13,
          14,
          15,
          16,
          17,
          18,
          19,
          20,
          21,
          22,
          23,
          24,
          25,
          26,
          28,
          29,
          30,
          31,
          32,
          33,
          34,
          35,
          37,
          38,
          39,
          40,
          42,
          43,
          44,
          45,
          46,
          47,
          48,
          49,
          50,
          51,
          52,
          53,
          54,
          55,
          56,
          57,
          58,
          59,
          60,
          61
         ],
         "xaxis": "x",
         "y": [
          0.6415572139679516,
          0.8860970097922027,
          1.130142875730128,
          1.3737205893380202,
          1.616870690739482,
          1.8596678423258894,
          2.102226714014324,
          2.3446646612490327,
          2.5870662277993963,
          2.8294786205067153,
          3.0719168390591145,
          3.3143711534981484,
          3.556817194273133,
          3.799229967817517,
          4.041590608751208,
          4.2838481066214555,
          4.5258828557050075,
          4.767373896183479,
          5.007576595660022,
          5.245070199394631,
          5.479258062552492,
          5.710503525088423,
          5.938474086914158,
          6.162480430969184,
          6.381519444077855,
          6.594329020732606,
          6.995755643713689,
          7.182575611010475,
          7.360131309735918,
          7.529153328424371,
          7.691033020215837,
          7.848004761357637,
          8.002285444149534,
          8.15539529602047,
          8.459815619911526,
          8.609682163214098,
          8.756206782732573,
          8.897703357586554,
          9.163473169450258,
          9.294276333536628,
          9.424959714679316,
          9.555205490840777,
          9.685063191404346,
          9.814703429093877,
          9.94432704090969,
          10.074139046904198,
          10.204342071867206,
          10.33512924977338,
          10.46665726475102,
          10.59902143941117,
          10.732267198690591,
          10.866405592986121,
          11.001425459132896,
          11.137304120563813,
          11.274017651131793,
          11.411551160295724,
          11.549909199213973,
          11.689113492607865
         ],
         "yaxis": "y"
        },
        {
         "customdata": [
          [
           "The Boy in the Iceberg"
          ],
          [
           "The Avatar Returns"
          ],
          [
           "The Southern Air Temple"
          ],
          [
           "The Warriors of Kyoshi"
          ],
          [
           "The King of Omashu"
          ],
          [
           "Imprisoned"
          ],
          [
           "Winter Solstice, Part 1"
          ],
          [
           "Winter Solstice, Part 2"
          ],
          [
           "The Waterbending Scroll"
          ],
          [
           "Jet (episode)"
          ],
          [
           "The Great Divide"
          ],
          [
           "The Storm"
          ],
          [
           "The Blue Spirit"
          ],
          [
           "The Fortuneteller"
          ],
          [
           "Bato of the Water Tribe"
          ],
          [
           "The Deserter"
          ],
          [
           "The Northern Air Temple"
          ],
          [
           "The Waterbending Master"
          ],
          [
           "The Siege of the North, Part 1"
          ],
          [
           "The Siege of the North, Part 2"
          ],
          [
           "The Avatar State"
          ],
          [
           "The Cave of Two Lovers"
          ],
          [
           "Return to Omashu"
          ],
          [
           "The Swamp"
          ],
          [
           "Avatar Day"
          ],
          [
           "The Blind Bandit"
          ],
          [
           "Zuko Alone"
          ],
          [
           "The Chase"
          ],
          [
           "Bitter Work"
          ],
          [
           "The Library"
          ],
          [
           "The Desert"
          ],
          [
           "The Serpent's Pass"
          ],
          [
           "The Drill"
          ],
          [
           "City of Walls and Secrets"
          ],
          [
           "The Tales of Ba Sing Se"
          ],
          [
           "Appa's Lost Days"
          ],
          [
           "Lake Laogai (episode)"
          ],
          [
           "The Earth King"
          ],
          [
           "The Guru"
          ],
          [
           "The Crossroads of Destiny"
          ],
          [
           "Escape from the Spirit World"
          ],
          [
           "The Awakening"
          ],
          [
           "The Headband"
          ],
          [
           "The Painted Lady"
          ],
          [
           "Sokka's Master"
          ],
          [
           "The Beach"
          ],
          [
           "The Avatar and the Fire Lord"
          ],
          [
           "The Runaway"
          ],
          [
           "The Puppetmaster"
          ],
          [
           "Nightmares and Daydreams"
          ],
          [
           "The Day of Black Sun, Part 1"
          ],
          [
           "The Day of Black Sun, Part 2"
          ],
          [
           "The Western Air Temple"
          ],
          [
           "The Firebending Masters"
          ],
          [
           "The Boiling Rock, Part 1"
          ],
          [
           "The Boiling Rock, Part 2"
          ],
          [
           "The Southern Raiders"
          ],
          [
           "The Ember Island Players"
          ],
          [
           "Sozin's Comet, Part 1"
          ],
          [
           "Sozin's Comet, Part 2"
          ],
          [
           "Sozin's Comet, Part 3"
          ]
         ],
         "hovertemplate": "character=Sokka<br>episode_num=%{x}<br>total_sentiment=%{y}<br>episode_name=%{customdata[0]}<extra></extra>",
         "legendgroup": "Sokka",
         "marker": {
          "color": "#1E88E5",
          "symbol": "circle"
         },
         "mode": "markers",
         "name": "Sokka",
         "orientation": "v",
         "showlegend": true,
         "type": "scatter",
         "x": [
          1,
          2,
          3,
          4,
          5,
          6,
          7,
          8,
          9,
          10,
          11,
          12,
          13,
          14,
          15,
          16,
          17,
          18,
          19,
          20,
          21,
          22,
          23,
          24,
          25,
          26,
          27,
          28,
          29,
          30,
          31,
          32,
          33,
          34,
          35,
          36,
          37,
          38,
          39,
          40,
          41,
          42,
          43,
          44,
          45,
          46,
          47,
          48,
          49,
          50,
          51,
          52,
          53,
          54,
          55,
          56,
          57,
          58,
          59,
          60,
          61
         ],
         "xaxis": "x",
         "y": [
          0,
          0,
          0,
          0,
          1,
          0,
          0,
          0,
          0,
          0,
          1,
          1,
          1,
          1,
          1,
          1,
          0,
          1,
          1,
          1,
          0,
          0,
          -1,
          -1,
          -1,
          -1,
          null,
          -1,
          0,
          0,
          0,
          1,
          1,
          0,
          1,
          null,
          1,
          1,
          0,
          0,
          null,
          0,
          -1,
          -1,
          -1,
          -2,
          -3,
          -3,
          -3,
          -3,
          -2,
          -2,
          -2,
          -2,
          -2,
          -2,
          -2,
          -2,
          -2,
          -2,
          -1
         ],
         "yaxis": "y"
        },
        {
         "hovertemplate": "<b>LOWESS trendline</b><br><br>character=Sokka<br>episode_num=%{x}<br>total_sentiment=%{y} <b>(trend)</b><extra></extra>",
         "legendgroup": "Sokka",
         "marker": {
          "color": "#1E88E5",
          "symbol": "circle"
         },
         "mode": "lines",
         "name": "Sokka",
         "showlegend": false,
         "type": "scatter",
         "x": [
          1,
          2,
          3,
          4,
          5,
          6,
          7,
          8,
          9,
          10,
          11,
          12,
          13,
          14,
          15,
          16,
          17,
          18,
          19,
          20,
          21,
          22,
          23,
          24,
          25,
          26,
          28,
          29,
          30,
          31,
          32,
          33,
          34,
          35,
          37,
          38,
          39,
          40,
          42,
          43,
          44,
          45,
          46,
          47,
          48,
          49,
          50,
          51,
          52,
          53,
          54,
          55,
          56,
          57,
          58,
          59,
          60,
          61
         ],
         "xaxis": "x",
         "y": [
          0.35021166245867275,
          0.35160194164627095,
          0.3517727906633399,
          0.3506981410174017,
          0.34838432995628515,
          0.3448610266525224,
          0.3401466888197129,
          0.33428393008889484,
          0.32735468080657637,
          0.31948536480250733,
          0.3108546525656554,
          0.3016941192982743,
          0.29225296993333827,
          0.28278627046366456,
          0.273548853471043,
          0.2647784688789833,
          0.256648285139137,
          0.24914959502888287,
          0.2417878804930582,
          0.23267812620178302,
          0.22621730675233942,
          0.22024521734890884,
          0.21356013873744706,
          0.20500233123055966,
          0.19293934521864659,
          0.17554559336657793,
          0.11996548711093365,
          0.08065654808678138,
          0.03437934551145071,
          -0.01776128985762584,
          -0.07491401952174606,
          -0.13630175028152985,
          -0.20117370892594602,
          -0.26878538961352916,
          -0.40920207641773754,
          -0.48074793282256073,
          -0.553546712001228,
          -0.6288379041741455,
          -0.8070664125791968,
          -0.899046230429788,
          -0.9885584936325942,
          -1.0779136085306655,
          -1.1679894526874623,
          -1.2590913502573753,
          -1.351247670446877,
          -1.44433984784854,
          -1.538165800788427,
          -1.6324712423078405,
          -1.7269730708548028,
          -1.8213910383094225,
          -1.9154582684621808,
          -2.008925951644297,
          -2.1015678747213493,
          -2.1931847387733487,
          -2.28360822859333,
          -2.3727048116265235,
          -2.4603792681635896,
          -2.5465779909448845
         ],
         "yaxis": "y"
        },
        {
         "customdata": [
          [
           "The Boy in the Iceberg"
          ],
          [
           "The Avatar Returns"
          ],
          [
           "The Southern Air Temple"
          ],
          [
           "The Warriors of Kyoshi"
          ],
          [
           "The King of Omashu"
          ],
          [
           "Imprisoned"
          ],
          [
           "Winter Solstice, Part 1"
          ],
          [
           "Winter Solstice, Part 2"
          ],
          [
           "The Waterbending Scroll"
          ],
          [
           "Jet (episode)"
          ],
          [
           "The Great Divide"
          ],
          [
           "The Storm"
          ],
          [
           "The Blue Spirit"
          ],
          [
           "The Fortuneteller"
          ],
          [
           "Bato of the Water Tribe"
          ],
          [
           "The Deserter"
          ],
          [
           "The Northern Air Temple"
          ],
          [
           "The Waterbending Master"
          ],
          [
           "The Siege of the North, Part 1"
          ],
          [
           "The Siege of the North, Part 2"
          ],
          [
           "The Avatar State"
          ],
          [
           "The Cave of Two Lovers"
          ],
          [
           "Return to Omashu"
          ],
          [
           "The Swamp"
          ],
          [
           "Avatar Day"
          ],
          [
           "The Blind Bandit"
          ],
          [
           "Zuko Alone"
          ],
          [
           "The Chase"
          ],
          [
           "Bitter Work"
          ],
          [
           "The Library"
          ],
          [
           "The Desert"
          ],
          [
           "The Serpent's Pass"
          ],
          [
           "The Drill"
          ],
          [
           "City of Walls and Secrets"
          ],
          [
           "The Tales of Ba Sing Se"
          ],
          [
           "Appa's Lost Days"
          ],
          [
           "Lake Laogai (episode)"
          ],
          [
           "The Earth King"
          ],
          [
           "The Guru"
          ],
          [
           "The Crossroads of Destiny"
          ],
          [
           "Escape from the Spirit World"
          ],
          [
           "The Awakening"
          ],
          [
           "The Headband"
          ],
          [
           "The Painted Lady"
          ],
          [
           "Sokka's Master"
          ],
          [
           "The Beach"
          ],
          [
           "The Avatar and the Fire Lord"
          ],
          [
           "The Runaway"
          ],
          [
           "The Puppetmaster"
          ],
          [
           "Nightmares and Daydreams"
          ],
          [
           "The Day of Black Sun, Part 1"
          ],
          [
           "The Day of Black Sun, Part 2"
          ],
          [
           "The Western Air Temple"
          ],
          [
           "The Firebending Masters"
          ],
          [
           "The Boiling Rock, Part 1"
          ],
          [
           "The Boiling Rock, Part 2"
          ],
          [
           "The Southern Raiders"
          ],
          [
           "The Ember Island Players"
          ],
          [
           "Sozin's Comet, Part 1"
          ],
          [
           "Sozin's Comet, Part 2"
          ],
          [
           "Sozin's Comet, Part 3"
          ]
         ],
         "hovertemplate": "character=Toph<br>episode_num=%{x}<br>total_sentiment=%{y}<br>episode_name=%{customdata[0]}<extra></extra>",
         "legendgroup": "Toph",
         "marker": {
          "color": "#4CAF50",
          "symbol": "circle"
         },
         "mode": "markers",
         "name": "Toph",
         "orientation": "v",
         "showlegend": true,
         "type": "scatter",
         "x": [
          1,
          2,
          3,
          4,
          5,
          6,
          7,
          8,
          9,
          10,
          11,
          12,
          13,
          14,
          15,
          16,
          17,
          18,
          19,
          20,
          21,
          22,
          23,
          24,
          25,
          26,
          27,
          28,
          29,
          30,
          31,
          32,
          33,
          34,
          35,
          36,
          37,
          38,
          39,
          40,
          41,
          42,
          43,
          44,
          45,
          46,
          47,
          48,
          49,
          50,
          51,
          52,
          53,
          54,
          55,
          56,
          57,
          58,
          59,
          60,
          61
         ],
         "xaxis": "x",
         "y": [
          null,
          null,
          null,
          null,
          null,
          null,
          null,
          null,
          null,
          null,
          null,
          null,
          null,
          null,
          null,
          null,
          null,
          null,
          null,
          null,
          null,
          null,
          null,
          null,
          null,
          0,
          null,
          1,
          2,
          2,
          2,
          3,
          3,
          3,
          4,
          3,
          3,
          3,
          3,
          4,
          null,
          3,
          3,
          2,
          2,
          3,
          4,
          4,
          4,
          4,
          5,
          6,
          6,
          7,
          8,
          9,
          10,
          11,
          12,
          12,
          11
         ],
         "yaxis": "y"
        },
        {
         "hovertemplate": "<b>LOWESS trendline</b><br><br>character=Toph<br>episode_num=%{x}<br>total_sentiment=%{y} <b>(trend)</b><extra></extra>",
         "legendgroup": "Toph",
         "marker": {
          "color": "#4CAF50",
          "symbol": "circle"
         },
         "mode": "lines",
         "name": "Toph",
         "showlegend": false,
         "type": "scatter",
         "x": [
          26,
          28,
          29,
          30,
          31,
          32,
          33,
          34,
          35,
          36,
          37,
          38,
          39,
          40,
          42,
          43,
          44,
          45,
          46,
          47,
          48,
          49,
          50,
          51,
          52,
          53,
          54,
          55,
          56,
          57,
          58,
          59,
          60,
          61
         ],
         "xaxis": "x",
         "y": [
          1.2899853717970347,
          1.6460956298337461,
          1.8144681098299633,
          1.976831771715272,
          2.133615348686174,
          2.2852283804379216,
          2.4320152114800995,
          2.5737718435340775,
          2.7093048360914085,
          2.835455938879195,
          2.9439367619451193,
          2.996341596421347,
          3.0552514420166856,
          3.0909259118753765,
          3.1897752733216045,
          3.27039724393706,
          3.3797103158981816,
          3.522840025720963,
          3.7076802129767423,
          3.9456283988015484,
          4.2539199913688845,
          4.646303720364839,
          5.123320958312518,
          5.750952758460873,
          6.378598582039588,
          7.001859932227282,
          7.62544131883905,
          8.252765431005638,
          8.885923203750053,
          9.526059581974177,
          10.173579332101474,
          10.828227839136686,
          11.489113416907841,
          12.154783579628612
         ],
         "yaxis": "y"
        },
        {
         "customdata": [
          [
           "The Boy in the Iceberg"
          ],
          [
           "The Avatar Returns"
          ],
          [
           "The Southern Air Temple"
          ],
          [
           "The Warriors of Kyoshi"
          ],
          [
           "The King of Omashu"
          ],
          [
           "Imprisoned"
          ],
          [
           "Winter Solstice, Part 1"
          ],
          [
           "Winter Solstice, Part 2"
          ],
          [
           "The Waterbending Scroll"
          ],
          [
           "Jet (episode)"
          ],
          [
           "The Great Divide"
          ],
          [
           "The Storm"
          ],
          [
           "The Blue Spirit"
          ],
          [
           "The Fortuneteller"
          ],
          [
           "Bato of the Water Tribe"
          ],
          [
           "The Deserter"
          ],
          [
           "The Northern Air Temple"
          ],
          [
           "The Waterbending Master"
          ],
          [
           "The Siege of the North, Part 1"
          ],
          [
           "The Siege of the North, Part 2"
          ],
          [
           "The Avatar State"
          ],
          [
           "The Cave of Two Lovers"
          ],
          [
           "Return to Omashu"
          ],
          [
           "The Swamp"
          ],
          [
           "Avatar Day"
          ],
          [
           "The Blind Bandit"
          ],
          [
           "Zuko Alone"
          ],
          [
           "The Chase"
          ],
          [
           "Bitter Work"
          ],
          [
           "The Library"
          ],
          [
           "The Desert"
          ],
          [
           "The Serpent's Pass"
          ],
          [
           "The Drill"
          ],
          [
           "City of Walls and Secrets"
          ],
          [
           "The Tales of Ba Sing Se"
          ],
          [
           "Appa's Lost Days"
          ],
          [
           "Lake Laogai (episode)"
          ],
          [
           "The Earth King"
          ],
          [
           "The Guru"
          ],
          [
           "The Crossroads of Destiny"
          ],
          [
           "Escape from the Spirit World"
          ],
          [
           "The Awakening"
          ],
          [
           "The Headband"
          ],
          [
           "The Painted Lady"
          ],
          [
           "Sokka's Master"
          ],
          [
           "The Beach"
          ],
          [
           "The Avatar and the Fire Lord"
          ],
          [
           "The Runaway"
          ],
          [
           "The Puppetmaster"
          ],
          [
           "Nightmares and Daydreams"
          ],
          [
           "The Day of Black Sun, Part 1"
          ],
          [
           "The Day of Black Sun, Part 2"
          ],
          [
           "The Western Air Temple"
          ],
          [
           "The Firebending Masters"
          ],
          [
           "The Boiling Rock, Part 1"
          ],
          [
           "The Boiling Rock, Part 2"
          ],
          [
           "The Southern Raiders"
          ],
          [
           "The Ember Island Players"
          ],
          [
           "Sozin's Comet, Part 1"
          ],
          [
           "Sozin's Comet, Part 2"
          ],
          [
           "Sozin's Comet, Part 3"
          ]
         ],
         "hovertemplate": "character=Iroh<br>episode_num=%{x}<br>total_sentiment=%{y}<br>episode_name=%{customdata[0]}<extra></extra>",
         "legendgroup": "Iroh",
         "marker": {
          "color": "#B71C1C",
          "symbol": "circle"
         },
         "mode": "markers",
         "name": "Iroh",
         "orientation": "v",
         "showlegend": true,
         "type": "scatter",
         "x": [
          1,
          2,
          3,
          4,
          5,
          6,
          7,
          8,
          9,
          10,
          11,
          12,
          13,
          14,
          15,
          16,
          17,
          18,
          19,
          20,
          21,
          22,
          23,
          24,
          25,
          26,
          27,
          28,
          29,
          30,
          31,
          32,
          33,
          34,
          35,
          36,
          37,
          38,
          39,
          40,
          41,
          42,
          43,
          44,
          45,
          46,
          47,
          48,
          49,
          50,
          51,
          52,
          53,
          54,
          55,
          56,
          57,
          58,
          59,
          60,
          61
         ],
         "xaxis": "x",
         "y": [
          0,
          1,
          2,
          1,
          null,
          null,
          1,
          1,
          2,
          null,
          null,
          2,
          3,
          null,
          4,
          null,
          null,
          4,
          4,
          4,
          4,
          4,
          null,
          5,
          6,
          null,
          7,
          7,
          8,
          null,
          9,
          10,
          11,
          11,
          12,
          11,
          12,
          13,
          14,
          15,
          null,
          null,
          null,
          null,
          null,
          null,
          15,
          null,
          null,
          null,
          16,
          null,
          17,
          null,
          null,
          null,
          null,
          18,
          null,
          18,
          17
         ],
         "yaxis": "y"
        },
        {
         "hovertemplate": "<b>LOWESS trendline</b><br><br>character=Iroh<br>episode_num=%{x}<br>total_sentiment=%{y} <b>(trend)</b><extra></extra>",
         "legendgroup": "Iroh",
         "marker": {
          "color": "#B71C1C",
          "symbol": "circle"
         },
         "mode": "lines",
         "name": "Iroh",
         "showlegend": false,
         "type": "scatter",
         "x": [
          1,
          2,
          3,
          4,
          7,
          8,
          9,
          12,
          13,
          15,
          18,
          19,
          20,
          21,
          22,
          24,
          25,
          27,
          28,
          29,
          31,
          32,
          33,
          34,
          35,
          36,
          37,
          38,
          39,
          40,
          47,
          51,
          53,
          58,
          60,
          61
         ],
         "xaxis": "x",
         "y": [
          0.334410468006694,
          0.5370286864517385,
          0.7407673643491258,
          0.9456955591634821,
          1.566315007460835,
          1.7744613659070585,
          1.982922765531525,
          2.609298433483754,
          2.8178996708135506,
          3.2333157952310607,
          3.9406147081374763,
          4.241771947154408,
          4.562409578727693,
          4.899020033136847,
          5.188162381567054,
          5.949490010185086,
          6.356305050122211,
          7.230892854333984,
          7.734304639708589,
          8.24154647924762,
          9.2471280126374,
          9.740745631184746,
          10.246769170114394,
          10.701490551947472,
          11.203581701724845,
          11.631901625720118,
          11.945860528509696,
          12.249311203000778,
          12.602375121216747,
          12.942619773220482,
          14.818276427961996,
          15.908563055602222,
          16.455576605733864,
          17.81089305476141,
          18.34504045602944,
          18.610014143116548
         ],
         "yaxis": "y"
        },
        {
         "customdata": [
          [
           "The Boy in the Iceberg"
          ],
          [
           "The Avatar Returns"
          ],
          [
           "The Southern Air Temple"
          ],
          [
           "The Warriors of Kyoshi"
          ],
          [
           "The King of Omashu"
          ],
          [
           "Imprisoned"
          ],
          [
           "Winter Solstice, Part 1"
          ],
          [
           "Winter Solstice, Part 2"
          ],
          [
           "The Waterbending Scroll"
          ],
          [
           "Jet (episode)"
          ],
          [
           "The Great Divide"
          ],
          [
           "The Storm"
          ],
          [
           "The Blue Spirit"
          ],
          [
           "The Fortuneteller"
          ],
          [
           "Bato of the Water Tribe"
          ],
          [
           "The Deserter"
          ],
          [
           "The Northern Air Temple"
          ],
          [
           "The Waterbending Master"
          ],
          [
           "The Siege of the North, Part 1"
          ],
          [
           "The Siege of the North, Part 2"
          ],
          [
           "The Avatar State"
          ],
          [
           "The Cave of Two Lovers"
          ],
          [
           "Return to Omashu"
          ],
          [
           "The Swamp"
          ],
          [
           "Avatar Day"
          ],
          [
           "The Blind Bandit"
          ],
          [
           "Zuko Alone"
          ],
          [
           "The Chase"
          ],
          [
           "Bitter Work"
          ],
          [
           "The Library"
          ],
          [
           "The Desert"
          ],
          [
           "The Serpent's Pass"
          ],
          [
           "The Drill"
          ],
          [
           "City of Walls and Secrets"
          ],
          [
           "The Tales of Ba Sing Se"
          ],
          [
           "Appa's Lost Days"
          ],
          [
           "Lake Laogai (episode)"
          ],
          [
           "The Earth King"
          ],
          [
           "The Guru"
          ],
          [
           "The Crossroads of Destiny"
          ],
          [
           "Escape from the Spirit World"
          ],
          [
           "The Awakening"
          ],
          [
           "The Headband"
          ],
          [
           "The Painted Lady"
          ],
          [
           "Sokka's Master"
          ],
          [
           "The Beach"
          ],
          [
           "The Avatar and the Fire Lord"
          ],
          [
           "The Runaway"
          ],
          [
           "The Puppetmaster"
          ],
          [
           "Nightmares and Daydreams"
          ],
          [
           "The Day of Black Sun, Part 1"
          ],
          [
           "The Day of Black Sun, Part 2"
          ],
          [
           "The Western Air Temple"
          ],
          [
           "The Firebending Masters"
          ],
          [
           "The Boiling Rock, Part 1"
          ],
          [
           "The Boiling Rock, Part 2"
          ],
          [
           "The Southern Raiders"
          ],
          [
           "The Ember Island Players"
          ],
          [
           "Sozin's Comet, Part 1"
          ],
          [
           "Sozin's Comet, Part 2"
          ],
          [
           "Sozin's Comet, Part 3"
          ]
         ],
         "hovertemplate": "character=Zuko<br>episode_num=%{x}<br>total_sentiment=%{y}<br>episode_name=%{customdata[0]}<extra></extra>",
         "legendgroup": "Zuko",
         "marker": {
          "color": "#F44336",
          "symbol": "circle"
         },
         "mode": "markers",
         "name": "Zuko",
         "orientation": "v",
         "showlegend": true,
         "type": "scatter",
         "x": [
          1,
          2,
          3,
          4,
          5,
          6,
          7,
          8,
          9,
          10,
          11,
          12,
          13,
          14,
          15,
          16,
          17,
          18,
          19,
          20,
          21,
          22,
          23,
          24,
          25,
          26,
          27,
          28,
          29,
          30,
          31,
          32,
          33,
          34,
          35,
          36,
          37,
          38,
          39,
          40,
          41,
          42,
          43,
          44,
          45,
          46,
          47,
          48,
          49,
          50,
          51,
          52,
          53,
          54,
          55,
          56,
          57,
          58,
          59,
          60,
          61
         ],
         "xaxis": "x",
         "y": [
          -1,
          -2,
          -2,
          -1,
          null,
          null,
          -1,
          -1,
          -1,
          null,
          null,
          0,
          -1,
          null,
          -2,
          null,
          null,
          -2,
          -2,
          -2,
          -3,
          -2,
          null,
          -3,
          -3,
          null,
          -4,
          -5,
          -4,
          null,
          -3,
          -4,
          -5,
          -6,
          -6,
          -6,
          -5,
          -5,
          -4,
          -4,
          null,
          -5,
          -5,
          null,
          null,
          -5,
          -5,
          null,
          null,
          -5,
          -6,
          -6,
          -6,
          -6,
          -6,
          -5,
          -5,
          -5,
          -5,
          -5,
          -5
         ],
         "yaxis": "y"
        },
        {
         "hovertemplate": "<b>LOWESS trendline</b><br><br>character=Zuko<br>episode_num=%{x}<br>total_sentiment=%{y} <b>(trend)</b><extra></extra>",
         "legendgroup": "Zuko",
         "marker": {
          "color": "#F44336",
          "symbol": "circle"
         },
         "mode": "lines",
         "name": "Zuko",
         "showlegend": false,
         "type": "scatter",
         "x": [
          1,
          2,
          3,
          4,
          7,
          8,
          9,
          12,
          13,
          15,
          18,
          19,
          20,
          21,
          22,
          24,
          25,
          27,
          28,
          29,
          31,
          32,
          33,
          34,
          35,
          36,
          37,
          38,
          39,
          40,
          42,
          43,
          46,
          47,
          50,
          51,
          52,
          53,
          54,
          55,
          56,
          57,
          58,
          59,
          60,
          61
         ],
         "xaxis": "x",
         "y": [
          -0.7308964240420548,
          -0.812480491214579,
          -0.8956114756965221,
          -0.9802816791849372,
          -1.242459710011386,
          -1.3320936281975535,
          -1.4225805504421822,
          -1.6976941494081967,
          -1.7900771463703273,
          -1.9747134197171536,
          -2.2485032529162305,
          -2.340723775050367,
          -2.441784936470182,
          -2.577763215844879,
          -2.719749764226145,
          -3.006140635420985,
          -3.144503970766557,
          -3.4286033635692514,
          -3.5452080201400724,
          -3.670751666687146,
          -3.907267040977207,
          -4.038230565099849,
          -4.145164692935952,
          -4.248493174049459,
          -4.348947598179979,
          -4.466554037635608,
          -4.557848483611892,
          -4.645108421622029,
          -4.727578303892343,
          -4.803886201007283,
          -4.9412520419929855,
          -4.996141488623104,
          -5.0817312086399715,
          -5.103997803879436,
          -5.169132971200753,
          -5.1909118314565745,
          -5.212846829141709,
          -5.234882205907134,
          -5.256880912271848,
          -5.278648884534757,
          -5.299950627279859,
          -5.320534184211042,
          -5.340193840505615,
          -5.358781707105005,
          -5.376205101911532,
          -5.392424716993186
         ],
         "yaxis": "y"
        }
       ],
       "layout": {
        "height": 750,
        "legend": {
         "title": {
          "text": "Characters"
         },
         "tracegroupgap": 0
        },
        "margin": {
         "t": 60
        },
        "template": {
         "data": {
          "bar": [
           {
            "error_x": {
             "color": "#2a3f5f"
            },
            "error_y": {
             "color": "#2a3f5f"
            },
            "marker": {
             "line": {
              "color": "#E5ECF6",
              "width": 0.5
             },
             "pattern": {
              "fillmode": "overlay",
              "size": 10,
              "solidity": 0.2
             }
            },
            "type": "bar"
           }
          ],
          "barpolar": [
           {
            "marker": {
             "line": {
              "color": "#E5ECF6",
              "width": 0.5
             },
             "pattern": {
              "fillmode": "overlay",
              "size": 10,
              "solidity": 0.2
             }
            },
            "type": "barpolar"
           }
          ],
          "carpet": [
           {
            "aaxis": {
             "endlinecolor": "#2a3f5f",
             "gridcolor": "white",
             "linecolor": "white",
             "minorgridcolor": "white",
             "startlinecolor": "#2a3f5f"
            },
            "baxis": {
             "endlinecolor": "#2a3f5f",
             "gridcolor": "white",
             "linecolor": "white",
             "minorgridcolor": "white",
             "startlinecolor": "#2a3f5f"
            },
            "type": "carpet"
           }
          ],
          "choropleth": [
           {
            "colorbar": {
             "outlinewidth": 0,
             "ticks": ""
            },
            "type": "choropleth"
           }
          ],
          "contour": [
           {
            "colorbar": {
             "outlinewidth": 0,
             "ticks": ""
            },
            "colorscale": [
             [
              0,
              "#0d0887"
             ],
             [
              0.1111111111111111,
              "#46039f"
             ],
             [
              0.2222222222222222,
              "#7201a8"
             ],
             [
              0.3333333333333333,
              "#9c179e"
             ],
             [
              0.4444444444444444,
              "#bd3786"
             ],
             [
              0.5555555555555556,
              "#d8576b"
             ],
             [
              0.6666666666666666,
              "#ed7953"
             ],
             [
              0.7777777777777778,
              "#fb9f3a"
             ],
             [
              0.8888888888888888,
              "#fdca26"
             ],
             [
              1,
              "#f0f921"
             ]
            ],
            "type": "contour"
           }
          ],
          "contourcarpet": [
           {
            "colorbar": {
             "outlinewidth": 0,
             "ticks": ""
            },
            "type": "contourcarpet"
           }
          ],
          "heatmap": [
           {
            "colorbar": {
             "outlinewidth": 0,
             "ticks": ""
            },
            "colorscale": [
             [
              0,
              "#0d0887"
             ],
             [
              0.1111111111111111,
              "#46039f"
             ],
             [
              0.2222222222222222,
              "#7201a8"
             ],
             [
              0.3333333333333333,
              "#9c179e"
             ],
             [
              0.4444444444444444,
              "#bd3786"
             ],
             [
              0.5555555555555556,
              "#d8576b"
             ],
             [
              0.6666666666666666,
              "#ed7953"
             ],
             [
              0.7777777777777778,
              "#fb9f3a"
             ],
             [
              0.8888888888888888,
              "#fdca26"
             ],
             [
              1,
              "#f0f921"
             ]
            ],
            "type": "heatmap"
           }
          ],
          "heatmapgl": [
           {
            "colorbar": {
             "outlinewidth": 0,
             "ticks": ""
            },
            "colorscale": [
             [
              0,
              "#0d0887"
             ],
             [
              0.1111111111111111,
              "#46039f"
             ],
             [
              0.2222222222222222,
              "#7201a8"
             ],
             [
              0.3333333333333333,
              "#9c179e"
             ],
             [
              0.4444444444444444,
              "#bd3786"
             ],
             [
              0.5555555555555556,
              "#d8576b"
             ],
             [
              0.6666666666666666,
              "#ed7953"
             ],
             [
              0.7777777777777778,
              "#fb9f3a"
             ],
             [
              0.8888888888888888,
              "#fdca26"
             ],
             [
              1,
              "#f0f921"
             ]
            ],
            "type": "heatmapgl"
           }
          ],
          "histogram": [
           {
            "marker": {
             "pattern": {
              "fillmode": "overlay",
              "size": 10,
              "solidity": 0.2
             }
            },
            "type": "histogram"
           }
          ],
          "histogram2d": [
           {
            "colorbar": {
             "outlinewidth": 0,
             "ticks": ""
            },
            "colorscale": [
             [
              0,
              "#0d0887"
             ],
             [
              0.1111111111111111,
              "#46039f"
             ],
             [
              0.2222222222222222,
              "#7201a8"
             ],
             [
              0.3333333333333333,
              "#9c179e"
             ],
             [
              0.4444444444444444,
              "#bd3786"
             ],
             [
              0.5555555555555556,
              "#d8576b"
             ],
             [
              0.6666666666666666,
              "#ed7953"
             ],
             [
              0.7777777777777778,
              "#fb9f3a"
             ],
             [
              0.8888888888888888,
              "#fdca26"
             ],
             [
              1,
              "#f0f921"
             ]
            ],
            "type": "histogram2d"
           }
          ],
          "histogram2dcontour": [
           {
            "colorbar": {
             "outlinewidth": 0,
             "ticks": ""
            },
            "colorscale": [
             [
              0,
              "#0d0887"
             ],
             [
              0.1111111111111111,
              "#46039f"
             ],
             [
              0.2222222222222222,
              "#7201a8"
             ],
             [
              0.3333333333333333,
              "#9c179e"
             ],
             [
              0.4444444444444444,
              "#bd3786"
             ],
             [
              0.5555555555555556,
              "#d8576b"
             ],
             [
              0.6666666666666666,
              "#ed7953"
             ],
             [
              0.7777777777777778,
              "#fb9f3a"
             ],
             [
              0.8888888888888888,
              "#fdca26"
             ],
             [
              1,
              "#f0f921"
             ]
            ],
            "type": "histogram2dcontour"
           }
          ],
          "mesh3d": [
           {
            "colorbar": {
             "outlinewidth": 0,
             "ticks": ""
            },
            "type": "mesh3d"
           }
          ],
          "parcoords": [
           {
            "line": {
             "colorbar": {
              "outlinewidth": 0,
              "ticks": ""
             }
            },
            "type": "parcoords"
           }
          ],
          "pie": [
           {
            "automargin": true,
            "type": "pie"
           }
          ],
          "scatter": [
           {
            "fillpattern": {
             "fillmode": "overlay",
             "size": 10,
             "solidity": 0.2
            },
            "type": "scatter"
           }
          ],
          "scatter3d": [
           {
            "line": {
             "colorbar": {
              "outlinewidth": 0,
              "ticks": ""
             }
            },
            "marker": {
             "colorbar": {
              "outlinewidth": 0,
              "ticks": ""
             }
            },
            "type": "scatter3d"
           }
          ],
          "scattercarpet": [
           {
            "marker": {
             "colorbar": {
              "outlinewidth": 0,
              "ticks": ""
             }
            },
            "type": "scattercarpet"
           }
          ],
          "scattergeo": [
           {
            "marker": {
             "colorbar": {
              "outlinewidth": 0,
              "ticks": ""
             }
            },
            "type": "scattergeo"
           }
          ],
          "scattergl": [
           {
            "marker": {
             "colorbar": {
              "outlinewidth": 0,
              "ticks": ""
             }
            },
            "type": "scattergl"
           }
          ],
          "scattermapbox": [
           {
            "marker": {
             "colorbar": {
              "outlinewidth": 0,
              "ticks": ""
             }
            },
            "type": "scattermapbox"
           }
          ],
          "scatterpolar": [
           {
            "marker": {
             "colorbar": {
              "outlinewidth": 0,
              "ticks": ""
             }
            },
            "type": "scatterpolar"
           }
          ],
          "scatterpolargl": [
           {
            "marker": {
             "colorbar": {
              "outlinewidth": 0,
              "ticks": ""
             }
            },
            "type": "scatterpolargl"
           }
          ],
          "scatterternary": [
           {
            "marker": {
             "colorbar": {
              "outlinewidth": 0,
              "ticks": ""
             }
            },
            "type": "scatterternary"
           }
          ],
          "surface": [
           {
            "colorbar": {
             "outlinewidth": 0,
             "ticks": ""
            },
            "colorscale": [
             [
              0,
              "#0d0887"
             ],
             [
              0.1111111111111111,
              "#46039f"
             ],
             [
              0.2222222222222222,
              "#7201a8"
             ],
             [
              0.3333333333333333,
              "#9c179e"
             ],
             [
              0.4444444444444444,
              "#bd3786"
             ],
             [
              0.5555555555555556,
              "#d8576b"
             ],
             [
              0.6666666666666666,
              "#ed7953"
             ],
             [
              0.7777777777777778,
              "#fb9f3a"
             ],
             [
              0.8888888888888888,
              "#fdca26"
             ],
             [
              1,
              "#f0f921"
             ]
            ],
            "type": "surface"
           }
          ],
          "table": [
           {
            "cells": {
             "fill": {
              "color": "#EBF0F8"
             },
             "line": {
              "color": "white"
             }
            },
            "header": {
             "fill": {
              "color": "#C8D4E3"
             },
             "line": {
              "color": "white"
             }
            },
            "type": "table"
           }
          ]
         },
         "layout": {
          "annotationdefaults": {
           "arrowcolor": "#2a3f5f",
           "arrowhead": 0,
           "arrowwidth": 1
          },
          "autotypenumbers": "strict",
          "coloraxis": {
           "colorbar": {
            "outlinewidth": 0,
            "ticks": ""
           }
          },
          "colorscale": {
           "diverging": [
            [
             0,
             "#8e0152"
            ],
            [
             0.1,
             "#c51b7d"
            ],
            [
             0.2,
             "#de77ae"
            ],
            [
             0.3,
             "#f1b6da"
            ],
            [
             0.4,
             "#fde0ef"
            ],
            [
             0.5,
             "#f7f7f7"
            ],
            [
             0.6,
             "#e6f5d0"
            ],
            [
             0.7,
             "#b8e186"
            ],
            [
             0.8,
             "#7fbc41"
            ],
            [
             0.9,
             "#4d9221"
            ],
            [
             1,
             "#276419"
            ]
           ],
           "sequential": [
            [
             0,
             "#0d0887"
            ],
            [
             0.1111111111111111,
             "#46039f"
            ],
            [
             0.2222222222222222,
             "#7201a8"
            ],
            [
             0.3333333333333333,
             "#9c179e"
            ],
            [
             0.4444444444444444,
             "#bd3786"
            ],
            [
             0.5555555555555556,
             "#d8576b"
            ],
            [
             0.6666666666666666,
             "#ed7953"
            ],
            [
             0.7777777777777778,
             "#fb9f3a"
            ],
            [
             0.8888888888888888,
             "#fdca26"
            ],
            [
             1,
             "#f0f921"
            ]
           ],
           "sequentialminus": [
            [
             0,
             "#0d0887"
            ],
            [
             0.1111111111111111,
             "#46039f"
            ],
            [
             0.2222222222222222,
             "#7201a8"
            ],
            [
             0.3333333333333333,
             "#9c179e"
            ],
            [
             0.4444444444444444,
             "#bd3786"
            ],
            [
             0.5555555555555556,
             "#d8576b"
            ],
            [
             0.6666666666666666,
             "#ed7953"
            ],
            [
             0.7777777777777778,
             "#fb9f3a"
            ],
            [
             0.8888888888888888,
             "#fdca26"
            ],
            [
             1,
             "#f0f921"
            ]
           ]
          },
          "colorway": [
           "#636efa",
           "#EF553B",
           "#00cc96",
           "#ab63fa",
           "#FFA15A",
           "#19d3f3",
           "#FF6692",
           "#B6E880",
           "#FF97FF",
           "#FECB52"
          ],
          "font": {
           "color": "#2a3f5f"
          },
          "geo": {
           "bgcolor": "white",
           "lakecolor": "white",
           "landcolor": "#E5ECF6",
           "showlakes": true,
           "showland": true,
           "subunitcolor": "white"
          },
          "hoverlabel": {
           "align": "left"
          },
          "hovermode": "closest",
          "mapbox": {
           "style": "light"
          },
          "paper_bgcolor": "white",
          "plot_bgcolor": "#E5ECF6",
          "polar": {
           "angularaxis": {
            "gridcolor": "white",
            "linecolor": "white",
            "ticks": ""
           },
           "bgcolor": "#E5ECF6",
           "radialaxis": {
            "gridcolor": "white",
            "linecolor": "white",
            "ticks": ""
           }
          },
          "scene": {
           "xaxis": {
            "backgroundcolor": "#E5ECF6",
            "gridcolor": "white",
            "gridwidth": 2,
            "linecolor": "white",
            "showbackground": true,
            "ticks": "",
            "zerolinecolor": "white"
           },
           "yaxis": {
            "backgroundcolor": "#E5ECF6",
            "gridcolor": "white",
            "gridwidth": 2,
            "linecolor": "white",
            "showbackground": true,
            "ticks": "",
            "zerolinecolor": "white"
           },
           "zaxis": {
            "backgroundcolor": "#E5ECF6",
            "gridcolor": "white",
            "gridwidth": 2,
            "linecolor": "white",
            "showbackground": true,
            "ticks": "",
            "zerolinecolor": "white"
           }
          },
          "shapedefaults": {
           "line": {
            "color": "#2a3f5f"
           }
          },
          "ternary": {
           "aaxis": {
            "gridcolor": "white",
            "linecolor": "white",
            "ticks": ""
           },
           "baxis": {
            "gridcolor": "white",
            "linecolor": "white",
            "ticks": ""
           },
           "bgcolor": "#E5ECF6",
           "caxis": {
            "gridcolor": "white",
            "linecolor": "white",
            "ticks": ""
           }
          },
          "title": {
           "x": 0.05
          },
          "xaxis": {
           "automargin": true,
           "gridcolor": "white",
           "linecolor": "white",
           "ticks": "",
           "title": {
            "standoff": 15
           },
           "zerolinecolor": "white",
           "zerolinewidth": 2
          },
          "yaxis": {
           "automargin": true,
           "gridcolor": "white",
           "linecolor": "white",
           "ticks": "",
           "title": {
            "standoff": 15
           },
           "zerolinecolor": "white",
           "zerolinewidth": 2
          }
         }
        },
        "title": {
         "text": "Running total of sentiments",
         "x": 0.5,
         "xanchor": "center"
        },
        "width": 950,
        "xaxis": {
         "anchor": "y",
         "domain": [
          0,
          1
         ],
         "title": {
          "text": "Episode number"
         }
        },
        "yaxis": {
         "anchor": "x",
         "domain": [
          0,
          1
         ],
         "title": {
          "text": "Total sentiment"
         }
        }
       }
      }
     },
     "metadata": {},
     "output_type": "display_data"
    }
   ],
   "source": [
    "# Plot running total of sentiment per character.\n",
    "total_sentiment_fig = px.scatter(atla_total_sentiment_df_spacy_tokenizer, x = 'episode_num', y = 'total_sentiment', \n",
    "                                 color = 'character',\n",
    "                                 color_discrete_sequence = legend_colors, \n",
    "                                 hover_data = ['episode_name'],\n",
    "                                 trendline = 'lowess', \n",
    "                                 width = 950, height = 750)\n",
    "\n",
    "# Customize titles.\n",
    "total_sentiment_fig.update_layout(title = {'text': \"Running total of sentiments\",\n",
    "                                           'x': 0.5,\n",
    "                                           'xanchor': 'center'},\n",
    "                                  xaxis_title = \"Episode number\",\n",
    "                                  yaxis_title = \"Total sentiment\",\n",
    "                                  legend_title = \"Characters\")\n",
    "    \n",
    "# Correct position of x points.\n",
    "for scatter, trendline in zip(total_sentiment_fig.data[::2], total_sentiment_fig.data[1::2]):\n",
    "    trendline['x'] = scatter['x'][np.logical_not(np.isnan(scatter['y']))]\n",
    "\n",
    "total_sentiment_fig.show()"
   ]
  },
  {
   "cell_type": "code",
   "execution_count": 27,
   "metadata": {},
   "outputs": [
    {
     "data": {
      "text/html": [
       "<div>\n",
       "<style scoped>\n",
       "    .dataframe tbody tr th:only-of-type {\n",
       "        vertical-align: middle;\n",
       "    }\n",
       "\n",
       "    .dataframe tbody tr th {\n",
       "        vertical-align: top;\n",
       "    }\n",
       "\n",
       "    .dataframe thead th {\n",
       "        text-align: right;\n",
       "    }\n",
       "</style>\n",
       "<table border=\"1\" class=\"dataframe\">\n",
       "  <thead>\n",
       "    <tr style=\"text-align: right;\">\n",
       "      <th></th>\n",
       "      <th>episode_num</th>\n",
       "      <th>character_name</th>\n",
       "      <th>character_lines</th>\n",
       "    </tr>\n",
       "  </thead>\n",
       "  <tbody>\n",
       "    <tr>\n",
       "      <th>0</th>\n",
       "      <td>1</td>\n",
       "      <td>Katara</td>\n",
       "      <td>[Narrating.] Water. Earth. Fire. Air. My grand...</td>\n",
       "    </tr>\n",
       "    <tr>\n",
       "      <th>1</th>\n",
       "      <td>1</td>\n",
       "      <td>Sokka</td>\n",
       "      <td>It's not getting away from me this time. [Clos...</td>\n",
       "    </tr>\n",
       "    <tr>\n",
       "      <th>2</th>\n",
       "      <td>1</td>\n",
       "      <td>Aang</td>\n",
       "      <td>[In a weak voice.] I need to ask you something...</td>\n",
       "    </tr>\n",
       "    <tr>\n",
       "      <th>3</th>\n",
       "      <td>1</td>\n",
       "      <td>Toph</td>\n",
       "      <td></td>\n",
       "    </tr>\n",
       "    <tr>\n",
       "      <th>4</th>\n",
       "      <td>1</td>\n",
       "      <td>Zuko</td>\n",
       "      <td>Finally! [He turns around to face another pers...</td>\n",
       "    </tr>\n",
       "    <tr>\n",
       "      <th>...</th>\n",
       "      <td>...</td>\n",
       "      <td>...</td>\n",
       "      <td>...</td>\n",
       "    </tr>\n",
       "    <tr>\n",
       "      <th>361</th>\n",
       "      <td>61</td>\n",
       "      <td>Sokka</td>\n",
       "      <td>We're too late! The fleet's already taking off...</td>\n",
       "    </tr>\n",
       "    <tr>\n",
       "      <th>362</th>\n",
       "      <td>61</td>\n",
       "      <td>Aang</td>\n",
       "      <td>Momo, time for you to go.Please listen to me. ...</td>\n",
       "    </tr>\n",
       "    <tr>\n",
       "      <th>363</th>\n",
       "      <td>61</td>\n",
       "      <td>Toph</td>\n",
       "      <td>Too bad the Fire Lord's about to use it to des...</td>\n",
       "    </tr>\n",
       "    <tr>\n",
       "      <th>364</th>\n",
       "      <td>61</td>\n",
       "      <td>Zuko</td>\n",
       "      <td>It's not her I'm worried about. I'm worried ab...</td>\n",
       "    </tr>\n",
       "    <tr>\n",
       "      <th>365</th>\n",
       "      <td>61</td>\n",
       "      <td>Iroh</td>\n",
       "      <td>[Cut to a shot of Iroh.] Only once every hundr...</td>\n",
       "    </tr>\n",
       "  </tbody>\n",
       "</table>\n",
       "<p>366 rows × 3 columns</p>\n",
       "</div>"
      ],
      "text/plain": [
       "     episode_num character_name  \\\n",
       "0              1         Katara   \n",
       "1              1          Sokka   \n",
       "2              1           Aang   \n",
       "3              1           Toph   \n",
       "4              1           Zuko   \n",
       "..           ...            ...   \n",
       "361           61          Sokka   \n",
       "362           61           Aang   \n",
       "363           61           Toph   \n",
       "364           61           Zuko   \n",
       "365           61           Iroh   \n",
       "\n",
       "                                       character_lines  \n",
       "0    [Narrating.] Water. Earth. Fire. Air. My grand...  \n",
       "1    It's not getting away from me this time. [Clos...  \n",
       "2    [In a weak voice.] I need to ask you something...  \n",
       "3                                                       \n",
       "4    Finally! [He turns around to face another pers...  \n",
       "..                                                 ...  \n",
       "361  We're too late! The fleet's already taking off...  \n",
       "362  Momo, time for you to go.Please listen to me. ...  \n",
       "363  Too bad the Fire Lord's about to use it to des...  \n",
       "364  It's not her I'm worried about. I'm worried ab...  \n",
       "365  [Cut to a shot of Iroh.] Only once every hundr...  \n",
       "\n",
       "[366 rows x 3 columns]"
      ]
     },
     "execution_count": 27,
     "metadata": {},
     "output_type": "execute_result"
    }
   ],
   "source": [
    "atla_lines_df = pd.read_csv('/Users/justin/Documents/Personal/projects/atla_nlp/data/raw/atla_lines.csv', keep_default_na=False, index_col=0)\n",
    "atla_lines_df"
   ]
  },
  {
   "cell_type": "code",
   "execution_count": 28,
   "metadata": {},
   "outputs": [
    {
     "data": {
      "text/plain": [
       "0      [Narrating.] Water. Earth. Fire. Air. My grand...\n",
       "1      It's not getting away from me this time. [Clos...\n",
       "2      [In a weak voice.] I need to ask you something...\n",
       "3                                                       \n",
       "4      Finally! [He turns around to face another pers...\n",
       "                             ...                        \n",
       "361    We're too late! The fleet's already taking off...\n",
       "362    Momo, time for you to go.Please listen to me. ...\n",
       "363    Too bad the Fire Lord's about to use it to des...\n",
       "364    It's not her I'm worried about. I'm worried ab...\n",
       "365    [Cut to a shot of Iroh.] Only once every hundr...\n",
       "Name: character_lines, Length: 366, dtype: object"
      ]
     },
     "execution_count": 28,
     "metadata": {},
     "output_type": "execute_result"
    }
   ],
   "source": [
    "atla_lines_df.character_lines"
   ]
  },
  {
   "cell_type": "code",
   "execution_count": 29,
   "metadata": {},
   "outputs": [],
   "source": [
    "#binary bag of words model\n",
    "\n",
    "vectorizer = CountVectorizer(lowercase=False, binary=True, ngram_range=(1,2)) #ngram_range=(1,2) means unigrams and bigrams for more context\n",
    "bow = vectorizer.fit_transform(atla_lines_df.character_lines)"
   ]
  },
  {
   "cell_type": "code",
   "execution_count": 30,
   "metadata": {},
   "outputs": [
    {
     "name": "stdout",
     "output_type": "stream",
     "text": [
      "['112' '112 years' '24' ... 'zooms to' '子白' '子白 on']\n",
      "vocab size:  63278\n"
     ]
    },
    {
     "data": {
      "text/plain": [
       "{'Narrating': 6739,\n",
       " 'Water': 11924,\n",
       " 'Earth': 2766,\n",
       " 'Fire': 3222,\n",
       " 'Air': 625,\n",
       " 'My': 6682,\n",
       " 'grandmother': 29614,\n",
       " 'used': 58697,\n",
       " 'to': 56167,\n",
       " 'tell': 52850,\n",
       " 'me': 38697,\n",
       " 'stories': 51657,\n",
       " 'about': 13380,\n",
       " 'the': 53458,\n",
       " 'old': 42376,\n",
       " 'days': 22905,\n",
       " 'time': 55994,\n",
       " 'of': 41725,\n",
       " 'peace': 43962,\n",
       " 'when': 60732,\n",
       " 'Avatar': 1259,\n",
       " 'kept': 35877,\n",
       " 'balance': 17487,\n",
       " 'between': 18656,\n",
       " 'Tribes': 11367,\n",
       " 'Kingdom': 5678,\n",
       " 'Nation': 6745,\n",
       " 'and': 14703,\n",
       " 'Nomads': 7074,\n",
       " 'But': 1838,\n",
       " 'that': 53064,\n",
       " 'all': 14160,\n",
       " 'changed': 20892,\n",
       " 'attacked': 16852,\n",
       " 'Only': 7458,\n",
       " 'mastered': 38612,\n",
       " 'four': 27979,\n",
       " 'elements': 25023,\n",
       " 'only': 42794,\n",
       " 'he': 31021,\n",
       " 'could': 22087,\n",
       " 'stop': 51573,\n",
       " 'ruthless': 47253,\n",
       " 'firebenders': 26985,\n",
       " 'world': 61885,\n",
       " 'needed': 40685,\n",
       " 'him': 32230,\n",
       " 'most': 39849,\n",
       " 'vanished': 58767,\n",
       " 'hundred': 33364,\n",
       " 'years': 62270,\n",
       " 'have': 30786,\n",
       " 'passed': 43843,\n",
       " 'is': 34444,\n",
       " 'nearing': 40579,\n",
       " 'victory': 58924,\n",
       " 'in': 33750,\n",
       " 'war': 59464,\n",
       " 'Two': 11434,\n",
       " 'ago': 13926,\n",
       " 'my': 40220,\n",
       " 'father': 26333,\n",
       " 'men': 39214,\n",
       " 'tribe': 57433,\n",
       " 'journeyed': 35496,\n",
       " 'help': 31540,\n",
       " 'fight': 26636,\n",
       " 'against': 13888,\n",
       " 'leaving': 36787,\n",
       " 'brother': 19592,\n",
       " 'look': 37733,\n",
       " 'after': 13757,\n",
       " 'our': 43121,\n",
       " 'Some': 9659,\n",
       " 'people': 44038,\n",
       " 'believe': 18416,\n",
       " 'was': 59560,\n",
       " 'never': 40774,\n",
       " 'reborn': 46210,\n",
       " 'into': 34307,\n",
       " 'cycle': 22705,\n",
       " 'broken': 19583,\n",
       " 'but': 19829,\n",
       " 'haven': 30967,\n",
       " 'lost': 37956,\n",
       " 'hope': 33041,\n",
       " 'still': 51407,\n",
       " 'somehow': 50391,\n",
       " 'will': 61255,\n",
       " 'return': 46613,\n",
       " 'save': 47525,\n",
       " 'Happily': 3900,\n",
       " 'surprised': 52181,\n",
       " 'Sokka': 9319,\n",
       " 'Struggling': 10073,\n",
       " 'with': 61439,\n",
       " 'water': 59848,\n",
       " 'passes': 43846,\n",
       " 'right': 46721,\n",
       " 'front': 28291,\n",
       " 'her': 31652,\n",
       " 'caught': 20703,\n",
       " 'one': 42653,\n",
       " 'Exclaims': 3053,\n",
       " 'indignantly': 34107,\n",
       " 'Hey': 4302,\n",
       " 'Cut': 2359,\n",
       " 'face': 25978,\n",
       " 'she': 48467,\n",
       " 'sighs': 49201,\n",
       " 'lightly': 37150,\n",
       " 'before': 18166,\n",
       " 'answering': 15718,\n",
       " 'slight': 49618,\n",
       " 'annoyance': 15609,\n",
       " 'It': 4929,\n",
       " 'not': 41210,\n",
       " 'magic': 38224,\n",
       " 'it': 34870,\n",
       " 'waterbending': 59965,\n",
       " 'And': 734,\n",
       " 'as': 16521,\n",
       " 'raises': 45657,\n",
       " 'an': 14562,\n",
       " 'eyebrow': 25893,\n",
       " 'skeptically': 49444,\n",
       " 'arms': 16319,\n",
       " 'crossed': 22493,\n",
       " 'You': 12854,\n",
       " 're': 45720,\n",
       " 'calling': 20171,\n",
       " 'weird': 60397,\n",
       " 'who': 60998,\n",
       " 'makes': 38322,\n",
       " 'muscles': 40172,\n",
       " 'at': 16707,\n",
       " 'myself': 40416,\n",
       " 'every': 25485,\n",
       " 'see': 47999,\n",
       " 'reflection': 46291,\n",
       " 'Watch': 11915,\n",
       " 'out': 43225,\n",
       " 'Go': 3584,\n",
       " 'left': 36825,\n",
       " 'touch': 57131,\n",
       " 'bitterness': 18840,\n",
       " 'voice': 59113,\n",
       " 'call': 20145,\n",
       " 'Indignantly': 4757,\n",
       " 'So': 9239,\n",
       " 'fault': 26379,\n",
       " 'are': 16065,\n",
       " 'sexist': 48392,\n",
       " 'She': 8710,\n",
       " 'brings': 19560,\n",
       " 'hands': 30445,\n",
       " 'up': 58211,\n",
       " 'head': 31247,\n",
       " 'swings': 52329,\n",
       " 'them': 54681,\n",
       " 'back': 17173,\n",
       " 'down': 24243,\n",
       " 'behind': 18302,\n",
       " 'rage': 45605,\n",
       " 'movement': 40015,\n",
       " 'creates': 22416,\n",
       " 'small': 49747,\n",
       " 'wave': 60013,\n",
       " 'immature': 33674,\n",
       " 'Hands': 3884,\n",
       " 'raised': 45650,\n",
       " 'nut': 41643,\n",
       " 'brained': 19411,\n",
       " 'Swings': 10249,\n",
       " 'again': 13792,\n",
       " 'creating': 22420,\n",
       " 'slightly': 49623,\n",
       " 'larger': 36445,\n",
       " 'during': 24665,\n",
       " 'brief': 19526,\n",
       " 'loss': 37952,\n",
       " 'for': 27578,\n",
       " 'words': 61792,\n",
       " 'embarrassed': 25082,\n",
       " 'Throwing': 11070,\n",
       " 'hand': 30349,\n",
       " 'upward': 58509,\n",
       " 'short': 48806,\n",
       " 'jet': 35408,\n",
       " 'shoots': 48763,\n",
       " 'well': 60426,\n",
       " 'be': 17654,\n",
       " 'related': 46354,\n",
       " 'you': 62401,\n",
       " 'Ever': 2909,\n",
       " 'since': 49279,\n",
       " 'mom': 39581,\n",
       " 'died': 23442,\n",
       " 'Points': 7879,\n",
       " 'herself': 32134,\n",
       " 've': 58780,\n",
       " 'been': 18067,\n",
       " 'doing': 23991,\n",
       " 'work': 61810,\n",
       " 'around': 16383,\n",
       " 'camp': 20267,\n",
       " 'while': 60872,\n",
       " 'off': 42157,\n",
       " 'playing': 44533,\n",
       " 'soldier': 50205,\n",
       " 'Close': 2141,\n",
       " 'fueled': 28343,\n",
       " 'Katara': 5339,\n",
       " 'continues': 21948,\n",
       " 'outburst': 43386,\n",
       " 'finger': 26853,\n",
       " 'pointed': 44644,\n",
       " 'even': 25382,\n",
       " 'wash': 59769,\n",
       " 'clothes': 21420,\n",
       " 'Have': 3959,\n",
       " 'ever': 25450,\n",
       " 'smelled': 49790,\n",
       " 'your': 62965,\n",
       " 'dirty': 23549,\n",
       " 'socks': 50187,\n",
       " 'Let': 5896,\n",
       " 'pleasant': 44558,\n",
       " 'Angrily': 825,\n",
       " 'NO': 6728,\n",
       " 'THAT': 10265,\n",
       " 'IT': 4638,\n",
       " 'done': 24146,\n",
       " 'helping': 31626,\n",
       " 'From': 3416,\n",
       " 'now': 41507,\n",
       " 'on': 42418,\n",
       " 'shrieks': 49085,\n",
       " 'ON': 7232,\n",
       " 'YOUR': 12654,\n",
       " 'OWN': 7234,\n",
       " 'Astonished': 1233,\n",
       " 'mean': 38997,\n",
       " 'did': 23308,\n",
       " 'He': 3988,\n",
       " 'alive': 14142,\n",
       " 'We': 11960,\n",
       " 'Waves': 11941,\n",
       " 'spear': 50783,\n",
       " 'away': 16971,\n",
       " 'Annoyed': 890,\n",
       " 'Stop': 9996,\n",
       " 'What': 12134,\n",
       " 'Curiously': 2347,\n",
       " 'Awkwardly': 1401,\n",
       " 'Uh': 11479,\n",
       " 'sure': 52104,\n",
       " 'guess': 29990,\n",
       " 'Pushes': 8056,\n",
       " 'addresses': 13681,\n",
       " 'sarcastically': 47500,\n",
       " 'Oh': 7273,\n",
       " 'yeah': 62245,\n",
       " 'spy': 50983,\n",
       " 'Navy': 6872,\n",
       " 'can': 20300,\n",
       " 'by': 20030,\n",
       " 'evil': 25619,\n",
       " 'his': 32549,\n",
       " 'eye': 25875,\n",
       " 'Aang': 27,\n",
       " 'two': 57808,\n",
       " 'earnest': 24733,\n",
       " 'grin': 29753,\n",
       " 'The': 10544,\n",
       " 'paranoid': 43779,\n",
       " 'told': 56899,\n",
       " 'us': 58528,\n",
       " 'name': 40468,\n",
       " 'Gasps': 3469,\n",
       " 'air': 13988,\n",
       " 'comprehension': 21763,\n",
       " 'airbender': 14059,\n",
       " 'love': 38028,\n",
       " 'ride': 46687,\n",
       " 'Thanks': 10398,\n",
       " 'runs': 47230,\n",
       " 'side': 49138,\n",
       " 'bison': 18775,\n",
       " 'While': 12322,\n",
       " 'climbing': 21340,\n",
       " 'top': 57088,\n",
       " 'Appa': 957,\n",
       " 'Are': 1177,\n",
       " 'hoping': 33086,\n",
       " 'some': 50262,\n",
       " 'other': 43015,\n",
       " 'kind': 35988,\n",
       " 'monster': 39687,\n",
       " 'come': 21559,\n",
       " 'along': 14350,\n",
       " 'give': 28904,\n",
       " 'home': 32930,\n",
       " 'know': 36150,\n",
       " 'freeze': 28060,\n",
       " 'death': 22972,\n",
       " 'Uncomfortably': 11624,\n",
       " 'Why': 12441,\n",
       " 'smiling': 49857,\n",
       " 'like': 37180,\n",
       " 'wondering': 61757,\n",
       " 'being': 18362,\n",
       " 'if': 33565,\n",
       " 'had': 30209,\n",
       " 'any': 15745,\n",
       " 'idea': 33491,\n",
       " 'what': 60592,\n",
       " 'happened': 30529,\n",
       " 'Okay': 7347,\n",
       " 'Just': 5277,\n",
       " 'curious': 22633,\n",
       " 'slants': 49520,\n",
       " 'eyes': 25907,\n",
       " 'disappointment': 23585,\n",
       " 'second': 47938,\n",
       " 'Good': 3610,\n",
       " 'night': 40949,\n",
       " 'Wake': 11823,\n",
       " 'throwing': 55899,\n",
       " 'covers': 22283,\n",
       " 'body': 19100,\n",
       " 'gasping': 28528,\n",
       " 'perches': 44127,\n",
       " 'beside': 18544,\n",
       " 'stands': 51139,\n",
       " 'sees': 48177,\n",
       " 'awake': 16956,\n",
       " 'okay': 42311,\n",
       " 'we': 60156,\n",
       " 'village': 59004,\n",
       " 'Come': 2177,\n",
       " 'get': 28636,\n",
       " 'ready': 45983,\n",
       " 'points': 44659,\n",
       " 'door': 24177,\n",
       " 'tent': 52938,\n",
       " 'Everyone': 2928,\n",
       " 'waiting': 59256,\n",
       " 'meet': 39157,\n",
       " 'this': 55389,\n",
       " 'entire': 25303,\n",
       " 'line': 37348,\n",
       " 'villagers': 59041,\n",
       " 'Entire': 2892,\n",
       " 'Gesturing': 3506,\n",
       " 'Offering': 7264,\n",
       " 'pull': 45334,\n",
       " 'snow': 49990,\n",
       " 'That': 10426,\n",
       " 'amazing': 14518,\n",
       " 'Nervously': 6893,\n",
       " 'Well': 12041,\n",
       " 'sort': 50697,\n",
       " 'Not': 7113,\n",
       " 'yet': 62345,\n",
       " 'Excitedly': 3019,\n",
       " 'real': 46007,\n",
       " 'thing': 55156,\n",
       " 'Gran': 3683,\n",
       " 'finally': 26735,\n",
       " 'found': 27945,\n",
       " 'bender': 18498,\n",
       " 'teach': 52742,\n",
       " 'special': 50792,\n",
       " 'Clenches': 2127,\n",
       " 'fist': 27140,\n",
       " 'closes': 21399,\n",
       " 'sense': 48236,\n",
       " 'filled': 26716,\n",
       " 'much': 40074,\n",
       " 'wisdom': 61408,\n",
       " 'Runs': 8441,\n",
       " 'children': 21076,\n",
       " 'leave': 36733,\n",
       " 'In': 4701,\n",
       " 'worried': 61956,\n",
       " 'tone': 56922,\n",
       " 'seen': 48133,\n",
       " 'said': 47371,\n",
       " 'disappeared': 23557,\n",
       " 'over': 43444,\n",
       " 'hour': 33172,\n",
       " 'Amused': 715,\n",
       " 'Hehehe': 4231,\n",
       " 'll': 37558,\n",
       " 'catch': 20680,\n",
       " 'penguin': 44020,\n",
       " 'Sadly': 8462,\n",
       " 'No': 6942,\n",
       " 'looking': 37828,\n",
       " 'waterbender': 59938,\n",
       " 'whole': 61125,\n",
       " 'South': 9782,\n",
       " 'Pole': 7899,\n",
       " 'Maybe': 6298,\n",
       " 'contact': 21925,\n",
       " 'sister': 49353,\n",
       " 'long': 37684,\n",
       " 'exactly': 25630,\n",
       " 'turn': 57713,\n",
       " 'glacier': 28948,\n",
       " 'Unsure': 11678,\n",
       " 'don': 24062,\n",
       " 'Mockingly': 6417,\n",
       " 'imitating': 33669,\n",
       " 'teacher': 52755,\n",
       " 'listen': 37385,\n",
       " 'closely': 21381,\n",
       " 'young': 62957,\n",
       " 'pupil': 45382,\n",
       " 'Inclines': 4750,\n",
       " 'toward': 57168,\n",
       " 'Catching': 2017,\n",
       " 'penguins': 44026,\n",
       " 'ancient': 14695,\n",
       " 'sacred': 47262,\n",
       " 'art': 16508,\n",
       " 'conjures': 21874,\n",
       " 'fish': 27102,\n",
       " 'sleeve': 49576,\n",
       " 'Observe': 7241,\n",
       " 'kid': 35914,\n",
       " 'On': 7425,\n",
       " 'dark': 22816,\n",
       " 'ship': 48648,\n",
       " 'very': 58870,\n",
       " 'bad': 17380,\n",
       " 'memory': 39211,\n",
       " 'begins': 18284,\n",
       " 'approach': 16015,\n",
       " 'wreckage': 62137,\n",
       " 'allowed': 14303,\n",
       " 'go': 29050,\n",
       " 'near': 40557,\n",
       " 'booby': 19148,\n",
       " 'trapped': 57333,\n",
       " 'Her': 4271,\n",
       " 'echoes': 24922,\n",
       " 'through': 55835,\n",
       " 'room': 47070,\n",
       " 'This': 10990,\n",
       " 'has': 30669,\n",
       " 'haunted': 30783,\n",
       " 'little': 37416,\n",
       " 'girl': 28835,\n",
       " 'camera': 20220,\n",
       " 'shifts': 48636,\n",
       " 'revealing': 46646,\n",
       " 'weapons': 60323,\n",
       " 'more': 39743,\n",
       " 'part': 43798,\n",
       " 'first': 27064,\n",
       " 'attacks': 16872,\n",
       " 'how': 33208,\n",
       " 'were': 60484,\n",
       " 'iceberg': 33479,\n",
       " 'think': 55268,\n",
       " 'Think': 10974,\n",
       " 'War': 11874,\n",
       " 'century': 20798,\n",
       " 'because': 17989,\n",
       " 'there': 54868,\n",
       " 'expression': 25833,\n",
       " 'changes': 20909,\n",
       " 'explanation': 25801,\n",
       " 'Squats': 9863,\n",
       " 'sorry': 50639,\n",
       " 'bright': 19537,\n",
       " 'Smiling': 9177,\n",
       " 'warmly': 59524,\n",
       " 'offering': 42278,\n",
       " 'let': 36939,\n",
       " 'here': 31914,\n",
       " 'place': 44376,\n",
       " 'creepy': 22440,\n",
       " 'Aaah': 13,\n",
       " 'Narrating Water': 6740,\n",
       " 'Water Earth': 11928,\n",
       " 'Earth Fire': 2767,\n",
       " 'Fire Air': 3223,\n",
       " 'Air My': 627,\n",
       " 'My grandmother': 6702,\n",
       " 'grandmother used': 29617,\n",
       " 'used to': 58704,\n",
       " 'to tell': 56749,\n",
       " 'tell me': 52861,\n",
       " 'me stories': 38948,\n",
       " 'stories about': 51662,\n",
       " 'about the': 13476,\n",
       " 'the old': 54180,\n",
       " 'old days': 42388,\n",
       " 'days time': 22924,\n",
       " 'time of': 56077,\n",
       " 'of peace': 42024,\n",
       " 'peace when': 43971,\n",
       " 'when the': 60769,\n",
       " 'the Avatar': 53461,\n",
       " 'Avatar kept': 1356,\n",
       " 'kept balance': 35878,\n",
       " 'balance between': 17493,\n",
       " 'between the': 18670,\n",
       " 'the Water': 53532,\n",
       " 'Water Tribes': 11931,\n",
       " 'Tribes Earth': 11368,\n",
       " 'Earth Kingdom': 2769,\n",
       " 'Kingdom Fire': 5681,\n",
       " 'Fire Nation': 3229,\n",
       " 'Nation and': 6787,\n",
       " 'and Air': 14706,\n",
       " 'Air Nomads': 629,\n",
       " 'Nomads But': 7075,\n",
       " 'But that': 1904,\n",
       " 'that all': 53169,\n",
       " 'all changed': 14199,\n",
       " 'changed when': 20906,\n",
       " 'the Fire': 53484,\n",
       " 'Nation attacked': 6791,\n",
       " 'attacked Only': 16855,\n",
       " 'Only the': 7463,\n",
       " 'Avatar mastered': 1360,\n",
       " 'mastered all': 38614,\n",
       " 'all four': 14218,\n",
       " 'four elements': 27981,\n",
       " 'elements only': 25033,\n",
       " 'only he': 42816,\n",
       " 'he could': 31060,\n",
       " 'could stop': 22150,\n",
       " 'stop the': 51610,\n",
       " 'the ruthless': 54331,\n",
       " 'ruthless firebenders': 47255,\n",
       " 'firebenders But': 26986,\n",
       " 'But when': 1921,\n",
       " 'the world': 54594,\n",
       " 'world needed': 61928,\n",
       " 'needed him': 40690,\n",
       " 'him most': 32429,\n",
       " 'most he': 39859,\n",
       " 'he vanished': 31233,\n",
       " 'vanished hundred': 58768,\n",
       " 'hundred years': 33370,\n",
       " 'years have': 62290,\n",
       " 'have passed': 30907,\n",
       " 'passed and': 43844,\n",
       " 'and the': 15403,\n",
       " 'Nation is': 6830,\n",
       " 'is nearing': 34675,\n",
       " 'nearing victory': 40580,\n",
       " 'victory in': 58926,\n",
       " 'in the': 34024,\n",
       " 'the war': 54562,\n",
       " 'war Two': 59471,\n",
       " 'Two years': 11439,\n",
       " 'years ago': 62286,\n",
       " 'ago my': 13947,\n",
       " 'my father': 40274,\n",
       " 'father and': 26345,\n",
       " 'the men': 54109,\n",
       " 'men of': 39222,\n",
       " 'of my': 42005,\n",
       " 'my tribe': 40398,\n",
       " 'tribe journeyed': 57442,\n",
       " 'journeyed to': 35497,\n",
       " 'to the': 56752,\n",
       " 'the Earth': 53479,\n",
       " 'Kingdom to': 5702,\n",
       " 'to help': 56476,\n",
       " 'help fight': 31580,\n",
       " 'fight against': 26651,\n",
       " 'against the': 13902,\n",
       " 'Nation leaving': 6835,\n",
       " 'leaving me': 36800,\n",
       " 'me and': 38834,\n",
       " 'and my': 15181,\n",
       " 'my brother': 40246,\n",
       " 'brother to': 19615,\n",
       " 'to look': 56540,\n",
       " 'look after': 37765,\n",
       " 'after our': 13779,\n",
       " 'our tribe': 43202,\n",
       " 'tribe Some': 57435,\n",
       " 'Some people': 9663,\n",
       " 'people believe': 44066,\n",
       " 'believe that': 18434,\n",
       " 'that the': 53404,\n",
       " 'Avatar was': 1379,\n",
       " 'was never': 59676,\n",
       " 'never reborn': 40817,\n",
       " 'reborn into': 46211,\n",
       " 'into the': 34355,\n",
       " 'the Air': 53460,\n",
       " 'Nomads and': 7076,\n",
       " 'and that': 15402,\n",
       " 'the cycle': 53785,\n",
       " 'cycle is': 22707,\n",
       " 'is broken': 34531,\n",
       " 'broken but': 19586,\n",
       " 'but haven': 19889,\n",
       " 'haven lost': 30979,\n",
       " 'lost hope': 37968,\n",
       " 'hope still': 33066,\n",
       " 'still believe': 51416,\n",
       " 'that somehow': 53383,\n",
       " 'somehow the': 50400,\n",
       " 'Avatar will': 1382,\n",
       " 'will return': 61308,\n",
       " 'return to': 46618,\n",
       " 'to save': 56659,\n",
       " 'save the': 47537,\n",
       " 'world Happily': 61894,\n",
       " 'Happily surprised': 3919,\n",
       " 'surprised Sokka': 52191,\n",
       " 'Sokka look': 9535,\n",
       " 'look Struggling': 37755,\n",
       " 'Struggling with': 10077,\n",
       " 'with the': 61615,\n",
       " 'the water': 54565,\n",
       " 'water that': 59920,\n",
       " 'that passes': 53342,\n",
       " 'passes right': 43851,\n",
       " 'right in': 46816,\n",
       " 'in front': 33887,\n",
       " 'front of': 28297,\n",
       " 'of her': 41931,\n",
       " 'her But': 31661,\n",
       " 'But Sokka': 1847,\n",
       " 'Sokka caught': 9449,\n",
       " 'caught one': 20712,\n",
       " 'one Exclaims': 42663,\n",
       " 'Exclaims indignantly': 3056,\n",
       " 'indignantly Hey': 34108,\n",
       " 'Hey Cut': 4307,\n",
       " 'Cut to': 2364,\n",
       " 'to her': 56477,\n",
       " 'her face': 31765,\n",
       " 'face she': 26065,\n",
       " 'she sighs': 48559,\n",
       " 'sighs lightly': 49207,\n",
       " 'lightly before': 37153,\n",
       " 'before answering': 18191,\n",
       " 'answering in': 15722,\n",
       " 'in slight': 34002,\n",
       " 'slight annoyance': 49619,\n",
       " 'annoyance It': 15611,\n",
       " 'It not': 5041,\n",
       " 'not magic': 41337,\n",
       " 'magic it': 38230,\n",
       " 'it waterbending': 35302,\n",
       " 'waterbending And': 59966,\n",
       " 'And it': 765,\n",
       " 'it Cut': 34901,\n",
       " 'face as': 26030,\n",
       " 'as she': 16608,\n",
       " 'she raises': 48547,\n",
       " 'raises an': 45658,\n",
       " 'an eyebrow': 14643,\n",
       " 'eyebrow skeptically': 25897,\n",
       " 'skeptically arms': 49448,\n",
       " 'arms still': 16367,\n",
       " 'still crossed': 51421,\n",
       " 'crossed You': 22495,\n",
       " 'You re': 12927,\n",
       " 're calling': 45763,\n",
       " 'calling me': 20173,\n",
       " 'me weird': 38976,\n",
       " 'weird not': 60407,\n",
       " 'not the': 41393,\n",
       " 'the one': 54183,\n",
       " 'one who': 42778,\n",
       " 'who makes': 61076,\n",
       " 'makes muscles': 38339,\n",
       " 'muscles at': 40175,\n",
       " 'at myself': 16783,\n",
       " 'myself every': 40434,\n",
       " 'every time': 25498,\n",
       " 'time see': 56081,\n",
       " 'see my': 48048,\n",
       " 'my reflection': 40363,\n",
       " 'reflection in': 46292,\n",
       " 'water Watch': 59877,\n",
       " 'Watch out': 11919,\n",
       " 'out Go': 43239,\n",
       " 'Go left': 3596,\n",
       " 'left Go': 36827,\n",
       " 'left touch': 36867,\n",
       " 'touch of': 57134,\n",
       " 'of bitterness': 41813,\n",
       " 'bitterness in': 18841,\n",
       " 'in her': 33908,\n",
       " 'her voice': 31890,\n",
       " 'voice You': 59146,\n",
       " 'You call': 12866,\n",
       " 'call that': 20157,\n",
       " 'that left': 53295,\n",
       " 'left Indignantly': 36829,\n",
       " 'Indignantly So': 4758,\n",
       " 'So it': 9277,\n",
       " 'it my': 35189,\n",
       " 'my fault': 40275,\n",
       " 'fault You': 26387,\n",
       " 'You are': 12858,\n",
       " 'are the': 16212,\n",
       " 'the most': 54137,\n",
       " 'most sexist': 39866,\n",
       " 'sexist She': 48393,\n",
       " 'She brings': 8719,\n",
       " 'brings her': 19562,\n",
       " 'her hands': 31785,\n",
       " 'hands up': 30491,\n",
       " 'up to': 58449,\n",
       " 'her head': 31788,\n",
       " 'head and': 31289,\n",
       " 'and swings': 15383,\n",
       " 'swings them': 52331,\n",
       " 'them back': 54744,\n",
       " 'back down': 17259,\n",
       " 'down and': 24305,\n",
       " 'and behind': 14819,\n",
       " 'behind her': 18342,\n",
       " 'her in': 31799,\n",
       " 'her rage': 31848,\n",
       " 'rage the': 45616,\n",
       " 'the movement': 54142,\n",
       " 'movement creates': 40016,\n",
       " 'creates small': 22419,\n",
       " 'small wave': 49768,\n",
       " 'wave of': 60022,\n",
       " 'of water': 42137,\n",
       " 'water behind': 59892,\n",
       " 'her immature': 31797,\n",
       " 'immature Hands': 33675,\n",
       " 'Hands raised': 3888,\n",
       " 'raised back': 45651,\n",
       " 'back to': 17303,\n",
       " 'head nut': 31322,\n",
       " 'nut brained': 41644,\n",
       " 'brained Swings': 19412,\n",
       " 'Swings her': 10252,\n",
       " 'her arms': 31719,\n",
       " 'arms back': 16343,\n",
       " 'down again': 24303,\n",
       " 'again creating': 13864,\n",
       " 'creating slightly': 22424,\n",
       " 'slightly larger': 49649,\n",
       " 'larger wave': 36448,\n",
       " 'wave she': 60023,\n",
       " 'raises her': 45664,\n",
       " 'hands back': 30466,\n",
       " 'head during': 31307,\n",
       " 'during brief': 24666,\n",
       " 'brief loss': 19528,\n",
       " 'loss for': 37953,\n",
       " 'for words': 27757,\n",
       " 'words embarrassed': 61803,\n",
       " 'embarrassed Throwing': 25086,\n",
       " 'Throwing hand': 11071,\n",
       " 'hand upward': 30421,\n",
       " 'upward short': 58516,\n",
       " 'short jet': 48809,\n",
       " 'jet of': 35409,\n",
       " 'water shoots': 59913,\n",
       " 'shoots upward': 48771,\n",
       " 'upward as': 58514,\n",
       " 'as well': 16623,\n",
       " 'well to': 60466,\n",
       " 'to be': 56283,\n",
       " 'be related': 17838,\n",
       " 'related to': 46355,\n",
       " 'to you': 56818,\n",
       " 'you Ever': 62444,\n",
       " 'Ever since': 2910,\n",
       " 'since mom': 49286,\n",
       " 'mom died': 39588,\n",
       " 'died Points': 23445,\n",
       " 'Points to': 7894,\n",
       " 'to herself': 56478,\n",
       " 'herself ve': 32148,\n",
       " 've been': 58787,\n",
       " 'been doing': 18088,\n",
       " 'doing all': 24034,\n",
       " 'all the': 14271,\n",
       " 'the work': 54593,\n",
       " 'work around': 61836,\n",
       " 'around camp': 16419,\n",
       " 'camp while': 20277,\n",
       " 'while you': 60946,\n",
       " 'you ve': 62922,\n",
       " 'been off': 18125,\n",
       " 'off playing': 42234,\n",
       " 'playing soldier': 44542,\n",
       " 'soldier Close': 50206,\n",
       " 'Close up': 2147,\n",
       " 'up of': 58406,\n",
       " 'of rage': 42039,\n",
       " 'rage fueled': 45614,\n",
       " 'fueled Katara': 28344,\n",
       " 'Katara as': 5424,\n",
       " 'she continues': 48487,\n",
       " 'continues her': 21952,\n",
       " 'her outburst': 31831,\n",
       " 'outburst finger': 43387,\n",
       " 'finger pointed': 26866,\n",
       " 'pointed in': 44646,\n",
       " 'in Sokka': 33775,\n",
       " 'Sokka face': 9474,\n",
       " 'face even': 26038,\n",
       " 'even wash': 25436,\n",
       " 'wash all': 59770,\n",
       " 'the clothes': 53722,\n",
       " 'clothes Have': 21423,\n",
       " 'Have you': 3962,\n",
       " 'you ever': 62666,\n",
       " 'ever smelled': 25479,\n",
       " 'smelled your': 49792,\n",
       " 'your dirty': 63019,\n",
       " 'dirty socks': 23551,\n",
       " 'socks Let': 50188,\n",
       " 'Let me': 5916,\n",
       " 'me tell': 38952,\n",
       " 'tell you': 52871,\n",
       " 'you not': 62797,\n",
       " 'not pleasant': 41357,\n",
       " 'pleasant Angrily': 44559,\n",
       " 'Angrily NO': 842,\n",
       " 'NO THAT': 6729,\n",
       " 'THAT IT': 10266,\n",
       " 'IT done': 4639,\n",
       " 'done helping': 24157,\n",
       " 'helping you': 31635,\n",
       " 'you From': 62450,\n",
       " 'From now': 3420,\n",
       " 'now on': 41597,\n",
       " 'on shrieks': 42592,\n",
       " 'shrieks you': 49086,\n",
       " 'you re': 62830,\n",
       " 're ON': 45730,\n",
       " 'ON YOUR': 7233,\n",
       " 'YOUR OWN': 12655,\n",
       " 'OWN Astonished': 7235,\n",
       " 'Astonished You': 1234,\n",
       " 'You mean': 12910,\n",
       " 'mean did': 39031,\n",
       " 'did that': 23363,\n",
       " 'that He': 53102,\n",
       " 'He alive': 3992,\n",
       " 'alive We': 14149,\n",
       " 'We have': 11985,\n",
       " 'have to': 30950,\n",
       " 'help Waves': 31571,\n",
       " 'Waves the': 11947,\n",
       " 'the spear': 54419,\n",
       " 'spear away': 50786,\n",
       " 'away Annoyed': 16978,\n",
       " 'Annoyed Stop': 909,\n",
       " 'Stop it': 10009,\n",
       " 'it What': 35015,\n",
       " 'What Curiously': 12141,\n",
       " 'Curiously What': 2351,\n",
       " 'What is': 12205,\n",
       " 'is it': 34642,\n",
       " 'it Awkwardly': 34882,\n",
       " 'Awkwardly Uh': 1403,\n",
       " 'Uh sure': 11510,\n",
       " 'sure guess': 52129,\n",
       " 'guess Pushes': 29999,\n",
       " 'Pushes Sokka': 8059,\n",
       " 'Sokka spear': 9590,\n",
       " 'away again': 17052,\n",
       " 'again and': 13857,\n",
       " 'and addresses': 14769,\n",
       " 'addresses him': 13682,\n",
       " 'him sarcastically': 32450,\n",
       " 'sarcastically Oh': 47503,\n",
       " 'Oh yeah': 7343,\n",
       " 'yeah sure': 62264,\n",
       " 'sure he': 52130,\n",
       " 'he spy': 31199,\n",
       " 'spy for': 50985,\n",
       " 'for the': 27724,\n",
       " 'Fire Navy': 3230,\n",
       " 'Navy You': 6875,\n",
       " 'You can': 12867,\n",
       " 'can tell': 20467,\n",
       " 'tell by': 52856,\n",
       " 'by that': 20101,\n",
       " 'that evil': 53230,\n",
       " 'evil look': 25626,\n",
       " 'look in': 37782,\n",
       " 'in his': 33912,\n",
       " 'his eye': 32635,\n",
       " 'eye Aang': 25876,\n",
       " 'Aang shoots': 384,\n",
       " 'shoots the': 48769,\n",
       " 'the two': 54531,\n",
       " 'two an': 57820,\n",
       " 'an earnest': 14611,\n",
       " 'earnest grin': 24734,\n",
       " 'grin The': 29756,\n",
       " 'The paranoid': 10699,\n",
       " 'paranoid one': 43781,\n",
       " 'one is': 42721,\n",
       " 'is my': 34671,\n",
       " 'brother Sokka': 19601,\n",
       " 'Sokka You': 9415,\n",
       " 'You never': 12917,\n",
       " 'never told': 40828,\n",
       " 'told us': 56904,\n",
       " 'us your': 58675,\n",
       " 'your name': 63110,\n",
       " 'name Gasps': 40472,\n",
       " 'Gasps for': 3473,\n",
       " 'for air': 27610,\n",
       " 'air in': 14021,\n",
       " 'in comprehension': 33821,\n",
       " 'comprehension You': 21765,\n",
       " 're an': 45742,\n",
       " 'an airbender': 14577,\n",
       " 'airbender We': 14069,\n",
       " 'We love': 11996,\n",
       " 'love ride': 38058,\n",
       " 'ride Thanks': 46690,\n",
       " 'Thanks Katara': 10406,\n",
       " 'Katara runs': 5561,\n",
       " 'runs to': 47245,\n",
       " 'the side': 54378,\n",
       " 'side of': 49175,\n",
       " 'of the': 42102,\n",
       " 'the bison': 53627,\n",
       " 'bison While': 18792,\n",
       " 'While climbing': 12327,\n",
       " 'climbing on': 21343,\n",
       " 'on top': 42613,\n",
       " 'top of': 57095,\n",
       " 'of Appa': 41729,\n",
       " 'Appa with': 1140,\n",
       " 'the help': 53976,\n",
       " 'help of': 31592,\n",
       " 'of Aang': 41726,\n",
       " 'Aang Are': 37,\n",
       " 'Are you': 1180,\n",
       " 'you hoping': 62724,\n",
       " 'hoping some': 33087,\n",
       " 'some other': 50334,\n",
       " 'other kind': 43061,\n",
       " 'kind of': 35991,\n",
       " 'of monster': 42000,\n",
       " 'monster will': 39700,\n",
       " 'will come': 61275,\n",
       " 'come along': 21568,\n",
       " 'along and': 14359,\n",
       " 'and give': 15018,\n",
       " 'give you': 28920,\n",
       " 'you ride': 62836,\n",
       " 'ride home': 46698,\n",
       " 'home You': 32956,\n",
       " 'You know': 12897,\n",
       " 'know before': 36217,\n",
       " 'before you': 18258,\n",
       " 'you freeze': 62688,\n",
       " 'freeze to': 28062,\n",
       " 'to death': 56372,\n",
       " 'death Uncomfortably': 22975,\n",
       " 'Uncomfortably Why': 11626,\n",
       " 'Why are': 12452,\n",
       " 'are you': 16236,\n",
       " 'you smiling': 62865,\n",
       " 'smiling at': 49870,\n",
       " 'at me': 16778,\n",
       " 'me like': 38905,\n",
       " 'like that': 37308,\n",
       " 'that Hey': 53103,\n",
       " 'Hey guess': 4346,\n",
       " 'guess was': 30027,\n",
       " 'was wondering': 59759,\n",
       " 'wondering your': 61760,\n",
       " 'your being': 62988,\n",
       " 'being an': 18367,\n",
       " 'airbender and': 14071,\n",
       " 'and all': 14776,\n",
       " 'all if': 14233,\n",
       " 'if you': 33620,\n",
       " 'you had': 62707,\n",
       " 'had any': 30213,\n",
       " 'any idea': 15764,\n",
       " 'idea what': 33535,\n",
       " 'what happened': 60655,\n",
       " 'happened to': 30558,\n",
       " 'Avatar Okay': 1292,\n",
       " 'Okay Just': 7352,\n",
       " 'Just curious': 5288,\n",
       " 'curious She': 22635,\n",
       " ...}"
      ]
     },
     "execution_count": 30,
     "metadata": {},
     "output_type": "execute_result"
    }
   ],
   "source": [
    "# View features (tokens).\n",
    "print(vectorizer.get_feature_names_out())\n",
    "\n",
    "# View vocabulary dictionary.\n",
    "print('vocab size: ', len(vectorizer.vocabulary_))\n",
    "\n",
    "vectorizer.vocabulary_"
   ]
  },
  {
   "cell_type": "code",
   "execution_count": 31,
   "metadata": {},
   "outputs": [
    {
     "name": "stdout",
     "output_type": "stream",
     "text": [
      "  (0, 6739)\t1\n",
      "  (0, 11924)\t1\n",
      "  (0, 2766)\t1\n",
      "  (0, 3222)\t1\n",
      "  (0, 625)\t1\n",
      "  (0, 6682)\t1\n",
      "  (0, 29614)\t1\n",
      "  (0, 58697)\t1\n",
      "  (0, 56167)\t1\n",
      "  (0, 52850)\t1\n",
      "  (0, 38697)\t1\n",
      "  (0, 51657)\t1\n",
      "  (0, 13380)\t1\n",
      "  (0, 53458)\t1\n",
      "  (0, 42376)\t1\n",
      "  (0, 22905)\t1\n",
      "  (0, 55994)\t1\n",
      "  (0, 41725)\t1\n",
      "  (0, 43962)\t1\n",
      "  (0, 60732)\t1\n",
      "  (0, 1259)\t1\n",
      "  (0, 35877)\t1\n",
      "  (0, 17487)\t1\n",
      "  (0, 18656)\t1\n",
      "  (0, 11367)\t1\n",
      "  :\t:\n",
      "  (365, 20300)\t1\n",
      "  (365, 35988)\t1\n",
      "  (365, 55389)\t1\n",
      "  (365, 33370)\t1\n",
      "  (365, 2364)\t1\n",
      "  (365, 35991)\t1\n",
      "  (365, 42630)\t1\n",
      "  (365, 26973)\t1\n",
      "  (365, 4797)\t1\n",
      "  (365, 41744)\t1\n",
      "  (365, 48814)\t1\n",
      "  (365, 56684)\t1\n",
      "  (365, 48841)\t1\n",
      "  (365, 44876)\t1\n",
      "  (365, 25776)\t1\n",
      "  (365, 42033)\t1\n",
      "  (365, 4804)\t1\n",
      "  (365, 7461)\t1\n",
      "  (365, 42640)\t1\n",
      "  (365, 25490)\t1\n",
      "  (365, 62289)\t1\n",
      "  (365, 20377)\t1\n",
      "  (365, 26978)\t1\n",
      "  (365, 25781)\t1\n",
      "  (365, 55568)\t1\n"
     ]
    }
   ],
   "source": [
    "#first element represents the characters lines in a episode (document), and the second element represents a token ID, It's then followed by a count of that token in the document.\n",
    "print(bow)"
   ]
  },
  {
   "cell_type": "code",
   "execution_count": 32,
   "metadata": {},
   "outputs": [
    {
     "data": {
      "text/plain": [
       "['[Narrating.]',\n",
       " 'Water.',\n",
       " 'Earth.',\n",
       " 'Fire.',\n",
       " 'Air.',\n",
       " 'My grandmother used to tell me stories about the old days: a time of peace when the Avatar kept balance between the Water Tribes, Earth Kingdom, Fire Nation and Air Nomads.',\n",
       " 'But that all changed when the Fire Nation attacked.',\n",
       " 'Only the Avatar mastered all four elements; only he could stop the ruthless firebenders.',\n",
       " 'But when the world needed him most, he vanished.',\n",
       " 'A hundred years have passed, and the Fire Nation is nearing victory in the war.',\n",
       " 'Two years ago, my father and the men of my tribe journeyed to the Earth Kingdom to help fight against the Fire Nation, leaving me and my brother to look after our tribe.',\n",
       " \"Some people believe that the Avatar was never reborn into the Air Nomads and that the cycle is broken, but I haven't lost hope.\",\n",
       " 'I still believe that, somehow, the Avatar will return to save the world.',\n",
       " '[Happily surprised.]',\n",
       " 'Sokka, look!',\n",
       " '[Struggling with the water that passes right in front of her.]',\n",
       " 'But, Sokka!',\n",
       " 'I caught one!',\n",
       " '[Exclaims indignantly.]',\n",
       " 'Hey!',\n",
       " '[Cut to her face; she sighs lightly before answering in slight annoyance.]',\n",
       " 'It\\'s not \"magic\", it\\'s waterbending!',\n",
       " \"And it's ...[Cut to her face as she raises an eyebrow skeptically, arms still crossed.]\",\n",
       " \"You're calling me weird?\",\n",
       " \"I'm not the one who makes muscles at myself every time I see my reflection in the water!Watch out!\",\n",
       " 'Go left!',\n",
       " 'Go left!',\n",
       " '[A touch of bitterness in her voice.]',\n",
       " 'You call that left?[Indignantly.]',\n",
       " \"So it's my fault?You are the most sexist, [She brings her hands up to her head and swings them back down and behind her in her rage; the movement creates a small wave of water behind her.]\",\n",
       " 'immature, [Hands raised back to her head.]',\n",
       " 'nut brained ... [Swings her arms back down again, creating a slightly larger wave; she raises her hands back to her head during a brief loss for words.]',\n",
       " \"I'm embarrassed [Throwing a hand upward, a short jet of water shoots upward as well.]\",\n",
       " 'to be related to you!Ever since mom died, [Points to herself.]',\n",
       " \"I've been doing all the work around camp while you've been off playing soldier!\",\n",
       " \"[Close-up of a rage-fueled Katara as she continues her outburst, a finger pointed in Sokka's face.]\",\n",
       " 'I even wash all the clothes!',\n",
       " 'Have you ever smelled your dirty socks?',\n",
       " 'Let me tell you, not pleasant!',\n",
       " '(Angrily) NO!',\n",
       " 'THAT’S IT!!',\n",
       " 'I’m done helping you.',\n",
       " 'From now on, (shrieks) you’re ON YOUR OWN![Astonished.]',\n",
       " \"You mean I did that?He's alive!\",\n",
       " 'We have to help!',\n",
       " '[Waves the spear away.',\n",
       " 'Annoyed.]',\n",
       " 'Stop it!What?[Curiously.]',\n",
       " 'What is it?[Awkwardly.]',\n",
       " 'Uh, sure ... I-I guess.',\n",
       " \"[Pushes Sokka's spear away again and addresses him sarcastically.]\",\n",
       " \"Oh yeah, I'm sure he's a spy for the Fire Navy.\",\n",
       " 'You can tell by that evil look in his eye.',\n",
       " '[Aang shoots the two an earnest grin.]',\n",
       " 'The paranoid one is my brother, Sokka.',\n",
       " 'You never told us your name.',\n",
       " '[Gasps for air in comprehension.]',\n",
       " \"You're an airbender!We'd love a ride!\",\n",
       " 'Thanks!',\n",
       " '[Katara runs to the side of the bison.',\n",
       " '][While climbing on top of Appa with the help of Aang.]',\n",
       " 'Are you hoping some other kind of monster will come along and give you a ride home?',\n",
       " 'You know, before you freeze to death?[Uncomfortably.]',\n",
       " 'Why are you smiling at me like that?Hey.I guess I was wondering, your being an airbender and all, if you had any idea what happened to the Avatar?Okay.',\n",
       " 'Just curious.',\n",
       " '[She slants her eyes in disappointment for a second before smiling again at Aang.]',\n",
       " 'Good night.Aang?',\n",
       " 'Aang!',\n",
       " 'Wake up.',\n",
       " '[Aang shoots up, throwing the covers of his body and gasping for air.',\n",
       " 'Katara perches beside him and stands up as she sees that Aang is awake.]',\n",
       " \"It's okay, we're in the village now!\",\n",
       " 'Come on, get ready.',\n",
       " '[She points to the door of the tent.]',\n",
       " \"Everyone's waiting to meet you.Aang, this is the entire village.\",\n",
       " '[Points to the line of villagers in front of them.]',\n",
       " 'Entire village, Aang.[Gesturing.]',\n",
       " 'Aang, this is my grandmother.',\n",
       " '[Offering her hand to pull him out of the snow.]',\n",
       " 'That was amazing![Nervously.]',\n",
       " 'Well, sort of.',\n",
       " 'Not yet.[Excitedly.]',\n",
       " \"I told you, he's the real thing Gran-Gran!\",\n",
       " \"I finally found a bender to teach me!But he's special!\",\n",
       " 'I can tell!',\n",
       " '[Clenches her fist and closes her eyes in hope.]',\n",
       " \"I sense he's filled with much wisdom.\",\n",
       " '[Runs up to Sokka as the children leave.',\n",
       " 'In a worried tone.]',\n",
       " 'Have you seen Aang?',\n",
       " 'Gran-Gran said he disappeared over an hour ago.Aang?[Amused.]',\n",
       " \"Hehehe, Aang, I'll help you catch a penguin if you teach me waterbending.[Sadly.]\",\n",
       " 'No.',\n",
       " \"You're looking at the only waterbender in the whole South Pole.Maybe, but we haven't had contact with our sister tribe in a long time.\",\n",
       " 'It\\'s not exactly \"turn right at the second glacier\".',\n",
       " \"It's on the other side of the world.[Unsure.]\",\n",
       " \"That's ...\",\n",
       " \"I mean, I don't know.\",\n",
       " \"I've never left home before.\",\n",
       " '[Mockingly imitating a teacher.]',\n",
       " 'Okay, listen closely my young pupil.',\n",
       " '[Inclines her head toward Aang.]',\n",
       " 'Catching penguins is an ancient and sacred art.',\n",
       " '[She conjures a fish out of her sleeve.]',\n",
       " 'Observe![Happily.]',\n",
       " \"I haven't done this since I was a kid!\",\n",
       " '[On a slightly dark tone.]',\n",
       " 'A Fire Navy ship.',\n",
       " 'And a very bad memory for my people.',\n",
       " '[Aang begins to approach the wreckage.]',\n",
       " 'Aang, stop!',\n",
       " \"We're not allowed to go near it!\",\n",
       " 'The ship could be booby-trapped!',\n",
       " '[Her voice echoes through the room.]',\n",
       " 'This ship has haunted my tribe since Gran-Gran was a little girl.',\n",
       " '[The camera shifts through the room, revealing all the weapons more closely.]',\n",
       " \"It was part of the Fire Nation's first attacks.Aang, how long were you in that iceberg?I think it was more like a hundred years!Think about it.\",\n",
       " 'The War is a century old.',\n",
       " \"You don't know about it because, somehow, you were in there the whole time!\",\n",
       " \"[Aang's expression changes to one of comprehension.]\",\n",
       " \"It's the only explanation.\",\n",
       " '[Squats beside him.]',\n",
       " \"I'm sorry, Aang.\",\n",
       " \"Maybe somehow there's a bright side to all this ...[Smiling warmly at him while offering her hand.]\",\n",
       " \"Come on, let's get out of here.Aang, let's head back, this place is creepy.Aaah!\"]"
      ]
     },
     "execution_count": 32,
     "metadata": {},
     "output_type": "execute_result"
    }
   ],
   "source": [
    "sent_tokenize(atla_lines_df.character_lines[0])"
   ]
  },
  {
   "cell_type": "code",
   "execution_count": 35,
   "metadata": {},
   "outputs": [],
   "source": [
    "nlp = spacy.load('en_core_web_sm')\n",
    "unwanted_pipes = ['ner', 'parser']\n",
    "\n",
    "# Further remove stop words and take the lemma instead of token text.\n",
    "def spacy_tokenizer(doc):\n",
    "  with nlp.disable_pipes(*unwanted_pipes):\n",
    "    return [t.lemma_ for t in nlp(doc) if \\\n",
    "            not t.is_punct and \\\n",
    "            not t.is_space and \\\n",
    "            not t.is_stop and \\\n",
    "            t.is_alpha]"
   ]
  },
  {
   "cell_type": "code",
   "execution_count": 36,
   "metadata": {},
   "outputs": [],
   "source": [
    "#TD-IDF model\n",
    "\n",
    "vectorizer = TfidfVectorizer(tokenizer=spacy_tokenizer) #sent_tokenize for sentences or use custom spacy word tokenizer\n",
    "tf_idf_features = vectorizer.fit_transform(atla_lines_df.character_lines)"
   ]
  },
  {
   "cell_type": "code",
   "execution_count": 37,
   "metadata": {},
   "outputs": [
    {
     "data": {
      "text/plain": [
       "array(['aaaaah', 'aaahh', 'aaahhh', ..., 'zoom', 'zuko', '子白'],\n",
       "      dtype=object)"
      ]
     },
     "execution_count": 37,
     "metadata": {},
     "output_type": "execute_result"
    }
   ],
   "source": [
    "#see terms in vocabulary\n",
    "vectorizer.get_feature_names_out()"
   ]
  },
  {
   "cell_type": "code",
   "execution_count": 38,
   "metadata": {},
   "outputs": [
    {
     "name": "stdout",
     "output_type": "stream",
     "text": [
      "4244\n"
     ]
    }
   ],
   "source": [
    "# The number of unique tokens.\n",
    "print(len(vectorizer.get_feature_names_out()))"
   ]
  },
  {
   "cell_type": "code",
   "execution_count": 39,
   "metadata": {},
   "outputs": [
    {
     "name": "stdout",
     "output_type": "stream",
     "text": [
      "(366, 4244)\n"
     ]
    }
   ],
   "source": [
    "# The dimensions of our feature matrix. X rows (documents) by Y columns (tokens).\n",
    "print(tf_idf_features.shape)"
   ]
  },
  {
   "cell_type": "code",
   "execution_count": 40,
   "metadata": {},
   "outputs": [
    {
     "name": "stdout",
     "output_type": "stream",
     "text": [
      "  (0, 2688)\t0.0257439863805513\n",
      "  (0, 2490)\t0.04222189767976029\n",
      "  (0, 4060)\t0.05746706187726526\n",
      "  (0, 455)\t0.04908169617940475\n",
      "  (0, 2240)\t0.02615355919813395\n",
      "  (0, 3422)\t0.026015142993892192\n",
      "  (0, 1262)\t0.03536209918011584\n",
      "  (0, 567)\t0.05461998826241606\n",
      "  (0, 3742)\t0.017571043608646954\n",
      "  (0, 4085)\t0.044608581434554255\n",
      "  (0, 3011)\t0.035722015108385845\n",
      "  (0, 3219)\t0.04374746487797635\n",
      "  (0, 518)\t0.025350692352254033\n",
      "  (0, 1537)\t0.03287494149353665\n",
      "  (0, 2137)\t0.024029185935620895\n",
      "  (0, 1687)\t0.05461998826241606\n",
      "  (0, 3049)\t0.07072419836023168\n",
      "  (0, 1139)\t0.05241162640011434\n",
      "  (0, 405)\t0.05241162640011434\n",
      "  (0, 107)\t0.04908169617940475\n",
      "  (0, 4183)\t0.06147978676206052\n",
      "  (0, 158)\t0.032339859978741815\n",
      "  (0, 316)\t0.030236224990824907\n",
      "  (0, 2263)\t0.05461998826241606\n",
      "  (0, 252)\t0.02942789041150373\n",
      "  :\t:\n",
      "  (0, 3072)\t0.05461998826241606\n",
      "  (0, 3543)\t0.07142034339477141\n",
      "  (0, 1160)\t0.04153910301567463\n",
      "  (0, 2229)\t0.032082791050736255\n",
      "  (0, 198)\t0.034354796844769\n",
      "  (0, 580)\t0.06269874859064116\n",
      "  (0, 2443)\t0.09318907698565113\n",
      "  (0, 2405)\t0.12675346176127017\n",
      "  (0, 2023)\t0.07296733507704742\n",
      "  (0, 3847)\t0.16720307648149493\n",
      "  (0, 261)\t0.04295531443517596\n",
      "  (0, 2005)\t0.03730886174249634\n",
      "  (0, 217)\t0.0895036757449704\n",
      "  (0, 2620)\t0.044608581434554255\n",
      "  (0, 3778)\t0.08692504598302415\n",
      "  (0, 891)\t0.02962386903887925\n",
      "  (0, 2499)\t0.0592477380777585\n",
      "  (0, 3545)\t0.04222189767976029\n",
      "  (0, 3710)\t0.13425551361745558\n",
      "  (0, 1580)\t0.05461998826241606\n",
      "  (0, 91)\t0.1407750801019156\n",
      "  (0, 1352)\t0.1577681463760806\n",
      "  (0, 1126)\t0.08446504806114938\n",
      "  (0, 4070)\t0.12805572077041996\n",
      "  (0, 2400)\t0.06147978676206052\n"
     ]
    }
   ],
   "source": [
    "# What the encoding of the first document looks like in sparse format.\n",
    "print(tf_idf_features[0])"
   ]
  },
  {
   "cell_type": "code",
   "execution_count": 41,
   "metadata": {},
   "outputs": [
    {
     "name": "stdout",
     "output_type": "stream",
     "text": [
      "  (0, 4242)\t0.358227457777385\n",
      "  (0, 0)\t0.9336343441060594\n"
     ]
    }
   ],
   "source": [
    "# Transform the query into a TF-IDF vector.\n",
    "query = [\"aaaaah zuko\"]\n",
    "query_tfidf = vectorizer.transform(query)\n",
    "print(query_tfidf)"
   ]
  },
  {
   "cell_type": "code",
   "execution_count": 42,
   "metadata": {},
   "outputs": [],
   "source": [
    "# Calculate the cosine similarities between the query and each document.\n",
    "# We're calling flatten() here becaue cosine_similarity returns a list\n",
    "# of lists and we just want a single list.\n",
    "cosine_similarities = cosine_similarity(tf_idf_features, query_tfidf).flatten()"
   ]
  },
  {
   "cell_type": "code",
   "execution_count": 43,
   "metadata": {},
   "outputs": [
    {
     "data": {
      "text/plain": [
       "366"
      ]
     },
     "execution_count": 43,
     "metadata": {},
     "output_type": "execute_result"
    }
   ],
   "source": [
    "len(cosine_similarities)"
   ]
  },
  {
   "cell_type": "code",
   "execution_count": 44,
   "metadata": {},
   "outputs": [],
   "source": [
    "# numpy's argsort() method returns a list of *indices* that\n",
    "# would sort an array:\n",
    "# https://numpy.org/doc/stable/reference/generated/numpy.argsort.html\n",
    "#\n",
    "# The sort is ascending, but we want the largest k cosine_similarites\n",
    "# at the bottom of the sort. So we negate k, and get the last k\n",
    "# entries of the indices list in reverse order. There are faster\n",
    "# ways to do this using things like argpartition but this is\n",
    "# more succinct.\n",
    "def top_k(arr, k):\n",
    "  kth_largest = (k + 1) * -1\n",
    "  return np.argsort(arr)[:kth_largest:-1]"
   ]
  },
  {
   "cell_type": "code",
   "execution_count": 45,
   "metadata": {},
   "outputs": [
    {
     "name": "stdout",
     "output_type": "stream",
     "text": [
      "[320  71  17 360 322]\n"
     ]
    }
   ],
   "source": [
    "# So for our query above, these are the top five documents.\n",
    "top_related_indices = top_k(cosine_similarities, 5)\n",
    "print(top_related_indices)"
   ]
  },
  {
   "cell_type": "code",
   "execution_count": 46,
   "metadata": {},
   "outputs": [
    {
     "name": "stdout",
     "output_type": "stream",
     "text": [
      "[0.19374747 0.18696627 0.18511697 0.17611141 0.15428672]\n"
     ]
    }
   ],
   "source": [
    "# Let's take a look at their respective cosine similarities.\n",
    "print(cosine_similarities[top_related_indices])"
   ]
  },
  {
   "cell_type": "code",
   "execution_count": 47,
   "metadata": {},
   "outputs": [
    {
     "name": "stdout",
     "output_type": "stream",
     "text": [
      "episode_num                                                       54\n",
      "character_name                                                  Aang\n",
      "character_lines    [Cut to Aang, as he sighs heavily.] Okay. Not ...\n",
      "Name: 320, dtype: object\n"
     ]
    }
   ],
   "source": [
    "# Top match.\n",
    "print(atla_lines_df.iloc[top_related_indices[0],:])"
   ]
  },
  {
   "cell_type": "code",
   "execution_count": 48,
   "metadata": {},
   "outputs": [],
   "source": [
    "#with bag of words model\n",
    "#try using N-grams in conjunction with unigrams to improve semantics of tokens\n",
    "#filter out stop words, find N-grams that occur frequently, or with certain POS structure like nouns, or anything flagged by NER tagger\n",
    "#-or use pointwise mutual information (probability of words cooccurring vs occurring individually across corpus)filter out stop words, find N-grams that occur frequently, or with certain POS structure like nouns, or anything flagged by NER tagger\n",
    "#-or use pointwise mutual information (probability of words cooccurring vs occurring individually across corpus)\n"
   ]
  },
  {
   "cell_type": "code",
   "execution_count": 49,
   "metadata": {},
   "outputs": [],
   "source": [
    "#interesting, but there are a lot of zero results\n",
    "# I want to try and get a more accurate sentiment analysis reading per episode\n",
    "#look at link for compound Vader scores\n",
    "#Use feature extraction techniques (like Bag of Words, TF-IDF, or embeddings) to create a numerical representation of the text."
   ]
  }
 ],
 "metadata": {
  "kernelspec": {
   "display_name": "nlp_env",
   "language": "python",
   "name": "python3"
  },
  "language_info": {
   "codemirror_mode": {
    "name": "ipython",
    "version": 3
   },
   "file_extension": ".py",
   "mimetype": "text/x-python",
   "name": "python",
   "nbconvert_exporter": "python",
   "pygments_lexer": "ipython3",
   "version": "3.10.8"
  },
  "orig_nbformat": 4
 },
 "nbformat": 4,
 "nbformat_minor": 2
}
